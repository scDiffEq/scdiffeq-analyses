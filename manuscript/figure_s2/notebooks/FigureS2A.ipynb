{
 "cells": [
  {
   "cell_type": "markdown",
   "id": "f24d92f4",
   "metadata": {},
   "source": [
    "# Figure S2a"
   ]
  },
  {
   "cell_type": "markdown",
   "id": "a3e0d5da",
   "metadata": {},
   "source": [
    "### Import libraries"
   ]
  },
  {
   "cell_type": "code",
   "execution_count": 1,
   "id": "9f1f1961",
   "metadata": {},
   "outputs": [],
   "source": [
    "import cellplots as cp\n",
    "import larry\n",
    "import matplotlib.pyplot as plt\n",
    "import pandas as pd\n",
    "import scipy.stats\n",
    "import seaborn as sns"
   ]
  },
  {
   "cell_type": "markdown",
   "id": "ec1522b9",
   "metadata": {},
   "source": [
    "### Read data"
   ]
  },
  {
   "cell_type": "markdown",
   "id": "87f187d3",
   "metadata": {},
   "source": [
    "This version of the LARRY dataset has not been split for test and train"
   ]
  },
  {
   "cell_type": "code",
   "execution_count": 2,
   "id": "c6a9511d",
   "metadata": {},
   "outputs": [
    {
     "name": "stderr",
     "output_type": "stream",
     "text": [
      "/home/mvinyard/.anaconda3/envs/sdq/lib/python3.9/site-packages/anndata/_core/anndata.py:522: FutureWarning: The dtype argument is deprecated and will be removed in late 2024.\n",
      "  warnings.warn(\n"
     ]
    },
    {
     "name": "stdout",
     "output_type": "stream",
     "text": [
      "- [ \u001b[95mINFO\u001b[0m ] | Added lineage x fate counts to: adata.uns['fate_counts']\n",
      "- [ \u001b[95mINFO\u001b[0m ] | Added lineage-time occupance to: adata.uns['time_occupance']\n",
      "- [ \u001b[95mINFO\u001b[0m ] | Fated cells annotated at: adata.obs['fate_observed']\n",
      "- [ \u001b[95mINFO\u001b[0m ] | Fated cells (t=t0) annotated at: adata.obs['t0_fated']\n",
      "- [ \u001b[95mINFO\u001b[0m ] | Added cell x fate counts to: adata.obsm['cell_fate_df']\n"
     ]
    }
   ],
   "source": [
    "in_vitro = larry.datasets.inVitroData()\n",
    "adata = in_vitro.compose_adata()"
   ]
  },
  {
   "cell_type": "markdown",
   "id": "d06be6f5",
   "metadata": {},
   "source": [
    "### Compute correlation across mean gene values"
   ]
  },
  {
   "cell_type": "code",
   "execution_count": 3,
   "id": "a933e12f",
   "metadata": {},
   "outputs": [],
   "source": [
    "grouped = adata.obs.groupby(['Well', 'Time point'])\n",
    "\n",
    "def _apply(df):\n",
    "    return adata[df.index].X.mean(0).A.flatten()\n",
    "\n",
    "gene_means = grouped.apply(_apply).to_dict()"
   ]
  },
  {
   "cell_type": "code",
   "execution_count": 4,
   "id": "5f90fce1",
   "metadata": {},
   "outputs": [],
   "source": [
    "Corr = {}\n",
    "for i, x_i in gene_means.items():\n",
    "    Corr[i] = {}\n",
    "    for j, x_j in gene_means.items():\n",
    "        if i != j:\n",
    "            Corr[i][j], _ = scipy.stats.pearsonr(x_i, x_j)"
   ]
  },
  {
   "cell_type": "code",
   "execution_count": 5,
   "id": "e967c431",
   "metadata": {},
   "outputs": [
    {
     "data": {
      "text/html": [
       "<div>\n",
       "<style scoped>\n",
       "    .dataframe tbody tr th:only-of-type {\n",
       "        vertical-align: middle;\n",
       "    }\n",
       "\n",
       "    .dataframe tbody tr th {\n",
       "        vertical-align: top;\n",
       "    }\n",
       "\n",
       "    .dataframe thead tr th {\n",
       "        text-align: left;\n",
       "    }\n",
       "</style>\n",
       "<table border=\"1\" class=\"dataframe\">\n",
       "  <thead>\n",
       "    <tr>\n",
       "      <th></th>\n",
       "      <th></th>\n",
       "      <th>0</th>\n",
       "      <th colspan=\"2\" halign=\"left\">2</th>\n",
       "    </tr>\n",
       "    <tr>\n",
       "      <th></th>\n",
       "      <th></th>\n",
       "      <th>2.0</th>\n",
       "      <th>4.0</th>\n",
       "      <th>6.0</th>\n",
       "    </tr>\n",
       "  </thead>\n",
       "  <tbody>\n",
       "    <tr>\n",
       "      <th>0</th>\n",
       "      <th>2.0</th>\n",
       "      <td>1.000000</td>\n",
       "      <td>0.964734</td>\n",
       "      <td>0.833761</td>\n",
       "    </tr>\n",
       "    <tr>\n",
       "      <th rowspan=\"2\" valign=\"top\">1</th>\n",
       "      <th>4.0</th>\n",
       "      <td>0.972180</td>\n",
       "      <td>0.996787</td>\n",
       "      <td>0.925579</td>\n",
       "    </tr>\n",
       "    <tr>\n",
       "      <th>6.0</th>\n",
       "      <td>0.815005</td>\n",
       "      <td>0.928177</td>\n",
       "      <td>0.997465</td>\n",
       "    </tr>\n",
       "  </tbody>\n",
       "</table>\n",
       "</div>"
      ],
      "text/plain": [
       "              0         2          \n",
       "            2.0       4.0       6.0\n",
       "0 2.0  1.000000  0.964734  0.833761\n",
       "1 4.0  0.972180  0.996787  0.925579\n",
       "  6.0  0.815005  0.928177  0.997465"
      ]
     },
     "execution_count": 5,
     "metadata": {},
     "output_type": "execute_result"
    }
   ],
   "source": [
    "corr_df = pd.DataFrame(Corr).sort_index()\n",
    "corr_df = corr_df[[0, 2]].loc[[0, 1]].fillna(1)\n",
    "corr_df"
   ]
  },
  {
   "cell_type": "markdown",
   "id": "39c29ba5",
   "metadata": {},
   "source": [
    "### Plot correlation matrix"
   ]
  },
  {
   "cell_type": "code",
   "execution_count": 9,
   "id": "cbf5867b",
   "metadata": {},
   "outputs": [
    {
     "data": {
      "image/png": "[encoded data removed]",
      "text/plain": [
       "<Figure size 320x240 with 2 Axes>"
      ]
     },
     "metadata": {},
     "output_type": "display_data"
    }
   ],
   "source": [
    "fig, axes = cp.plot(height = 0.5, width = 0.5)\n",
    "sns.heatmap(corr_df, cmap = \"Blues\", vmin = 0.8, vmax = 1, annot=True, annot_kws={\"size\": 6}, fmt = \".3f\", ax=axes[0])\n",
    "plt.savefig(\"larry.figure_s2a.svg\")\n",
    "plt.savefig(\"larry.figure_s2a.png\")"
   ]
  }
 ],
 "metadata": {
  "kernelspec": {
   "display_name": "sdq",
   "language": "python",
   "name": "sdq"
  },
  "language_info": {
   "codemirror_mode": {
    "name": "ipython",
    "version": 3
   },
   "file_extension": ".py",
   "mimetype": "text/x-python",
   "name": "python",
   "nbconvert_exporter": "python",
   "pygments_lexer": "ipython3",
   "version": "3.9.18"
  }
 },
 "nbformat": 4,
 "nbformat_minor": 5
}
