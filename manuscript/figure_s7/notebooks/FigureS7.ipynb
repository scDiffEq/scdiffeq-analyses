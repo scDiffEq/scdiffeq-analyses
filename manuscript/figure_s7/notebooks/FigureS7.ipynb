{
 "cells": [
  {
   "cell_type": "markdown",
   "id": "afc9ebd7",
   "metadata": {},
   "source": [
    "# Figure S7: LARRY fate prediction (negative cross entropy)"
   ]
  },
  {
   "cell_type": "code",
   "execution_count": 1,
   "id": "a9f88ab2",
   "metadata": {},
   "outputs": [],
   "source": [
    "import larry\n",
    "import pandas as pd\n",
    "import ABCParse\n",
    "import numpy as np\n",
    "import pathlib\n",
    "import glob\n",
    "import pickle\n",
    "import scdiffeq as sdq\n",
    "import scdiffeq_analyses as sdq_an\n",
    "import sklearn\n",
    "import matplotlib.pyplot as plt"
   ]
  },
  {
   "cell_type": "code",
   "execution_count": 2,
   "id": "4f9ebb44",
   "metadata": {},
   "outputs": [],
   "source": [
    "F_obs = larry.tasks.fate_prediction.F_obs"
   ]
  },
  {
   "cell_type": "markdown",
   "id": "26a7c0ce",
   "metadata": {},
   "source": [
    "### CrossEntropy"
   ]
  },
  {
   "cell_type": "code",
   "execution_count": 155,
   "id": "0325e2db",
   "metadata": {},
   "outputs": [],
   "source": [
    "class CrossEntropy(ABCParse.ABCParse):\n",
    "    def __init__(self, epsilon: float = 1e-12):\n",
    "        self.__parse__(locals())\n",
    "        \n",
    "    def _augment_cols(self, F_obs, F_hat):\n",
    "        for col in F_obs:\n",
    "            if not col in F_hat:\n",
    "                F_hat[col] = 0\n",
    "        return F_hat\n",
    "        \n",
    "    def _norm(self, df: pd.DataFrame):\n",
    "        return df.div(df.sum(axis=1), axis = 0)\n",
    "    \n",
    "    def _filter_zero_prediction_rows(self, F_obs: pd.DataFrame, F_hat: pd.DataFrame):\n",
    "        mask = (F_hat.sum(1) > 0).values\n",
    "#         print(mask.sum())\n",
    "        F_obs = F_obs.loc[mask]\n",
    "        F_hat = F_hat.loc[mask]\n",
    "        return F_obs, F_hat, mask\n",
    "    \n",
    "    def __call__(self, F_obs, F_hat):\n",
    "        \n",
    "        true = F_obs.copy()\n",
    "        pred = F_hat.copy()\n",
    "        \n",
    "            \n",
    "        pred = self._augment_cols(F_obs = true, F_hat = pred)\n",
    "        pred = pred[true.columns.tolist()]\n",
    "        \n",
    "#         true, pred, mask = self._filter_zero_prediction_rows(F_obs = true, F_hat = pred)    \n",
    "        \n",
    "        true['undiff'] = 0\n",
    "        pred['undiff'] = 1 - pred.sum(1)\n",
    "        \n",
    "        \n",
    "        pred = pred.clip(lower=self._epsilon)\n",
    "        true = self._norm(df=true)\n",
    "        pred = self._norm(df=pred)\n",
    "        \n",
    "        \n",
    "        ce = -np.sum(true.values * np.log(pred.values + self._epsilon), axis=1)       \n",
    "#         n_cells = mask.sum()\n",
    "        return np.abs(ce).mean()\n",
    "    \n",
    "def cross_entropy(F_obs: pd.DataFrame, F_hat: pd.DataFrame, epsilon: float = 1e-12):\n",
    "    \"\"\"\"\"\"\n",
    "    calc = CrossEntropy(epsilon=epsilon)\n",
    "    return calc(F_obs=F_obs, F_hat=F_hat)"
   ]
  },
  {
   "cell_type": "markdown",
   "id": "502ec333",
   "metadata": {},
   "source": [
    "### torch-pba"
   ]
  },
  {
   "cell_type": "code",
   "execution_count": 156,
   "id": "a8d77648",
   "metadata": {},
   "outputs": [],
   "source": [
    "pba_dir = pathlib.Path(\"./github/scdiffeq-analyses/manuscript/Figure2/results/fate_prediction/torch_pba/\")"
   ]
  },
  {
   "cell_type": "code",
   "execution_count": 282,
   "id": "296fb281",
   "metadata": {},
   "outputs": [],
   "source": [
    "DataFrames = {}\n",
    "for path in list(pba_dir.glob(\"PBA.F_hat.29SEPT2023*.csv\")):\n",
    "    seed = int(path.name.split(\"seed_\")[1].split(\".\")[0])\n",
    "    if seed <= 5:\n",
    "        DataFrames[seed] = pd.read_csv(path, index_col = 0)\n",
    "DataFrames = {key: DataFrames[key] for key in sorted(DataFrames)}"
   ]
  },
  {
   "cell_type": "code",
   "execution_count": 285,
   "id": "7472dbc7",
   "metadata": {},
   "outputs": [],
   "source": [
    "import seaborn as sns"
   ]
  },
  {
   "cell_type": "code",
   "execution_count": 158,
   "id": "842f8c91",
   "metadata": {},
   "outputs": [
    {
     "data": {
      "text/html": [
       "<div>\n",
       "<style scoped>\n",
       "    .dataframe tbody tr th:only-of-type {\n",
       "        vertical-align: middle;\n",
       "    }\n",
       "\n",
       "    .dataframe tbody tr th {\n",
       "        vertical-align: top;\n",
       "    }\n",
       "\n",
       "    .dataframe thead th {\n",
       "        text-align: right;\n",
       "    }\n",
       "</style>\n",
       "<table border=\"1\" class=\"dataframe\">\n",
       "  <thead>\n",
       "    <tr style=\"text-align: right;\">\n",
       "      <th></th>\n",
       "      <th>cross_entropy</th>\n",
       "    </tr>\n",
       "  </thead>\n",
       "  <tbody>\n",
       "    <tr>\n",
       "      <th>0</th>\n",
       "      <td>3.035831</td>\n",
       "    </tr>\n",
       "    <tr>\n",
       "      <th>1</th>\n",
       "      <td>1.447805</td>\n",
       "    </tr>\n",
       "    <tr>\n",
       "      <th>3</th>\n",
       "      <td>1.731142</td>\n",
       "    </tr>\n",
       "    <tr>\n",
       "      <th>4</th>\n",
       "      <td>4.889319</td>\n",
       "    </tr>\n",
       "    <tr>\n",
       "      <th>5</th>\n",
       "      <td>3.874163</td>\n",
       "    </tr>\n",
       "  </tbody>\n",
       "</table>\n",
       "</div>"
      ],
      "text/plain": [
       "   cross_entropy\n",
       "0       3.035831\n",
       "1       1.447805\n",
       "3       1.731142\n",
       "4       4.889319\n",
       "5       3.874163"
      ]
     },
     "execution_count": 158,
     "metadata": {},
     "output_type": "execute_result"
    }
   ],
   "source": [
    "TorchPBAResults = {}\n",
    "for seed, F_hat in DataFrames.items():\n",
    "    ce = cross_entropy(F_obs, F_hat)\n",
    "    TorchPBAResults[seed] = {\"cross_entropy\": ce}\n",
    "torch_pba = pd.DataFrame(TorchPBAResults).T\n",
    "torch_pba"
   ]
  },
  {
   "cell_type": "markdown",
   "id": "3bb1aae3",
   "metadata": {},
   "source": [
    "### TIGON"
   ]
  },
  {
   "cell_type": "code",
   "execution_count": 177,
   "id": "38944f71",
   "metadata": {},
   "outputs": [],
   "source": [
    "F_hat = pd.read_csv(\"./experiments/PBA_TIGON_comparison/F_hat.TIGON.csv\", index_col = 0)\n",
    "F_hat.index = F_hat.index.astype(str)\n",
    "F_hat = F_hat.div(F_hat.sum(1), axis = 0).fillna(0)"
   ]
  },
  {
   "cell_type": "code",
   "execution_count": 178,
   "id": "b5a2a0f4",
   "metadata": {},
   "outputs": [
    {
     "data": {
      "text/html": [
       "<div>\n",
       "<style scoped>\n",
       "    .dataframe tbody tr th:only-of-type {\n",
       "        vertical-align: middle;\n",
       "    }\n",
       "\n",
       "    .dataframe tbody tr th {\n",
       "        vertical-align: top;\n",
       "    }\n",
       "\n",
       "    .dataframe thead th {\n",
       "        text-align: right;\n",
       "    }\n",
       "</style>\n",
       "<table border=\"1\" class=\"dataframe\">\n",
       "  <thead>\n",
       "    <tr style=\"text-align: right;\">\n",
       "      <th></th>\n",
       "      <th>cross_entropy</th>\n",
       "    </tr>\n",
       "  </thead>\n",
       "  <tbody>\n",
       "    <tr>\n",
       "      <th>0</th>\n",
       "      <td>25.872474</td>\n",
       "    </tr>\n",
       "  </tbody>\n",
       "</table>\n",
       "</div>"
      ],
      "text/plain": [
       "   cross_entropy\n",
       "0      25.872474"
      ]
     },
     "execution_count": 178,
     "metadata": {},
     "output_type": "execute_result"
    }
   ],
   "source": [
    "ce = cross_entropy(F_obs=F_obs, F_hat=F_hat)\n",
    "tigon = pd.DataFrame({0: {\"cross_entropy\": ce}}).T\n",
    "tigon"
   ]
  },
  {
   "cell_type": "markdown",
   "id": "79935646",
   "metadata": {},
   "source": [
    "### PRESCIENT"
   ]
  },
  {
   "cell_type": "code",
   "execution_count": 162,
   "id": "a7aa593b",
   "metadata": {},
   "outputs": [],
   "source": [
    "pkl_path = \"./github/old-scdiffeq-analyses/analyses/figure2/LARRY.fate_prediction/PRESCIENT/prescient_simout.pickle\"\n",
    "f = pd.read_pickle(pkl_path)\n",
    "DataFrames = {\"KEGG+\": {}, \"KEGG-\": {}}\n",
    "for key, val in f.items():\n",
    "    seed = int(key[2].split(\"seed\")[1])\n",
    "    if \"no\" in key[-1]:\n",
    "        DataFrames[\"KEGG-\"][seed] = val\n",
    "    else:\n",
    "        DataFrames[\"KEGG+\"][seed] = val"
   ]
  },
  {
   "cell_type": "markdown",
   "id": "09486215",
   "metadata": {},
   "source": [
    "#### No weights"
   ]
  },
  {
   "cell_type": "code",
   "execution_count": 163,
   "id": "c526a625",
   "metadata": {},
   "outputs": [
    {
     "data": {
      "text/html": [
       "<div>\n",
       "<style scoped>\n",
       "    .dataframe tbody tr th:only-of-type {\n",
       "        vertical-align: middle;\n",
       "    }\n",
       "\n",
       "    .dataframe tbody tr th {\n",
       "        vertical-align: top;\n",
       "    }\n",
       "\n",
       "    .dataframe thead th {\n",
       "        text-align: right;\n",
       "    }\n",
       "</style>\n",
       "<table border=\"1\" class=\"dataframe\">\n",
       "  <thead>\n",
       "    <tr style=\"text-align: right;\">\n",
       "      <th></th>\n",
       "      <th>cross_entropy</th>\n",
       "    </tr>\n",
       "  </thead>\n",
       "  <tbody>\n",
       "    <tr>\n",
       "      <th>1</th>\n",
       "      <td>14.514008</td>\n",
       "    </tr>\n",
       "    <tr>\n",
       "      <th>2</th>\n",
       "      <td>15.743406</td>\n",
       "    </tr>\n",
       "    <tr>\n",
       "      <th>4</th>\n",
       "      <td>14.705221</td>\n",
       "    </tr>\n",
       "    <tr>\n",
       "      <th>0</th>\n",
       "      <td>14.670459</td>\n",
       "    </tr>\n",
       "    <tr>\n",
       "      <th>3</th>\n",
       "      <td>15.102966</td>\n",
       "    </tr>\n",
       "  </tbody>\n",
       "</table>\n",
       "</div>"
      ],
      "text/plain": [
       "   cross_entropy\n",
       "1      14.514008\n",
       "2      15.743406\n",
       "4      14.705221\n",
       "0      14.670459\n",
       "3      15.102966"
      ]
     },
     "execution_count": 163,
     "metadata": {},
     "output_type": "execute_result"
    }
   ],
   "source": [
    "PRESCIENTResults = {}\n",
    "for seed, F_hat in DataFrames['KEGG-'].items():\n",
    "    ce = cross_entropy(F_obs=F_obs, F_hat=F_hat)\n",
    "    PRESCIENTResults[seed] = {\"cross_entropy\": ce}\n",
    "prescient = pd.DataFrame(PRESCIENTResults).T\n",
    "prescient"
   ]
  },
  {
   "cell_type": "markdown",
   "id": "7ff96bce",
   "metadata": {},
   "source": [
    "#### KEGG weights"
   ]
  },
  {
   "cell_type": "code",
   "execution_count": 166,
   "id": "e28d67e0",
   "metadata": {},
   "outputs": [
    {
     "data": {
      "text/html": [
       "<div>\n",
       "<style scoped>\n",
       "    .dataframe tbody tr th:only-of-type {\n",
       "        vertical-align: middle;\n",
       "    }\n",
       "\n",
       "    .dataframe tbody tr th {\n",
       "        vertical-align: top;\n",
       "    }\n",
       "\n",
       "    .dataframe thead th {\n",
       "        text-align: right;\n",
       "    }\n",
       "</style>\n",
       "<table border=\"1\" class=\"dataframe\">\n",
       "  <thead>\n",
       "    <tr style=\"text-align: right;\">\n",
       "      <th></th>\n",
       "      <th>cross_entropy</th>\n",
       "    </tr>\n",
       "  </thead>\n",
       "  <tbody>\n",
       "    <tr>\n",
       "      <th>3</th>\n",
       "      <td>12.436500</td>\n",
       "    </tr>\n",
       "    <tr>\n",
       "      <th>1</th>\n",
       "      <td>12.226516</td>\n",
       "    </tr>\n",
       "    <tr>\n",
       "      <th>0</th>\n",
       "      <td>12.793915</td>\n",
       "    </tr>\n",
       "    <tr>\n",
       "      <th>4</th>\n",
       "      <td>12.721861</td>\n",
       "    </tr>\n",
       "    <tr>\n",
       "      <th>2</th>\n",
       "      <td>12.494192</td>\n",
       "    </tr>\n",
       "  </tbody>\n",
       "</table>\n",
       "</div>"
      ],
      "text/plain": [
       "   cross_entropy\n",
       "3      12.436500\n",
       "1      12.226516\n",
       "0      12.793915\n",
       "4      12.721861\n",
       "2      12.494192"
      ]
     },
     "execution_count": 166,
     "metadata": {},
     "output_type": "execute_result"
    }
   ],
   "source": [
    "PRESCIENTKEGGResults = {}\n",
    "for seed, F_hat in DataFrames['KEGG+'].items():\n",
    "    ce = cross_entropy(F_obs=F_obs, F_hat=F_hat)\n",
    "    PRESCIENTKEGGResults[seed] = {\"cross_entropy\": ce}\n",
    "prescient_kegg = pd.DataFrame(PRESCIENTKEGGResults).T\n",
    "prescient_kegg"
   ]
  },
  {
   "cell_type": "markdown",
   "id": "0f2d3309",
   "metadata": {},
   "source": [
    "### scDiffEq"
   ]
  },
  {
   "cell_type": "code",
   "execution_count": 167,
   "id": "ded8a27b",
   "metadata": {},
   "outputs": [],
   "source": [
    "pkl_path = \"./github/old-scdiffeq-analyses/analyses/figure2/LARRY.fate_prediction/scDiffEq/scdiffeq_simout.pickle\"\n",
    "f = pd.read_pickle(pkl_path)\n",
    "DataFrames = {\"KEGG+\": {}, \"KEGG-\": {}}\n",
    "for key, val in f.items():\n",
    "    seed = int(key[2].split(\"seed\")[1])\n",
    "    if \"no\" in key[-1]:\n",
    "        DataFrames[\"KEGG-\"][seed] = val\n",
    "    else:\n",
    "        DataFrames[\"KEGG+\"][seed] = val"
   ]
  },
  {
   "cell_type": "code",
   "execution_count": 170,
   "id": "03b4030e",
   "metadata": {},
   "outputs": [],
   "source": [
    "scDiffEqResults = {}\n",
    "for seed, F_hat in DataFrames['KEGG-'].items():\n",
    "    ce = cross_entropy(F_obs=F_obs, F_hat=F_hat)\n",
    "    scDiffEqResults[seed] = {\"cross_entropy\": ce}\n",
    "scdiffeq = pd.DataFrame(scDiffEqResults).T"
   ]
  },
  {
   "cell_type": "code",
   "execution_count": 173,
   "id": "5d5ee7ef",
   "metadata": {},
   "outputs": [],
   "source": [
    "scDiffEqKEGGResults = {}\n",
    "for seed, F_hat in DataFrames['KEGG+'].items():\n",
    "    ce = cross_entropy(F_obs=F_obs, F_hat=F_hat)\n",
    "    scDiffEqKEGGResults[seed] = {\"cross_entropy\": ce}\n",
    "scdiffeq_kegg = pd.DataFrame(scDiffEqKEGGResults).T"
   ]
  },
  {
   "cell_type": "code",
   "execution_count": 175,
   "id": "e80e740b",
   "metadata": {},
   "outputs": [
    {
     "data": {
      "text/html": [
       "<div>\n",
       "<style scoped>\n",
       "    .dataframe tbody tr th:only-of-type {\n",
       "        vertical-align: middle;\n",
       "    }\n",
       "\n",
       "    .dataframe tbody tr th {\n",
       "        vertical-align: top;\n",
       "    }\n",
       "\n",
       "    .dataframe thead th {\n",
       "        text-align: right;\n",
       "    }\n",
       "</style>\n",
       "<table border=\"1\" class=\"dataframe\">\n",
       "  <thead>\n",
       "    <tr style=\"text-align: right;\">\n",
       "      <th></th>\n",
       "      <th>cross_entropy</th>\n",
       "    </tr>\n",
       "  </thead>\n",
       "  <tbody>\n",
       "    <tr>\n",
       "      <th>3</th>\n",
       "      <td>4.595422</td>\n",
       "    </tr>\n",
       "    <tr>\n",
       "      <th>0</th>\n",
       "      <td>8.025012</td>\n",
       "    </tr>\n",
       "    <tr>\n",
       "      <th>4</th>\n",
       "      <td>8.347509</td>\n",
       "    </tr>\n",
       "    <tr>\n",
       "      <th>1</th>\n",
       "      <td>7.150915</td>\n",
       "    </tr>\n",
       "    <tr>\n",
       "      <th>2</th>\n",
       "      <td>8.268369</td>\n",
       "    </tr>\n",
       "  </tbody>\n",
       "</table>\n",
       "</div>"
      ],
      "text/plain": [
       "   cross_entropy\n",
       "3       4.595422\n",
       "0       8.025012\n",
       "4       8.347509\n",
       "1       7.150915\n",
       "2       8.268369"
      ]
     },
     "execution_count": 175,
     "metadata": {},
     "output_type": "execute_result"
    }
   ],
   "source": [
    "scdiffeq_kegg"
   ]
  },
  {
   "cell_type": "code",
   "execution_count": 198,
   "id": "5679c2e5",
   "metadata": {},
   "outputs": [],
   "source": [
    "def _read_process_F_hat(path, pickle=False, filter_nan=True):\n",
    "\n",
    "    if pickle:\n",
    "        F_hat = pd.read_pickle(path)[0]\n",
    "    else:\n",
    "        F_hat = pd.read_csv(path, index_col=0)\n",
    "    F_hat_filt = F_hat.copy().drop(\"Undifferentiated\", axis=1)\n",
    "    F_hat_filt_norm = F_hat_filt.div(F_hat_filt.sum(1), axis=0).fillna(0)\n",
    "    if filter_nan:\n",
    "        F_hat_filt_norm = replace_undiff(F_hat_filt_norm)\n",
    "    F_hat_filt_norm.index = F_obs.index  # F_hat_filt_norm.index.astype(str)\n",
    "    return F_hat_filt_norm\n",
    "\n",
    "def replace_undiff(F_hat_filt_norm):\n",
    "\n",
    "    # create a temp vector to add undiff label\n",
    "    undiff = np.zeros(len(F_hat_filt_norm))\n",
    "    replace_idx = np.where(F_hat_filt_norm.sum(1) == 0)\n",
    "    #     print(f\"{replace_idx[0].shape[0]} non-fates\")\n",
    "    undiff[replace_idx] = 1\n",
    "\n",
    "    # add to normalized matrix\n",
    "    F_hat_filt_norm[\"Undifferentiated\"] = undiff\n",
    "\n",
    "    return F_hat_filt_norm\n",
    "\n",
    "def compute_accuracy(F_obs, F_hat):\n",
    "    y_true, y_pred = F_obs.idxmax(1).tolist(), F_hat.idxmax(1).tolist()\n",
    "    return sklearn.metrics.accuracy_score(y_true, y_pred)\n",
    "\n",
    "\n",
    "def get_organized_results(project_path):\n",
    "    paths = list(project_path.glob(\"*/fate_prediction_metrics/*/F_hat.unfiltered.csv\"))\n",
    "    OrgResults = {}\n",
    "    for path in paths:\n",
    "        path_ = pathlib.Path(path)\n",
    "        version = path_.parent.parent.parent.name\n",
    "        if not version in OrgResults:\n",
    "            OrgResults[version] = {}\n",
    "        ckpt_name = path_.parent.name\n",
    "        F_hat = _read_process_F_hat(path_, pickle=False)\n",
    "        F_hat.index = F_hat.index.astype(str)\n",
    "        acc = larry.tasks.fate_prediction.metrics.multi_idx_accuracy(F_obs, F_hat)\n",
    "        train_acc = acc.loc[\"unique_train.all_fates\"].iloc[0]\n",
    "        test_acc = acc.loc[\"unique_test.all_fates\"].iloc[0]\n",
    "        OrgResults[version][ckpt_name] = {\"train\": train_acc, \"test\": test_acc}\n",
    "        acc_ = compute_accuracy(F_obs, F_hat)\n",
    "    #         print(\"| Accuracy: Train: {:.5f}, Test: {:.3f} |\".format(train_acc, test_acc), version, ckpt_name)\n",
    "    return OrgResults\n",
    "\n",
    "\n",
    "def get_best_results(OrgResults):\n",
    "    BestResults = {}\n",
    "    for key, val in OrgResults.items():\n",
    "        version_accuracy = pd.DataFrame(val).T\n",
    "        best_ckpt = version_accuracy[\"train\"].idxmax()\n",
    "        best_test = version_accuracy.loc[best_ckpt][\"test\"]\n",
    "        #         print(key, best_ckpt, best_test)\n",
    "        #         best_.append()\n",
    "        BestResults[key] = best_test\n",
    "\n",
    "    return BestResults"
   ]
  },
  {
   "cell_type": "code",
   "execution_count": 223,
   "id": "a79b4efd",
   "metadata": {
    "scrolled": true
   },
   "outputs": [],
   "source": [
    "# scDiffEq + KEGG + RVR=2.5\n",
    "project_path = pathlib.Path(\n",
    "    \"/home/mvinyard/experiments/fate_prediction.reg_velo/v2/LightningSDE-FixedPotential-RegularizedVelocityRatio\"\n",
    ")\n",
    "project = sdq.io.Project(project_path)\n",
    "versions = [\n",
    "    getattr(project, attr) for attr in project.__dir__() if attr.startswith(\"version_\")\n",
    "]\n",
    "\n",
    "best = {}\n",
    "for version in versions:\n",
    "    version_accuracy = sdq_an.parsers.VersionAccuracy(version)\n",
    "    Vr = version.hparams[\"velocity_ratio_params\"][\"target\"]\n",
    "    if Vr == 2.5:\n",
    "        accuracy = version_accuracy.best_test_from_train[[\"train\", \"test\"]]\n",
    "        best[version._NAME] = {\"accuracy\": accuracy, \"version\": version}\n",
    "\n",
    "\n",
    "# org_results = get_organized_results(project_path)\n",
    "# best_results = get_best_results(org_results)"
   ]
  },
  {
   "cell_type": "code",
   "execution_count": 257,
   "id": "4e7d1d6b",
   "metadata": {},
   "outputs": [],
   "source": [
    "DataFrames = {}\n",
    "for key, val in best.items():\n",
    "    ckpt_name = val['accuracy'].name\n",
    "    epoch = int(ckpt_name.split(\".\")[0].split(\"_\")[-1])\n",
    "    F_hat_path = best[key]['version'].ckpts[epoch].path.parent.parent.joinpath(f\"fate_prediction_metrics/{ckpt_name}/F_hat.unfiltered.csv\")\n",
    "    F_hat = pd.read_csv(F_hat_path, index_col = 0)\n",
    "    DataFrames[key] = F_hat"
   ]
  },
  {
   "cell_type": "code",
   "execution_count": 263,
   "id": "e82e0d0d",
   "metadata": {},
   "outputs": [],
   "source": [
    "scDiffEq_KEGG_RvR = {}\n",
    "for key, F_hat in DataFrames.items():\n",
    "    scDiffEq_KEGG_RvR[int(key.split(\"_\")[1])] = {\"cross_entropy\": cross_entropy(F_obs, F_hat)}\n",
    "scdiffeq_rvr = pd.DataFrame(scDiffEq_KEGG_RvR).T"
   ]
  },
  {
   "cell_type": "code",
   "execution_count": 264,
   "id": "69211783",
   "metadata": {},
   "outputs": [
    {
     "data": {
      "text/html": [
       "<div>\n",
       "<style scoped>\n",
       "    .dataframe tbody tr th:only-of-type {\n",
       "        vertical-align: middle;\n",
       "    }\n",
       "\n",
       "    .dataframe tbody tr th {\n",
       "        vertical-align: top;\n",
       "    }\n",
       "\n",
       "    .dataframe thead th {\n",
       "        text-align: right;\n",
       "    }\n",
       "</style>\n",
       "<table border=\"1\" class=\"dataframe\">\n",
       "  <thead>\n",
       "    <tr style=\"text-align: right;\">\n",
       "      <th></th>\n",
       "      <th>cross_entropy</th>\n",
       "    </tr>\n",
       "  </thead>\n",
       "  <tbody>\n",
       "    <tr>\n",
       "      <th>31</th>\n",
       "      <td>5.233871</td>\n",
       "    </tr>\n",
       "    <tr>\n",
       "      <th>33</th>\n",
       "      <td>8.013716</td>\n",
       "    </tr>\n",
       "    <tr>\n",
       "      <th>35</th>\n",
       "      <td>4.473833</td>\n",
       "    </tr>\n",
       "    <tr>\n",
       "      <th>37</th>\n",
       "      <td>4.628067</td>\n",
       "    </tr>\n",
       "    <tr>\n",
       "      <th>39</th>\n",
       "      <td>5.128219</td>\n",
       "    </tr>\n",
       "  </tbody>\n",
       "</table>\n",
       "</div>"
      ],
      "text/plain": [
       "    cross_entropy\n",
       "31       5.233871\n",
       "33       8.013716\n",
       "35       4.473833\n",
       "37       4.628067\n",
       "39       5.128219"
      ]
     },
     "execution_count": 264,
     "metadata": {},
     "output_type": "execute_result"
    }
   ],
   "source": [
    "scdiffeq_rvr"
   ]
  },
  {
   "cell_type": "code",
   "execution_count": 271,
   "id": "bfb91e5c",
   "metadata": {},
   "outputs": [],
   "source": [
    "import cellplots as cp"
   ]
  },
  {
   "cell_type": "code",
   "execution_count": 298,
   "id": "08e86b8a",
   "metadata": {},
   "outputs": [],
   "source": [
    "colors = [\n",
    "    \"#9d0610\",\n",
    "    \"#ffcc00\",\n",
    "    \"#f27f34\",\n",
    "    \"#eb5e28\",\n",
    "    \"#00b4d8\",\n",
    "    \"#0096c7\",\n",
    "    \"#0077b6\",\n",
    "]"
   ]
  },
  {
   "cell_type": "code",
   "execution_count": 307,
   "id": "d52971d1",
   "metadata": {},
   "outputs": [],
   "source": [
    "from typing import Optional, List"
   ]
  },
  {
   "cell_type": "code",
   "execution_count": 337,
   "id": "598bd3d5",
   "metadata": {},
   "outputs": [],
   "source": [
    "class StylishBoxPlot(ABCParse.ABCParse):\n",
    "    def __init__(\n",
    "        self,\n",
    "        colors: Optional[List[str]] = None,\n",
    "        widths: Optional[float] = None,\n",
    "        scatter_kw={\n",
    "            \"alpha\": 0.8,\n",
    "            \"s\": 35,\n",
    "        },\n",
    "        *args,\n",
    "        **kwargs\n",
    "    ):\n",
    "        self.__parse__(locals())\n",
    "\n",
    "    @property\n",
    "    def colors(self):\n",
    "        if not hasattr(self, \"_colors\") or self._colors is None:\n",
    "            self._colors = list(cm.tab20.colors)\n",
    "        return self._colors\n",
    "\n",
    "    def _background_scatter(self, ax, data):\n",
    "        for en, (key, val) in enumerate(data.items()):\n",
    "\n",
    "            x = [key] * len(val)\n",
    "\n",
    "            if len(x) > 1:\n",
    "                x_vals = en + 1 + (np.random.random(len(x)) - 0.5) / 5\n",
    "            else:\n",
    "                x_vals = en + 1\n",
    "\n",
    "            ax.scatter(\n",
    "                x_vals,\n",
    "                val,\n",
    "                color=self.colors[en],\n",
    "                zorder=0,\n",
    "                ec=\"None\",\n",
    "                rasterized=False,\n",
    "                **self._scatter_kw,\n",
    "            )\n",
    "\n",
    "    def _background_boxplot(self, ax, data):\n",
    "\n",
    "        x = list(data.keys())\n",
    "        y = list(data.values())\n",
    "\n",
    "        x = np.arange(len(y)) + 1\n",
    "\n",
    "        bp = ax.boxplot(\n",
    "            y,\n",
    "            positions=x,\n",
    "            patch_artist=True,\n",
    "            showmeans=True,\n",
    "            showfliers=False,\n",
    "            meanline=True,\n",
    "            zorder=1,\n",
    "            widths=self._widths,\n",
    "        )\n",
    "        for median in bp[\"medians\"]:\n",
    "            median.set_visible(False)\n",
    "        for en, mean in enumerate(bp[\"means\"]):\n",
    "            mean.set_c(self.colors[en])\n",
    "\n",
    "        for en, box in enumerate(bp[\"boxes\"]):\n",
    "            box.set_facecolor(self.colors[en])\n",
    "            box.set_alpha(0.2)\n",
    "\n",
    "        for en, whisker in enumerate(bp[\"whiskers\"]):\n",
    "            whisker.set_c(\"None\")\n",
    "\n",
    "        for en, cap in enumerate(bp[\"caps\"]):\n",
    "            cap.set_c(\"None\")\n",
    "\n",
    "    def _foreground_boxplot(self, ax, data):\n",
    "\n",
    "        y = list(data.values())\n",
    "        x = list(data.keys())\n",
    "        x = np.arange(len(y)) + 1\n",
    "        bp = ax.boxplot(\n",
    "            y,\n",
    "            positions=x,\n",
    "            patch_artist=True,\n",
    "            showmeans=False,\n",
    "            showfliers=False,\n",
    "            meanline=False,\n",
    "            zorder=2,\n",
    "            widths=self._widths,\n",
    "        )\n",
    "        for en, box in enumerate(bp[\"boxes\"]):\n",
    "            box.set_facecolor(\"None\")\n",
    "            box.set_edgecolor(self.colors[en])\n",
    "\n",
    "        colors_ = np.repeat(\n",
    "            np.array(self.colors), 2, axis=0\n",
    "        )  # list(np.repeat(self.colors, 2))\n",
    "        for en, whisker in enumerate(bp[\"whiskers\"]):\n",
    "            whisker.set_c(colors_[en])\n",
    "\n",
    "        for en, cap in enumerate(bp[\"caps\"]):\n",
    "            cap.set_c(colors_[en])\n",
    "\n",
    "        for median in bp[\"medians\"]:\n",
    "            median.set_visible(False)\n",
    "\n",
    "    def __call__(self, ax, data, *args, **kwargs):\n",
    "\n",
    "        self.__update__(locals())\n",
    "\n",
    "        try:\n",
    "            self._background_scatter(ax, data)\n",
    "        except:\n",
    "            print(data)\n",
    "        self._background_boxplot(ax, data)\n",
    "        self._foreground_boxplot(ax, data)"
   ]
  },
  {
   "cell_type": "code",
   "execution_count": 338,
   "id": "6552b921",
   "metadata": {},
   "outputs": [],
   "source": [
    "results = {\n",
    "    \"TorchPBA\": torch_pba,\n",
    "    \"TIGON\": tigon,\n",
    "    \"PRESCIENT\": prescient,\n",
    "    \"PRESCIENT-KEGG\": prescient_kegg,\n",
    "    \"scDiffEq\": scdiffeq,\n",
    "    \"scDiffEq-KEGG\": scdiffeq_kegg,\n",
    "    \"scDiffEq-KEGG-RvR\": scdiffeq_rvr\n",
    "}\n",
    "results = {key: ABCParse.as_list(val.values.flatten().tolist()) for key, val in results.items()}"
   ]
  },
  {
   "cell_type": "code",
   "execution_count": 341,
   "id": "551a81cb",
   "metadata": {},
   "outputs": [
    {
     "data": {
      "image/png": "[encoded data removed]",
      "text/plain": [
       "<Figure size 512x240 with 1 Axes>"
      ]
     },
     "metadata": {},
     "output_type": "display_data"
    }
   ],
   "source": [
    "fig, axes = cp.plot(\n",
    "    height=0.5,\n",
    "    width=0.8,\n",
    "    title=[\"LARRY fate prediction benchmark accuracy\"],\n",
    "    y_label=[\"Mean Cross Entropy\"],\n",
    "    x_label=[\"Method\"],\n",
    ")\n",
    "ax = axes[0]\n",
    "\n",
    "sbp = StylishBoxPlot(colors=colors, widths=0.65)\n",
    "sbp(ax, results)\n",
    "ax.set_ylim(0, 35)\n",
    "xt = ax.set_xticks(np.arange(1, 8))\n",
    "xtl = ax.set_xticklabels(list(results.keys()), ha=\"right\", rotation=45)\n",
    "plt.savefig(\"LARRY.fate_prediction_benchmark.mean_cross_entropy.svg\", dpi=500)"
   ]
  },
  {
   "cell_type": "code",
   "execution_count": null,
   "id": "0e78e76b",
   "metadata": {},
   "outputs": [],
   "source": []
  }
 ],
 "metadata": {
  "kernelspec": {
   "display_name": "sdq",
   "language": "python",
   "name": "sdq"
  },
  "language_info": {
   "codemirror_mode": {
    "name": "ipython",
    "version": 3
   },
   "file_extension": ".py",
   "mimetype": "text/x-python",
   "name": "python",
   "nbconvert_exporter": "python",
   "pygments_lexer": "ipython3",
   "version": "3.9.18"
  }
 },
 "nbformat": 4,
 "nbformat_minor": 5
}
