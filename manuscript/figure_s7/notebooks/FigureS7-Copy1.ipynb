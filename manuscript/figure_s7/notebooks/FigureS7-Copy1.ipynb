{
 "cells": [
  {
   "cell_type": "markdown",
   "id": "afc9ebd7",
   "metadata": {},
   "source": [
    "# Figure S7: LARRY fate prediction (negative cross entropy)\n",
    "\n",
    "Will be Fig. S10 in the revised manuscript"
   ]
  },
  {
   "cell_type": "code",
   "execution_count": 1,
   "id": "a9f88ab2",
   "metadata": {},
   "outputs": [],
   "source": [
    "import larry\n",
    "import pandas as pd\n",
    "import ABCParse\n",
    "import numpy as np\n",
    "import pathlib\n",
    "import glob\n",
    "import pickle\n",
    "import scdiffeq as sdq\n",
    "import scdiffeq_analyses as sdq_an\n",
    "import seaborn as sns\n",
    "import sklearn\n",
    "import matplotlib.pyplot as plt"
   ]
  },
  {
   "cell_type": "code",
   "execution_count": 2,
   "id": "4f9ebb44",
   "metadata": {},
   "outputs": [],
   "source": [
    "F_obs = larry.tasks.fate_prediction.F_obs.copy()"
   ]
  },
  {
   "cell_type": "markdown",
   "id": "502ec333",
   "metadata": {},
   "source": [
    "### torch-pba"
   ]
  },
  {
   "cell_type": "code",
   "execution_count": 3,
   "id": "a8d77648",
   "metadata": {},
   "outputs": [],
   "source": [
    "pba_dir = pathlib.Path(\"../../figure_2/results/fate_prediction/torch_pba/\")"
   ]
  },
  {
   "cell_type": "code",
   "execution_count": 4,
   "id": "296fb281",
   "metadata": {},
   "outputs": [],
   "source": [
    "DataFrames = {}\n",
    "for path in list(pba_dir.glob(\"PBA.F_hat.29SEPT2023*.csv\")):\n",
    "    seed = int(path.name.split(\"seed_\")[1].split(\".\")[0])\n",
    "    if seed <= 5:\n",
    "        DataFrames[seed] = pd.read_csv(path, index_col = 0)\n",
    "DataFrames = {key: DataFrames[key] for key in sorted(DataFrames)}"
   ]
  },
  {
   "cell_type": "code",
   "execution_count": 5,
   "id": "842f8c91",
   "metadata": {},
   "outputs": [
    {
     "name": "stdout",
     "output_type": "stream",
     "text": [
      "valid_rows: 2081\n",
      "valid_rows: 2081\n",
      "valid_rows: 2081\n",
      "valid_rows: 2081\n",
      "valid_rows: 2081\n"
     ]
    },
    {
     "data": {
      "text/html": [
       "<div>\n",
       "<style scoped>\n",
       "    .dataframe tbody tr th:only-of-type {\n",
       "        vertical-align: middle;\n",
       "    }\n",
       "\n",
       "    .dataframe tbody tr th {\n",
       "        vertical-align: top;\n",
       "    }\n",
       "\n",
       "    .dataframe thead th {\n",
       "        text-align: right;\n",
       "    }\n",
       "</style>\n",
       "<table border=\"1\" class=\"dataframe\">\n",
       "  <thead>\n",
       "    <tr style=\"text-align: right;\">\n",
       "      <th></th>\n",
       "      <th>cross_entropy</th>\n",
       "    </tr>\n",
       "  </thead>\n",
       "  <tbody>\n",
       "    <tr>\n",
       "      <th>0</th>\n",
       "      <td>2.998878</td>\n",
       "    </tr>\n",
       "    <tr>\n",
       "      <th>1</th>\n",
       "      <td>1.409061</td>\n",
       "    </tr>\n",
       "    <tr>\n",
       "      <th>3</th>\n",
       "      <td>1.681266</td>\n",
       "    </tr>\n",
       "    <tr>\n",
       "      <th>4</th>\n",
       "      <td>4.860762</td>\n",
       "    </tr>\n",
       "    <tr>\n",
       "      <th>5</th>\n",
       "      <td>3.845093</td>\n",
       "    </tr>\n",
       "  </tbody>\n",
       "</table>\n",
       "</div>"
      ],
      "text/plain": [
       "   cross_entropy\n",
       "0       2.998878\n",
       "1       1.409061\n",
       "3       1.681266\n",
       "4       4.860762\n",
       "5       3.845093"
      ]
     },
     "execution_count": 5,
     "metadata": {},
     "output_type": "execute_result"
    }
   ],
   "source": [
    "TorchPBAResults = {}\n",
    "for seed, F_hat in DataFrames.items():\n",
    "    _F_hat = F_hat.copy()\n",
    "    _F_hat.index = _F_hat.index.astype(str)\n",
    "    ce = sdq_an.metrics.cross_entropy(F_obs, _F_hat)\n",
    "    TorchPBAResults[seed] = {\"cross_entropy\": ce}\n",
    "torch_pba = pd.DataFrame(TorchPBAResults).T\n",
    "torch_pba"
   ]
  },
  {
   "cell_type": "code",
   "execution_count": null,
   "id": "7e4a84bf-c029-46fe-9ccc-ac298115f3dc",
   "metadata": {},
   "outputs": [],
   "source": [
    "3.0±1.5"
   ]
  },
  {
   "cell_type": "code",
   "execution_count": 6,
   "id": "96af8227-78a8-4a85-9443-4524fb35657b",
   "metadata": {},
   "outputs": [
    {
     "data": {
      "text/plain": [
       "(cross_entropy    2.959012\n",
       " dtype: float64,\n",
       " cross_entropy    1.452443\n",
       " dtype: float64)"
      ]
     },
     "execution_count": 6,
     "metadata": {},
     "output_type": "execute_result"
    }
   ],
   "source": [
    "torch_pba.mean(), torch_pba.std()"
   ]
  },
  {
   "cell_type": "markdown",
   "id": "3bb1aae3",
   "metadata": {},
   "source": [
    "### TIGON"
   ]
  },
  {
   "cell_type": "code",
   "execution_count": 92,
   "id": "38944f71",
   "metadata": {},
   "outputs": [],
   "source": [
    "csv_path = \"/Users/mvinyard/GitHub/scdiffeq-analyses/manuscript/figure_2/results/fate_prediction/TIGON/F_hat.TIGON.csv\"\n",
    "\n",
    "F_hat = pd.read_csv(csv_path, index_col = 0)\n",
    "F_hat.index = F_hat.index.astype(str)\n",
    "F_hat = F_hat.div(F_hat.sum(1), axis = 0).fillna(0)"
   ]
  },
  {
   "cell_type": "code",
   "execution_count": 100,
   "id": "5868204a-2741-4fba-b648-994ff55b0737",
   "metadata": {},
   "outputs": [
    {
     "name": "stdout",
     "output_type": "stream",
     "text": [
      "AnnData object with n_obs × n_vars = 130887 × 25289\n",
      "    obs: 'Library', 'Cell barcode', 'Time point', 'Starting population', 'Cell type annotation', 'Well', 'SPRING-x', 'SPRING-y', 'clone_idx', 'fate_observed', 't0_fated'\n",
      "    var: 'gene_ids', 'hv_genes', 'use_genes'\n",
      "    uns: 'fate_counts', 'time_occupance', 'h5ad_path'\n",
      "    obsm: 'X_clone', 'cell_fate_df'\n"
     ]
    }
   ],
   "source": [
    "adata = sdq.io.read_h5ad(\"/Users/mvinyard/Downloads/adata.Weinreb2020.in_vitro.gene_filtered.h5ad\")"
   ]
  },
  {
   "cell_type": "code",
   "execution_count": 103,
   "id": "df5a26cf-14d7-4bce-a4ad-eccb1b261fd5",
   "metadata": {},
   "outputs": [],
   "source": [
    "tigon_idx = F_hat.loc[F_hat.sum(1) > 0].index"
   ]
  },
  {
   "cell_type": "code",
   "execution_count": 113,
   "id": "93398580-0ba2-4416-804d-7543a7d9e988",
   "metadata": {},
   "outputs": [],
   "source": [
    "fate_pred = F_hat.loc[tigon_idx].idxmax(1)"
   ]
  },
  {
   "cell_type": "code",
   "execution_count": 112,
   "id": "0f23c2e7-f3df-4929-91d5-49d99a6952db",
   "metadata": {},
   "outputs": [],
   "source": [
    "init_value = adata.obs.loc[tigon_idx]['Cell type annotation'].values"
   ]
  },
  {
   "cell_type": "code",
   "execution_count": 117,
   "id": "ab7c08ad-ea4c-4024-bc94-6d379f71cc47",
   "metadata": {},
   "outputs": [
    {
     "data": {
      "text/plain": [
       "0.9238095238095239"
      ]
     },
     "execution_count": 117,
     "metadata": {},
     "output_type": "execute_result"
    }
   ],
   "source": [
    "sum(init_value == fate_pred) / 105"
   ]
  },
  {
   "cell_type": "code",
   "execution_count": 123,
   "id": "db08bcda-1827-4cbd-bd8e-8d26967e4761",
   "metadata": {},
   "outputs": [
    {
     "data": {
      "text/plain": [
       "0.05045651129264776"
      ]
     },
     "execution_count": 123,
     "metadata": {},
     "output_type": "execute_result"
    }
   ],
   "source": [
    "105/2081"
   ]
  },
  {
   "cell_type": "code",
   "execution_count": 8,
   "id": "b5a2a0f4",
   "metadata": {},
   "outputs": [
    {
     "name": "stdout",
     "output_type": "stream",
     "text": [
      "valid_rows: 105\n"
     ]
    },
    {
     "data": {
      "text/html": [
       "<div>\n",
       "<style scoped>\n",
       "    .dataframe tbody tr th:only-of-type {\n",
       "        vertical-align: middle;\n",
       "    }\n",
       "\n",
       "    .dataframe tbody tr th {\n",
       "        vertical-align: top;\n",
       "    }\n",
       "\n",
       "    .dataframe thead th {\n",
       "        text-align: right;\n",
       "    }\n",
       "</style>\n",
       "<table border=\"1\" class=\"dataframe\">\n",
       "  <thead>\n",
       "    <tr style=\"text-align: right;\">\n",
       "      <th></th>\n",
       "      <th>cross_entropy</th>\n",
       "    </tr>\n",
       "  </thead>\n",
       "  <tbody>\n",
       "    <tr>\n",
       "      <th>0</th>\n",
       "      <td>3.450223</td>\n",
       "    </tr>\n",
       "  </tbody>\n",
       "</table>\n",
       "</div>"
      ],
      "text/plain": [
       "   cross_entropy\n",
       "0       3.450223"
      ]
     },
     "execution_count": 8,
     "metadata": {},
     "output_type": "execute_result"
    }
   ],
   "source": [
    "ce = sdq_an.metrics.cross_entropy(F_obs=F_obs, F_hat=F_hat, epsilon=1e-8)\n",
    "tigon = pd.DataFrame({0: {\"cross_entropy\": ce}}).T\n",
    "tigon"
   ]
  },
  {
   "cell_type": "markdown",
   "id": "79935646",
   "metadata": {},
   "source": [
    "### PRESCIENT"
   ]
  },
  {
   "cell_type": "code",
   "execution_count": 9,
   "id": "57a6a1ff-4359-4535-bb58-f301e50490f6",
   "metadata": {},
   "outputs": [],
   "source": [
    "pkl_path = \"/Users/mvinyard/GitHub/_scdiffeq-analyses/manuscript_analyses/_figure2/task_2.fate_prediction/prescient_simout.pickle\"\n",
    "f = pd.read_pickle(pkl_path)\n",
    "DataFrames = {\"KEGG+\": {}, \"KEGG-\": {}}\n",
    "for key, val in f.items():\n",
    "    seed = int(key[2].split(\"seed\")[1])\n",
    "    if \"no\" in key[-1]:\n",
    "        DataFrames[\"KEGG-\"][seed] = val\n",
    "    else:\n",
    "        DataFrames[\"KEGG+\"][seed] = val"
   ]
  },
  {
   "cell_type": "markdown",
   "id": "09486215",
   "metadata": {},
   "source": [
    "#### No weights"
   ]
  },
  {
   "cell_type": "code",
   "execution_count": 10,
   "id": "c526a625",
   "metadata": {},
   "outputs": [
    {
     "name": "stdout",
     "output_type": "stream",
     "text": [
      "valid_rows: 1915\n",
      "valid_rows: 1968\n",
      "valid_rows: 1966\n",
      "valid_rows: 1956\n",
      "valid_rows: 1916\n"
     ]
    },
    {
     "data": {
      "text/html": [
       "<div>\n",
       "<style scoped>\n",
       "    .dataframe tbody tr th:only-of-type {\n",
       "        vertical-align: middle;\n",
       "    }\n",
       "\n",
       "    .dataframe tbody tr th {\n",
       "        vertical-align: top;\n",
       "    }\n",
       "\n",
       "    .dataframe thead th {\n",
       "        text-align: right;\n",
       "    }\n",
       "</style>\n",
       "<table border=\"1\" class=\"dataframe\">\n",
       "  <thead>\n",
       "    <tr style=\"text-align: right;\">\n",
       "      <th></th>\n",
       "      <th>cross_entropy</th>\n",
       "    </tr>\n",
       "  </thead>\n",
       "  <tbody>\n",
       "    <tr>\n",
       "      <th>1</th>\n",
       "      <td>8.981964</td>\n",
       "    </tr>\n",
       "    <tr>\n",
       "      <th>2</th>\n",
       "      <td>10.101589</td>\n",
       "    </tr>\n",
       "    <tr>\n",
       "      <th>4</th>\n",
       "      <td>9.361535</td>\n",
       "    </tr>\n",
       "    <tr>\n",
       "      <th>0</th>\n",
       "      <td>9.283623</td>\n",
       "    </tr>\n",
       "    <tr>\n",
       "      <th>3</th>\n",
       "      <td>9.418569</td>\n",
       "    </tr>\n",
       "  </tbody>\n",
       "</table>\n",
       "</div>"
      ],
      "text/plain": [
       "   cross_entropy\n",
       "1       8.981964\n",
       "2      10.101589\n",
       "4       9.361535\n",
       "0       9.283623\n",
       "3       9.418569"
      ]
     },
     "execution_count": 10,
     "metadata": {},
     "output_type": "execute_result"
    }
   ],
   "source": [
    "PRESCIENTResults = {}\n",
    "for seed, F_hat in DataFrames['KEGG-'].items():\n",
    "    _F_hat = F_hat.copy()\n",
    "    _F_hat.index = F_obs.index\n",
    "    _F_hat = _F_hat.drop(\"Undifferentiated\", axis=1)\n",
    "    ce = sdq_an.metrics.cross_entropy(F_obs=F_obs, F_hat=_F_hat)\n",
    "    PRESCIENTResults[seed] = {\"cross_entropy\": ce}\n",
    "prescient = pd.DataFrame(PRESCIENTResults).T\n",
    "prescient"
   ]
  },
  {
   "cell_type": "code",
   "execution_count": 11,
   "id": "e6e86e6e-5011-4638-acf6-321ed0b647af",
   "metadata": {},
   "outputs": [
    {
     "data": {
      "text/plain": [
       "(cross_entropy    9.429456\n",
       " dtype: float64,\n",
       " cross_entropy    0.411707\n",
       " dtype: float64)"
      ]
     },
     "execution_count": 11,
     "metadata": {},
     "output_type": "execute_result"
    }
   ],
   "source": [
    "prescient.mean(), prescient.std()"
   ]
  },
  {
   "cell_type": "code",
   "execution_count": 84,
   "id": "a93c561d-3d65-4c40-87b3-d31f01a79c1f",
   "metadata": {},
   "outputs": [
    {
     "name": "stdout",
     "output_type": "stream",
     "text": [
      "# valid: 93.4±1.1\n"
     ]
    }
   ],
   "source": [
    "n_valid = 100 * np.array([1915, 1968, 1966, 1956, 1916]) / 2081\n",
    "m, s = np.mean(n_valid), np.std(n_valid)\n",
    "print(f\"# valid: {m:.1f}±{s:.1f}\")"
   ]
  },
  {
   "cell_type": "markdown",
   "id": "7ff96bce",
   "metadata": {},
   "source": [
    "#### KEGG weights"
   ]
  },
  {
   "cell_type": "code",
   "execution_count": 12,
   "id": "e28d67e0",
   "metadata": {},
   "outputs": [
    {
     "name": "stdout",
     "output_type": "stream",
     "text": [
      "valid_rows: 2018\n",
      "valid_rows: 1988\n",
      "valid_rows: 2027\n",
      "valid_rows: 2036\n",
      "valid_rows: 2005\n"
     ]
    },
    {
     "data": {
      "text/html": [
       "<div>\n",
       "<style scoped>\n",
       "    .dataframe tbody tr th:only-of-type {\n",
       "        vertical-align: middle;\n",
       "    }\n",
       "\n",
       "    .dataframe tbody tr th {\n",
       "        vertical-align: top;\n",
       "    }\n",
       "\n",
       "    .dataframe thead th {\n",
       "        text-align: right;\n",
       "    }\n",
       "</style>\n",
       "<table border=\"1\" class=\"dataframe\">\n",
       "  <thead>\n",
       "    <tr style=\"text-align: right;\">\n",
       "      <th></th>\n",
       "      <th>cross_entropy</th>\n",
       "    </tr>\n",
       "  </thead>\n",
       "  <tbody>\n",
       "    <tr>\n",
       "      <th>3</th>\n",
       "      <td>8.021390</td>\n",
       "    </tr>\n",
       "    <tr>\n",
       "      <th>1</th>\n",
       "      <td>7.725916</td>\n",
       "    </tr>\n",
       "    <tr>\n",
       "      <th>0</th>\n",
       "      <td>8.317087</td>\n",
       "    </tr>\n",
       "    <tr>\n",
       "      <th>4</th>\n",
       "      <td>8.297305</td>\n",
       "    </tr>\n",
       "    <tr>\n",
       "      <th>2</th>\n",
       "      <td>7.997552</td>\n",
       "    </tr>\n",
       "  </tbody>\n",
       "</table>\n",
       "</div>"
      ],
      "text/plain": [
       "   cross_entropy\n",
       "3       8.021390\n",
       "1       7.725916\n",
       "0       8.317087\n",
       "4       8.297305\n",
       "2       7.997552"
      ]
     },
     "execution_count": 12,
     "metadata": {},
     "output_type": "execute_result"
    }
   ],
   "source": [
    "PRESCIENTKEGGResults = {}\n",
    "for seed, F_hat in DataFrames['KEGG+'].items():\n",
    "    _F_hat = F_hat.copy()\n",
    "    _F_hat.index = F_obs.index\n",
    "    _F_hat = _F_hat.drop(\"Undifferentiated\", axis=1)\n",
    "    ce = sdq_an.metrics.cross_entropy(F_obs=F_obs, F_hat=_F_hat)\n",
    "    PRESCIENTKEGGResults[seed] = {\"cross_entropy\": ce}\n",
    "prescient_kegg = pd.DataFrame(PRESCIENTKEGGResults).T\n",
    "prescient_kegg"
   ]
  },
  {
   "cell_type": "code",
   "execution_count": 83,
   "id": "7dc625a4-1cea-4fb7-bbe8-911e95d48b49",
   "metadata": {},
   "outputs": [
    {
     "name": "stdout",
     "output_type": "stream",
     "text": [
      "# valid: 96.8±0.8\n"
     ]
    }
   ],
   "source": [
    "n_valid = 100 * np.array([2018, 1988, 2027, 2036, 2005]) / 2081\n",
    "m, s = np.mean(n_valid), np.std(n_valid)\n",
    "print(f\"# valid: {m:.1f}±{s:.1f}\")"
   ]
  },
  {
   "cell_type": "code",
   "execution_count": null,
   "id": "e6cdee18-023b-46fa-aa0c-459938fdc6fa",
   "metadata": {},
   "outputs": [],
   "source": [
    "8.1±0.2"
   ]
  },
  {
   "cell_type": "code",
   "execution_count": 13,
   "id": "9e46125f-0792-4675-baa4-b40cba60989b",
   "metadata": {},
   "outputs": [
    {
     "data": {
      "text/plain": [
       "(cross_entropy    8.07185\n",
       " dtype: float64,\n",
       " cross_entropy    0.244289\n",
       " dtype: float64)"
      ]
     },
     "execution_count": 13,
     "metadata": {},
     "output_type": "execute_result"
    }
   ],
   "source": [
    "prescient_kegg.mean(), prescient_kegg.std()"
   ]
  },
  {
   "cell_type": "markdown",
   "id": "0f2d3309",
   "metadata": {},
   "source": [
    "### scDiffEq"
   ]
  },
  {
   "cell_type": "code",
   "execution_count": 14,
   "id": "ded8a27b",
   "metadata": {},
   "outputs": [],
   "source": [
    "pkl_path = \"/Users/mvinyard/GitHub/_scdiffeq-analyses/manuscript_analyses/_figure2/task_2.fate_prediction/scdiffeq_simout.pickle\"\n",
    "f = pd.read_pickle(pkl_path)\n",
    "DataFrames = {\"KEGG+\": {}, \"KEGG-\": {}}\n",
    "for key, val in f.items():\n",
    "    seed = int(key[2].split(\"seed\")[1])\n",
    "    if \"no\" in key[-1]:\n",
    "        DataFrames[\"KEGG-\"][seed] = val\n",
    "    else:\n",
    "        DataFrames[\"KEGG+\"][seed] = val"
   ]
  },
  {
   "cell_type": "code",
   "execution_count": 15,
   "id": "03b4030e",
   "metadata": {},
   "outputs": [
    {
     "name": "stdout",
     "output_type": "stream",
     "text": [
      "valid_rows: 2081\n",
      "valid_rows: 2021\n",
      "valid_rows: 2033\n",
      "valid_rows: 2078\n",
      "valid_rows: 2076\n"
     ]
    }
   ],
   "source": [
    "scDiffEqResults = {}\n",
    "for seed, F_hat in DataFrames['KEGG-'].items():\n",
    "    _F_hat = F_hat.copy()\n",
    "    _F_hat.index = F_obs.index\n",
    "    _F_hat = _F_hat.drop(\"Undifferentiated\", axis=1)\n",
    "    ce = sdq_an.metrics.cross_entropy(F_obs=F_obs, F_hat=_F_hat)\n",
    "    scDiffEqResults[seed] = {\"cross_entropy\": ce}\n",
    "scdiffeq = pd.DataFrame(scDiffEqResults).T"
   ]
  },
  {
   "cell_type": "code",
   "execution_count": 82,
   "id": "5fa6bac3-e03c-4ae4-b49c-b97a6680f4fd",
   "metadata": {},
   "outputs": [
    {
     "name": "stdout",
     "output_type": "stream",
     "text": [
      "# valid: 98.9±1.2\n"
     ]
    }
   ],
   "source": [
    "n_valid = 100 * np.array([2081, 2021, 2033, 2078, 2076]) / 2081\n",
    "m, s = np.mean(n_valid), np.std(n_valid)\n",
    "print(f\"# valid: {m:.1f}±{s:.1f}\")"
   ]
  },
  {
   "cell_type": "code",
   "execution_count": 16,
   "id": "5d5ee7ef",
   "metadata": {},
   "outputs": [
    {
     "name": "stdout",
     "output_type": "stream",
     "text": [
      "valid_rows: 2081\n",
      "valid_rows: 2033\n",
      "valid_rows: 2059\n",
      "valid_rows: 2078\n",
      "valid_rows: 2022\n"
     ]
    }
   ],
   "source": [
    "scDiffEqKEGGResults = {}\n",
    "for seed, F_hat in DataFrames['KEGG+'].items():\n",
    "    _F_hat = F_hat.copy()\n",
    "    _F_hat.index = F_obs.index\n",
    "    _F_hat = _F_hat.drop(\"Undifferentiated\", axis=1)\n",
    "    ce = sdq_an.metrics.cross_entropy(F_obs=F_obs, F_hat=_F_hat)\n",
    "    scDiffEqKEGGResults[seed] = {\"cross_entropy\": ce}\n",
    "scdiffeq_kegg = pd.DataFrame(scDiffEqKEGGResults).T"
   ]
  },
  {
   "cell_type": "code",
   "execution_count": 81,
   "id": "6e0e5ea3-9e5c-4340-ae4a-2eb9ab09a908",
   "metadata": {},
   "outputs": [
    {
     "name": "stdout",
     "output_type": "stream",
     "text": [
      "# valid: 98.7±1.1\n"
     ]
    }
   ],
   "source": [
    "n_valid = 100 * np.array([2081, 2033, 2059, 2078, 2022]) / 2081\n",
    "m, s = np.mean(n_valid), np.std(n_valid)\n",
    "print(f\"# valid: {m:.1f}±{s:.1f}\")"
   ]
  },
  {
   "cell_type": "code",
   "execution_count": 17,
   "id": "e80e740b",
   "metadata": {},
   "outputs": [
    {
     "data": {
      "text/html": [
       "<div>\n",
       "<style scoped>\n",
       "    .dataframe tbody tr th:only-of-type {\n",
       "        vertical-align: middle;\n",
       "    }\n",
       "\n",
       "    .dataframe tbody tr th {\n",
       "        vertical-align: top;\n",
       "    }\n",
       "\n",
       "    .dataframe thead th {\n",
       "        text-align: right;\n",
       "    }\n",
       "</style>\n",
       "<table border=\"1\" class=\"dataframe\">\n",
       "  <thead>\n",
       "    <tr style=\"text-align: right;\">\n",
       "      <th></th>\n",
       "      <th>cross_entropy</th>\n",
       "    </tr>\n",
       "  </thead>\n",
       "  <tbody>\n",
       "    <tr>\n",
       "      <th>3</th>\n",
       "      <td>3.348077</td>\n",
       "    </tr>\n",
       "    <tr>\n",
       "      <th>0</th>\n",
       "      <td>5.259191</td>\n",
       "    </tr>\n",
       "    <tr>\n",
       "      <th>4</th>\n",
       "      <td>5.631830</td>\n",
       "    </tr>\n",
       "    <tr>\n",
       "      <th>1</th>\n",
       "      <td>4.930747</td>\n",
       "    </tr>\n",
       "    <tr>\n",
       "      <th>2</th>\n",
       "      <td>5.354256</td>\n",
       "    </tr>\n",
       "  </tbody>\n",
       "</table>\n",
       "</div>"
      ],
      "text/plain": [
       "   cross_entropy\n",
       "3       3.348077\n",
       "0       5.259191\n",
       "4       5.631830\n",
       "1       4.930747\n",
       "2       5.354256"
      ]
     },
     "execution_count": 17,
     "metadata": {},
     "output_type": "execute_result"
    }
   ],
   "source": [
    "scdiffeq_kegg"
   ]
  },
  {
   "cell_type": "markdown",
   "id": "01e10608-1080-43e1-82b8-3317b57176bf",
   "metadata": {},
   "source": [
    "### sdq-xl"
   ]
  },
  {
   "cell_type": "code",
   "execution_count": 19,
   "id": "e9b96740-2f26-438d-91d0-b6df8dc88527",
   "metadata": {},
   "outputs": [
    {
     "name": "stdout",
     "output_type": "stream",
     "text": [
      "valid_rows: 2075\n",
      "valid_rows: 2080\n",
      "valid_rows: 2064\n",
      "valid_rows: 2064\n",
      "valid_rows: 2075\n"
     ]
    }
   ],
   "source": [
    "sdq_xl_results = {}\n",
    "for csv_path in list(pathlib.Path(\"/Users/mvinyard/\").glob(\"scdiffeq.xl*\")):\n",
    "    F_hat = pd.read_csv(csv_path, index_col = 0)\n",
    "    seed = int(csv_path.name.split(\"seed_\")[1].split(\".\")[0])\n",
    "    if \"Undifferentiated\" in F_hat.columns:\n",
    "        F_hat = F_hat.drop(\"Undifferentiated\", axis=1)\n",
    "    F_hat = F_hat.div(F_hat.sum(1), axis = 0).fillna(0)\n",
    "    F_hat.index = F_hat.index.astype(str)\n",
    "    sdq_xl_results[seed] = {\"cross_entropy\": sdq_an.metrics.cross_entropy(F_obs, F_hat)}\n",
    "sdq_xl_results = pd.DataFrame(sdq_xl_results).T"
   ]
  },
  {
   "cell_type": "code",
   "execution_count": 85,
   "id": "ea928ad4-2774-45f1-96c2-806a16f82b5f",
   "metadata": {},
   "outputs": [
    {
     "name": "stdout",
     "output_type": "stream",
     "text": [
      "# valid: 99.5±0.3\n"
     ]
    }
   ],
   "source": [
    "n_valid = 100 * np.array([2075, 2080, 2064, 2064, 2075]) / 2081\n",
    "m, s = np.mean(n_valid), np.std(n_valid)\n",
    "print(f\"# valid: {m:.1f}±{s:.1f}\")"
   ]
  },
  {
   "cell_type": "code",
   "execution_count": null,
   "id": "3ac4776a-b278-4ba7-8559-71bb0313f967",
   "metadata": {},
   "outputs": [],
   "source": [
    "2.8±0.6"
   ]
  },
  {
   "cell_type": "code",
   "execution_count": 124,
   "id": "a0e927d6-5d32-49ed-9316-fbd26bc82528",
   "metadata": {},
   "outputs": [
    {
     "data": {
      "text/plain": [
       "cross_entropy    2.810075\n",
       "dtype: float64"
      ]
     },
     "execution_count": 124,
     "metadata": {},
     "output_type": "execute_result"
    }
   ],
   "source": [
    "sdq_xl_results.mean()"
   ]
  },
  {
   "cell_type": "code",
   "execution_count": 125,
   "id": "79166b3f-5c7b-48ac-820f-22035621ff67",
   "metadata": {},
   "outputs": [
    {
     "data": {
      "text/plain": [
       "cross_entropy    0.571773\n",
       "dtype: float64"
      ]
     },
     "execution_count": 125,
     "metadata": {},
     "output_type": "execute_result"
    }
   ],
   "source": [
    "sdq_xl_results.std()"
   ]
  },
  {
   "cell_type": "code",
   "execution_count": 20,
   "id": "9553a841-dc45-46b5-8f8b-772f53671f5d",
   "metadata": {},
   "outputs": [
    {
     "data": {
      "text/html": [
       "<div>\n",
       "<style scoped>\n",
       "    .dataframe tbody tr th:only-of-type {\n",
       "        vertical-align: middle;\n",
       "    }\n",
       "\n",
       "    .dataframe tbody tr th {\n",
       "        vertical-align: top;\n",
       "    }\n",
       "\n",
       "    .dataframe thead th {\n",
       "        text-align: right;\n",
       "    }\n",
       "</style>\n",
       "<table border=\"1\" class=\"dataframe\">\n",
       "  <thead>\n",
       "    <tr style=\"text-align: right;\">\n",
       "      <th></th>\n",
       "      <th>cross_entropy</th>\n",
       "    </tr>\n",
       "  </thead>\n",
       "  <tbody>\n",
       "    <tr>\n",
       "      <th>1</th>\n",
       "      <td>2.466671</td>\n",
       "    </tr>\n",
       "    <tr>\n",
       "      <th>2</th>\n",
       "      <td>3.815049</td>\n",
       "    </tr>\n",
       "    <tr>\n",
       "      <th>3</th>\n",
       "      <td>2.701247</td>\n",
       "    </tr>\n",
       "    <tr>\n",
       "      <th>4</th>\n",
       "      <td>2.620866</td>\n",
       "    </tr>\n",
       "    <tr>\n",
       "      <th>0</th>\n",
       "      <td>2.446544</td>\n",
       "    </tr>\n",
       "  </tbody>\n",
       "</table>\n",
       "</div>"
      ],
      "text/plain": [
       "   cross_entropy\n",
       "1       2.466671\n",
       "2       3.815049\n",
       "3       2.701247\n",
       "4       2.620866\n",
       "0       2.446544"
      ]
     },
     "execution_count": 20,
     "metadata": {},
     "output_type": "execute_result"
    }
   ],
   "source": [
    "sdq_xl_results"
   ]
  },
  {
   "cell_type": "code",
   "execution_count": 21,
   "id": "5679c2e5",
   "metadata": {},
   "outputs": [],
   "source": [
    "def _read_process_F_hat(path, pickle=False, filter_nan=True):\n",
    "\n",
    "    if pickle:\n",
    "        F_hat = pd.read_pickle(path)[0]\n",
    "    else:\n",
    "        F_hat = pd.read_csv(path, index_col=0)\n",
    "    F_hat_filt = F_hat.copy().drop(\"Undifferentiated\", axis=1)\n",
    "    F_hat_filt_norm = F_hat_filt.div(F_hat_filt.sum(1), axis=0).fillna(0)\n",
    "    if filter_nan:\n",
    "        F_hat_filt_norm = replace_undiff(F_hat_filt_norm)\n",
    "    F_hat_filt_norm.index = F_obs.index  # F_hat_filt_norm.index.astype(str)\n",
    "    return F_hat_filt_norm\n",
    "\n",
    "def replace_undiff(F_hat_filt_norm):\n",
    "\n",
    "    # create a temp vector to add undiff label\n",
    "    undiff = np.zeros(len(F_hat_filt_norm))\n",
    "    replace_idx = np.where(F_hat_filt_norm.sum(1) == 0)\n",
    "    #     print(f\"{replace_idx[0].shape[0]} non-fates\")\n",
    "    undiff[replace_idx] = 1\n",
    "\n",
    "    # add to normalized matrix\n",
    "    F_hat_filt_norm[\"Undifferentiated\"] = undiff\n",
    "\n",
    "    return F_hat_filt_norm\n",
    "\n",
    "def compute_accuracy(F_obs, F_hat):\n",
    "    y_true, y_pred = F_obs.idxmax(1).tolist(), F_hat.idxmax(1).tolist()\n",
    "    return sklearn.metrics.accuracy_score(y_true, y_pred)\n",
    "\n",
    "\n",
    "def get_organized_results(project_path):\n",
    "    paths = list(project_path.glob(\"*/fate_prediction_metrics/*/F_hat.unfiltered.csv\"))\n",
    "    OrgResults = {}\n",
    "    for path in paths:\n",
    "        path_ = pathlib.Path(path)\n",
    "        version = path_.parent.parent.parent.name\n",
    "        if not version in OrgResults:\n",
    "            OrgResults[version] = {}\n",
    "        ckpt_name = path_.parent.name\n",
    "        F_hat = _read_process_F_hat(path_, pickle=False)\n",
    "        F_hat.index = F_hat.index.astype(str)\n",
    "        acc = larry.tasks.fate_prediction.metrics.multi_idx_accuracy(F_obs, F_hat)\n",
    "        train_acc = acc.loc[\"unique_train.all_fates\"].iloc[0]\n",
    "        test_acc = acc.loc[\"unique_test.all_fates\"].iloc[0]\n",
    "        OrgResults[version][ckpt_name] = {\"train\": train_acc, \"test\": test_acc}\n",
    "        acc_ = compute_accuracy(F_obs, F_hat)\n",
    "    #         print(\"| Accuracy: Train: {:.5f}, Test: {:.3f} |\".format(train_acc, test_acc), version, ckpt_name)\n",
    "    return OrgResults\n",
    "\n",
    "\n",
    "def get_best_results(OrgResults):\n",
    "    BestResults = {}\n",
    "    for key, val in OrgResults.items():\n",
    "        version_accuracy = pd.DataFrame(val).T\n",
    "        best_ckpt = version_accuracy[\"train\"].idxmax()\n",
    "        best_test = version_accuracy.loc[best_ckpt][\"test\"]\n",
    "        #         print(key, best_ckpt, best_test)\n",
    "        #         best_.append()\n",
    "        BestResults[key] = best_test\n",
    "\n",
    "    return BestResults"
   ]
  },
  {
   "cell_type": "code",
   "execution_count": 22,
   "id": "a79b4efd",
   "metadata": {
    "scrolled": true
   },
   "outputs": [],
   "source": [
    "# scDiffEq + KEGG + RVR=2.5\n",
    "project_path = pathlib.Path(\n",
    "    \"/Users/mvinyard/GitHub/scdiffeq-analyses/manuscript/models/LARRY.fate_prediction/LightningSDE-FixedPotential-RegularizedVelocityRatio/\"\n",
    ")\n",
    "project = sdq.io.Project(project_path)\n",
    "versions = [\n",
    "    getattr(project, attr) for attr in project.__dir__() if attr.startswith(\"version_\")\n",
    "]\n",
    "\n",
    "best = {}\n",
    "for version in versions:\n",
    "    version_accuracy = sdq_an.parsers.VersionAccuracy(version)\n",
    "    Vr = version.hparams[\"velocity_ratio_params\"][\"target\"]\n",
    "    if Vr == 2.5:\n",
    "        accuracy = version_accuracy.best_test_from_train[[\"train\", \"test\"]]\n",
    "        best[version._NAME] = {\"accuracy\": accuracy, \"version\": version}\n",
    "\n",
    "\n",
    "# org_results = get_organized_results(project_path)\n",
    "# best_results = get_best_results(org_results)"
   ]
  },
  {
   "cell_type": "code",
   "execution_count": 23,
   "id": "4e7d1d6b",
   "metadata": {},
   "outputs": [],
   "source": [
    "DataFrames = {}\n",
    "for key, val in best.items():\n",
    "    ckpt_name = val['accuracy'].name\n",
    "    epoch = int(ckpt_name.split(\".\")[0].split(\"_\")[-1])\n",
    "    F_hat_path = best[key]['version'].ckpts[epoch].path.parent.parent.joinpath(f\"fate_prediction_metrics/{ckpt_name}/F_hat.unfiltered.csv\")\n",
    "    F_hat = pd.read_csv(F_hat_path, index_col = 0)\n",
    "    DataFrames[key] = F_hat"
   ]
  },
  {
   "cell_type": "code",
   "execution_count": 32,
   "id": "e82e0d0d",
   "metadata": {},
   "outputs": [
    {
     "name": "stdout",
     "output_type": "stream",
     "text": [
      "valid_rows: 2081\n",
      "valid_rows: 2081\n",
      "valid_rows: 2081\n",
      "valid_rows: 2081\n",
      "valid_rows: 2081\n"
     ]
    }
   ],
   "source": [
    "scDiffEq_KEGG_RvR = {}\n",
    "for key, F_hat in DataFrames.items():\n",
    "    F_hat.index = F_hat.index.astype(str)\n",
    "    F_hat.drop(\"Undifferentiated\", axis=1)\n",
    "    scDiffEq_KEGG_RvR[int(key.split(\"_\")[1])] = {\"cross_entropy\": sdq_an.metrics.cross_entropy(F_obs, F_hat)}  \n",
    "scdiffeq_rvr = pd.DataFrame(scDiffEq_KEGG_RvR).T"
   ]
  },
  {
   "cell_type": "code",
   "execution_count": 34,
   "id": "69211783",
   "metadata": {},
   "outputs": [
    {
     "data": {
      "text/html": [
       "<div>\n",
       "<style scoped>\n",
       "    .dataframe tbody tr th:only-of-type {\n",
       "        vertical-align: middle;\n",
       "    }\n",
       "\n",
       "    .dataframe tbody tr th {\n",
       "        vertical-align: top;\n",
       "    }\n",
       "\n",
       "    .dataframe thead th {\n",
       "        text-align: right;\n",
       "    }\n",
       "</style>\n",
       "<table border=\"1\" class=\"dataframe\">\n",
       "  <thead>\n",
       "    <tr style=\"text-align: right;\">\n",
       "      <th></th>\n",
       "      <th>cross_entropy</th>\n",
       "    </tr>\n",
       "  </thead>\n",
       "  <tbody>\n",
       "    <tr>\n",
       "      <th>31</th>\n",
       "      <td>4.022048</td>\n",
       "    </tr>\n",
       "    <tr>\n",
       "      <th>33</th>\n",
       "      <td>5.966025</td>\n",
       "    </tr>\n",
       "    <tr>\n",
       "      <th>35</th>\n",
       "      <td>3.535535</td>\n",
       "    </tr>\n",
       "    <tr>\n",
       "      <th>37</th>\n",
       "      <td>3.618564</td>\n",
       "    </tr>\n",
       "    <tr>\n",
       "      <th>39</th>\n",
       "      <td>4.115820</td>\n",
       "    </tr>\n",
       "  </tbody>\n",
       "</table>\n",
       "</div>"
      ],
      "text/plain": [
       "    cross_entropy\n",
       "31       4.022048\n",
       "33       5.966025\n",
       "35       3.535535\n",
       "37       3.618564\n",
       "39       4.115820"
      ]
     },
     "execution_count": 34,
     "metadata": {},
     "output_type": "execute_result"
    }
   ],
   "source": [
    "scdiffeq_rvr"
   ]
  },
  {
   "cell_type": "code",
   "execution_count": 40,
   "id": "bfb91e5c",
   "metadata": {},
   "outputs": [],
   "source": [
    "import cellplots as cp"
   ]
  },
  {
   "cell_type": "code",
   "execution_count": 86,
   "id": "08e86b8a",
   "metadata": {},
   "outputs": [],
   "source": [
    "colors = [\n",
    "    \"#9d0610\",\n",
    "    \"#ffcc00\",\n",
    "    \"#f27f34\",\n",
    "    \"#eb5e28\",\n",
    "    \"#00b4d8\",\n",
    "    \"#0096c7\",\n",
    "    \"#0077b6\",\n",
    "    \"#214F87\"\n",
    "]"
   ]
  },
  {
   "cell_type": "code",
   "execution_count": 87,
   "id": "6552b921",
   "metadata": {},
   "outputs": [],
   "source": [
    "results = {\n",
    "    \"TorchPBA\": torch_pba,\n",
    "    \"TIGON\": tigon,\n",
    "    \"PRESCIENT\": prescient,\n",
    "    \"PRESCIENT-KEGG\": prescient_kegg,\n",
    "    \"scDiffEq\": scdiffeq,\n",
    "    \"scDiffEq-KEGG\": scdiffeq_kegg,\n",
    "    \"scDiffEq-KEGG-RvR\": scdiffeq_rvr,\n",
    "    \"scDiffEq-KEGG-RvR-XL\": sdq_xl_results\n",
    "}\n",
    "results = {key: ABCParse.as_list(val.values.flatten().tolist()) for key, val in results.items()}"
   ]
  },
  {
   "cell_type": "code",
   "execution_count": 88,
   "id": "d304d186-b48c-40a7-84e1-18637c236df4",
   "metadata": {},
   "outputs": [],
   "source": [
    "import cellplots"
   ]
  },
  {
   "cell_type": "code",
   "execution_count": null,
   "id": "885db700-46ee-4b81-ae85-ed4cb29a54af",
   "metadata": {},
   "outputs": [],
   "source": []
  },
  {
   "cell_type": "code",
   "execution_count": 91,
   "id": "40644417-06e4-42ff-85f7-cd6f8134cc4f",
   "metadata": {},
   "outputs": [
    {
     "data": {
      "text/html": [
       "<div>\n",
       "<style scoped>\n",
       "    .dataframe tbody tr th:only-of-type {\n",
       "        vertical-align: middle;\n",
       "    }\n",
       "\n",
       "    .dataframe tbody tr th {\n",
       "        vertical-align: top;\n",
       "    }\n",
       "\n",
       "    .dataframe thead th {\n",
       "        text-align: right;\n",
       "    }\n",
       "</style>\n",
       "<table border=\"1\" class=\"dataframe\">\n",
       "  <thead>\n",
       "    <tr style=\"text-align: right;\">\n",
       "      <th></th>\n",
       "      <th>cross_entropy</th>\n",
       "    </tr>\n",
       "  </thead>\n",
       "  <tbody>\n",
       "    <tr>\n",
       "      <th>0</th>\n",
       "      <td>3.450223</td>\n",
       "    </tr>\n",
       "  </tbody>\n",
       "</table>\n",
       "</div>"
      ],
      "text/plain": [
       "   cross_entropy\n",
       "0       3.450223"
      ]
     },
     "execution_count": 91,
     "metadata": {},
     "output_type": "execute_result"
    }
   ],
   "source": [
    "tigon"
   ]
  },
  {
   "cell_type": "code",
   "execution_count": 122,
   "id": "dd3bc310-9865-4644-bc2a-2aebfa093eda",
   "metadata": {},
   "outputs": [
    {
     "data": {
      "image/png": "[encoded data removed]",
      "text/plain": [
       "<Figure size 512x240 with 1 Axes>"
      ]
     },
     "metadata": {},
     "output_type": "display_data"
    }
   ],
   "source": [
    "fig, axes = cellplots.plot(\n",
    "    height=0.5,\n",
    "    width=0.8,\n",
    "    title=[\"LARRY fate prediction benchmark accuracy\"],\n",
    "    y_label=[\"Mean Cross Entropy\"],\n",
    "    x_label=[\"Method\"],\n",
    ")\n",
    "bp = sdq_an.pl.boxplot(data=results, ax=axes[0], colors=colors, widths=0.65)\n",
    "axes[0].set_ylim(0, 12)\n",
    "plt.savefig(\"LARRY.fate_prediction_benchmark.mean_cross_entropy.svg\", dpi=500)"
   ]
  },
  {
   "cell_type": "code",
   "execution_count": null,
   "id": "c8b1f4a8-ead7-4a4c-bf77-fac982476142",
   "metadata": {},
   "outputs": [],
   "source": []
  }
 ],
 "metadata": {
  "kernelspec": {
   "display_name": "Python (sdq)",
   "language": "python",
   "name": "sdq"
  },
  "language_info": {
   "codemirror_mode": {
    "name": "ipython",
    "version": 3
   },
   "file_extension": ".py",
   "mimetype": "text/x-python",
   "name": "python",
   "nbconvert_exporter": "python",
   "pygments_lexer": "ipython3",
   "version": "3.11.12"
  }
 },
 "nbformat": 4,
 "nbformat_minor": 5
}
