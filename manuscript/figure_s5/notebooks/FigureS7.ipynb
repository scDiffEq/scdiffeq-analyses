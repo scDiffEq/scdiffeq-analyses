{
 "cells": [
  {
   "cell_type": "markdown",
   "id": "f8d56bbd",
   "metadata": {},
   "source": [
    "# Figure S7"
   ]
  },
  {
   "cell_type": "markdown",
   "id": "e911d9c4",
   "metadata": {},
   "source": [
    "### Import packages"
   ]
  },
  {
   "cell_type": "code",
   "execution_count": 1,
   "id": "170fa7fb",
   "metadata": {},
   "outputs": [
    {
     "data": {
      "application/javascript": [
       "\n",
       "        setTimeout(function() {\n",
       "            var nbb_cell_id = 1;\n",
       "            var nbb_formatted_code = \"%load_ext nb_black\\n\\nimport scdiffeq as sdq\\nimport dev\\nimport cellplots as cp\\nimport matplotlib.pyplot as plt\\nimport matplotlib.cm as cm\\nimport pandas as pd\\nimport numpy as np\\nimport ABCParse\\nimport os\\nimport pathlib\\nimport seaborn as sns\\nimport larry\\nimport scipy.stats\\nimport glob\\nimport matplotlib\";\n",
       "            var nbb_cells = Jupyter.notebook.get_cells();\n",
       "            for (var i = 0; i < nbb_cells.length; ++i) {\n",
       "                if (nbb_cells[i].input_prompt_number == nbb_cell_id) {\n",
       "                    nbb_cells[i].set_text(nbb_formatted_code);\n",
       "                    break;\n",
       "                }\n",
       "            }\n",
       "        }, 500);\n",
       "        "
      ],
      "text/plain": [
       "<IPython.core.display.Javascript object>"
      ]
     },
     "metadata": {},
     "output_type": "display_data"
    }
   ],
   "source": [
    "%load_ext nb_black\n",
    "\n",
    "import scdiffeq as sdq\n",
    "import dev\n",
    "import cellplots as cp\n",
    "import matplotlib.pyplot as plt\n",
    "import matplotlib.cm as cm\n",
    "import pandas as pd\n",
    "import numpy as np\n",
    "import ABCParse\n",
    "import os\n",
    "import pathlib\n",
    "import seaborn as sns\n",
    "import larry\n",
    "import scipy.stats\n",
    "import glob\n",
    "import matplotlib"
   ]
  },
  {
   "cell_type": "markdown",
   "id": "d5dbe1b0",
   "metadata": {},
   "source": [
    "### Read data and load project"
   ]
  },
  {
   "cell_type": "code",
   "execution_count": 2,
   "id": "75d62eeb",
   "metadata": {},
   "outputs": [
    {
     "name": "stdout",
     "output_type": "stream",
     "text": [
      "AnnData object with n_obs × n_vars = 130887 × 2492\n",
      "    obs: 'Library', 'Cell barcode', 'Time point', 'Starting population', 'Cell type annotation', 'Well', 'SPRING-x', 'SPRING-y', 'clone_idx', 'fate_observed', 't0_fated', 'train'\n",
      "    var: 'gene_ids', 'hv_gene', 'must_include', 'exclude', 'use_genes'\n",
      "    uns: 'fate_counts', 'h5ad_path', 'time_occupance'\n",
      "    obsm: 'X_clone', 'X_pca', 'X_umap', 'cell_fate_df'\n",
      "    layers: 'X_scaled'\n"
     ]
    },
    {
     "data": {
      "application/javascript": [
       "\n",
       "        setTimeout(function() {\n",
       "            var nbb_cell_id = 2;\n",
       "            var nbb_formatted_code = \"h5ad_path = (\\n    \\\"/home/mvinyard/data/adata.reprocessed_19OCT2023.more_feature_inclusive.h5ad\\\"\\n)\\nadata = sdq.io.read_h5ad(h5ad_path)\";\n",
       "            var nbb_cells = Jupyter.notebook.get_cells();\n",
       "            for (var i = 0; i < nbb_cells.length; ++i) {\n",
       "                if (nbb_cells[i].input_prompt_number == nbb_cell_id) {\n",
       "                    nbb_cells[i].set_text(nbb_formatted_code);\n",
       "                    break;\n",
       "                }\n",
       "            }\n",
       "        }, 500);\n",
       "        "
      ],
      "text/plain": [
       "<IPython.core.display.Javascript object>"
      ]
     },
     "metadata": {},
     "output_type": "display_data"
    }
   ],
   "source": [
    "h5ad_path = (\n",
    "    \"/home/mvinyard/data/adata.reprocessed_19OCT2023.more_feature_inclusive.h5ad\"\n",
    ")\n",
    "adata = sdq.io.read_h5ad(h5ad_path)"
   ]
  },
  {
   "cell_type": "code",
   "execution_count": 3,
   "id": "69ccbc12",
   "metadata": {},
   "outputs": [
    {
     "data": {
      "application/javascript": [
       "\n",
       "        setTimeout(function() {\n",
       "            var nbb_cell_id = 3;\n",
       "            var nbb_formatted_code = \"project = sdq.io.Project(path=\\\"./LightningSDE-FixedPotential-RegularizedVelocityRatio/\\\")\";\n",
       "            var nbb_cells = Jupyter.notebook.get_cells();\n",
       "            for (var i = 0; i < nbb_cells.length; ++i) {\n",
       "                if (nbb_cells[i].input_prompt_number == nbb_cell_id) {\n",
       "                    nbb_cells[i].set_text(nbb_formatted_code);\n",
       "                    break;\n",
       "                }\n",
       "            }\n",
       "        }, 500);\n",
       "        "
      ],
      "text/plain": [
       "<IPython.core.display.Javascript object>"
      ]
     },
     "metadata": {},
     "output_type": "display_data"
    }
   ],
   "source": [
    "project = sdq.io.Project(path=\"./LightningSDE-FixedPotential-RegularizedVelocityRatio/\")"
   ]
  },
  {
   "cell_type": "markdown",
   "id": "27a3a125",
   "metadata": {},
   "source": [
    "### Compute fate prediction accuracy for each version"
   ]
  },
  {
   "cell_type": "code",
   "execution_count": 4,
   "id": "5788c457",
   "metadata": {},
   "outputs": [
    {
     "data": {
      "application/javascript": [
       "\n",
       "        setTimeout(function() {\n",
       "            var nbb_cell_id = 4;\n",
       "            var nbb_formatted_code = \"RATIOS = {}\\nfor version, path in project._VERSION_PATHS.items():\\n    try:\\n        v = getattr(project, version)\\n        acc = dev.fate_prediction_accuracy(v)\\n        target_ratio = v.hparams[\\\"velocity_ratio_params\\\"][\\\"target\\\"]\\n        RATIOS[version] = target_ratio, v, acc\\n    except:\\n        pass\";\n",
       "            var nbb_cells = Jupyter.notebook.get_cells();\n",
       "            for (var i = 0; i < nbb_cells.length; ++i) {\n",
       "                if (nbb_cells[i].input_prompt_number == nbb_cell_id) {\n",
       "                    nbb_cells[i].set_text(nbb_formatted_code);\n",
       "                    break;\n",
       "                }\n",
       "            }\n",
       "        }, 500);\n",
       "        "
      ],
      "text/plain": [
       "<IPython.core.display.Javascript object>"
      ]
     },
     "metadata": {},
     "output_type": "display_data"
    }
   ],
   "source": [
    "RATIOS = {}\n",
    "for version, path in project._VERSION_PATHS.items():\n",
    "    try:\n",
    "        v = getattr(project, version)\n",
    "        acc = dev.fate_prediction_accuracy(v)\n",
    "        target_ratio = v.hparams[\"velocity_ratio_params\"][\"target\"]\n",
    "        RATIOS[version] = target_ratio, v, acc\n",
    "    except:\n",
    "        pass"
   ]
  },
  {
   "cell_type": "markdown",
   "id": "d9731879",
   "metadata": {},
   "source": [
    "### For each un-regularized training run, compute drift [`f`] and diffusion [`g`]"
   ]
  },
  {
   "cell_type": "code",
   "execution_count": 5,
   "id": "95e8f252",
   "metadata": {},
   "outputs": [
    {
     "name": "stdout",
     "output_type": "stream",
     "text": [
      "version_0\n",
      "version_1\n",
      "version_2\n",
      "version_3\n",
      "version_4\n"
     ]
    },
    {
     "data": {
      "application/javascript": [
       "\n",
       "        setTimeout(function() {\n",
       "            var nbb_cell_id = 5;\n",
       "            var nbb_formatted_code = \"def f(df, key=\\\"training\\\"):\\n    return df.filter(regex=\\\"velo_f\\\").filter(regex=key).dropna().sum(1).mean()\\n\\n\\ndef g(df, key=\\\"training\\\"):\\n    return df.filter(regex=\\\"velo_g\\\").filter(regex=key).dropna().sum(1).mean()\\n\\n\\nUnEnforcedResults = {}\\nfor en, (version, results) in enumerate(RATIOS.items()):\\n    target_ratio, v, acc = results\\n    if v.hparams[\\\"velocity_ratio_params\\\"][\\\"enforce\\\"] == 0:\\n        print(version)\\n        grouped = v.metrics_df.groupby(\\\"epoch\\\")\\n        UnEnforcedResults[version] = {\\n            \\\"f_training\\\": grouped.apply(f, key=\\\"training\\\"),\\n            \\\"f_validation\\\": grouped.apply(f, key=\\\"validation\\\"),\\n            \\\"g_training\\\": grouped.apply(g, key=\\\"training\\\"),\\n            \\\"g_validation\\\": grouped.apply(g, key=\\\"validation\\\"),\\n        }\";\n",
       "            var nbb_cells = Jupyter.notebook.get_cells();\n",
       "            for (var i = 0; i < nbb_cells.length; ++i) {\n",
       "                if (nbb_cells[i].input_prompt_number == nbb_cell_id) {\n",
       "                    nbb_cells[i].set_text(nbb_formatted_code);\n",
       "                    break;\n",
       "                }\n",
       "            }\n",
       "        }, 500);\n",
       "        "
      ],
      "text/plain": [
       "<IPython.core.display.Javascript object>"
      ]
     },
     "metadata": {},
     "output_type": "display_data"
    }
   ],
   "source": [
    "def f(df, key=\"training\"):\n",
    "    return df.filter(regex=\"velo_f\").filter(regex=key).dropna().sum(1).mean()\n",
    "\n",
    "\n",
    "def g(df, key=\"training\"):\n",
    "    return df.filter(regex=\"velo_g\").filter(regex=key).dropna().sum(1).mean()\n",
    "\n",
    "\n",
    "UnEnforcedResults = {}\n",
    "for en, (version, results) in enumerate(RATIOS.items()):\n",
    "    target_ratio, v, acc = results\n",
    "    if v.hparams[\"velocity_ratio_params\"][\"enforce\"] == 0:\n",
    "        print(version)\n",
    "        grouped = v.metrics_df.groupby(\"epoch\")\n",
    "        UnEnforcedResults[version] = {\n",
    "            \"f_training\": grouped.apply(f, key=\"training\"),\n",
    "            \"f_validation\": grouped.apply(f, key=\"validation\"),\n",
    "            \"g_training\": grouped.apply(g, key=\"training\"),\n",
    "            \"g_validation\": grouped.apply(g, key=\"validation\"),\n",
    "        }"
   ]
  },
  {
   "cell_type": "markdown",
   "id": "3992b406",
   "metadata": {},
   "source": [
    "### Compute the empirical unenforced ratio"
   ]
  },
  {
   "cell_type": "code",
   "execution_count": 6,
   "id": "c6a2a0ed",
   "metadata": {},
   "outputs": [
    {
     "data": {
      "text/plain": [
       "(0.3669882612570243, 0.13488926187436895)"
      ]
     },
     "execution_count": 6,
     "metadata": {},
     "output_type": "execute_result"
    },
    {
     "data": {
      "application/javascript": [
       "\n",
       "        setTimeout(function() {\n",
       "            var nbb_cell_id = 6;\n",
       "            var nbb_formatted_code = \"unenforced_ratio = np.array(\\n    [\\n        v[\\\"f_validation\\\"].iloc[-1] / v[\\\"g_validation\\\"].iloc[-1]\\n        for i, (k, v) in enumerate(UnEnforcedResults.items())\\n    ]\\n)\\nunenforced_ratio.mean(), unenforced_ratio.std()\";\n",
       "            var nbb_cells = Jupyter.notebook.get_cells();\n",
       "            for (var i = 0; i < nbb_cells.length; ++i) {\n",
       "                if (nbb_cells[i].input_prompt_number == nbb_cell_id) {\n",
       "                    nbb_cells[i].set_text(nbb_formatted_code);\n",
       "                    break;\n",
       "                }\n",
       "            }\n",
       "        }, 500);\n",
       "        "
      ],
      "text/plain": [
       "<IPython.core.display.Javascript object>"
      ]
     },
     "metadata": {},
     "output_type": "display_data"
    }
   ],
   "source": [
    "unenforced_ratio = np.array(\n",
    "    [\n",
    "        v[\"f_validation\"].iloc[-1] / v[\"g_validation\"].iloc[-1]\n",
    "        for i, (k, v) in enumerate(UnEnforcedResults.items())\n",
    "    ]\n",
    ")\n",
    "unenforced_ratio.mean(), unenforced_ratio.std()"
   ]
  },
  {
   "cell_type": "code",
   "execution_count": 7,
   "id": "b042ee00",
   "metadata": {},
   "outputs": [
    {
     "name": "stdout",
     "output_type": "stream",
     "text": [
      "0.26198354528285633 0.06584885182554004\n",
      "0.2684648227480443\n"
     ]
    },
    {
     "data": {
      "application/javascript": [
       "\n",
       "        setTimeout(function() {\n",
       "            var nbb_cell_id = 7;\n",
       "            var nbb_formatted_code = \"rel = unenforced_ratio / (1 + unenforced_ratio)\\nprint(rel.mean(), rel.std())\\nprint(unenforced_ratio.mean() / (1 + unenforced_ratio.mean()))\";\n",
       "            var nbb_cells = Jupyter.notebook.get_cells();\n",
       "            for (var i = 0; i < nbb_cells.length; ++i) {\n",
       "                if (nbb_cells[i].input_prompt_number == nbb_cell_id) {\n",
       "                    nbb_cells[i].set_text(nbb_formatted_code);\n",
       "                    break;\n",
       "                }\n",
       "            }\n",
       "        }, 500);\n",
       "        "
      ],
      "text/plain": [
       "<IPython.core.display.Javascript object>"
      ]
     },
     "metadata": {},
     "output_type": "display_data"
    }
   ],
   "source": [
    "rel = unenforced_ratio / (1 + unenforced_ratio)\n",
    "print(rel.mean(), rel.std())\n",
    "print(unenforced_ratio.mean() / (1 + unenforced_ratio.mean()))"
   ]
  },
  {
   "cell_type": "code",
   "execution_count": 8,
   "id": "6370629a",
   "metadata": {},
   "outputs": [
    {
     "data": {
      "application/javascript": [
       "\n",
       "        setTimeout(function() {\n",
       "            var nbb_cell_id = 8;\n",
       "            var nbb_formatted_code = \"OrgResults = {}\\nfor en, (version, results) in enumerate(RATIOS.items()):\\n    target_ratio, v, acc = results\\n    if v.hparams[\\\"velocity_ratio_params\\\"][\\\"enforce\\\"] == 0:\\n        target_ratio = unenforced_ratio.mean()  # 0.3669882612570243\\n    if not target_ratio in OrgResults.keys():\\n        OrgResults[target_ratio] = []\\n    best = acc[acc.loc[\\\"unique_train.all_fates\\\"].idxmax()][\\\"unique_test.all_fates\\\"]\\n    OrgResults[target_ratio].append(best)\";\n",
       "            var nbb_cells = Jupyter.notebook.get_cells();\n",
       "            for (var i = 0; i < nbb_cells.length; ++i) {\n",
       "                if (nbb_cells[i].input_prompt_number == nbb_cell_id) {\n",
       "                    nbb_cells[i].set_text(nbb_formatted_code);\n",
       "                    break;\n",
       "                }\n",
       "            }\n",
       "        }, 500);\n",
       "        "
      ],
      "text/plain": [
       "<IPython.core.display.Javascript object>"
      ]
     },
     "metadata": {},
     "output_type": "display_data"
    }
   ],
   "source": [
    "OrgResults = {}\n",
    "for en, (version, results) in enumerate(RATIOS.items()):\n",
    "    target_ratio, v, acc = results\n",
    "    if v.hparams[\"velocity_ratio_params\"][\"enforce\"] == 0:\n",
    "        target_ratio = unenforced_ratio.mean()  # 0.3669882612570243\n",
    "    if not target_ratio in OrgResults.keys():\n",
    "        OrgResults[target_ratio] = []\n",
    "    best = acc[acc.loc[\"unique_train.all_fates\"].idxmax()][\"unique_test.all_fates\"]\n",
    "    OrgResults[target_ratio].append(best)"
   ]
  },
  {
   "cell_type": "code",
   "execution_count": 9,
   "id": "65f7a902",
   "metadata": {},
   "outputs": [
    {
     "data": {
      "application/javascript": [
       "\n",
       "        setTimeout(function() {\n",
       "            var nbb_cell_id = 9;\n",
       "            var nbb_formatted_code = \"sorted_results = {\\n    key: OrgResults[key]\\n    for key in sorted(np.array(list(OrgResults.keys())).astype(float))\\n}\";\n",
       "            var nbb_cells = Jupyter.notebook.get_cells();\n",
       "            for (var i = 0; i < nbb_cells.length; ++i) {\n",
       "                if (nbb_cells[i].input_prompt_number == nbb_cell_id) {\n",
       "                    nbb_cells[i].set_text(nbb_formatted_code);\n",
       "                    break;\n",
       "                }\n",
       "            }\n",
       "        }, 500);\n",
       "        "
      ],
      "text/plain": [
       "<IPython.core.display.Javascript object>"
      ]
     },
     "metadata": {},
     "output_type": "display_data"
    }
   ],
   "source": [
    "sorted_results = {\n",
    "    key: OrgResults[key]\n",
    "    for key in sorted(np.array(list(OrgResults.keys())).astype(float))\n",
    "}"
   ]
  },
  {
   "cell_type": "code",
   "execution_count": 10,
   "id": "3100c6ed",
   "metadata": {},
   "outputs": [
    {
     "name": "stdout",
     "output_type": "stream",
     "text": [
      "   0.0010 0.523  0.0164 | 5\n",
      "   0.0100 0.499  0.0253 | 5\n",
      "   0.3670 0.513  0.0271 | 5\n",
      "   0.5000 0.520  0.0320 | 5\n",
      "   1.0000 0.530  0.0160 | 5\n",
      "   1.5000 0.506  0.0154 | 5\n",
      "   2.2500 0.529  0.0386 | 5\n",
      "   2.5000 0.548  0.0260 | 5\n",
      "   3.0000 0.522  0.0381 | 5\n",
      "   5.0000 0.530  0.0157 | 5\n",
      "  10.0000 0.523  0.0347 | 5\n",
      "  20.0000 0.391  0.0713 | 5\n",
      "  30.0000 0.292  0.0467 | 4\n"
     ]
    },
    {
     "data": {
      "application/javascript": [
       "\n",
       "        setTimeout(function() {\n",
       "            var nbb_cell_id = 10;\n",
       "            var nbb_formatted_code = \"for k, v in sorted_results.items():\\n    print(\\\"{:>9.4f} {:.3f}  {:.4f} | {}\\\".format(k, np.mean(v), np.std(v), len(v)))\";\n",
       "            var nbb_cells = Jupyter.notebook.get_cells();\n",
       "            for (var i = 0; i < nbb_cells.length; ++i) {\n",
       "                if (nbb_cells[i].input_prompt_number == nbb_cell_id) {\n",
       "                    nbb_cells[i].set_text(nbb_formatted_code);\n",
       "                    break;\n",
       "                }\n",
       "            }\n",
       "        }, 500);\n",
       "        "
      ],
      "text/plain": [
       "<IPython.core.display.Javascript object>"
      ]
     },
     "metadata": {},
     "output_type": "display_data"
    }
   ],
   "source": [
    "for k, v in sorted_results.items():\n",
    "    print(\"{:>9.4f} {:.3f}  {:.4f} | {}\".format(k, np.mean(v), np.std(v), len(v)))"
   ]
  },
  {
   "cell_type": "code",
   "execution_count": 11,
   "id": "c5159437",
   "metadata": {},
   "outputs": [
    {
     "data": {
      "application/javascript": [
       "\n",
       "        setTimeout(function() {\n",
       "            var nbb_cell_id = 11;\n",
       "            var nbb_formatted_code = \"F_obs = larry.tasks.fate_prediction.F_obs\";\n",
       "            var nbb_cells = Jupyter.notebook.get_cells();\n",
       "            for (var i = 0; i < nbb_cells.length; ++i) {\n",
       "                if (nbb_cells[i].input_prompt_number == nbb_cell_id) {\n",
       "                    nbb_cells[i].set_text(nbb_formatted_code);\n",
       "                    break;\n",
       "                }\n",
       "            }\n",
       "        }, 500);\n",
       "        "
      ],
      "text/plain": [
       "<IPython.core.display.Javascript object>"
      ]
     },
     "metadata": {},
     "output_type": "display_data"
    }
   ],
   "source": [
    "F_obs = larry.tasks.fate_prediction.F_obs"
   ]
  },
  {
   "cell_type": "code",
   "execution_count": 15,
   "id": "63a48990",
   "metadata": {},
   "outputs": [
    {
     "data": {
      "application/javascript": [
       "\n",
       "        setTimeout(function() {\n",
       "            var nbb_cell_id = 15;\n",
       "            var nbb_formatted_code = \"def _test_from_best_train(acc):\\n    best_train_epoch = acc.loc[\\\"unique_train.all_fates\\\"].idxmax()\\n    best_train = acc[best_train_epoch]\\n    return best_train_epoch, best_train[\\\"unique_test.all_fates\\\"]\\n\\n\\ndef _get_best_F_hat_path(version, best_epoch):\\n    \\\"\\\"\\\"use glob to filter and grab the right saved F_hat\\\"\\\"\\\"\\n    try:\\n        regex = f\\\"LightningSDE-FixedPotential-RegularizedVelocityRatio/version_{version}/fate_prediction_metrics/{best_epoch}*/F_hat.processed.csv\\\"\\n        return glob.glob(regex)[0]\\n    except:\\n        regex = f\\\"LightningSDE-FixedPotential-RegularizedVelocityRatio/version_{version}/fate_prediction_metrics/on_train_end*/F_hat.processed.csv\\\"\\n        print(regex)\\n        return glob.glob(regex)[0]\\n\\n\\ndef _convert_best_epoch_name(row):\\n    if row[\\\"best_epoch\\\"] == 2500:\\n        return \\\"last\\\"\\n    if row[\\\"best_epoch\\\"] == 2499:\\n        return \\\"on_train_end\\\"\\n    return f\\\"epoch_{row['best_epoch']}\\\"\\n\\n\\ndef get_best_results(RATIOS):\\n    BestResults = []\\n    for en, (version, results) in enumerate(RATIOS.items()):\\n        if not version in [\\\"version_46\\\", \\\"version_71\\\"]:\\n\\n            target_ratio, v, acc = results\\n            #             if target_ratio == 30:\\n            #                 print(acc)\\n            #                 print()\\n            #         if not str(target_ratio) in OrgResults.keys():\\n            #             BestResults[] = []\\n\\n            best_epoch, best_score = _test_from_best_train(acc)\\n            v_key = version.split(\\\"version_\\\")[-1]\\n            BestResults.append(\\n                {\\n                    \\\"target_ratio\\\": str(target_ratio),\\n                    \\\"best_epoch\\\": best_epoch,\\n                    \\\"best_score\\\": best_score,\\n                    \\\"version\\\": v_key,\\n                }\\n            )\\n\\n    return pd.DataFrame(BestResults)\";\n",
       "            var nbb_cells = Jupyter.notebook.get_cells();\n",
       "            for (var i = 0; i < nbb_cells.length; ++i) {\n",
       "                if (nbb_cells[i].input_prompt_number == nbb_cell_id) {\n",
       "                    nbb_cells[i].set_text(nbb_formatted_code);\n",
       "                    break;\n",
       "                }\n",
       "            }\n",
       "        }, 500);\n",
       "        "
      ],
      "text/plain": [
       "<IPython.core.display.Javascript object>"
      ]
     },
     "metadata": {},
     "output_type": "display_data"
    }
   ],
   "source": [
    "def _test_from_best_train(acc):\n",
    "    best_train_epoch = acc.loc[\"unique_train.all_fates\"].idxmax()\n",
    "    best_train = acc[best_train_epoch]\n",
    "    return best_train_epoch, best_train[\"unique_test.all_fates\"]\n",
    "\n",
    "\n",
    "def _get_best_F_hat_path(version, best_epoch):\n",
    "    \"\"\"use glob to filter and grab the right saved F_hat\"\"\"\n",
    "    try:\n",
    "        regex = f\"LightningSDE-FixedPotential-RegularizedVelocityRatio/version_{version}/fate_prediction_metrics/{best_epoch}*/F_hat.processed.csv\"\n",
    "        return glob.glob(regex)[0]\n",
    "    except:\n",
    "        regex = f\"LightningSDE-FixedPotential-RegularizedVelocityRatio/version_{version}/fate_prediction_metrics/on_train_end*/F_hat.processed.csv\"\n",
    "        print(regex)\n",
    "        return glob.glob(regex)[0]\n",
    "\n",
    "\n",
    "def _convert_best_epoch_name(row):\n",
    "    if row[\"best_epoch\"] == 2500:\n",
    "        return \"last\"\n",
    "    if row[\"best_epoch\"] == 2499:\n",
    "        return \"on_train_end\"\n",
    "    return f\"epoch_{row['best_epoch']}\"\n",
    "\n",
    "\n",
    "def get_best_results(RATIOS):\n",
    "    BestResults = []\n",
    "    for en, (version, results) in enumerate(RATIOS.items()):\n",
    "        if not version in [\"version_46\", \"version_71\"]:\n",
    "\n",
    "            target_ratio, v, acc = results\n",
    "            #             if target_ratio == 30:\n",
    "            #                 print(acc)\n",
    "            #                 print()\n",
    "            #         if not str(target_ratio) in OrgResults.keys():\n",
    "            #             BestResults[] = []\n",
    "\n",
    "            best_epoch, best_score = _test_from_best_train(acc)\n",
    "            v_key = version.split(\"version_\")[-1]\n",
    "            BestResults.append(\n",
    "                {\n",
    "                    \"target_ratio\": str(target_ratio),\n",
    "                    \"best_epoch\": best_epoch,\n",
    "                    \"best_score\": best_score,\n",
    "                    \"version\": v_key,\n",
    "                }\n",
    "            )\n",
    "\n",
    "    return pd.DataFrame(BestResults)"
   ]
  },
  {
   "cell_type": "code",
   "execution_count": 16,
   "id": "94341ba4",
   "metadata": {},
   "outputs": [
    {
     "data": {
      "text/html": [
       "<div>\n",
       "<style scoped>\n",
       "    .dataframe tbody tr th:only-of-type {\n",
       "        vertical-align: middle;\n",
       "    }\n",
       "\n",
       "    .dataframe tbody tr th {\n",
       "        vertical-align: top;\n",
       "    }\n",
       "\n",
       "    .dataframe thead th {\n",
       "        text-align: right;\n",
       "    }\n",
       "</style>\n",
       "<table border=\"1\" class=\"dataframe\">\n",
       "  <thead>\n",
       "    <tr style=\"text-align: right;\">\n",
       "      <th></th>\n",
       "      <th>target_ratio</th>\n",
       "      <th>best_epoch</th>\n",
       "      <th>best_score</th>\n",
       "      <th>version</th>\n",
       "    </tr>\n",
       "  </thead>\n",
       "  <tbody>\n",
       "    <tr>\n",
       "      <th>0</th>\n",
       "      <td>2.0</td>\n",
       "      <td>1891</td>\n",
       "      <td>0.508731</td>\n",
       "      <td>0</td>\n",
       "    </tr>\n",
       "    <tr>\n",
       "      <th>1</th>\n",
       "      <td>2.0</td>\n",
       "      <td>2500</td>\n",
       "      <td>0.485448</td>\n",
       "      <td>1</td>\n",
       "    </tr>\n",
       "    <tr>\n",
       "      <th>2</th>\n",
       "      <td>5.0</td>\n",
       "      <td>2285</td>\n",
       "      <td>0.522701</td>\n",
       "      <td>10</td>\n",
       "    </tr>\n",
       "    <tr>\n",
       "      <th>3</th>\n",
       "      <td>0.01</td>\n",
       "      <td>1674</td>\n",
       "      <td>0.472643</td>\n",
       "      <td>11</td>\n",
       "    </tr>\n",
       "    <tr>\n",
       "      <th>4</th>\n",
       "      <td>1.0</td>\n",
       "      <td>1294</td>\n",
       "      <td>0.552969</td>\n",
       "      <td>12</td>\n",
       "    </tr>\n",
       "    <tr>\n",
       "      <th>...</th>\n",
       "      <td>...</td>\n",
       "      <td>...</td>\n",
       "      <td>...</td>\n",
       "      <td>...</td>\n",
       "    </tr>\n",
       "    <tr>\n",
       "      <th>58</th>\n",
       "      <td>2.25</td>\n",
       "      <td>1603</td>\n",
       "      <td>0.516880</td>\n",
       "      <td>62</td>\n",
       "    </tr>\n",
       "    <tr>\n",
       "      <th>59</th>\n",
       "      <td>2.25</td>\n",
       "      <td>2285</td>\n",
       "      <td>0.477299</td>\n",
       "      <td>63</td>\n",
       "    </tr>\n",
       "    <tr>\n",
       "      <th>60</th>\n",
       "      <td>5.0</td>\n",
       "      <td>1330</td>\n",
       "      <td>0.514552</td>\n",
       "      <td>7</td>\n",
       "    </tr>\n",
       "    <tr>\n",
       "      <th>61</th>\n",
       "      <td>5.0</td>\n",
       "      <td>1119</td>\n",
       "      <td>0.555297</td>\n",
       "      <td>8</td>\n",
       "    </tr>\n",
       "    <tr>\n",
       "      <th>62</th>\n",
       "      <td>1.0</td>\n",
       "      <td>1287</td>\n",
       "      <td>0.534342</td>\n",
       "      <td>9</td>\n",
       "    </tr>\n",
       "  </tbody>\n",
       "</table>\n",
       "<p>63 rows × 4 columns</p>\n",
       "</div>"
      ],
      "text/plain": [
       "   target_ratio  best_epoch  best_score version\n",
       "0           2.0        1891    0.508731       0\n",
       "1           2.0        2500    0.485448       1\n",
       "2           5.0        2285    0.522701      10\n",
       "3          0.01        1674    0.472643      11\n",
       "4           1.0        1294    0.552969      12\n",
       "..          ...         ...         ...     ...\n",
       "58         2.25        1603    0.516880      62\n",
       "59         2.25        2285    0.477299      63\n",
       "60          5.0        1330    0.514552       7\n",
       "61          5.0        1119    0.555297       8\n",
       "62          1.0        1287    0.534342       9\n",
       "\n",
       "[63 rows x 4 columns]"
      ]
     },
     "execution_count": 16,
     "metadata": {},
     "output_type": "execute_result"
    },
    {
     "data": {
      "application/javascript": [
       "\n",
       "        setTimeout(function() {\n",
       "            var nbb_cell_id = 16;\n",
       "            var nbb_formatted_code = \"best_results = get_best_results(RATIOS)\\nbest_results\";\n",
       "            var nbb_cells = Jupyter.notebook.get_cells();\n",
       "            for (var i = 0; i < nbb_cells.length; ++i) {\n",
       "                if (nbb_cells[i].input_prompt_number == nbb_cell_id) {\n",
       "                    nbb_cells[i].set_text(nbb_formatted_code);\n",
       "                    break;\n",
       "                }\n",
       "            }\n",
       "        }, 500);\n",
       "        "
      ],
      "text/plain": [
       "<IPython.core.display.Javascript object>"
      ]
     },
     "metadata": {},
     "output_type": "display_data"
    }
   ],
   "source": [
    "best_results = get_best_results(RATIOS)\n",
    "best_results"
   ]
  },
  {
   "cell_type": "code",
   "execution_count": 17,
   "id": "69e754e6",
   "metadata": {},
   "outputs": [
    {
     "data": {
      "application/javascript": [
       "\n",
       "        setTimeout(function() {\n",
       "            var nbb_cell_id = 17;\n",
       "            var nbb_formatted_code = \"def get_grouped_F_hat_dfs(group_df):\\n    GroupF_hats = []\\n    for i, row in group_df.iterrows():\\n        #         print(row)\\n        F_hat_path = _get_best_F_hat_path(\\n            version=row[\\\"version\\\"], best_epoch=_convert_best_epoch_name(row)\\n        )\\n        F_hat = pd.read_csv(F_hat_path, index_col=0)\\n        GroupF_hats.append(F_hat)\\n    return GroupF_hats\";\n",
       "            var nbb_cells = Jupyter.notebook.get_cells();\n",
       "            for (var i = 0; i < nbb_cells.length; ++i) {\n",
       "                if (nbb_cells[i].input_prompt_number == nbb_cell_id) {\n",
       "                    nbb_cells[i].set_text(nbb_formatted_code);\n",
       "                    break;\n",
       "                }\n",
       "            }\n",
       "        }, 500);\n",
       "        "
      ],
      "text/plain": [
       "<IPython.core.display.Javascript object>"
      ]
     },
     "metadata": {},
     "output_type": "display_data"
    }
   ],
   "source": [
    "def get_grouped_F_hat_dfs(group_df):\n",
    "    GroupF_hats = []\n",
    "    for i, row in group_df.iterrows():\n",
    "        #         print(row)\n",
    "        F_hat_path = _get_best_F_hat_path(\n",
    "            version=row[\"version\"], best_epoch=_convert_best_epoch_name(row)\n",
    "        )\n",
    "        F_hat = pd.read_csv(F_hat_path, index_col=0)\n",
    "        GroupF_hats.append(F_hat)\n",
    "    return GroupF_hats"
   ]
  },
  {
   "cell_type": "code",
   "execution_count": 18,
   "id": "5efd319d",
   "metadata": {},
   "outputs": [
    {
     "name": "stdout",
     "output_type": "stream",
     "text": [
      "LightningSDE-FixedPotential-RegularizedVelocityRatio/version_50/fate_prediction_metrics/on_train_end*/F_hat.processed.csv\n"
     ]
    },
    {
     "data": {
      "application/javascript": [
       "\n",
       "        setTimeout(function() {\n",
       "            var nbb_cell_id = 18;\n",
       "            var nbb_formatted_code = \"best_F_hats = (\\n    best_results.groupby(\\\"target_ratio\\\").apply(get_grouped_F_hat_dfs).to_dict()\\n)\";\n",
       "            var nbb_cells = Jupyter.notebook.get_cells();\n",
       "            for (var i = 0; i < nbb_cells.length; ++i) {\n",
       "                if (nbb_cells[i].input_prompt_number == nbb_cell_id) {\n",
       "                    nbb_cells[i].set_text(nbb_formatted_code);\n",
       "                    break;\n",
       "                }\n",
       "            }\n",
       "        }, 500);\n",
       "        "
      ],
      "text/plain": [
       "<IPython.core.display.Javascript object>"
      ]
     },
     "metadata": {},
     "output_type": "display_data"
    }
   ],
   "source": [
    "best_F_hats = (\n",
    "    best_results.groupby(\"target_ratio\").apply(get_grouped_F_hat_dfs).to_dict()\n",
    ")"
   ]
  },
  {
   "cell_type": "code",
   "execution_count": 19,
   "id": "497fc7fb",
   "metadata": {},
   "outputs": [
    {
     "data": {
      "text/html": [
       "<div>\n",
       "<style scoped>\n",
       "    .dataframe tbody tr th:only-of-type {\n",
       "        vertical-align: middle;\n",
       "    }\n",
       "\n",
       "    .dataframe tbody tr th {\n",
       "        vertical-align: top;\n",
       "    }\n",
       "\n",
       "    .dataframe thead th {\n",
       "        text-align: right;\n",
       "    }\n",
       "</style>\n",
       "<table border=\"1\" class=\"dataframe\">\n",
       "  <thead>\n",
       "    <tr style=\"text-align: right;\">\n",
       "      <th></th>\n",
       "      <th>vR</th>\n",
       "      <th>mean</th>\n",
       "      <th>std</th>\n",
       "    </tr>\n",
       "  </thead>\n",
       "  <tbody>\n",
       "    <tr>\n",
       "      <th>0</th>\n",
       "      <td>0.001</td>\n",
       "      <td>0.738279</td>\n",
       "      <td>0.361552</td>\n",
       "    </tr>\n",
       "    <tr>\n",
       "      <th>1</th>\n",
       "      <td>0.010</td>\n",
       "      <td>0.762121</td>\n",
       "      <td>0.391919</td>\n",
       "    </tr>\n",
       "    <tr>\n",
       "      <th>2</th>\n",
       "      <td>0.500</td>\n",
       "      <td>0.549093</td>\n",
       "      <td>0.370522</td>\n",
       "    </tr>\n",
       "    <tr>\n",
       "      <th>3</th>\n",
       "      <td>1.000</td>\n",
       "      <td>0.503532</td>\n",
       "      <td>0.374606</td>\n",
       "    </tr>\n",
       "    <tr>\n",
       "      <th>4</th>\n",
       "      <td>1.500</td>\n",
       "      <td>0.486654</td>\n",
       "      <td>0.380101</td>\n",
       "    </tr>\n",
       "    <tr>\n",
       "      <th>5</th>\n",
       "      <td>2.000</td>\n",
       "      <td>0.582116</td>\n",
       "      <td>0.397537</td>\n",
       "    </tr>\n",
       "    <tr>\n",
       "      <th>6</th>\n",
       "      <td>2.250</td>\n",
       "      <td>0.431386</td>\n",
       "      <td>0.363275</td>\n",
       "    </tr>\n",
       "    <tr>\n",
       "      <th>7</th>\n",
       "      <td>2.500</td>\n",
       "      <td>0.354065</td>\n",
       "      <td>0.373081</td>\n",
       "    </tr>\n",
       "    <tr>\n",
       "      <th>8</th>\n",
       "      <td>3.000</td>\n",
       "      <td>0.368025</td>\n",
       "      <td>0.403702</td>\n",
       "    </tr>\n",
       "    <tr>\n",
       "      <th>9</th>\n",
       "      <td>5.000</td>\n",
       "      <td>0.340746</td>\n",
       "      <td>0.377944</td>\n",
       "    </tr>\n",
       "    <tr>\n",
       "      <th>10</th>\n",
       "      <td>10.000</td>\n",
       "      <td>0.215317</td>\n",
       "      <td>0.313107</td>\n",
       "    </tr>\n",
       "    <tr>\n",
       "      <th>11</th>\n",
       "      <td>20.000</td>\n",
       "      <td>0.026230</td>\n",
       "      <td>0.117157</td>\n",
       "    </tr>\n",
       "    <tr>\n",
       "      <th>12</th>\n",
       "      <td>30.000</td>\n",
       "      <td>0.000000</td>\n",
       "      <td>0.000000</td>\n",
       "    </tr>\n",
       "  </tbody>\n",
       "</table>\n",
       "</div>"
      ],
      "text/plain": [
       "        vR      mean       std\n",
       "0    0.001  0.738279  0.361552\n",
       "1    0.010  0.762121  0.391919\n",
       "2    0.500  0.549093  0.370522\n",
       "3    1.000  0.503532  0.374606\n",
       "4    1.500  0.486654  0.380101\n",
       "5    2.000  0.582116  0.397537\n",
       "6    2.250  0.431386  0.363275\n",
       "7    2.500  0.354065  0.373081\n",
       "8    3.000  0.368025  0.403702\n",
       "9    5.000  0.340746  0.377944\n",
       "10  10.000  0.215317  0.313107\n",
       "11  20.000  0.026230  0.117157\n",
       "12  30.000  0.000000  0.000000"
      ]
     },
     "execution_count": 19,
     "metadata": {},
     "output_type": "execute_result"
    },
    {
     "data": {
      "application/javascript": [
       "\n",
       "        setTimeout(function() {\n",
       "            var nbb_cell_id = 19;\n",
       "            var nbb_formatted_code = \"Entropy = {}\\nfor key, val in best_F_hats.items():\\n    Entropy[key] = [scipy.stats.entropy(F_hat, axis=1) for F_hat in val]\\n\\nMeanStdEntropy = {}\\nfor en, (k, v) in enumerate(Entropy.items()):\\n    y = np.array(v).flatten()\\n    y = y[np.isfinite(y)]\\n    MeanStdEntropy[en] = {\\\"vR\\\": float(k), \\\"mean\\\": y.mean(), \\\"std\\\": y.std()}\\nentropy = pd.DataFrame(MeanStdEntropy).T\\nentropy = entropy.sort_values(\\\"vR\\\").reset_index(drop=True)\\nentropy\";\n",
       "            var nbb_cells = Jupyter.notebook.get_cells();\n",
       "            for (var i = 0; i < nbb_cells.length; ++i) {\n",
       "                if (nbb_cells[i].input_prompt_number == nbb_cell_id) {\n",
       "                    nbb_cells[i].set_text(nbb_formatted_code);\n",
       "                    break;\n",
       "                }\n",
       "            }\n",
       "        }, 500);\n",
       "        "
      ],
      "text/plain": [
       "<IPython.core.display.Javascript object>"
      ]
     },
     "metadata": {},
     "output_type": "display_data"
    }
   ],
   "source": [
    "Entropy = {}\n",
    "for key, val in best_F_hats.items():\n",
    "    Entropy[key] = [scipy.stats.entropy(F_hat, axis=1) for F_hat in val]\n",
    "\n",
    "MeanStdEntropy = {}\n",
    "for en, (k, v) in enumerate(Entropy.items()):\n",
    "    y = np.array(v).flatten()\n",
    "    y = y[np.isfinite(y)]\n",
    "    MeanStdEntropy[en] = {\"vR\": float(k), \"mean\": y.mean(), \"std\": y.std()}\n",
    "entropy = pd.DataFrame(MeanStdEntropy).T\n",
    "entropy = entropy.sort_values(\"vR\").reset_index(drop=True)\n",
    "entropy"
   ]
  },
  {
   "cell_type": "code",
   "execution_count": 21,
   "id": "7ae6bcec",
   "metadata": {},
   "outputs": [
    {
     "data": {
      "application/javascript": [
       "\n",
       "        setTimeout(function() {\n",
       "            var nbb_cell_id = 21;\n",
       "            var nbb_formatted_code = \"mean_obs_entropy = scipy.stats.entropy(F_obs, axis=1).mean()\";\n",
       "            var nbb_cells = Jupyter.notebook.get_cells();\n",
       "            for (var i = 0; i < nbb_cells.length; ++i) {\n",
       "                if (nbb_cells[i].input_prompt_number == nbb_cell_id) {\n",
       "                    nbb_cells[i].set_text(nbb_formatted_code);\n",
       "                    break;\n",
       "                }\n",
       "            }\n",
       "        }, 500);\n",
       "        "
      ],
      "text/plain": [
       "<IPython.core.display.Javascript object>"
      ]
     },
     "metadata": {},
     "output_type": "display_data"
    }
   ],
   "source": [
    "mean_obs_entropy = scipy.stats.entropy(F_obs, axis=1).mean()"
   ]
  },
  {
   "cell_type": "code",
   "execution_count": 23,
   "id": "ac12798b",
   "metadata": {},
   "outputs": [
    {
     "data": {
      "image/png": "[encoded data removed]",
      "text/plain": [
       "<Figure size 448x192 with 1 Axes>"
      ]
     },
     "metadata": {},
     "output_type": "display_data"
    },
    {
     "data": {
      "application/javascript": [
       "\n",
       "        setTimeout(function() {\n",
       "            var nbb_cell_id = 23;\n",
       "            var nbb_formatted_code = \"fig, axes = cp.plot(\\n    height=0.4,\\n    width=0.7,\\n    title=[\\\"Entropy as a function of vR\\\"],\\n    x_label=[\\\"Velocity Ratio\\\"],\\n    y_label=[\\\"Mean Entropy\\\"],\\n)\\naxes[0].set_xscale(\\\"log\\\")\\n[x.set_linewidth(0.5) for x in axes[0].spines.values()]\\naxes[0].xaxis.set_tick_params(width=0.5)\\naxes[0].yaxis.set_tick_params(width=0.5)\\n# axes[0].plot(mean_std_entropy[\\\"R\\\"], mean_std_entropy[\\\"mean\\\"], color=\\\"k\\\", lw = 0.5)\\naxes[0].scatter(entropy[\\\"vR\\\"], entropy[\\\"mean\\\"], s=20, c=\\\"k\\\", ec=\\\"None\\\")\\naxes[0].errorbar(\\n    entropy[\\\"vR\\\"],\\n    entropy[\\\"mean\\\"],\\n    lw=0.5,\\n    yerr=entropy[\\\"std\\\"],\\n    capsize=3,\\n    capthick=0.5,\\n    elinewidth=0.5,\\n    color=\\\"k\\\",\\n)\\nplt.xlim(0.0005, 50)\\naxes[0].hlines(\\n    y=mean_obs_entropy, xmin=0.0005, xmax=50, color=\\\"dodgerblue\\\", ls=\\\"--\\\", lw=0.5\\n)\\nplt.savefig(\\\"entropy_function_of_velo_ratio.fig_s7.svg\\\")\";\n",
       "            var nbb_cells = Jupyter.notebook.get_cells();\n",
       "            for (var i = 0; i < nbb_cells.length; ++i) {\n",
       "                if (nbb_cells[i].input_prompt_number == nbb_cell_id) {\n",
       "                    nbb_cells[i].set_text(nbb_formatted_code);\n",
       "                    break;\n",
       "                }\n",
       "            }\n",
       "        }, 500);\n",
       "        "
      ],
      "text/plain": [
       "<IPython.core.display.Javascript object>"
      ]
     },
     "metadata": {},
     "output_type": "display_data"
    }
   ],
   "source": [
    "fig, axes = cp.plot(\n",
    "    height=0.4,\n",
    "    width=0.7,\n",
    "    title=[\"Entropy as a function of vR\"],\n",
    "    x_label=[\"Velocity Ratio\"],\n",
    "    y_label=[\"Mean Entropy\"],\n",
    ")\n",
    "axes[0].set_xscale(\"log\")\n",
    "[x.set_linewidth(0.5) for x in axes[0].spines.values()]\n",
    "axes[0].xaxis.set_tick_params(width=0.5)\n",
    "axes[0].yaxis.set_tick_params(width=0.5)\n",
    "# axes[0].plot(mean_std_entropy[\"R\"], mean_std_entropy[\"mean\"], color=\"k\", lw = 0.5)\n",
    "axes[0].scatter(entropy[\"vR\"], entropy[\"mean\"], s=20, c=\"k\", ec=\"None\")\n",
    "axes[0].errorbar(\n",
    "    entropy[\"vR\"],\n",
    "    entropy[\"mean\"],\n",
    "    lw=0.5,\n",
    "    yerr=entropy[\"std\"],\n",
    "    capsize=3,\n",
    "    capthick=0.5,\n",
    "    elinewidth=0.5,\n",
    "    color=\"k\",\n",
    ")\n",
    "plt.xlim(0.0005, 50)\n",
    "axes[0].hlines(\n",
    "    y=mean_obs_entropy, xmin=0.0005, xmax=50, color=\"dodgerblue\", ls=\"--\", lw=0.5\n",
    ")\n",
    "plt.savefig(\"entropy_function_of_velo_ratio.fig_s7.svg\")"
   ]
  }
 ],
 "metadata": {
  "kernelspec": {
   "display_name": "sdq-dev",
   "language": "python",
   "name": "sdq-dev"
  },
  "language_info": {
   "codemirror_mode": {
    "name": "ipython",
    "version": 3
   },
   "file_extension": ".py",
   "mimetype": "text/x-python",
   "name": "python",
   "nbconvert_exporter": "python",
   "pygments_lexer": "ipython3",
   "version": "3.9.18"
  }
 },
 "nbformat": 4,
 "nbformat_minor": 5
}
