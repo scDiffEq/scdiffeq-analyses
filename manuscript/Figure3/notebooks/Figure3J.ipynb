{
 "cells": [
  {
   "cell_type": "markdown",
   "id": "69287d45",
   "metadata": {},
   "source": [
    "# Perturb a single gene"
   ]
  },
  {
   "cell_type": "markdown",
   "id": "832b1b45-b19c-476b-abee-b0d4c09bc1a5",
   "metadata": {},
   "source": [
    "## Import libraries"
   ]
  },
  {
   "cell_type": "code",
   "execution_count": 1,
   "id": "43f58835-3723-4cd3-b302-0e74e1275a20",
   "metadata": {},
   "outputs": [],
   "source": [
    "import cellplots as cp\n",
    "import larry\n",
    "import matplotlib.pyplot as plt\n",
    "import numpy as np\n",
    "import pandas as pd\n",
    "import scdiffeq as sdq\n",
    "import scdiffeq_analyses as sdq_an\n",
    "import scipy.stats\n",
    "import torch"
   ]
  },
  {
   "cell_type": "markdown",
   "id": "5f9bff85-6f4e-4857-892f-962b5ee6b361",
   "metadata": {},
   "source": [
    "## Get best ckpts"
   ]
  },
  {
   "cell_type": "code",
   "execution_count": 2,
   "id": "fc557006-0ba8-4eca-958e-0183558928a7",
   "metadata": {},
   "outputs": [
    {
     "data": {
      "text/html": [
       "<div>\n",
       "<style scoped>\n",
       "    .dataframe tbody tr th:only-of-type {\n",
       "        vertical-align: middle;\n",
       "    }\n",
       "\n",
       "    .dataframe tbody tr th {\n",
       "        vertical-align: top;\n",
       "    }\n",
       "\n",
       "    .dataframe thead th {\n",
       "        text-align: right;\n",
       "    }\n",
       "</style>\n",
       "<table border=\"1\" class=\"dataframe\">\n",
       "  <thead>\n",
       "    <tr style=\"text-align: right;\">\n",
       "      <th></th>\n",
       "      <th>train</th>\n",
       "      <th>test</th>\n",
       "      <th>ckpt_path</th>\n",
       "      <th>epoch</th>\n",
       "    </tr>\n",
       "  </thead>\n",
       "  <tbody>\n",
       "    <tr>\n",
       "      <th>version_0</th>\n",
       "      <td>0.571656</td>\n",
       "      <td>0.551804</td>\n",
       "      <td>LightningSDE-FixedPotential-RegularizedVelocit...</td>\n",
       "      <td>2500</td>\n",
       "    </tr>\n",
       "    <tr>\n",
       "      <th>version_1</th>\n",
       "      <td>0.541401</td>\n",
       "      <td>0.465658</td>\n",
       "      <td>LightningSDE-FixedPotential-RegularizedVelocit...</td>\n",
       "      <td>1706</td>\n",
       "    </tr>\n",
       "    <tr>\n",
       "      <th>version_2</th>\n",
       "      <td>0.547771</td>\n",
       "      <td>0.499418</td>\n",
       "      <td>LightningSDE-FixedPotential-RegularizedVelocit...</td>\n",
       "      <td>1238</td>\n",
       "    </tr>\n",
       "    <tr>\n",
       "      <th>version_3</th>\n",
       "      <td>0.496815</td>\n",
       "      <td>0.504075</td>\n",
       "      <td>LightningSDE-FixedPotential-RegularizedVelocit...</td>\n",
       "      <td>1245</td>\n",
       "    </tr>\n",
       "    <tr>\n",
       "      <th>version_4</th>\n",
       "      <td>0.562102</td>\n",
       "      <td>0.522701</td>\n",
       "      <td>LightningSDE-FixedPotential-RegularizedVelocit...</td>\n",
       "      <td>1662</td>\n",
       "    </tr>\n",
       "  </tbody>\n",
       "</table>\n",
       "</div>"
      ],
      "text/plain": [
       "              train      test  \\\n",
       "version_0  0.571656  0.551804   \n",
       "version_1  0.541401  0.465658   \n",
       "version_2  0.547771  0.499418   \n",
       "version_3  0.496815  0.504075   \n",
       "version_4  0.562102  0.522701   \n",
       "\n",
       "                                                   ckpt_path epoch  \n",
       "version_0  LightningSDE-FixedPotential-RegularizedVelocit...  2500  \n",
       "version_1  LightningSDE-FixedPotential-RegularizedVelocit...  1706  \n",
       "version_2  LightningSDE-FixedPotential-RegularizedVelocit...  1238  \n",
       "version_3  LightningSDE-FixedPotential-RegularizedVelocit...  1245  \n",
       "version_4  LightningSDE-FixedPotential-RegularizedVelocit...  1662  "
      ]
     },
     "execution_count": 2,
     "metadata": {},
     "output_type": "execute_result"
    }
   ],
   "source": [
    "project_path = \"./LightningSDE-FixedPotential-RegularizedVelocityRatio/\"\n",
    "project = sdq.io.Project(path = project_path)\n",
    "best_ckpts = sdq_an.parsers.summarize_best_checkpoints(project)\n",
    "best_ckpts"
   ]
  },
  {
   "cell_type": "markdown",
   "id": "a05d0bef-e1c5-4782-8234-6b889f855855",
   "metadata": {},
   "source": [
    "## Get data, PCA model"
   ]
  },
  {
   "cell_type": "code",
   "execution_count": 3,
   "id": "9faf6368-3fe4-4d52-b0d1-a730ab6368a0",
   "metadata": {},
   "outputs": [
    {
     "name": "stdout",
     "output_type": "stream",
     "text": [
      "AnnData object with n_obs × n_vars = 130887 × 2492\n",
      "    obs: 'Library', 'Cell barcode', 'Time point', 'Starting population', 'Cell type annotation', 'Well', 'SPRING-x', 'SPRING-y', 'clone_idx', 'fate_observed', 't0_fated', 'train'\n",
      "    var: 'gene_ids', 'hv_gene', 'must_include', 'exclude', 'use_genes'\n",
      "    uns: 'fate_counts', 'h5ad_path', 'time_occupance'\n",
      "    obsm: 'X_clone', 'X_pca', 'X_umap', 'cell_fate_df'\n",
      "    layers: 'X_scaled'\n"
     ]
    }
   ],
   "source": [
    "h5ad_path = \"./adata.reprocessed_19OCT2023.more_feature_inclusive.h5ad\"\n",
    "\n",
    "adata = sdq.io.read_h5ad(h5ad_path)"
   ]
  },
  {
   "cell_type": "code",
   "execution_count": 4,
   "id": "088b56c8-81fc-4c93-b705-1d646b4ab25a",
   "metadata": {},
   "outputs": [
    {
     "name": "stderr",
     "output_type": "stream",
     "text": [
      "/Users/mvinyard/.anaconda3/envs/scdiffeq/lib/python3.9/site-packages/sklearn/base.py:318: UserWarning: Trying to unpickle estimator PCA from version 1.0.2 when using version 1.2.2. This might lead to breaking code or invalid results. Use at your own risk. For more info please refer to:\n",
      "https://scikit-learn.org/stable/model_persistence.html#security-maintainability-limitations\n",
      "  warnings.warn(\n"
     ]
    }
   ],
   "source": [
    "PCA = sdq.io.read_pickle(path = \"./pca_model.pkl\")"
   ]
  },
  {
   "cell_type": "markdown",
   "id": "27cb864f-4658-4566-be54-548afac309c2",
   "metadata": {},
   "source": [
    "### Run perturbation scan using the five best model checkpoints"
   ]
  },
  {
   "cell_type": "code",
   "execution_count": 5,
   "id": "8ce0cfcd-82af-4bda-bde7-4dbacc981043",
   "metadata": {},
   "outputs": [
    {
     "name": "stdout",
     "output_type": "stream",
     "text": [
      " - [\u001b[94mINFO\u001b[0m] | Input data configured.\n",
      " - [\u001b[94mINFO\u001b[0m] | Bulding Annoy kNN Graph on adata.obsm['train']\n"
     ]
    },
    {
     "name": "stderr",
     "output_type": "stream",
     "text": [
      "Seed set to 0\n"
     ]
    },
    {
     "name": "stdout",
     "output_type": "stream",
     "text": [
      " - [\u001b[94mINFO\u001b[0m] | Using the specified parameters, LightningSDE-FixedPotential-RegularizedVelocityRatio has been called.\n",
      " - [\u001b[94mINFO\u001b[0m] | Input data configured.\n",
      " - [\u001b[94mINFO\u001b[0m] | Bulding Annoy kNN Graph on adata.obsm['train']\n"
     ]
    },
    {
     "name": "stderr",
     "output_type": "stream",
     "text": [
      "Seed set to 0\n"
     ]
    },
    {
     "name": "stdout",
     "output_type": "stream",
     "text": [
      " - [\u001b[94mINFO\u001b[0m] | Using the specified parameters, LightningSDE-FixedPotential-RegularizedVelocityRatio has been called.\n",
      " - [\u001b[94mINFO\u001b[0m] | Input data configured.\n",
      " - [\u001b[94mINFO\u001b[0m] | Bulding Annoy kNN Graph on adata.obsm['train']\n"
     ]
    },
    {
     "name": "stderr",
     "output_type": "stream",
     "text": [
      "Seed set to 0\n"
     ]
    },
    {
     "name": "stdout",
     "output_type": "stream",
     "text": [
      " - [\u001b[94mINFO\u001b[0m] | Using the specified parameters, LightningSDE-FixedPotential-RegularizedVelocityRatio has been called.\n",
      " - [\u001b[94mINFO\u001b[0m] | Input data configured.\n",
      " - [\u001b[94mINFO\u001b[0m] | Bulding Annoy kNN Graph on adata.obsm['train']\n"
     ]
    },
    {
     "name": "stderr",
     "output_type": "stream",
     "text": [
      "Seed set to 0\n"
     ]
    },
    {
     "name": "stdout",
     "output_type": "stream",
     "text": [
      " - [\u001b[94mINFO\u001b[0m] | Using the specified parameters, LightningSDE-FixedPotential-RegularizedVelocityRatio has been called.\n",
      " - [\u001b[94mINFO\u001b[0m] | Input data configured.\n",
      " - [\u001b[94mINFO\u001b[0m] | Bulding Annoy kNN Graph on adata.obsm['train']\n"
     ]
    },
    {
     "name": "stderr",
     "output_type": "stream",
     "text": [
      "Seed set to 0\n"
     ]
    },
    {
     "name": "stdout",
     "output_type": "stream",
     "text": [
      " - [\u001b[94mINFO\u001b[0m] | Using the specified parameters, LightningSDE-FixedPotential-RegularizedVelocityRatio has been called.\n"
     ]
    }
   ],
   "source": [
    "Perturbed = {}\n",
    "for version, row in best_ckpts.iterrows():\n",
    "    model = sdq.io.load_model(adata=adata, ckpt_path = row['ckpt_path'])\n",
    "    result = sdq.tl.perturb_scan_z_range(\n",
    "        adata = adata,\n",
    "        model = model,\n",
    "        seed = 0,\n",
    "        N = 2000,\n",
    "        t_sim = torch.linspace(2, 6, 41),\n",
    "        obs_key = \"Cell type annotation\",\n",
    "        subset_key = \"Cell type annotation\",\n",
    "        subset_val = \"Undifferentiated\",\n",
    "        gene_id_key = \"gene_ids\",\n",
    "        genes = ['Spi1'],\n",
    "        PCA = PCA,\n",
    "        z_range = np.linspace(-10, 10, 9)\n",
    "    )\n",
    "    Perturbed[version] = result"
   ]
  },
  {
   "cell_type": "code",
   "execution_count": 6,
   "id": "de4da040-2acf-402b-90b9-a77e91d61dbd",
   "metadata": {},
   "outputs": [],
   "source": [
    "sdq.io.write_pickle(obj = Perturbed, path = \"Spi1.perturb.z_scan.pkl\")"
   ]
  },
  {
   "cell_type": "markdown",
   "id": "ba280e85-73eb-41e4-870f-10bda769cf21",
   "metadata": {},
   "source": [
    "---"
   ]
  },
  {
   "cell_type": "code",
   "execution_count": 2,
   "id": "487abc5c-7e15-4ee9-bb79-04bb888de42b",
   "metadata": {},
   "outputs": [],
   "source": [
    "Perturbed = sdq.io.read_pickle(\"./Spi1.perturb.z_scan.pkl\")"
   ]
  },
  {
   "cell_type": "code",
   "execution_count": 3,
   "id": "f6877f22-f34f-4c2e-ab5a-832041ffee95",
   "metadata": {},
   "outputs": [],
   "source": [
    "fates = ['Neutrophil', 'Monocyte', 'Baso']\n",
    "PlotVals = {}\n",
    "for version, result in Perturbed.items():\n",
    "    PlotVals[version] = {}\n",
    "    for fate in fates:\n",
    "        fate_df = pd.DataFrame({z: result.stats.T[fate] for z, result in result.items()}).T\n",
    "        PlotVals[version][fate] = list(fate_df['lfc'].values)\n",
    "\n",
    "\n",
    "PlotValsReshaped = {}\n",
    "for fate in fates:\n",
    "    PlotValsReshaped[fate] = {i*4: list(row.values) for i, row in pd.DataFrame({k: v[fate] for k, v in PlotVals.items()}).iterrows()}"
   ]
  },
  {
   "cell_type": "code",
   "execution_count": 7,
   "id": "1878a290-1490-417b-98df-bb5ca4f168df",
   "metadata": {},
   "outputs": [
    {
     "data": {
      "image/png": "[encoded data removed]",
      "text/plain": [
       "<Figure size 960x480 with 1 Axes>"
      ]
     },
     "metadata": {},
     "output_type": "display_data"
    }
   ],
   "source": [
    "fig, axes = cp.plot(\n",
    "    1, 1, height = 1, width = 1.5, x_label=[\"Z\"], y_label=[\"Log2FC[Fate]\"], title = ['Spi1 perturbation'],\n",
    ")\n",
    "axes[0].set_xlim(-1, 35)\n",
    "axes[0].set_ylim(-0.4, 0.3)\n",
    "larry_cmap = larry.pl.InVitroColorMap()._dict\n",
    "x_offsets = [-1.2, 0, 1.2]\n",
    "for en, fate in enumerate(fates):\n",
    "    bpl = cp.core.box_plot(\n",
    "        data = PlotValsReshaped[fate],\n",
    "        ax = axes[0],\n",
    "        colors=[larry_cmap[fate]]*len(PlotValsReshaped[fate]),\n",
    "        x_offset=x_offsets[en],\n",
    "        box_widths=1.1,\n",
    "    )\n",
    "xt = axes[0].set_xticks(np.arange(1, 37, 4), [str(i) for i in np.linspace(-10, 10, 9)])\n",
    "plt.savefig(\"LARRY.Spi1_perturbation.z_scan.svg\")"
   ]
  },
  {
   "cell_type": "markdown",
   "id": "8adc7091-6e2f-476d-a10c-6991a7bfefed",
   "metadata": {},
   "source": [
    "## Compute correlations\n",
    "\n",
    "Annotate the **Figure 3J** with the results"
   ]
  },
  {
   "cell_type": "code",
   "execution_count": 5,
   "id": "03ba9dfb-fd1e-4590-a3ab-99757fb38031",
   "metadata": {},
   "outputs": [],
   "source": [
    "x, y = {}, {}\n",
    "for version, results in PlotVals.items():\n",
    "    for fate, vals in results.items():\n",
    "        if not fate in x:\n",
    "            x[fate] = []\n",
    "        if not fate in y:\n",
    "            y[fate] = []\n",
    "        _ = [x[fate].append(xi) for xi in np.linspace(-10, 10, 9).tolist()]\n",
    "        _ = [y[fate].append(yi) for yi in vals]"
   ]
  },
  {
   "cell_type": "code",
   "execution_count": 6,
   "id": "e6588c28-73bd-4486-ba69-62bf1ad3ae88",
   "metadata": {},
   "outputs": [
    {
     "name": "stdout",
     "output_type": "stream",
     "text": [
      "Neutrophil | corr: 0.684  [pval: 2.280e-07]\n",
      "Monocyte   | corr: 0.883  [pval: 1.034e-15]\n",
      "Baso       | corr: -0.906 [pval: 1.182e-17]\n"
     ]
    }
   ],
   "source": [
    "for fate in fates:\n",
    "    corr, pval = scipy.stats.pearsonr(x[fate], y[fate])\n",
    "    print(\"{:<10} | corr: {:<6} [pval: {:.3e}]\".format(fate, round(corr, 3), pval))"
   ]
  }
 ],
 "metadata": {
  "kernelspec": {
   "display_name": "Python (scdiffeq)",
   "language": "python",
   "name": "scdiffeq"
  },
  "language_info": {
   "codemirror_mode": {
    "name": "ipython",
    "version": 3
   },
   "file_extension": ".py",
   "mimetype": "text/x-python",
   "name": "python",
   "nbconvert_exporter": "python",
   "pygments_lexer": "ipython3",
   "version": "3.9.19"
  }
 },
 "nbformat": 4,
 "nbformat_minor": 5
}
