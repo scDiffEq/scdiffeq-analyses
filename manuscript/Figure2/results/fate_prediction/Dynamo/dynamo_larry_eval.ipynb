{
 "cells": [
  {
   "cell_type": "code",
   "execution_count": 1,
   "id": "3ff3049a",
   "metadata": {
    "scrolled": true
   },
   "outputs": [
    {
     "name": "stderr",
     "output_type": "stream",
     "text": [
      "/home/mvinyard/anaconda3/envs/dynamo/lib/python3.9/site-packages/umap/distances.py:1063: NumbaDeprecationWarning: \u001b[1mThe 'nopython' keyword argument was not supplied to the 'numba.jit' decorator. The implicit default value for this argument is currently False, but it will be changed to True in Numba 0.59.0. See https://numba.readthedocs.io/en/stable/reference/deprecation.html#deprecation-of-object-mode-fall-back-behaviour-when-using-jit for details.\u001b[0m\n",
      "  @numba.jit()\n",
      "/home/mvinyard/anaconda3/envs/dynamo/lib/python3.9/site-packages/umap/distances.py:1071: NumbaDeprecationWarning: \u001b[1mThe 'nopython' keyword argument was not supplied to the 'numba.jit' decorator. The implicit default value for this argument is currently False, but it will be changed to True in Numba 0.59.0. See https://numba.readthedocs.io/en/stable/reference/deprecation.html#deprecation-of-object-mode-fall-back-behaviour-when-using-jit for details.\u001b[0m\n",
      "  @numba.jit()\n",
      "/home/mvinyard/anaconda3/envs/dynamo/lib/python3.9/site-packages/umap/distances.py:1086: NumbaDeprecationWarning: \u001b[1mThe 'nopython' keyword argument was not supplied to the 'numba.jit' decorator. The implicit default value for this argument is currently False, but it will be changed to True in Numba 0.59.0. See https://numba.readthedocs.io/en/stable/reference/deprecation.html#deprecation-of-object-mode-fall-back-behaviour-when-using-jit for details.\u001b[0m\n",
      "  @numba.jit()\n",
      "/home/mvinyard/anaconda3/envs/dynamo/lib/python3.9/site-packages/umap/umap_.py:660: NumbaDeprecationWarning: \u001b[1mThe 'nopython' keyword argument was not supplied to the 'numba.jit' decorator. The implicit default value for this argument is currently False, but it will be changed to True in Numba 0.59.0. See https://numba.readthedocs.io/en/stable/reference/deprecation.html#deprecation-of-object-mode-fall-back-behaviour-when-using-jit for details.\u001b[0m\n",
      "  @numba.jit()\n"
     ]
    }
   ],
   "source": [
    "import scanpy as sc\n",
    "import pandas as pd\n",
    "import numpy as np\n",
    "import anndata\n",
    "import dynamo\n",
    "\n",
    "# function from pyrovelocity\n",
    "def load_larry(\n",
    "    file_path: str = \"data/external/larry.h5ad\",\n",
    ") -> anndata.AnnData:\n",
    "    \"\"\"In vitro Hemotopoiesis Larry datasets\n",
    "\n",
    "    Data from `CALEB WEINREB et al. (2020) <DOI: 10.1126/science.aaw3381>'\n",
    "    https://figshare.com/ndownloader/articles/20780344/versions/1\n",
    "\n",
    "    Returns\n",
    "    -------\n",
    "    Returns `adata` object\n",
    "    \"\"\"\n",
    "    url = \"https://figshare.com/ndownloader/files/37028569\"\n",
    "    adata = sc.read(file_path, backup_url=url, sparse=True, cache=True)\n",
    "    return adata\n",
    "\n",
    "\n",
    "seed = 0\n",
    "np.random.seed(seed)"
   ]
  },
  {
   "cell_type": "code",
   "execution_count": 2,
   "id": "afebf2f2",
   "metadata": {},
   "outputs": [
    {
     "data": {
      "text/plain": [
       "AnnData object with n_obs × n_vars = 49302 × 23420\n",
       "    obs: 'Library', 'Cell barcode', 'time_info', 'Starting population', 'state_info', 'Well', 'SPRING-x', 'SPRING-y'\n",
       "    var: 'Accession', 'Chromosome', 'End', 'Start', 'Strand'\n",
       "    uns: 'data_des'\n",
       "    obsm: 'X_clone', 'X_emb'\n",
       "    layers: 'ambiguous', 'matrix', 'spliced', 'unspliced'"
      ]
     },
     "execution_count": 2,
     "metadata": {},
     "output_type": "execute_result"
    }
   ],
   "source": [
    "adata = load_larry()\n",
    "adata"
   ]
  },
  {
   "cell_type": "markdown",
   "id": "18cd6f75",
   "metadata": {},
   "source": [
    "### Subset adata for training"
   ]
  },
  {
   "cell_type": "code",
   "execution_count": 3,
   "id": "dc28df53",
   "metadata": {},
   "outputs": [],
   "source": [
    "adata_train = adata[adata.obs['Well'].isin([0, 1])].copy()"
   ]
  },
  {
   "cell_type": "code",
   "execution_count": 4,
   "id": "bbe920a9",
   "metadata": {},
   "outputs": [
    {
     "name": "stdout",
     "output_type": "stream",
     "text": [
      "|-----? dynamo.preprocessing.deprecated is deprecated.\n",
      "|-----> recipe_monocle_keep_filtered_cells_key is None. Using default value from DynamoAdataConfig: recipe_monocle_keep_filtered_cells_key=True\n",
      "|-----> recipe_monocle_keep_filtered_genes_key is None. Using default value from DynamoAdataConfig: recipe_monocle_keep_filtered_genes_key=True\n",
      "|-----> recipe_monocle_keep_raw_layers_key is None. Using default value from DynamoAdataConfig: recipe_monocle_keep_raw_layers_key=True\n",
      "|-----> apply Monocole recipe to adata...\n"
     ]
    },
    {
     "name": "stderr",
     "output_type": "stream",
     "text": [
      "/tmp/ipykernel_2092/1350339928.py:1: DeprecationWarning: recipe_monocle is deprecated and will be removed in a future release. Please update your code to use the new replacement function.\n",
      "  dynamo.pp.recipe_monocle(adata_train)\n"
     ]
    },
    {
     "name": "stdout",
     "output_type": "stream",
     "text": [
      "|-----> ensure all cell and variable names unique.\n",
      "|-----> ensure all data in different layers in csr sparse matrix format.\n",
      "|-----> ensure all labeling data properly collapased\n",
      "|-----> filtering cells...\n",
      "|-----> 23491 cells passed basic filters.\n",
      "|-----> filtering gene...\n",
      "|-----> 5244 genes passed basic filters.\n",
      "|-----> calculating size factor...\n",
      "|-----> selecting genes in layer: X, sort method: SVR...\n",
      "|-----> size factor normalizing the data, followed by log1p transformation.\n",
      "|-----> Set <adata.X> to normalized data\n",
      "|-----> applying PCA ...\n",
      "|-----> <insert> X_pca to obsm in AnnData Object.\n",
      "|-----> cell cycle scoring...\n",
      "|-----> computing cell phase...\n",
      "|-----> [Cell Phase Estimation] completed [38.7698s]\n",
      "|-----> [Cell Cycle Scores Estimation] completed [10.9589s]\n",
      "|-----> [recipe_monocle preprocess] completed [31.1441s]\n"
     ]
    }
   ],
   "source": [
    "dynamo.pp.recipe_monocle(adata_train)"
   ]
  },
  {
   "cell_type": "code",
   "execution_count": 5,
   "id": "588996b3",
   "metadata": {},
   "outputs": [
    {
     "name": "stdout",
     "output_type": "stream",
     "text": [
      "|-----> dynamics_del_2nd_moments_key is None. Using default value from DynamoAdataConfig: dynamics_del_2nd_moments_key=False\n",
      "|-----------> removing existing M layers:[]...\n",
      "|-----------> making adata smooth...\n",
      "|-----> calculating first/second moments...\n",
      "|-----> [moments calculation] completed [73.0941s]\n"
     ]
    },
    {
     "name": "stderr",
     "output_type": "stream",
     "text": [
      "estimating gamma: 100%|█████████████████████████████████████████████████████████████████████████████| 2000/2000 [13:56<00:00,  2.39it/s]\n"
     ]
    },
    {
     "data": {
      "text/plain": [
       "AnnData object with n_obs × n_vars = 23697 × 23420\n",
       "    obs: 'Library', 'Cell barcode', 'time_info', 'Starting population', 'state_info', 'Well', 'SPRING-x', 'SPRING-y', 'nGenes', 'nCounts', 'pMito', 'pass_basic_filter', 'Size_Factor', 'initial_cell_size', 'unspliced_Size_Factor', 'initial_unspliced_cell_size', 'spliced_Size_Factor', 'initial_spliced_cell_size', 'ntr', 'cell_cycle_phase'\n",
       "    var: 'Accession', 'Chromosome', 'End', 'Start', 'Strand', 'nCells', 'nCounts', 'pass_basic_filter', 'log_m', 'score', 'log_cv', 'frac', 'use_for_pca', 'ntr', 'beta', 'gamma', 'half_life', 'alpha_b', 'alpha_r2', 'gamma_b', 'gamma_r2', 'gamma_logLL', 'delta_b', 'delta_r2', 'bs', 'bf', 'uu0', 'ul0', 'su0', 'sl0', 'U0', 'S0', 'total0', 'use_for_dynamics'\n",
       "    uns: 'data_des', 'pp', 'velocyto_SVR', 'PCs', 'explained_variance_ratio_', 'pca_mean', 'pca_fit', 'feature_selection', 'cell_phase_genes', 'dynamics'\n",
       "    obsm: 'X_clone', 'X_emb', 'X_pca', 'X', 'cell_cycle_scores'\n",
       "    layers: 'ambiguous', 'matrix', 'spliced', 'unspliced', 'X_unspliced', 'X_spliced', 'M_u', 'M_uu', 'M_s', 'M_us', 'M_ss', 'velocity_S'\n",
       "    obsp: 'moments_con'"
      ]
     },
     "execution_count": 5,
     "metadata": {},
     "output_type": "execute_result"
    }
   ],
   "source": [
    "dynamo.tl.dynamics(adata_train, model='stochastic')"
   ]
  },
  {
   "cell_type": "code",
   "execution_count": 6,
   "id": "ab032e0f",
   "metadata": {},
   "outputs": [
    {
     "name": "stdout",
     "output_type": "stream",
     "text": [
      "|-----> retrieve data for non-linear dimension reduction...\n",
      "|-----> [UMAP] using X_pca with n_pca_components = 30\n",
      "|-----> <insert> X_umap to obsm in AnnData Object.\n",
      "|-----> [UMAP] completed [47.3075s]\n"
     ]
    }
   ],
   "source": [
    "dynamo.tl.reduceDimension(adata_train)"
   ]
  },
  {
   "cell_type": "code",
   "execution_count": 7,
   "id": "2557ad7f",
   "metadata": {},
   "outputs": [
    {
     "name": "stdout",
     "output_type": "stream",
     "text": [
      "|-----> incomplete neighbor graph info detected: connectivities and distances do not exist in adata.obsp, indices not in adata.uns.neighbors.\n",
      "|-----> Neighbor graph is broken, recomputing....\n",
      "|-----> Start computing neighbor graph...\n",
      "|-----------> X_data is None, fetching or recomputing...\n",
      "|-----> fetching X data from layer:None, basis:pca\n",
      "|-----> method arg is None, choosing methods automatically...\n",
      "|-----------> method ball_tree selected\n",
      "|-----> [calculating transition matrix via pearson kernel with sqrt transform.] in progress: 100.0000%|-----> [calculating transition matrix via pearson kernel with sqrt transform.] completed [65.9141s]\n",
      "|-----> [projecting velocity vector to low dimensional embedding] in progress: 100.0000%|-----> [projecting velocity vector to low dimensional embedding] completed [20.2797s]\n"
     ]
    },
    {
     "data": {
      "text/plain": [
       "AnnData object with n_obs × n_vars = 23697 × 23420\n",
       "    obs: 'Library', 'Cell barcode', 'time_info', 'Starting population', 'state_info', 'Well', 'SPRING-x', 'SPRING-y', 'nGenes', 'nCounts', 'pMito', 'pass_basic_filter', 'Size_Factor', 'initial_cell_size', 'unspliced_Size_Factor', 'initial_unspliced_cell_size', 'spliced_Size_Factor', 'initial_spliced_cell_size', 'ntr', 'cell_cycle_phase'\n",
       "    var: 'Accession', 'Chromosome', 'End', 'Start', 'Strand', 'nCells', 'nCounts', 'pass_basic_filter', 'log_m', 'score', 'log_cv', 'frac', 'use_for_pca', 'ntr', 'beta', 'gamma', 'half_life', 'alpha_b', 'alpha_r2', 'gamma_b', 'gamma_r2', 'gamma_logLL', 'delta_b', 'delta_r2', 'bs', 'bf', 'uu0', 'ul0', 'su0', 'sl0', 'U0', 'S0', 'total0', 'use_for_dynamics', 'use_for_transition'\n",
       "    uns: 'data_des', 'pp', 'velocyto_SVR', 'PCs', 'explained_variance_ratio_', 'pca_mean', 'pca_fit', 'feature_selection', 'cell_phase_genes', 'dynamics', 'neighbors', 'umap_fit', 'grid_velocity_pca'\n",
       "    obsm: 'X_clone', 'X_emb', 'X_pca', 'X', 'cell_cycle_scores', 'X_umap', 'velocity_pca'\n",
       "    layers: 'ambiguous', 'matrix', 'spliced', 'unspliced', 'X_unspliced', 'X_spliced', 'M_u', 'M_uu', 'M_s', 'M_us', 'M_ss', 'velocity_S'\n",
       "    obsp: 'moments_con', 'distances', 'connectivities', 'pearson_transition_matrix'"
      ]
     },
     "execution_count": 7,
     "metadata": {},
     "output_type": "execute_result"
    }
   ],
   "source": [
    "dynamo.tl.cell_velocities(adata_train, method='pearson', basis='pca', other_kernels_dict={'transform': 'sqrt'})"
   ]
  },
  {
   "cell_type": "code",
   "execution_count": 8,
   "id": "53be2f8a",
   "metadata": {},
   "outputs": [
    {
     "name": "stdout",
     "output_type": "stream",
     "text": [
      "|-----> VectorField reconstruction begins...\n",
      "|-----> Retrieve X and V based on basis: PCA. \n",
      "        Vector field will be learned in the PCA space.\n",
      "|-----> Learning vector field with method: sparsevfc.\n",
      "|-----> [SparseVFC] begins...\n",
      "|-----> Sampling control points based on data velocity magnitude...\n",
      "|-----> [SparseVFC] completed [6.8910s]\n",
      "|-----> [VectorField] completed [8.5498s]\n"
     ]
    }
   ],
   "source": [
    "dynamo.vf.VectorField(adata_train, basis='pca', M=1000)"
   ]
  },
  {
   "cell_type": "code",
   "execution_count": 25,
   "id": "7ad07ae4",
   "metadata": {},
   "outputs": [
    {
     "data": {
      "text/html": [
       "<div>\n",
       "<style scoped>\n",
       "    .dataframe tbody tr th:only-of-type {\n",
       "        vertical-align: middle;\n",
       "    }\n",
       "\n",
       "    .dataframe tbody tr th {\n",
       "        vertical-align: top;\n",
       "    }\n",
       "\n",
       "    .dataframe thead th {\n",
       "        text-align: right;\n",
       "    }\n",
       "</style>\n",
       "<table border=\"1\" class=\"dataframe\">\n",
       "  <thead>\n",
       "    <tr style=\"text-align: right;\">\n",
       "      <th></th>\n",
       "      <th>barcode</th>\n",
       "    </tr>\n",
       "  </thead>\n",
       "  <tbody>\n",
       "    <tr>\n",
       "      <th>13199</th>\n",
       "      <td>d2_3:GCGCTGATTAGCCTCG</td>\n",
       "    </tr>\n",
       "    <tr>\n",
       "      <th>13210</th>\n",
       "      <td>d2_3:CGTTGCCTCACAGTTT</td>\n",
       "    </tr>\n",
       "    <tr>\n",
       "      <th>13226</th>\n",
       "      <td>d2_3:TCGTGGGTCGTCAGCA</td>\n",
       "    </tr>\n",
       "    <tr>\n",
       "      <th>13235</th>\n",
       "      <td>d2_3:TGCGACTATAACCCGT</td>\n",
       "    </tr>\n",
       "    <tr>\n",
       "      <th>13256</th>\n",
       "      <td>d2_3:GTTGTCCGTAACCATC</td>\n",
       "    </tr>\n",
       "    <tr>\n",
       "      <th>...</th>\n",
       "      <td>...</td>\n",
       "    </tr>\n",
       "    <tr>\n",
       "      <th>69313</th>\n",
       "      <td>LK_d2:CGTGTGTTACGCAGAG</td>\n",
       "    </tr>\n",
       "    <tr>\n",
       "      <th>69317</th>\n",
       "      <td>LK_d2:GGTTACACCCGCAACT</td>\n",
       "    </tr>\n",
       "    <tr>\n",
       "      <th>69322</th>\n",
       "      <td>LK_d2:GCCTGGTATATTGCCT</td>\n",
       "    </tr>\n",
       "    <tr>\n",
       "      <th>69324</th>\n",
       "      <td>LK_d2:GGGTCATTTGCGTATC</td>\n",
       "    </tr>\n",
       "    <tr>\n",
       "      <th>69326</th>\n",
       "      <td>LK_d2:AATACATCATCCGCTA</td>\n",
       "    </tr>\n",
       "  </tbody>\n",
       "</table>\n",
       "<p>2081 rows × 1 columns</p>\n",
       "</div>"
      ],
      "text/plain": [
       "                      barcode\n",
       "13199   d2_3:GCGCTGATTAGCCTCG\n",
       "13210   d2_3:CGTTGCCTCACAGTTT\n",
       "13226   d2_3:TCGTGGGTCGTCAGCA\n",
       "13235   d2_3:TGCGACTATAACCCGT\n",
       "13256   d2_3:GTTGTCCGTAACCATC\n",
       "...                       ...\n",
       "69313  LK_d2:CGTGTGTTACGCAGAG\n",
       "69317  LK_d2:GGTTACACCCGCAACT\n",
       "69322  LK_d2:GCCTGGTATATTGCCT\n",
       "69324  LK_d2:GGGTCATTTGCGTATC\n",
       "69326  LK_d2:AATACATCATCCGCTA\n",
       "\n",
       "[2081 rows x 1 columns]"
      ]
     },
     "execution_count": 25,
     "metadata": {},
     "output_type": "execute_result"
    }
   ],
   "source": [
    "idx_df = pd.read_csv(\"idx_barcode_df.csv\", index_col = 0)\n",
    "idx_values = idx_df['barcode'].tolist()\n",
    "idx_df"
   ]
  },
  {
   "cell_type": "code",
   "execution_count": 26,
   "id": "7e028492",
   "metadata": {},
   "outputs": [
    {
     "name": "stderr",
     "output_type": "stream",
     "text": [
      "integration with ivp solver: 100%|██████████████████████████████████████████████████████████████████| 2081/2081 [11:41<00:00,  2.97it/s]\n",
      "uniformly sampling points along a trajectory: 100%|████████████████████████████████████████████████| 2081/2081 [00:17<00:00, 119.71it/s]\n"
     ]
    }
   ],
   "source": [
    "fate_adata = dynamo.pd.fate(\n",
    "    adata_train,\n",
    "    init_cells=idx_values,\n",
    "    basis='pca',\n",
    "    direction='forward',\n",
    ")"
   ]
  },
  {
   "cell_type": "code",
   "execution_count": 31,
   "id": "6baa3678",
   "metadata": {},
   "outputs": [
    {
     "name": "stderr",
     "output_type": "stream",
     "text": [
      "calculating fate distributions: 2081it [04:23,  7.90it/s]\n"
     ]
    }
   ],
   "source": [
    "fate_output = dynamo.pd.fate_bias(fate_adata, 'state_info', basis='pca',seed=seed)"
   ]
  },
  {
   "cell_type": "code",
   "execution_count": 38,
   "id": "c3e483d8",
   "metadata": {},
   "outputs": [],
   "source": [
    "fate_output.to_csv(path_or_buf=f'dynamo_fatebias.seed_{seed}.csv')"
   ]
  },
  {
   "cell_type": "code",
   "execution_count": 48,
   "id": "bf5b0c55",
   "metadata": {},
   "outputs": [
    {
     "data": {
      "text/html": [
       "<div>\n",
       "<style scoped>\n",
       "    .dataframe tbody tr th:only-of-type {\n",
       "        vertical-align: middle;\n",
       "    }\n",
       "\n",
       "    .dataframe tbody tr th {\n",
       "        vertical-align: top;\n",
       "    }\n",
       "\n",
       "    .dataframe thead th {\n",
       "        text-align: right;\n",
       "    }\n",
       "</style>\n",
       "<table border=\"1\" class=\"dataframe\">\n",
       "  <thead>\n",
       "    <tr style=\"text-align: right;\">\n",
       "      <th></th>\n",
       "      <th>confidence</th>\n",
       "      <th>Baso</th>\n",
       "      <th>Ccr7_DC</th>\n",
       "      <th>Eos</th>\n",
       "      <th>Erythroid</th>\n",
       "      <th>Lymphoid</th>\n",
       "      <th>Mast</th>\n",
       "      <th>Meg</th>\n",
       "      <th>Monocyte</th>\n",
       "      <th>Neutrophil</th>\n",
       "      <th>Undifferentiated</th>\n",
       "      <th>pDC</th>\n",
       "    </tr>\n",
       "  </thead>\n",
       "  <tbody>\n",
       "    <tr>\n",
       "      <th>d2_3:GCGCTGATTAGCCTCG</th>\n",
       "      <td>0.004505</td>\n",
       "      <td>0.000000</td>\n",
       "      <td>0.0</td>\n",
       "      <td>0.0</td>\n",
       "      <td>0.000000</td>\n",
       "      <td>0.079487</td>\n",
       "      <td>0.0</td>\n",
       "      <td>0.0</td>\n",
       "      <td>0.000000</td>\n",
       "      <td>0.000000</td>\n",
       "      <td>0.920513</td>\n",
       "      <td>0.0</td>\n",
       "    </tr>\n",
       "    <tr>\n",
       "      <th>d2_3:CGTTGCCTCACAGTTT</th>\n",
       "      <td>0.004505</td>\n",
       "      <td>0.000000</td>\n",
       "      <td>0.0</td>\n",
       "      <td>0.0</td>\n",
       "      <td>0.000000</td>\n",
       "      <td>0.000000</td>\n",
       "      <td>0.0</td>\n",
       "      <td>0.0</td>\n",
       "      <td>0.000000</td>\n",
       "      <td>0.000000</td>\n",
       "      <td>1.000000</td>\n",
       "      <td>0.0</td>\n",
       "    </tr>\n",
       "    <tr>\n",
       "      <th>d2_3:TCGTGGGTCGTCAGCA</th>\n",
       "      <td>0.004673</td>\n",
       "      <td>0.000000</td>\n",
       "      <td>0.0</td>\n",
       "      <td>0.0</td>\n",
       "      <td>0.228205</td>\n",
       "      <td>0.000000</td>\n",
       "      <td>0.0</td>\n",
       "      <td>0.0</td>\n",
       "      <td>0.000000</td>\n",
       "      <td>0.000000</td>\n",
       "      <td>0.771795</td>\n",
       "      <td>0.0</td>\n",
       "    </tr>\n",
       "    <tr>\n",
       "      <th>d2_3:TGCGACTATAACCCGT</th>\n",
       "      <td>0.004608</td>\n",
       "      <td>0.000000</td>\n",
       "      <td>0.0</td>\n",
       "      <td>0.0</td>\n",
       "      <td>0.325641</td>\n",
       "      <td>0.000000</td>\n",
       "      <td>0.0</td>\n",
       "      <td>0.0</td>\n",
       "      <td>0.000000</td>\n",
       "      <td>0.000000</td>\n",
       "      <td>0.674359</td>\n",
       "      <td>0.0</td>\n",
       "    </tr>\n",
       "    <tr>\n",
       "      <th>d2_3:GTTGTCCGTAACCATC</th>\n",
       "      <td>0.006897</td>\n",
       "      <td>0.000000</td>\n",
       "      <td>0.0</td>\n",
       "      <td>0.0</td>\n",
       "      <td>0.000000</td>\n",
       "      <td>0.000000</td>\n",
       "      <td>0.0</td>\n",
       "      <td>0.0</td>\n",
       "      <td>1.000000</td>\n",
       "      <td>0.000000</td>\n",
       "      <td>0.000000</td>\n",
       "      <td>0.0</td>\n",
       "    </tr>\n",
       "    <tr>\n",
       "      <th>...</th>\n",
       "      <td>...</td>\n",
       "      <td>...</td>\n",
       "      <td>...</td>\n",
       "      <td>...</td>\n",
       "      <td>...</td>\n",
       "      <td>...</td>\n",
       "      <td>...</td>\n",
       "      <td>...</td>\n",
       "      <td>...</td>\n",
       "      <td>...</td>\n",
       "      <td>...</td>\n",
       "      <td>...</td>\n",
       "    </tr>\n",
       "    <tr>\n",
       "      <th>LK_d2:CGTGTGTTACGCAGAG</th>\n",
       "      <td>0.006494</td>\n",
       "      <td>0.000000</td>\n",
       "      <td>0.0</td>\n",
       "      <td>0.0</td>\n",
       "      <td>0.000000</td>\n",
       "      <td>0.000000</td>\n",
       "      <td>0.0</td>\n",
       "      <td>1.0</td>\n",
       "      <td>0.000000</td>\n",
       "      <td>0.000000</td>\n",
       "      <td>0.000000</td>\n",
       "      <td>0.0</td>\n",
       "    </tr>\n",
       "    <tr>\n",
       "      <th>LK_d2:GGTTACACCCGCAACT</th>\n",
       "      <td>0.004464</td>\n",
       "      <td>0.000000</td>\n",
       "      <td>0.0</td>\n",
       "      <td>0.0</td>\n",
       "      <td>0.000000</td>\n",
       "      <td>0.000000</td>\n",
       "      <td>0.0</td>\n",
       "      <td>0.0</td>\n",
       "      <td>0.000000</td>\n",
       "      <td>0.000000</td>\n",
       "      <td>1.000000</td>\n",
       "      <td>0.0</td>\n",
       "    </tr>\n",
       "    <tr>\n",
       "      <th>LK_d2:GCCTGGTATATTGCCT</th>\n",
       "      <td>0.004329</td>\n",
       "      <td>0.000000</td>\n",
       "      <td>0.0</td>\n",
       "      <td>0.0</td>\n",
       "      <td>0.000000</td>\n",
       "      <td>0.000000</td>\n",
       "      <td>0.0</td>\n",
       "      <td>0.0</td>\n",
       "      <td>0.112821</td>\n",
       "      <td>0.115385</td>\n",
       "      <td>0.771795</td>\n",
       "      <td>0.0</td>\n",
       "    </tr>\n",
       "    <tr>\n",
       "      <th>LK_d2:GGGTCATTTGCGTATC</th>\n",
       "      <td>0.004739</td>\n",
       "      <td>0.548718</td>\n",
       "      <td>0.0</td>\n",
       "      <td>0.0</td>\n",
       "      <td>0.000000</td>\n",
       "      <td>0.000000</td>\n",
       "      <td>0.0</td>\n",
       "      <td>0.0</td>\n",
       "      <td>0.000000</td>\n",
       "      <td>0.000000</td>\n",
       "      <td>0.451282</td>\n",
       "      <td>0.0</td>\n",
       "    </tr>\n",
       "    <tr>\n",
       "      <th>LK_d2:AATACATCATCCGCTA</th>\n",
       "      <td>0.005155</td>\n",
       "      <td>0.584615</td>\n",
       "      <td>0.0</td>\n",
       "      <td>0.0</td>\n",
       "      <td>0.000000</td>\n",
       "      <td>0.000000</td>\n",
       "      <td>0.0</td>\n",
       "      <td>0.0</td>\n",
       "      <td>0.000000</td>\n",
       "      <td>0.000000</td>\n",
       "      <td>0.415385</td>\n",
       "      <td>0.0</td>\n",
       "    </tr>\n",
       "  </tbody>\n",
       "</table>\n",
       "<p>2081 rows × 12 columns</p>\n",
       "</div>"
      ],
      "text/plain": [
       "                        confidence      Baso  Ccr7_DC  Eos  Erythroid  \\\n",
       "d2_3:GCGCTGATTAGCCTCG     0.004505  0.000000      0.0  0.0   0.000000   \n",
       "d2_3:CGTTGCCTCACAGTTT     0.004505  0.000000      0.0  0.0   0.000000   \n",
       "d2_3:TCGTGGGTCGTCAGCA     0.004673  0.000000      0.0  0.0   0.228205   \n",
       "d2_3:TGCGACTATAACCCGT     0.004608  0.000000      0.0  0.0   0.325641   \n",
       "d2_3:GTTGTCCGTAACCATC     0.006897  0.000000      0.0  0.0   0.000000   \n",
       "...                            ...       ...      ...  ...        ...   \n",
       "LK_d2:CGTGTGTTACGCAGAG    0.006494  0.000000      0.0  0.0   0.000000   \n",
       "LK_d2:GGTTACACCCGCAACT    0.004464  0.000000      0.0  0.0   0.000000   \n",
       "LK_d2:GCCTGGTATATTGCCT    0.004329  0.000000      0.0  0.0   0.000000   \n",
       "LK_d2:GGGTCATTTGCGTATC    0.004739  0.548718      0.0  0.0   0.000000   \n",
       "LK_d2:AATACATCATCCGCTA    0.005155  0.584615      0.0  0.0   0.000000   \n",
       "\n",
       "                        Lymphoid  Mast  Meg  Monocyte  Neutrophil  \\\n",
       "d2_3:GCGCTGATTAGCCTCG   0.079487   0.0  0.0  0.000000    0.000000   \n",
       "d2_3:CGTTGCCTCACAGTTT   0.000000   0.0  0.0  0.000000    0.000000   \n",
       "d2_3:TCGTGGGTCGTCAGCA   0.000000   0.0  0.0  0.000000    0.000000   \n",
       "d2_3:TGCGACTATAACCCGT   0.000000   0.0  0.0  0.000000    0.000000   \n",
       "d2_3:GTTGTCCGTAACCATC   0.000000   0.0  0.0  1.000000    0.000000   \n",
       "...                          ...   ...  ...       ...         ...   \n",
       "LK_d2:CGTGTGTTACGCAGAG  0.000000   0.0  1.0  0.000000    0.000000   \n",
       "LK_d2:GGTTACACCCGCAACT  0.000000   0.0  0.0  0.000000    0.000000   \n",
       "LK_d2:GCCTGGTATATTGCCT  0.000000   0.0  0.0  0.112821    0.115385   \n",
       "LK_d2:GGGTCATTTGCGTATC  0.000000   0.0  0.0  0.000000    0.000000   \n",
       "LK_d2:AATACATCATCCGCTA  0.000000   0.0  0.0  0.000000    0.000000   \n",
       "\n",
       "                        Undifferentiated  pDC  \n",
       "d2_3:GCGCTGATTAGCCTCG           0.920513  0.0  \n",
       "d2_3:CGTTGCCTCACAGTTT           1.000000  0.0  \n",
       "d2_3:TCGTGGGTCGTCAGCA           0.771795  0.0  \n",
       "d2_3:TGCGACTATAACCCGT           0.674359  0.0  \n",
       "d2_3:GTTGTCCGTAACCATC           0.000000  0.0  \n",
       "...                                  ...  ...  \n",
       "LK_d2:CGTGTGTTACGCAGAG          0.000000  0.0  \n",
       "LK_d2:GGTTACACCCGCAACT          1.000000  0.0  \n",
       "LK_d2:GCCTGGTATATTGCCT          0.771795  0.0  \n",
       "LK_d2:GGGTCATTTGCGTATC          0.451282  0.0  \n",
       "LK_d2:AATACATCATCCGCTA          0.415385  0.0  \n",
       "\n",
       "[2081 rows x 12 columns]"
      ]
     },
     "execution_count": 48,
     "metadata": {},
     "output_type": "execute_result"
    }
   ],
   "source": [
    "fate_output"
   ]
  },
  {
   "cell_type": "code",
   "execution_count": 41,
   "id": "a774601b",
   "metadata": {},
   "outputs": [],
   "source": [
    "fates = ['Undifferentiated', 'Ccr7_DC', 'Eos', 'Erythroid', 'Lymphoid', 'Mast', 'Meg', 'Monocyte', 'Neutrophil', 'pDC']"
   ]
  },
  {
   "cell_type": "code",
   "execution_count": 44,
   "id": "156383eb",
   "metadata": {},
   "outputs": [
    {
     "data": {
      "text/plain": [
       "Undifferentiated    1826\n",
       "Meg                  161\n",
       "Monocyte              67\n",
       "Mast                  25\n",
       "Neutrophil             2\n",
       "Name: count, dtype: int64"
      ]
     },
     "execution_count": 44,
     "metadata": {},
     "output_type": "execute_result"
    }
   ],
   "source": [
    "fate_output[fates].idxmax(1).value_counts()"
   ]
  }
 ],
 "metadata": {
  "kernelspec": {
   "display_name": "Python [conda env:dynamo]",
   "language": "python",
   "name": "conda-env-dynamo-py"
  },
  "language_info": {
   "codemirror_mode": {
    "name": "ipython",
    "version": 3
   },
   "file_extension": ".py",
   "mimetype": "text/x-python",
   "name": "python",
   "nbconvert_exporter": "python",
   "pygments_lexer": "ipython3",
   "version": "3.9.16"
  }
 },
 "nbformat": 4,
 "nbformat_minor": 5
}
