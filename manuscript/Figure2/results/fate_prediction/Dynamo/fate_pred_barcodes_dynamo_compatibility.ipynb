{
 "cells": [
  {
   "cell_type": "code",
   "execution_count": 4,
   "id": "3c18cad8",
   "metadata": {},
   "outputs": [],
   "source": [
    "import pandas as pd\n",
    "import anndata as a\n",
    "\n",
    "h5ad_path = \"../KleinLabData/in_vitro/adata.Weinreb2020.in_vitro.task_02.fate_prediction.h5ad\"\n",
    "adata = a.read_h5ad(h5ad_path)"
   ]
  },
  {
   "cell_type": "code",
   "execution_count": 5,
   "id": "51772be3",
   "metadata": {},
   "outputs": [],
   "source": [
    "pkl_path = \"../github/LARRY-dataset/larry/tasks/fate_prediction/FatePredictionSubsets.pkl\"\n",
    "indices = pd.read_pickle(pkl_path)['Indices']"
   ]
  },
  {
   "cell_type": "code",
   "execution_count": 7,
   "id": "c4f77923",
   "metadata": {},
   "outputs": [],
   "source": [
    "import numpy as np"
   ]
  },
  {
   "cell_type": "code",
   "execution_count": 8,
   "id": "c9393b0d",
   "metadata": {},
   "outputs": [],
   "source": [
    "flat_indices = []\n",
    "for key_i in indices.keys():\n",
    "    for key_j in indices[key_i].keys():\n",
    "        flat_indices.append(list(indices[key_i][key_j].values))\n",
    "flat_indices = np.unique(np.hstack(flat_indices)).tolist()"
   ]
  },
  {
   "cell_type": "code",
   "execution_count": 13,
   "id": "3c512659",
   "metadata": {},
   "outputs": [],
   "source": [
    "subset_df = adata[flat_indices].obs.copy()"
   ]
  },
  {
   "cell_type": "code",
   "execution_count": 28,
   "id": "d9221d66",
   "metadata": {},
   "outputs": [
    {
     "data": {
      "text/plain": [
       "13199    GCGCTGATTAGCCTCG\n",
       "13210    CGTTGCCTCACAGTTT\n",
       "13226    TCGTGGGTCGTCAGCA\n",
       "13235    TGCGACTATAACCCGT\n",
       "13256    GTTGTCCGTAACCATC\n",
       "               ...       \n",
       "69313    CGTGTGTTACGCAGAG\n",
       "69317    GGTTACACCCGCAACT\n",
       "69322    GCCTGGTATATTGCCT\n",
       "69324    GGGTCATTTGCGTATC\n",
       "69326    AATACATCATCCGCTA\n",
       "Name: Cell barcode, Length: 2081, dtype: object"
      ]
     },
     "execution_count": 28,
     "metadata": {},
     "output_type": "execute_result"
    }
   ],
   "source": []
  },
  {
   "cell_type": "code",
   "execution_count": 29,
   "id": "27928645",
   "metadata": {},
   "outputs": [],
   "source": [
    "fill_vals = subset_df['Library'].astype(str) + \":\" + subset_df['Cell barcode'].str.replace(\"-\", \"\").astype(str)"
   ]
  },
  {
   "cell_type": "code",
   "execution_count": 32,
   "id": "b432ffb7",
   "metadata": {},
   "outputs": [],
   "source": [
    "idx_barcode_df = pd.DataFrame(fill_vals, columns = ['barcode'])"
   ]
  },
  {
   "cell_type": "code",
   "execution_count": 33,
   "id": "5bbb54a8",
   "metadata": {},
   "outputs": [],
   "source": [
    "idx_barcode_df.to_csv(\"idx_barcode_df.csv\")"
   ]
  },
  {
   "cell_type": "code",
   "execution_count": null,
   "id": "5161b0c2",
   "metadata": {},
   "outputs": [],
   "source": []
  }
 ],
 "metadata": {
  "kernelspec": {
   "display_name": "Python [conda env:dynamo]",
   "language": "python",
   "name": "conda-env-dynamo-py"
  },
  "language_info": {
   "codemirror_mode": {
    "name": "ipython",
    "version": 3
   },
   "file_extension": ".py",
   "mimetype": "text/x-python",
   "name": "python",
   "nbconvert_exporter": "python",
   "pygments_lexer": "ipython3",
   "version": "3.9.16"
  }
 },
 "nbformat": 4,
 "nbformat_minor": 5
}
