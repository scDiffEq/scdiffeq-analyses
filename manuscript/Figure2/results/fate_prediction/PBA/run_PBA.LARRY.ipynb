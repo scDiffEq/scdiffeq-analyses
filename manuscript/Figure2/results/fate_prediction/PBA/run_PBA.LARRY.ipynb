{
 "cells": [
  {
   "cell_type": "markdown",
   "id": "0ab2f069",
   "metadata": {},
   "source": [
    "## Import packages"
   ]
  },
  {
   "cell_type": "code",
   "execution_count": 1,
   "id": "0b6a7764",
   "metadata": {},
   "outputs": [],
   "source": [
    "import pandas as pd\n",
    "import pathlib\n",
    "import matplotlib.pyplot as plt\n",
    "import numpy as np\n",
    "import larry\n",
    "import sklearn.metrics\n",
    "import glob\n",
    "import cellplots as cp\n",
    "import ABCParse\n",
    "\n",
    "from typing import Optional, List\n",
    "\n",
    "import matplotlib.cm as cm\n",
    "\n",
    "\n",
    "import sklearn.preprocessing\n",
    "import sklearn.decomposition\n",
    "import seaborn as sns\n",
    "import scipy.stats\n",
    "\n",
    "import ABCParse\n",
    "import numpy as np\n",
    "import anndata\n",
    "from annoyance import kNN\n",
    "\n",
    "from typing import Optional"
   ]
  },
  {
   "cell_type": "markdown",
   "id": "490187d3",
   "metadata": {},
   "source": [
    "## Load data"
   ]
  },
  {
   "cell_type": "markdown",
   "id": "2645fbb0",
   "metadata": {},
   "source": [
    "LARRY dataset ground truth: `F_obs` (`pd.DataFrame`)"
   ]
  },
  {
   "cell_type": "code",
   "execution_count": 27,
   "id": "be93520c",
   "metadata": {},
   "outputs": [],
   "source": [
    "F_obs = larry.tasks.fate_prediction.F_obs"
   ]
  },
  {
   "cell_type": "code",
   "execution_count": 7,
   "id": "9cd84c32",
   "metadata": {},
   "outputs": [],
   "source": [
    "adata = anndata.read_h5ad(\"/home/mvinyard/data/adata.LARRY_train.19MARCH2024.h5ad\")\n",
    "X = adata[adata.obs['train']].X.toarray()"
   ]
  },
  {
   "cell_type": "markdown",
   "id": "f5aae713",
   "metadata": {},
   "source": [
    "## Define helper classes and functions"
   ]
  },
  {
   "cell_type": "code",
   "execution_count": 15,
   "id": "ac5fe9c0",
   "metadata": {},
   "outputs": [],
   "source": [
    "class ConfigureR(ABCParse.ABCParse):\n",
    "    def __init__(\n",
    "        self,\n",
    "        adata: anndata.AnnData,\n",
    "        source_sink_col: str = \"Cell type annotation\",\n",
    "        baseline: float = -1.0e-03,\n",
    "        *args,\n",
    "        **kwargs,\n",
    "    ):\n",
    "\n",
    "        self.__configure__(locals())\n",
    "\n",
    "    def __configure__(\n",
    "        self, kwargs, ignore=[\"self\"], private=[\"adata\", \"source_sink_col\"]\n",
    "    ):\n",
    "\n",
    "        self.__parse__(kwargs=kwargs, ignore=ignore, private=private)\n",
    "\n",
    "        self._df = self._adata.obs.copy()\n",
    "        self._grouped = self._df.groupby(self._source_sink_col)\n",
    "        self.R = np.zeros(len(self._adata)) + self._baseline\n",
    "\n",
    "    def _as_list(self, key):\n",
    "        if not isinstance(key, list):\n",
    "            return list(key)\n",
    "        else:\n",
    "            return key\n",
    "\n",
    "    def _configure_sinks_not_provided(self, sink_key):\n",
    "        if not sink_key:\n",
    "            self._sinks = [\n",
    "                key for key in list(self._grouped.groups.keys()) if not key == self._source_key\n",
    "            ]\n",
    "        else:\n",
    "            self._sinks = self._as_list(sink_key)\n",
    "\n",
    "    def configure_source(self, key=\"undiff\", val=0.2):\n",
    "\n",
    "        idx = self._df.loc[self._df[self._source_sink_col] == key].index.astype(int)\n",
    "        self.R[idx] = val\n",
    "\n",
    "    def configure_sink(self, key=None, val=-0.2):\n",
    "\n",
    "        self._configure_sinks_not_provided(key)\n",
    "\n",
    "        for annot, annot_df in self._grouped:\n",
    "            idx = annot_df.index.astype(int)\n",
    "            if annot in self._sinks:\n",
    "                self.R[idx] = val\n",
    "\n",
    "    def __call__(\n",
    "        self,\n",
    "        source_key: str = \"Undifferentiated\",\n",
    "        source_val: float = 0.2,\n",
    "        sink_key: Optional[str] = None,\n",
    "        sink_val: float = -0.2\n",
    "    ):\n",
    "        \n",
    "        self.__parse__(locals())\n",
    "\n",
    "        self.configure_source(source_key, source_val)\n",
    "        self.configure_sink(sink_key, sink_val)\n",
    "\n",
    "        return self.R\n",
    "\n",
    "\n",
    "def configure_R(\n",
    "    adata: anndata.AnnData,\n",
    "    source_sink_col: str = \"Cell type annotation\",\n",
    "    baseline: float = -1.0e-03,\n",
    "    source_key: str = \"Undifferentiated\",\n",
    "    source_val: float = 0.2,\n",
    "    sink_key: Optional[str] = None,\n",
    "    sink_val: float = -0.2,\n",
    "    key_added: str = \"R\",\n",
    "):\n",
    "    \"\"\"\n",
    "    \n",
    "    \"\"\"\n",
    "        \n",
    "    r_param = ConfigureR(\n",
    "        adata=adata,\n",
    "        source_sink_col=source_sink_col,\n",
    "        baseline=baseline,\n",
    "    )\n",
    "\n",
    "    adata.obs[key_added] = r_param(\n",
    "        source_key=source_key,\n",
    "        source_val=source_val,\n",
    "        sink_key=sink_key,\n",
    "        sink_val=sink_val,\n",
    "    )"
   ]
  },
  {
   "cell_type": "code",
   "execution_count": 67,
   "id": "968b8719",
   "metadata": {},
   "outputs": [],
   "source": [
    "class ConfigureS(ABCParse.ABCParse):\n",
    "    def __init__(\n",
    "        self,\n",
    "        adata: anndata.AnnData,\n",
    "        fate_key: str = \"Cell type annotation\",\n",
    "        *args,\n",
    "        **kwargs,\n",
    "    ):\n",
    "\n",
    "        self.__parse__(locals(), public = [None])\n",
    "        self._configure_graph()\n",
    "        self._grouped = self._adata.obs.groupby(self._fate_key)\n",
    "\n",
    "    def _configure_graph(self):\n",
    "\n",
    "        self.Graph = kNN(self._adata)\n",
    "        self.Graph.build()\n",
    "\n",
    "    def _configure_fates(self):\n",
    "        if not hasattr(self, \"_fates\"):\n",
    "            self._fates = self._adata.obs[self._fate_key].unique().tolist()\n",
    "            self._adata.uns['fates'] = self._fates\n",
    "\n",
    "    @property\n",
    "    def fates(self):\n",
    "        self._configure_fates()\n",
    "        return self._fates\n",
    "\n",
    "    @property\n",
    "    def n_cells(self):\n",
    "        return self._adata.shape[0]\n",
    "\n",
    "    @property\n",
    "    def n_fates(self):\n",
    "        return len(self.fates)\n",
    "\n",
    "    @property\n",
    "    def S_init(self):\n",
    "        return np.zeros([self.n_cells, self.n_fates])\n",
    "\n",
    "    def __call__(self, sink_val=10, use_key=\"X_pca\", potential_key=\"V\"):\n",
    "\n",
    "        # TODO-POTENTIALLY: supply a dict mapping fates to sink values\n",
    "\n",
    "        self.S = self.S_init.copy()\n",
    "\n",
    "        for n, fate in enumerate(self.fates):\n",
    "            fate_df = self._grouped.get_group(fate)\n",
    "            # requires a consistent index (no subsetting adata without resetting index)\n",
    "            nn_idx = self.Graph.query(\n",
    "                self._adata[fate_df[potential_key].idxmin()].obsm[use_key]\n",
    "            ).flatten()\n",
    "            sink_idx = self._adata[nn_idx.flatten()].obs.index.astype(int)\n",
    "            self.S[sink_idx, n] = sink_val\n",
    "\n",
    "        return self.S\n",
    "    \n",
    "def configure_S(\n",
    "    adata: anndata.AnnData,\n",
    "    fate_key: str = \"Cell type annotation\",\n",
    "    sink_val: float = 10,\n",
    "    use_key: str = \"X_pca\",\n",
    "    potential_key: str = \"V\",\n",
    "    key_added: str = \"S\",\n",
    "    *args,\n",
    "    **kwargs,\n",
    "):\n",
    "    \"\"\"\n",
    "    Configure S.\n",
    "    \"\"\"\n",
    "\n",
    "    s_config = ConfigureS(adata = adata, fate_key=fate_key)\n",
    "    adata.obsm[key_added] = s_config(\n",
    "        sink_val=sink_val, use_key=use_key, potential_key=potential_key\n",
    "    )"
   ]
  },
  {
   "cell_type": "markdown",
   "id": "b402b1da",
   "metadata": {},
   "source": [
    "## Downsample `adata`"
   ]
  },
  {
   "cell_type": "code",
   "execution_count": 83,
   "id": "ad05bbc8",
   "metadata": {},
   "outputs": [],
   "source": [
    "adata_ds = adata[sample_ix].copy()"
   ]
  },
  {
   "cell_type": "markdown",
   "id": "12ab681f",
   "metadata": {},
   "source": [
    "## Configure `R`, `S`\n",
    "\n",
    "Per-cell `R` and `S` terms of `PBA`"
   ]
  },
  {
   "cell_type": "code",
   "execution_count": 124,
   "id": "a2eb4eee",
   "metadata": {},
   "outputs": [
    {
     "name": "stderr",
     "output_type": "stream",
     "text": [
      "/tmp/ipykernel_785227/3205581843.py:20: FutureWarning: The default of observed=False is deprecated and will be changed to True in a future version of pandas. Pass observed=False to retain current behavior or observed=True to adopt the future default and silence this warning.\n",
      "  self._grouped = self._adata.obs.groupby(self._fate_key)\n"
     ]
    }
   ],
   "source": [
    "s_config = ConfigureS(adata = adata_ds, fate_key=\"Cell type annotation\")\n",
    "adata_ds.obsm[\"S\"] = s_config(\n",
    "    sink_val=\"10\", use_key=\"X_pca\", potential_key=\"V\"\n",
    ")"
   ]
  },
  {
   "cell_type": "code",
   "execution_count": 73,
   "id": "de59a42b",
   "metadata": {},
   "outputs": [
    {
     "name": "stderr",
     "output_type": "stream",
     "text": [
      "/tmp/ipykernel_785227/629527030.py:31: FutureWarning: The default of observed=False is deprecated and will be changed to True in a future version of pandas. Pass observed=False to retain current behavior or observed=True to adopt the future default and silence this warning.\n",
      "  self._grouped = self._df.groupby(self._source_sink_col)\n"
     ]
    }
   ],
   "source": [
    "configure_R(adata)"
   ]
  },
  {
   "cell_type": "code",
   "execution_count": 78,
   "id": "b45cbc74",
   "metadata": {},
   "outputs": [],
   "source": [
    "R = adata[sample_ix].obs['R']"
   ]
  },
  {
   "cell_type": "markdown",
   "id": "7cc881d1",
   "metadata": {},
   "source": [
    "### Load the inverted Laplacian matrix"
   ]
  },
  {
   "cell_type": "code",
   "execution_count": 72,
   "id": "e4ae6bb8",
   "metadata": {},
   "outputs": [],
   "source": [
    "Linv = np.load(\"./Linv.npy\")"
   ]
  },
  {
   "cell_type": "code",
   "execution_count": 94,
   "id": "4a318245",
   "metadata": {},
   "outputs": [
    {
     "data": {
      "text/plain": [
       "(20000,)"
      ]
     },
     "execution_count": 94,
     "metadata": {},
     "output_type": "execute_result"
    }
   ],
   "source": [
    "V = np.dot(Linv, R)\n",
    "np.save(\"./run_pba/V.npy\", V)\n",
    "adata_ds.obs['V'] = V\n",
    "V.shape"
   ]
  },
  {
   "cell_type": "code",
   "execution_count": 96,
   "id": "be71f2a3",
   "metadata": {},
   "outputs": [
    {
     "data": {
      "text/plain": [
       "(20000, 11)"
      ]
     },
     "execution_count": 96,
     "metadata": {},
     "output_type": "execute_result"
    }
   ],
   "source": [
    "B = np.load(\"./run_pba/B.npy\")\n",
    "adata_ds.obsm['B'] = B\n",
    "B.shape"
   ]
  },
  {
   "cell_type": "code",
   "execution_count": 105,
   "id": "f2c40ce2",
   "metadata": {},
   "outputs": [
    {
     "data": {
      "text/plain": [
       "(2081, 11)"
      ]
     },
     "execution_count": 105,
     "metadata": {},
     "output_type": "execute_result"
    }
   ],
   "source": [
    "fate_pred = adata_ds[adata_ds.obs['index'].isin(F_obs.index)].obsm['B']\n",
    "fate_pred.shape"
   ]
  },
  {
   "cell_type": "code",
   "execution_count": 655,
   "id": "8b682ed5",
   "metadata": {},
   "outputs": [],
   "source": [
    "PBA_F_hat = pd.DataFrame(fate_pred, columns = s_config.fates)\n",
    "PBA_F_hat.index = F_obs.index"
   ]
  },
  {
   "cell_type": "code",
   "execution_count": 660,
   "id": "5a8ea95d",
   "metadata": {},
   "outputs": [],
   "source": [
    "PBA_F_hat = PBA_F_hat.drop(\"Undifferentiated\", axis = 1).copy()"
   ]
  },
  {
   "cell_type": "code",
   "execution_count": 669,
   "id": "4870be9d",
   "metadata": {},
   "outputs": [],
   "source": [
    "PBA_F_hat = PBA_F_hat.div(PBA_F_hat.sum(1), axis = 0)"
   ]
  },
  {
   "cell_type": "code",
   "execution_count": 670,
   "id": "2bcb4157",
   "metadata": {},
   "outputs": [
    {
     "data": {
      "text/plain": [
       "False"
      ]
     },
     "execution_count": 670,
     "metadata": {},
     "output_type": "execute_result"
    }
   ],
   "source": [
    "any(PBA_F_hat.sum(1)==0)"
   ]
  },
  {
   "cell_type": "markdown",
   "id": "d841e663",
   "metadata": {},
   "source": [
    "### Accuracy score: prediction of dominant fate"
   ]
  },
  {
   "cell_type": "code",
   "execution_count": 672,
   "id": "393821a4",
   "metadata": {},
   "outputs": [
    {
     "data": {
      "text/html": [
       "<div>\n",
       "<style scoped>\n",
       "    .dataframe tbody tr th:only-of-type {\n",
       "        vertical-align: middle;\n",
       "    }\n",
       "\n",
       "    .dataframe tbody tr th {\n",
       "        vertical-align: top;\n",
       "    }\n",
       "\n",
       "    .dataframe thead th {\n",
       "        text-align: right;\n",
       "    }\n",
       "</style>\n",
       "<table border=\"1\" class=\"dataframe\">\n",
       "  <thead>\n",
       "    <tr style=\"text-align: right;\">\n",
       "      <th></th>\n",
       "      <th>accuracy</th>\n",
       "    </tr>\n",
       "  </thead>\n",
       "  <tbody>\n",
       "    <tr>\n",
       "      <th>all</th>\n",
       "      <td>0.399327</td>\n",
       "    </tr>\n",
       "    <tr>\n",
       "      <th>unique_train.N/M</th>\n",
       "      <td>0.513699</td>\n",
       "    </tr>\n",
       "    <tr>\n",
       "      <th>unique_train.N/M-early</th>\n",
       "      <td>0.416290</td>\n",
       "    </tr>\n",
       "    <tr>\n",
       "      <th>unique_train.all_fates</th>\n",
       "      <td>0.412420</td>\n",
       "    </tr>\n",
       "    <tr>\n",
       "      <th>unique_test.N/M</th>\n",
       "      <td>0.467033</td>\n",
       "    </tr>\n",
       "    <tr>\n",
       "      <th>unique_test.N/M-early</th>\n",
       "      <td>0.402256</td>\n",
       "    </tr>\n",
       "    <tr>\n",
       "      <th>unique_test.all_fates</th>\n",
       "      <td>0.363213</td>\n",
       "    </tr>\n",
       "  </tbody>\n",
       "</table>\n",
       "</div>"
      ],
      "text/plain": [
       "                        accuracy\n",
       "all                     0.399327\n",
       "unique_train.N/M        0.513699\n",
       "unique_train.N/M-early  0.416290\n",
       "unique_train.all_fates  0.412420\n",
       "unique_test.N/M         0.467033\n",
       "unique_test.N/M-early   0.402256\n",
       "unique_test.all_fates   0.363213"
      ]
     },
     "execution_count": 672,
     "metadata": {},
     "output_type": "execute_result"
    }
   ],
   "source": [
    "larry.tasks.fate_prediction.metrics.multi_idx_accuracy(F_obs, PBA_F_hat)"
   ]
  },
  {
   "cell_type": "markdown",
   "id": "369a2367",
   "metadata": {},
   "source": [
    "### Neu/Mon correlation"
   ]
  },
  {
   "cell_type": "code",
   "execution_count": 680,
   "id": "278c7da6",
   "metadata": {},
   "outputs": [],
   "source": [
    "test_set = larry.tasks.fate_prediction.weinreb_test_set(adata)"
   ]
  },
  {
   "cell_type": "code",
   "execution_count": 703,
   "id": "88d82ed1",
   "metadata": {},
   "outputs": [],
   "source": [
    "ix = larry.tasks.fate_prediction.InVitroFatePredictionSubsets().indices[\"unique_test\"][\n",
    "    \"N/M-early\"\n",
    "]"
   ]
  },
  {
   "cell_type": "code",
   "execution_count": 709,
   "id": "3f009b37",
   "metadata": {},
   "outputs": [],
   "source": [
    "PBA_F_hat_nm = PBA_F_hat.loc[ix].copy() # test_set.index\n",
    "# F_obs_nm = F_obs.loc[ix]\n",
    "F_obs_nm = F_obs.loc[test_set.index]"
   ]
  },
  {
   "cell_type": "code",
   "execution_count": 710,
   "id": "08d5a18a",
   "metadata": {},
   "outputs": [],
   "source": [
    "y_pred = PBA_F_hat_nm['Neutrophil'].div(PBA_F_hat_nm[['Neutrophil', 'Monocyte']].sum(1))\n",
    "y_true = F_obs_nm['Neutrophil'].div(F_obs_nm[['Neutrophil', 'Monocyte']].sum(1))"
   ]
  },
  {
   "cell_type": "code",
   "execution_count": 712,
   "id": "03a33029",
   "metadata": {},
   "outputs": [
    {
     "data": {
      "text/plain": [
       "PearsonRResult(statistic=0.16236666411029574, pvalue=0.0028778593558526785)"
      ]
     },
     "execution_count": 712,
     "metadata": {},
     "output_type": "execute_result"
    }
   ],
   "source": [
    "scipy.stats.pearsonr(y_true, test_set['PBA'])"
   ]
  },
  {
   "cell_type": "code",
   "execution_count": 697,
   "id": "b92cb31e",
   "metadata": {
    "scrolled": true
   },
   "outputs": [
    {
     "data": {
      "text/plain": [
       "<matplotlib.collections.PathCollection at 0x7f5553f9f310>"
      ]
     },
     "execution_count": 697,
     "metadata": {},
     "output_type": "execute_result"
    },
    {
     "data": {
      "image/png": "[encoded data removed]",
      "text/plain": [
       "<Figure size 640x480 with 1 Axes>"
      ]
     },
     "metadata": {},
     "output_type": "display_data"
    }
   ],
   "source": [
    "plt.scatter(y_true, y_pred)"
   ]
  }
 ],
 "metadata": {
  "kernelspec": {
   "display_name": "sdq-dev",
   "language": "python",
   "name": "sdq-dev"
  },
  "language_info": {
   "codemirror_mode": {
    "name": "ipython",
    "version": 3
   },
   "file_extension": ".py",
   "mimetype": "text/x-python",
   "name": "python",
   "nbconvert_exporter": "python",
   "pygments_lexer": "ipython3",
   "version": "3.9.18"
  }
 },
 "nbformat": 4,
 "nbformat_minor": 5
}
