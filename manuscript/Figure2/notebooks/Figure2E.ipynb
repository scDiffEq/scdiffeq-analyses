{
 "cells": [
  {
   "cell_type": "markdown",
   "id": "d9fb5802",
   "metadata": {},
   "source": [
    "# Plot interpolation results"
   ]
  },
  {
   "cell_type": "code",
   "execution_count": 286,
   "id": "7d5c83b6",
   "metadata": {},
   "outputs": [
    {
     "name": "stdout",
     "output_type": "stream",
     "text": [
      "The nb_black extension is already loaded. To reload it, use:\n",
      "  %reload_ext nb_black\n",
      "train    13.748313\n",
      "test     24.556157\n",
      "dtype: float64\n"
     ]
    },
    {
     "data": {
      "text/html": [
       "<div>\n",
       "<style scoped>\n",
       "    .dataframe tbody tr th:only-of-type {\n",
       "        vertical-align: middle;\n",
       "    }\n",
       "\n",
       "    .dataframe tbody tr th {\n",
       "        vertical-align: top;\n",
       "    }\n",
       "\n",
       "    .dataframe thead th {\n",
       "        text-align: right;\n",
       "    }\n",
       "</style>\n",
       "<table border=\"1\" class=\"dataframe\">\n",
       "  <thead>\n",
       "    <tr style=\"text-align: right;\">\n",
       "      <th></th>\n",
       "      <th>train</th>\n",
       "      <th>test</th>\n",
       "    </tr>\n",
       "  </thead>\n",
       "  <tbody>\n",
       "    <tr>\n",
       "      <th>0</th>\n",
       "      <td>13.113493</td>\n",
       "      <td>24.334347</td>\n",
       "    </tr>\n",
       "    <tr>\n",
       "      <th>1</th>\n",
       "      <td>13.892048</td>\n",
       "      <td>24.157946</td>\n",
       "    </tr>\n",
       "    <tr>\n",
       "      <th>2</th>\n",
       "      <td>13.807034</td>\n",
       "      <td>25.201881</td>\n",
       "    </tr>\n",
       "    <tr>\n",
       "      <th>3</th>\n",
       "      <td>13.941353</td>\n",
       "      <td>24.506296</td>\n",
       "    </tr>\n",
       "    <tr>\n",
       "      <th>4</th>\n",
       "      <td>13.987637</td>\n",
       "      <td>24.580315</td>\n",
       "    </tr>\n",
       "  </tbody>\n",
       "</table>\n",
       "</div>"
      ],
      "text/plain": [
       "       train       test\n",
       "0  13.113493  24.334347\n",
       "1  13.892048  24.157946\n",
       "2  13.807034  25.201881\n",
       "3  13.941353  24.506296\n",
       "4  13.987637  24.580315"
      ]
     },
     "execution_count": 286,
     "metadata": {},
     "output_type": "execute_result"
    },
    {
     "data": {
      "application/javascript": "\n            setTimeout(function() {\n                var nbb_cell_id = 286;\n                var nbb_unformatted_code = \"%load_ext nb_black\\n\\nimport scdiffeq_analyses as sdq_an\\nimport glob, os\\nimport pandas as pd\\nimport seaborn as sns\\nimport numpy as np\\n\\nmetrics_base_path = \\\"./scDiffEq.task_one.timepoint_recovery.seed_{}/version_0/fit_logs/version_0/metrics.csv\\\"\\nMetrics = {seed: pd.read_csv(metrics_base_path.format(seed)) for seed in range(5)}\\nBestTrainTest = {}\\nfor seed, metrics_df in Metrics.items():\\n    BestTrainTest[seed] = {}\\n    task_one = sdq_an.TaskOneSummary(metrics_df)\\n    BestTrainTest[seed][\\\"train\\\"] = task_one.best_train_loss\\n    BestTrainTest[seed][\\\"test\\\"] = task_one.best_test_loss\\n\\nbest_sdq = pd.DataFrame(BestTrainTest).T\\nprint(best_sdq.mean())\\nbest_sdq\";\n                var nbb_formatted_code = \"%load_ext nb_black\\n\\nimport scdiffeq_analyses as sdq_an\\nimport glob, os\\nimport pandas as pd\\nimport seaborn as sns\\nimport numpy as np\\n\\nmetrics_base_path = \\\"./scDiffEq.task_one.timepoint_recovery.seed_{}/version_0/fit_logs/version_0/metrics.csv\\\"\\nMetrics = {seed: pd.read_csv(metrics_base_path.format(seed)) for seed in range(5)}\\nBestTrainTest = {}\\nfor seed, metrics_df in Metrics.items():\\n    BestTrainTest[seed] = {}\\n    task_one = sdq_an.TaskOneSummary(metrics_df)\\n    BestTrainTest[seed][\\\"train\\\"] = task_one.best_train_loss\\n    BestTrainTest[seed][\\\"test\\\"] = task_one.best_test_loss\\n\\nbest_sdq = pd.DataFrame(BestTrainTest).T\\nprint(best_sdq.mean())\\nbest_sdq\";\n                var nbb_cells = Jupyter.notebook.get_cells();\n                for (var i = 0; i < nbb_cells.length; ++i) {\n                    if (nbb_cells[i].input_prompt_number == nbb_cell_id) {\n                        if (nbb_cells[i].get_text() == nbb_unformatted_code) {\n                             nbb_cells[i].set_text(nbb_formatted_code);\n                        }\n                        break;\n                    }\n                }\n            }, 500);\n            ",
      "text/plain": [
       "<IPython.core.display.Javascript object>"
      ]
     },
     "metadata": {},
     "output_type": "display_data"
    }
   ],
   "source": [
    "%load_ext nb_black\n",
    "\n",
    "import scdiffeq_analyses as sdq_an\n",
    "import glob, os\n",
    "import pandas as pd\n",
    "import seaborn as sns\n",
    "import numpy as np\n",
    "\n",
    "metrics_base_path = \"./scDiffEq.task_one.timepoint_recovery.seed_{}/version_0/fit_logs/version_0/metrics.csv\"\n",
    "Metrics = {seed: pd.read_csv(metrics_base_path.format(seed)) for seed in range(5)}\n",
    "BestTrainTest = {}\n",
    "for seed, metrics_df in Metrics.items():\n",
    "    BestTrainTest[seed] = {}\n",
    "    task_one = sdq_an.TaskOneSummary(metrics_df)\n",
    "    BestTrainTest[seed][\"train\"] = task_one.best_train_loss\n",
    "    BestTrainTest[seed][\"test\"] = task_one.best_test_loss\n",
    "\n",
    "best_sdq = pd.DataFrame(BestTrainTest).T\n",
    "print(best_sdq.mean())\n",
    "best_sdq"
   ]
  },
  {
   "cell_type": "code",
   "execution_count": 287,
   "id": "076dff93",
   "metadata": {},
   "outputs": [
    {
     "name": "stdout",
     "output_type": "stream",
     "text": [
      "train    14.944709\n",
      "test     25.845095\n",
      "dtype: float64\n"
     ]
    },
    {
     "data": {
      "text/html": [
       "<div>\n",
       "<style scoped>\n",
       "    .dataframe tbody tr th:only-of-type {\n",
       "        vertical-align: middle;\n",
       "    }\n",
       "\n",
       "    .dataframe tbody tr th {\n",
       "        vertical-align: top;\n",
       "    }\n",
       "\n",
       "    .dataframe thead th {\n",
       "        text-align: right;\n",
       "    }\n",
       "</style>\n",
       "<table border=\"1\" class=\"dataframe\">\n",
       "  <thead>\n",
       "    <tr style=\"text-align: right;\">\n",
       "      <th></th>\n",
       "      <th>train</th>\n",
       "      <th>test</th>\n",
       "    </tr>\n",
       "  </thead>\n",
       "  <tbody>\n",
       "    <tr>\n",
       "      <th>0</th>\n",
       "      <td>15.265286</td>\n",
       "      <td>26.038500</td>\n",
       "    </tr>\n",
       "    <tr>\n",
       "      <th>1</th>\n",
       "      <td>14.392807</td>\n",
       "      <td>25.847347</td>\n",
       "    </tr>\n",
       "    <tr>\n",
       "      <th>2</th>\n",
       "      <td>14.809107</td>\n",
       "      <td>25.358963</td>\n",
       "    </tr>\n",
       "    <tr>\n",
       "      <th>3</th>\n",
       "      <td>15.089598</td>\n",
       "      <td>26.003586</td>\n",
       "    </tr>\n",
       "    <tr>\n",
       "      <th>4</th>\n",
       "      <td>15.166747</td>\n",
       "      <td>25.977081</td>\n",
       "    </tr>\n",
       "  </tbody>\n",
       "</table>\n",
       "</div>"
      ],
      "text/plain": [
       "       train       test\n",
       "0  15.265286  26.038500\n",
       "1  14.392807  25.847347\n",
       "2  14.809107  25.358963\n",
       "3  15.089598  26.003586\n",
       "4  15.166747  25.977081"
      ]
     },
     "execution_count": 287,
     "metadata": {},
     "output_type": "execute_result"
    },
    {
     "data": {
      "application/javascript": "\n            setTimeout(function() {\n                var nbb_cell_id = 287;\n                var nbb_unformatted_code = \"best_prescient = pd.read_csv(\\n    \\\"../../notebooks/task_2_nbs/folder_09_prescient/PRESCIENT.interpolation.no_weights.results.csv\\\",\\n    index_col=0,\\n    names=[\\\"test\\\", \\\"train\\\"],\\n    skiprows=1,\\n)[[\\\"train\\\", \\\"test\\\"]]\\nprint(best_prescient.mean())\\nbest_prescient\";\n                var nbb_formatted_code = \"best_prescient = pd.read_csv(\\n    \\\"../../notebooks/task_2_nbs/folder_09_prescient/PRESCIENT.interpolation.no_weights.results.csv\\\",\\n    index_col=0,\\n    names=[\\\"test\\\", \\\"train\\\"],\\n    skiprows=1,\\n)[[\\\"train\\\", \\\"test\\\"]]\\nprint(best_prescient.mean())\\nbest_prescient\";\n                var nbb_cells = Jupyter.notebook.get_cells();\n                for (var i = 0; i < nbb_cells.length; ++i) {\n                    if (nbb_cells[i].input_prompt_number == nbb_cell_id) {\n                        if (nbb_cells[i].get_text() == nbb_unformatted_code) {\n                             nbb_cells[i].set_text(nbb_formatted_code);\n                        }\n                        break;\n                    }\n                }\n            }, 500);\n            ",
      "text/plain": [
       "<IPython.core.display.Javascript object>"
      ]
     },
     "metadata": {},
     "output_type": "display_data"
    }
   ],
   "source": [
    "best_prescient = pd.read_csv(\n",
    "    \"../../notebooks/task_2_nbs/folder_09_prescient/PRESCIENT.interpolation.no_weights.results.csv\",\n",
    "    index_col=0,\n",
    "    names=[\"test\", \"train\"],\n",
    "    skiprows=1,\n",
    ")[[\"train\", \"test\"]]\n",
    "print(best_prescient.mean())\n",
    "best_prescient"
   ]
  },
  {
   "cell_type": "code",
   "execution_count": 288,
   "id": "e38c3bcc",
   "metadata": {},
   "outputs": [
    {
     "data": {
      "application/javascript": "\n            setTimeout(function() {\n                var nbb_cell_id = 288;\n                var nbb_unformatted_code = \"train_df = pd.DataFrame(\\n    {\\\"PRESCIENT\\\": best_prescient[\\\"train\\\"], \\\"scDiffEq\\\": best_sdq[\\\"train\\\"]}\\n)\\ntest_df = pd.DataFrame(\\n    {\\\"PRESCIENT\\\": best_prescient[\\\"test\\\"], \\\"scDiffEq\\\": best_sdq[\\\"test\\\"]}\\n)\";\n                var nbb_formatted_code = \"train_df = pd.DataFrame(\\n    {\\\"PRESCIENT\\\": best_prescient[\\\"train\\\"], \\\"scDiffEq\\\": best_sdq[\\\"train\\\"]}\\n)\\ntest_df = pd.DataFrame(\\n    {\\\"PRESCIENT\\\": best_prescient[\\\"test\\\"], \\\"scDiffEq\\\": best_sdq[\\\"test\\\"]}\\n)\";\n                var nbb_cells = Jupyter.notebook.get_cells();\n                for (var i = 0; i < nbb_cells.length; ++i) {\n                    if (nbb_cells[i].input_prompt_number == nbb_cell_id) {\n                        if (nbb_cells[i].get_text() == nbb_unformatted_code) {\n                             nbb_cells[i].set_text(nbb_formatted_code);\n                        }\n                        break;\n                    }\n                }\n            }, 500);\n            ",
      "text/plain": [
       "<IPython.core.display.Javascript object>"
      ]
     },
     "metadata": {},
     "output_type": "display_data"
    }
   ],
   "source": [
    "train_df = pd.DataFrame(\n",
    "    {\"PRESCIENT\": best_prescient[\"train\"], \"scDiffEq\": best_sdq[\"train\"]}\n",
    ")\n",
    "test_df = pd.DataFrame(\n",
    "    {\"PRESCIENT\": best_prescient[\"test\"], \"scDiffEq\": best_sdq[\"test\"]}\n",
    ")"
   ]
  },
  {
   "cell_type": "code",
   "execution_count": 321,
   "id": "ca1520b4",
   "metadata": {},
   "outputs": [
    {
     "data": {
      "application/javascript": "\n            setTimeout(function() {\n                var nbb_cell_id = 321;\n                var nbb_unformatted_code = \"import matplotlib.pyplot as plt\\nfrom scdiffeq.core.utils import AutoParseBase\\n\\n\\nclass StyledBoxPlot(AutoParseBase):\\n    def __init__(\\n        self,\\n        figsize=None,\\n        figsize_height=1,\\n        figsize_width=1,\\n        box_face_zorder=7,\\n        box_edge_zorder=8,\\n        scatter_zorder=10,\\n        lw=0.5,\\n        widths=0.5,\\n    ):\\n        self.__parse__(locals())\\n        self.build_plot()\\n\\n    def __configure__(self, data):\\n\\n        self.columns = data.columns.tolist()\\n\\n    def build_plot(self):\\n\\n        self.fig, self.axes = vinplots.quick_plot(\\n            nplots=2,\\n            ncols=2,\\n            figsize=self.figsize,\\n            figsize_height=self.figsize_height,\\n            figsize_width=self.figsize_width,\\n            wspace=0.4,\\n        )\\n\\n    def scatter(\\n        self, ax, x: float, y: pd.Series, w_scale: float = 0.02, **scatter_kwargs\\n    ):\\n\\n        n_pts = y.shape[0]\\n        x = np.random.normal(loc=x, scale=w_scale, size=n_pts)\\n\\n        ax.scatter(x, y, edgecolor=\\\"None\\\", **scatter_kwargs)\\n\\n    def run_scatter(self, ax, alpha=0.8):\\n\\n        for i in range(len(self.columns)):\\n            self.scatter(\\n                ax,\\n                x=i + 1,\\n                y=self.data[self.columns[i]],\\n                c=self.colors[i],\\n                zorder=self.scatter_zorder,\\n                alpha=alpha,\\n                s=35,\\n            )\\n\\n    def _whisker_cap_colors(self):\\n        for color in self.colors:\\n            for c in [color] * 2:\\n                yield c\\n\\n    @property\\n    def whisker_cap_colors(self):\\n        return list(self._whisker_cap_colors())\\n\\n    def _edge_box(self, ax):\\n        box_edges = ax.boxplot(\\n            self.data.values,\\n            patch_artist=True,\\n            showmeans=True,\\n            meanline=True,\\n            showfliers=False,\\n            widths=self.widths,\\n            zorder=self.box_edge_zorder,\\n        )\\n\\n        for n, patch in enumerate(box_edges[\\\"whiskers\\\"]):\\n            patch.set_c(self.whisker_cap_colors[n])\\n            patch.set_linewidth(self.lw)\\n        for n, patch in enumerate(box_edges[\\\"caps\\\"]):\\n            patch.set_c(self.whisker_cap_colors[n])\\n            patch.set_linewidth(self.lw)\\n\\n        for n, box_mean in enumerate(box_edges[\\\"means\\\"]):\\n            box_mean.set_color(self.colors[n])\\n            box_mean.set_linestyle(\\\"--\\\")\\n            box_mean.set_linewidth(self.lw * 2)\\n        for box_median in box_edges[\\\"medians\\\"]:\\n            box_median.set_visible(False)\\n        for n, box_edge in enumerate(box_edges[\\\"boxes\\\"]):\\n            box_edge.set_facecolor([0, 0, 0, 0])\\n            box_edge.set_edgecolor(self.colors[n])  #\\n            box_edge.set_linewidth(self.lw)\\n\\n    def run_boxplot(self, ax, alpha=0.3):\\n\\n        box = ax.boxplot(\\n            self.data.values,\\n            showmeans=False,\\n            meanline=False,\\n            widths=self.widths,\\n            labels=self.columns,\\n            patch_artist=True,\\n            showfliers=False,\\n            zorder=self.box_face_zorder,\\n        )\\n        ax.set_xticks([])\\n\\n        for patch in box[\\\"whiskers\\\"]:\\n            patch.set_visible(False)\\n        for patch in box[\\\"caps\\\"]:\\n            patch.set_visible(False)\\n\\n        for patch in box[\\\"medians\\\"]:\\n            patch.set_visible(False)\\n\\n        for n, patch in enumerate(box[\\\"boxes\\\"]):\\n            patch.set_facecolor(self.colors[n])\\n            patch.set_alpha(alpha)\\n\\n        self._edge_box(ax)\\n\\n    def __call__(self, ax, data):\\n\\n        self.data = data\\n\\n        #         self.colors = [\\\"olivedrab\\\", \\\"dodgerblue\\\", \\\"salmon\\\", \\\"goldenrod\\\"]\\n        self.colors = [\\\"#fb8500\\\", \\\"#023047\\\"]\\n        self.__configure__(data)\\n        self.run_scatter(ax=ax)\\n        self.run_boxplot(ax=ax)\";\n                var nbb_formatted_code = \"import matplotlib.pyplot as plt\\nfrom scdiffeq.core.utils import AutoParseBase\\n\\n\\nclass StyledBoxPlot(AutoParseBase):\\n    def __init__(\\n        self,\\n        figsize=None,\\n        figsize_height=1,\\n        figsize_width=1,\\n        box_face_zorder=7,\\n        box_edge_zorder=8,\\n        scatter_zorder=10,\\n        lw=0.5,\\n        widths=0.5,\\n    ):\\n        self.__parse__(locals())\\n        self.build_plot()\\n\\n    def __configure__(self, data):\\n\\n        self.columns = data.columns.tolist()\\n\\n    def build_plot(self):\\n\\n        self.fig, self.axes = vinplots.quick_plot(\\n            nplots=2,\\n            ncols=2,\\n            figsize=self.figsize,\\n            figsize_height=self.figsize_height,\\n            figsize_width=self.figsize_width,\\n            wspace=0.4,\\n        )\\n\\n    def scatter(\\n        self, ax, x: float, y: pd.Series, w_scale: float = 0.02, **scatter_kwargs\\n    ):\\n\\n        n_pts = y.shape[0]\\n        x = np.random.normal(loc=x, scale=w_scale, size=n_pts)\\n\\n        ax.scatter(x, y, edgecolor=\\\"None\\\", **scatter_kwargs)\\n\\n    def run_scatter(self, ax, alpha=0.8):\\n\\n        for i in range(len(self.columns)):\\n            self.scatter(\\n                ax,\\n                x=i + 1,\\n                y=self.data[self.columns[i]],\\n                c=self.colors[i],\\n                zorder=self.scatter_zorder,\\n                alpha=alpha,\\n                s=35,\\n            )\\n\\n    def _whisker_cap_colors(self):\\n        for color in self.colors:\\n            for c in [color] * 2:\\n                yield c\\n\\n    @property\\n    def whisker_cap_colors(self):\\n        return list(self._whisker_cap_colors())\\n\\n    def _edge_box(self, ax):\\n        box_edges = ax.boxplot(\\n            self.data.values,\\n            patch_artist=True,\\n            showmeans=True,\\n            meanline=True,\\n            showfliers=False,\\n            widths=self.widths,\\n            zorder=self.box_edge_zorder,\\n        )\\n\\n        for n, patch in enumerate(box_edges[\\\"whiskers\\\"]):\\n            patch.set_c(self.whisker_cap_colors[n])\\n            patch.set_linewidth(self.lw)\\n        for n, patch in enumerate(box_edges[\\\"caps\\\"]):\\n            patch.set_c(self.whisker_cap_colors[n])\\n            patch.set_linewidth(self.lw)\\n\\n        for n, box_mean in enumerate(box_edges[\\\"means\\\"]):\\n            box_mean.set_color(self.colors[n])\\n            box_mean.set_linestyle(\\\"--\\\")\\n            box_mean.set_linewidth(self.lw * 2)\\n        for box_median in box_edges[\\\"medians\\\"]:\\n            box_median.set_visible(False)\\n        for n, box_edge in enumerate(box_edges[\\\"boxes\\\"]):\\n            box_edge.set_facecolor([0, 0, 0, 0])\\n            box_edge.set_edgecolor(self.colors[n])  #\\n            box_edge.set_linewidth(self.lw)\\n\\n    def run_boxplot(self, ax, alpha=0.3):\\n\\n        box = ax.boxplot(\\n            self.data.values,\\n            showmeans=False,\\n            meanline=False,\\n            widths=self.widths,\\n            labels=self.columns,\\n            patch_artist=True,\\n            showfliers=False,\\n            zorder=self.box_face_zorder,\\n        )\\n        ax.set_xticks([])\\n\\n        for patch in box[\\\"whiskers\\\"]:\\n            patch.set_visible(False)\\n        for patch in box[\\\"caps\\\"]:\\n            patch.set_visible(False)\\n\\n        for patch in box[\\\"medians\\\"]:\\n            patch.set_visible(False)\\n\\n        for n, patch in enumerate(box[\\\"boxes\\\"]):\\n            patch.set_facecolor(self.colors[n])\\n            patch.set_alpha(alpha)\\n\\n        self._edge_box(ax)\\n\\n    def __call__(self, ax, data):\\n\\n        self.data = data\\n\\n        #         self.colors = [\\\"olivedrab\\\", \\\"dodgerblue\\\", \\\"salmon\\\", \\\"goldenrod\\\"]\\n        self.colors = [\\\"#fb8500\\\", \\\"#023047\\\"]\\n        self.__configure__(data)\\n        self.run_scatter(ax=ax)\\n        self.run_boxplot(ax=ax)\";\n                var nbb_cells = Jupyter.notebook.get_cells();\n                for (var i = 0; i < nbb_cells.length; ++i) {\n                    if (nbb_cells[i].input_prompt_number == nbb_cell_id) {\n                        if (nbb_cells[i].get_text() == nbb_unformatted_code) {\n                             nbb_cells[i].set_text(nbb_formatted_code);\n                        }\n                        break;\n                    }\n                }\n            }, 500);\n            ",
      "text/plain": [
       "<IPython.core.display.Javascript object>"
      ]
     },
     "metadata": {},
     "output_type": "display_data"
    }
   ],
   "source": [
    "import matplotlib.pyplot as plt\n",
    "from scdiffeq.core.utils import AutoParseBase\n",
    "\n",
    "\n",
    "class StyledBoxPlot(AutoParseBase):\n",
    "    def __init__(\n",
    "        self,\n",
    "        figsize=None,\n",
    "        figsize_height=1,\n",
    "        figsize_width=1,\n",
    "        box_face_zorder=7,\n",
    "        box_edge_zorder=8,\n",
    "        scatter_zorder=10,\n",
    "        lw=0.5,\n",
    "        widths=0.5,\n",
    "    ):\n",
    "        self.__parse__(locals())\n",
    "        self.build_plot()\n",
    "\n",
    "    def __configure__(self, data):\n",
    "\n",
    "        self.columns = data.columns.tolist()\n",
    "\n",
    "    def build_plot(self):\n",
    "\n",
    "        self.fig, self.axes = vinplots.quick_plot(\n",
    "            nplots=2,\n",
    "            ncols=2,\n",
    "            figsize=self.figsize,\n",
    "            figsize_height=self.figsize_height,\n",
    "            figsize_width=self.figsize_width,\n",
    "            wspace=0.4,\n",
    "        )\n",
    "\n",
    "    def scatter(\n",
    "        self, ax, x: float, y: pd.Series, w_scale: float = 0.02, **scatter_kwargs\n",
    "    ):\n",
    "\n",
    "        n_pts = y.shape[0]\n",
    "        x = np.random.normal(loc=x, scale=w_scale, size=n_pts)\n",
    "\n",
    "        ax.scatter(x, y, edgecolor=\"None\", **scatter_kwargs)\n",
    "\n",
    "    def run_scatter(self, ax, alpha=0.8):\n",
    "\n",
    "        for i in range(len(self.columns)):\n",
    "            self.scatter(\n",
    "                ax,\n",
    "                x=i + 1,\n",
    "                y=self.data[self.columns[i]],\n",
    "                c=self.colors[i],\n",
    "                zorder=self.scatter_zorder,\n",
    "                alpha=alpha,\n",
    "                s=35,\n",
    "            )\n",
    "\n",
    "    def _whisker_cap_colors(self):\n",
    "        for color in self.colors:\n",
    "            for c in [color] * 2:\n",
    "                yield c\n",
    "\n",
    "    @property\n",
    "    def whisker_cap_colors(self):\n",
    "        return list(self._whisker_cap_colors())\n",
    "\n",
    "    def _edge_box(self, ax):\n",
    "        box_edges = ax.boxplot(\n",
    "            self.data.values,\n",
    "            patch_artist=True,\n",
    "            showmeans=True,\n",
    "            meanline=True,\n",
    "            showfliers=False,\n",
    "            widths=self.widths,\n",
    "            zorder=self.box_edge_zorder,\n",
    "        )\n",
    "\n",
    "        for n, patch in enumerate(box_edges[\"whiskers\"]):\n",
    "            patch.set_c(self.whisker_cap_colors[n])\n",
    "            patch.set_linewidth(self.lw)\n",
    "        for n, patch in enumerate(box_edges[\"caps\"]):\n",
    "            patch.set_c(self.whisker_cap_colors[n])\n",
    "            patch.set_linewidth(self.lw)\n",
    "\n",
    "        for n, box_mean in enumerate(box_edges[\"means\"]):\n",
    "            box_mean.set_color(self.colors[n])\n",
    "            box_mean.set_linestyle(\"--\")\n",
    "            box_mean.set_linewidth(self.lw * 2)\n",
    "        for box_median in box_edges[\"medians\"]:\n",
    "            box_median.set_visible(False)\n",
    "        for n, box_edge in enumerate(box_edges[\"boxes\"]):\n",
    "            box_edge.set_facecolor([0, 0, 0, 0])\n",
    "            box_edge.set_edgecolor(self.colors[n])  #\n",
    "            box_edge.set_linewidth(self.lw)\n",
    "\n",
    "    def run_boxplot(self, ax, alpha=0.3):\n",
    "\n",
    "        box = ax.boxplot(\n",
    "            self.data.values,\n",
    "            showmeans=False,\n",
    "            meanline=False,\n",
    "            widths=self.widths,\n",
    "            labels=self.columns,\n",
    "            patch_artist=True,\n",
    "            showfliers=False,\n",
    "            zorder=self.box_face_zorder,\n",
    "        )\n",
    "        ax.set_xticks([])\n",
    "\n",
    "        for patch in box[\"whiskers\"]:\n",
    "            patch.set_visible(False)\n",
    "        for patch in box[\"caps\"]:\n",
    "            patch.set_visible(False)\n",
    "\n",
    "        for patch in box[\"medians\"]:\n",
    "            patch.set_visible(False)\n",
    "\n",
    "        for n, patch in enumerate(box[\"boxes\"]):\n",
    "            patch.set_facecolor(self.colors[n])\n",
    "            patch.set_alpha(alpha)\n",
    "\n",
    "        self._edge_box(ax)\n",
    "\n",
    "    def __call__(self, ax, data):\n",
    "\n",
    "        self.data = data\n",
    "\n",
    "        #         self.colors = [\"olivedrab\", \"dodgerblue\", \"salmon\", \"goldenrod\"]\n",
    "        self.colors = [\"#fb8500\", \"#023047\"]\n",
    "        self.__configure__(data)\n",
    "        self.run_scatter(ax=ax)\n",
    "        self.run_boxplot(ax=ax)"
   ]
  },
  {
   "cell_type": "markdown",
   "id": "9061ecca",
   "metadata": {},
   "source": [
    "### Plot"
   ]
  },
  {
   "cell_type": "code",
   "execution_count": 324,
   "id": "3ee47ab3",
   "metadata": {},
   "outputs": [
    {
     "data": {
      "image/png": "[encoded data removed]",
      "text/plain": [
       "<Figure size 256x240 with 2 Axes>"
      ]
     },
     "metadata": {},
     "output_type": "display_data"
    },
    {
     "data": {
      "application/javascript": "\n            setTimeout(function() {\n                var nbb_cell_id = 324;\n                var nbb_unformatted_code = \"sbp = StyledBoxPlot(figsize_width=0.2, figsize_height=0.5)\\nsbp(ax=sbp.axes[0], data=train_df)\\nsbp(ax=sbp.axes[1], data=test_df)\\nsbp.axes[0].set_ylim(13, 16)\\nsbp.axes[1].set_ylim(24, 27)\\n\\nxt = sbp.axes[0].set_xticks(range(1, 3), [\\\"PRESCIENT\\\", \\\"scDiffEq\\\"], fontsize=6)\\nxt = sbp.axes[1].set_xticks(range(1, 3), [\\\"PRESCIENT\\\", \\\"scDiffEq\\\"], fontsize=6)\\nyt = sbp.axes[0].set_yticks(range(13, 17), range(13, 17), fontsize=6)\\nyt = sbp.axes[1].set_yticks(range(24, 28), range(24, 28), fontsize=6)\\n\\nti = sbp.axes[0].set_title(\\\"Training (d6)\\\", fontsize=10)\\nti = sbp.axes[1].set_title(\\\"Test (d4)\\\", fontsize=10)\\nyl = sbp.axes[0].set_ylabel(\\\"$W_{2}$ Distance\\\")\\nplt.savefig(\\\"task_one.interpolation.results.svg\\\")\";\n                var nbb_formatted_code = \"sbp = StyledBoxPlot(figsize_width=0.2, figsize_height=0.5)\\nsbp(ax=sbp.axes[0], data=train_df)\\nsbp(ax=sbp.axes[1], data=test_df)\\nsbp.axes[0].set_ylim(13, 16)\\nsbp.axes[1].set_ylim(24, 27)\\n\\nxt = sbp.axes[0].set_xticks(range(1, 3), [\\\"PRESCIENT\\\", \\\"scDiffEq\\\"], fontsize=6)\\nxt = sbp.axes[1].set_xticks(range(1, 3), [\\\"PRESCIENT\\\", \\\"scDiffEq\\\"], fontsize=6)\\nyt = sbp.axes[0].set_yticks(range(13, 17), range(13, 17), fontsize=6)\\nyt = sbp.axes[1].set_yticks(range(24, 28), range(24, 28), fontsize=6)\\n\\nti = sbp.axes[0].set_title(\\\"Training (d6)\\\", fontsize=10)\\nti = sbp.axes[1].set_title(\\\"Test (d4)\\\", fontsize=10)\\nyl = sbp.axes[0].set_ylabel(\\\"$W_{2}$ Distance\\\")\\nplt.savefig(\\\"task_one.interpolation.results.svg\\\")\";\n                var nbb_cells = Jupyter.notebook.get_cells();\n                for (var i = 0; i < nbb_cells.length; ++i) {\n                    if (nbb_cells[i].input_prompt_number == nbb_cell_id) {\n                        if (nbb_cells[i].get_text() == nbb_unformatted_code) {\n                             nbb_cells[i].set_text(nbb_formatted_code);\n                        }\n                        break;\n                    }\n                }\n            }, 500);\n            ",
      "text/plain": [
       "<IPython.core.display.Javascript object>"
      ]
     },
     "metadata": {},
     "output_type": "display_data"
    }
   ],
   "source": [
    "sbp = StyledBoxPlot(figsize_width=0.2, figsize_height=0.5)\n",
    "sbp(ax=sbp.axes[0], data=train_df)\n",
    "sbp(ax=sbp.axes[1], data=test_df)\n",
    "sbp.axes[0].set_ylim(13, 16)\n",
    "sbp.axes[1].set_ylim(24, 27)\n",
    "\n",
    "xt = sbp.axes[0].set_xticks(range(1, 3), [\"PRESCIENT\", \"scDiffEq\"], fontsize=6)\n",
    "xt = sbp.axes[1].set_xticks(range(1, 3), [\"PRESCIENT\", \"scDiffEq\"], fontsize=6)\n",
    "yt = sbp.axes[0].set_yticks(range(13, 17), range(13, 17), fontsize=6)\n",
    "yt = sbp.axes[1].set_yticks(range(24, 28), range(24, 28), fontsize=6)\n",
    "\n",
    "ti = sbp.axes[0].set_title(\"Training (d6)\", fontsize=10)\n",
    "ti = sbp.axes[1].set_title(\"Test (d4)\", fontsize=10)\n",
    "yl = sbp.axes[0].set_ylabel(\"$W_{2}$ Distance\")\n",
    "plt.savefig(\"task_one.interpolation.results.svg\")"
   ]
  }
 ],
 "metadata": {
  "kernelspec": {
   "display_name": "Python [conda env:sdq]",
   "language": "python",
   "name": "conda-env-sdq-py"
  },
  "language_info": {
   "codemirror_mode": {
    "name": "ipython",
    "version": 3
   },
   "file_extension": ".py",
   "mimetype": "text/x-python",
   "name": "python",
   "nbconvert_exporter": "python",
   "pygments_lexer": "ipython3",
   "version": "3.9.15"
  }
 },
 "nbformat": 4,
 "nbformat_minor": 5
}
