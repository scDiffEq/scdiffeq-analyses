{
 "cells": [
  {
   "cell_type": "markdown",
   "id": "e8d5b868-d7f2-4272-b407-452425401e2c",
   "metadata": {},
   "source": [
    "## Import packages"
   ]
  },
  {
   "cell_type": "code",
   "execution_count": 1,
   "id": "9c77cdeb-6403-4bb6-917e-a8ab322e9595",
   "metadata": {},
   "outputs": [],
   "source": [
    "import pandas as pd\n",
    "import scdiffeq as sdq\n",
    "import scipy.stats"
   ]
  },
  {
   "cell_type": "markdown",
   "id": "de55127d-e195-43a2-a90e-6e52ed0c0ead",
   "metadata": {},
   "source": [
    "## Load results"
   ]
  },
  {
   "cell_type": "code",
   "execution_count": 2,
   "id": "35ebdec1-d035-49ee-ac2c-8d7416a25d41",
   "metadata": {},
   "outputs": [],
   "source": [
    "Perturbed = sdq.io.read_pickle(\"./Spi1.perturb.z_scan.pkl\")"
   ]
  },
  {
   "cell_type": "markdown",
   "id": "a184f933-9467-4e0a-b454-36fa7f5545fc",
   "metadata": {},
   "source": [
    "## Loop through the results, concat into table"
   ]
  },
  {
   "cell_type": "code",
   "execution_count": 3,
   "id": "354a9598-3790-47ae-88cf-e9410b4848fa",
   "metadata": {},
   "outputs": [
    {
     "data": {
      "text/html": [
       "<div>\n",
       "<style scoped>\n",
       "    .dataframe tbody tr th:only-of-type {\n",
       "        vertical-align: middle;\n",
       "    }\n",
       "\n",
       "    .dataframe tbody tr th {\n",
       "        vertical-align: top;\n",
       "    }\n",
       "\n",
       "    .dataframe thead th {\n",
       "        text-align: right;\n",
       "    }\n",
       "</style>\n",
       "<table border=\"1\" class=\"dataframe\">\n",
       "  <thead>\n",
       "    <tr style=\"text-align: right;\">\n",
       "      <th></th>\n",
       "      <th>lfc</th>\n",
       "      <th>lfc_std</th>\n",
       "      <th>pval</th>\n",
       "      <th>version</th>\n",
       "      <th>z</th>\n",
       "    </tr>\n",
       "  </thead>\n",
       "  <tbody>\n",
       "    <tr>\n",
       "      <th>Baso</th>\n",
       "      <td>0.012356</td>\n",
       "      <td>0.152108</td>\n",
       "      <td>0.847814</td>\n",
       "      <td>version_0</td>\n",
       "      <td>-10.0</td>\n",
       "    </tr>\n",
       "    <tr>\n",
       "      <th>Ccr7_DC</th>\n",
       "      <td>-3.786314</td>\n",
       "      <td>8.466456</td>\n",
       "      <td>0.373901</td>\n",
       "      <td>version_0</td>\n",
       "      <td>-10.0</td>\n",
       "    </tr>\n",
       "    <tr>\n",
       "      <th>Eos</th>\n",
       "      <td>-0.483007</td>\n",
       "      <td>0.360628</td>\n",
       "      <td>0.072644</td>\n",
       "      <td>version_0</td>\n",
       "      <td>-10.0</td>\n",
       "    </tr>\n",
       "    <tr>\n",
       "      <th>Lymphoid</th>\n",
       "      <td>3.986314</td>\n",
       "      <td>15.800427</td>\n",
       "      <td>0.607584</td>\n",
       "      <td>version_0</td>\n",
       "      <td>-10.0</td>\n",
       "    </tr>\n",
       "    <tr>\n",
       "      <th>Mast</th>\n",
       "      <td>0.031224</td>\n",
       "      <td>0.144437</td>\n",
       "      <td>0.621027</td>\n",
       "      <td>version_0</td>\n",
       "      <td>-10.0</td>\n",
       "    </tr>\n",
       "    <tr>\n",
       "      <th>...</th>\n",
       "      <td>...</td>\n",
       "      <td>...</td>\n",
       "      <td>...</td>\n",
       "      <td>...</td>\n",
       "      <td>...</td>\n",
       "    </tr>\n",
       "    <tr>\n",
       "      <th>Mast</th>\n",
       "      <td>-0.029032</td>\n",
       "      <td>0.223107</td>\n",
       "      <td>0.682293</td>\n",
       "      <td>version_4</td>\n",
       "      <td>10.0</td>\n",
       "    </tr>\n",
       "    <tr>\n",
       "      <th>Meg</th>\n",
       "      <td>-0.336100</td>\n",
       "      <td>0.644422</td>\n",
       "      <td>0.206413</td>\n",
       "      <td>version_4</td>\n",
       "      <td>10.0</td>\n",
       "    </tr>\n",
       "    <tr>\n",
       "      <th>Monocyte</th>\n",
       "      <td>0.170410</td>\n",
       "      <td>0.081715</td>\n",
       "      <td>0.002381</td>\n",
       "      <td>version_4</td>\n",
       "      <td>10.0</td>\n",
       "    </tr>\n",
       "    <tr>\n",
       "      <th>Neutrophil</th>\n",
       "      <td>0.066611</td>\n",
       "      <td>0.074323</td>\n",
       "      <td>0.050309</td>\n",
       "      <td>version_4</td>\n",
       "      <td>10.0</td>\n",
       "    </tr>\n",
       "    <tr>\n",
       "      <th>Undifferentiated</th>\n",
       "      <td>-0.088646</td>\n",
       "      <td>0.051462</td>\n",
       "      <td>0.018303</td>\n",
       "      <td>version_4</td>\n",
       "      <td>10.0</td>\n",
       "    </tr>\n",
       "  </tbody>\n",
       "</table>\n",
       "<p>406 rows × 5 columns</p>\n",
       "</div>"
      ],
      "text/plain": [
       "                       lfc    lfc_std      pval    version     z\n",
       "Baso              0.012356   0.152108  0.847814  version_0 -10.0\n",
       "Ccr7_DC          -3.786314   8.466456  0.373901  version_0 -10.0\n",
       "Eos              -0.483007   0.360628  0.072644  version_0 -10.0\n",
       "Lymphoid          3.986314  15.800427  0.607584  version_0 -10.0\n",
       "Mast              0.031224   0.144437  0.621027  version_0 -10.0\n",
       "...                    ...        ...       ...        ...   ...\n",
       "Mast             -0.029032   0.223107  0.682293  version_4  10.0\n",
       "Meg              -0.336100   0.644422  0.206413  version_4  10.0\n",
       "Monocyte          0.170410   0.081715  0.002381  version_4  10.0\n",
       "Neutrophil        0.066611   0.074323  0.050309  version_4  10.0\n",
       "Undifferentiated -0.088646   0.051462  0.018303  version_4  10.0\n",
       "\n",
       "[406 rows x 5 columns]"
      ]
     },
     "execution_count": 3,
     "metadata": {},
     "output_type": "execute_result"
    }
   ],
   "source": [
    "list_of_dfs = []\n",
    "for version, result in Perturbed.items():\n",
    "    for z, expt in result.items():\n",
    "        expt.stats['version'] = version\n",
    "        expt.stats['z'] = z\n",
    "        list_of_dfs.append(expt.stats)\n",
    "df = pd.concat(list_of_dfs)\n",
    "df"
   ]
  },
  {
   "cell_type": "markdown",
   "id": "6e078f84-8a18-45ec-a502-92139005170e",
   "metadata": {},
   "source": [
    "## Write to csv"
   ]
  },
  {
   "cell_type": "code",
   "execution_count": 4,
   "id": "96388cf8-21a9-4772-bcdc-c000c8d9c1b5",
   "metadata": {},
   "outputs": [],
   "source": [
    "df.to_csv(\"supplementary_table.accompanies_3J.csv\")"
   ]
  },
  {
   "cell_type": "markdown",
   "id": "41e551ae-0f6a-4fe9-9c21-e084e961adcb",
   "metadata": {},
   "source": [
    "## Compute correlations\n",
    "\n",
    "Annotate the **Figure 3J** with the results"
   ]
  },
  {
   "cell_type": "code",
   "execution_count": 5,
   "id": "fbb17d0c-7362-419e-8ccc-43afdde7e608",
   "metadata": {},
   "outputs": [
    {
     "name": "stdout",
     "output_type": "stream",
     "text": [
      "Neutrophil | corr: 0.684  [pval: 2.280e-07]\n",
      "Monocyte   | corr: 0.883  [pval: 1.034e-15]\n",
      "Baso       | corr: -0.906 [pval: 1.182e-17]\n"
     ]
    }
   ],
   "source": [
    "grouped = df.reset_index().rename({\"index\": \"fate\"}, axis = 1).groupby(\"fate\")\n",
    "for fate in ['Neutrophil', 'Monocyte', 'Baso']:\n",
    "    fate_group = grouped.get_group(fate)\n",
    "    corr, pval = scipy.stats.pearsonr(fate_group['z'].values, fate_group['lfc'].values)\n",
    "    print(\"{:<10} | corr: {:<6} [pval: {:.3e}]\".format(fate, round(corr, 3), pval))"
   ]
  }
 ],
 "metadata": {
  "kernelspec": {
   "display_name": "Python (scdiffeq)",
   "language": "python",
   "name": "scdiffeq"
  },
  "language_info": {
   "codemirror_mode": {
    "name": "ipython",
    "version": 3
   },
   "file_extension": ".py",
   "mimetype": "text/x-python",
   "name": "python",
   "nbconvert_exporter": "python",
   "pygments_lexer": "ipython3",
   "version": "3.9.19"
  }
 },
 "nbformat": 4,
 "nbformat_minor": 5
}
