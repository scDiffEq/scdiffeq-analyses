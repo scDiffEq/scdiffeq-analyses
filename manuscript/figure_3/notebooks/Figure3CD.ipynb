{
 "cells": [
  {
   "cell_type": "code",
   "execution_count": 1,
   "id": "73f522c7",
   "metadata": {},
   "outputs": [
    {
     "name": "stderr",
     "output_type": "stream",
     "text": [
      "/home/mvinyard/.anaconda3/envs/sdq-dev/lib/python3.9/site-packages/torch/cuda/__init__.py:611: UserWarning: Can't initialize NVML\n",
      "  warnings.warn(\"Can't initialize NVML\")\n",
      "scdiffeq.scdiffeq - INFO - Logs for scdiffeq will be saved to: /home/mvinyard/.log_cache/scdiffeq.log\n"
     ]
    },
    {
     "data": {
      "application/javascript": [
       "\n",
       "        setTimeout(function() {\n",
       "            var nbb_cell_id = 1;\n",
       "            var nbb_formatted_code = \"%load_ext nb_black\\n\\nimport anndata\\nimport cellplots as cp\\nimport larry\\nimport matplotlib.pyplot as plt\\nimport numpy as np\\nimport pandas as pd\\nimport scdiffeq as sdq\\nimport scdiffeq_analyses as sdq_an\\nimport scipy.stats\\nimport seaborn as sns\\nimport torch\\n\\nfrom typing import Any, Dict, Optional\";\n",
       "            var nbb_cells = Jupyter.notebook.get_cells();\n",
       "            for (var i = 0; i < nbb_cells.length; ++i) {\n",
       "                if (nbb_cells[i].input_prompt_number == nbb_cell_id) {\n",
       "                    nbb_cells[i].set_text(nbb_formatted_code);\n",
       "                    break;\n",
       "                }\n",
       "            }\n",
       "        }, 500);\n",
       "        "
      ],
      "text/plain": [
       "<IPython.core.display.Javascript object>"
      ]
     },
     "metadata": {},
     "output_type": "display_data"
    }
   ],
   "source": [
    "%load_ext nb_black\n",
    "\n",
    "import anndata\n",
    "import cellplots as cp\n",
    "import larry\n",
    "import matplotlib.pyplot as plt\n",
    "import matplotlib.cm as cm\n",
    "import numpy as np\n",
    "import pandas as pd\n",
    "import scdiffeq as sdq\n",
    "import scdiffeq_analyses as sdq_an\n",
    "import scipy.stats\n",
    "import seaborn as sns\n",
    "import torch\n",
    "\n",
    "from typing import Any, Dict, Optional"
   ]
  },
  {
   "cell_type": "code",
   "execution_count": 2,
   "id": "357827c6",
   "metadata": {},
   "outputs": [
    {
     "name": "stdout",
     "output_type": "stream",
     "text": [
      "AnnData object with n_obs × n_vars = 130887 × 2492\n",
      "    obs: 'Library', 'Cell barcode', 'Time point', 'Starting population', 'Cell type annotation', 'Well', 'SPRING-x', 'SPRING-y', 'clone_idx', 'fate_observed', 't0_fated', 'train'\n",
      "    var: 'gene_ids', 'hv_gene', 'must_include', 'exclude', 'use_genes'\n",
      "    uns: 'fate_counts', 'h5ad_path', 'time_occupance'\n",
      "    obsm: 'X_clone', 'X_pca', 'X_umap', 'cell_fate_df'\n",
      "    layers: 'X_scaled'\n"
     ]
    },
    {
     "name": "stderr",
     "output_type": "stream",
     "text": [
      "/home/mvinyard/.anaconda3/envs/sdq-dev/lib/python3.9/site-packages/sklearn/base.py:318: UserWarning: Trying to unpickle estimator PCA from version 1.0.2 when using version 1.2.2. This might lead to breaking code or invalid results. Use at your own risk. For more info please refer to:\n",
      "https://scikit-learn.org/stable/model_persistence.html#security-maintainability-limitations\n",
      "  warnings.warn(\n"
     ]
    },
    {
     "data": {
      "application/javascript": [
       "\n",
       "        setTimeout(function() {\n",
       "            var nbb_cell_id = 2;\n",
       "            var nbb_formatted_code = \"h5ad_path = (\\n    \\\"/home/mvinyard/data/adata.reprocessed_19OCT2023.more_feature_inclusive.h5ad\\\"\\n)\\nadata = sdq.io.read_h5ad(h5ad_path)\\nlarry_cmap = larry.pl.InVitroColorMap()._dict\\n\\nPCA = sdq.io.read_pickle(\\\"/home/mvinyard/data/pca_model.pkl\\\")\\nUMAP = sdq.io.read_pickle(\\\"/home/mvinyard/data/umap_model.pkl\\\")\";\n",
       "            var nbb_cells = Jupyter.notebook.get_cells();\n",
       "            for (var i = 0; i < nbb_cells.length; ++i) {\n",
       "                if (nbb_cells[i].input_prompt_number == nbb_cell_id) {\n",
       "                    nbb_cells[i].set_text(nbb_formatted_code);\n",
       "                    break;\n",
       "                }\n",
       "            }\n",
       "        }, 500);\n",
       "        "
      ],
      "text/plain": [
       "<IPython.core.display.Javascript object>"
      ]
     },
     "metadata": {},
     "output_type": "display_data"
    }
   ],
   "source": [
    "h5ad_path = (\n",
    "    \"/home/mvinyard/data/adata.reprocessed_19OCT2023.more_feature_inclusive.h5ad\"\n",
    ")\n",
    "adata = sdq.io.read_h5ad(h5ad_path)\n",
    "larry_cmap = larry.pl.InVitroColorMap()._dict\n",
    "\n",
    "PCA = sdq.io.read_pickle(\"/home/mvinyard/data/pca_model.pkl\")\n",
    "UMAP = sdq.io.read_pickle(\"/home/mvinyard/data/umap_model.pkl\")"
   ]
  },
  {
   "cell_type": "code",
   "execution_count": 3,
   "id": "1e7edff2",
   "metadata": {},
   "outputs": [
    {
     "data": {
      "text/html": [
       "<div>\n",
       "<style scoped>\n",
       "    .dataframe tbody tr th:only-of-type {\n",
       "        vertical-align: middle;\n",
       "    }\n",
       "\n",
       "    .dataframe tbody tr th {\n",
       "        vertical-align: top;\n",
       "    }\n",
       "\n",
       "    .dataframe thead th {\n",
       "        text-align: right;\n",
       "    }\n",
       "</style>\n",
       "<table border=\"1\" class=\"dataframe\">\n",
       "  <thead>\n",
       "    <tr style=\"text-align: right;\">\n",
       "      <th></th>\n",
       "      <th>train</th>\n",
       "      <th>test</th>\n",
       "      <th>ckpt_path</th>\n",
       "      <th>epoch</th>\n",
       "    </tr>\n",
       "  </thead>\n",
       "  <tbody>\n",
       "    <tr>\n",
       "      <th>version_0</th>\n",
       "      <td>0.571656</td>\n",
       "      <td>0.551804</td>\n",
       "      <td>/home/mvinyard/experiments/LARRY.full_dataset/...</td>\n",
       "      <td>2500</td>\n",
       "    </tr>\n",
       "    <tr>\n",
       "      <th>version_1</th>\n",
       "      <td>0.541401</td>\n",
       "      <td>0.465658</td>\n",
       "      <td>/home/mvinyard/experiments/LARRY.full_dataset/...</td>\n",
       "      <td>1706</td>\n",
       "    </tr>\n",
       "    <tr>\n",
       "      <th>version_2</th>\n",
       "      <td>0.547771</td>\n",
       "      <td>0.499418</td>\n",
       "      <td>/home/mvinyard/experiments/LARRY.full_dataset/...</td>\n",
       "      <td>1238</td>\n",
       "    </tr>\n",
       "    <tr>\n",
       "      <th>version_3</th>\n",
       "      <td>0.496815</td>\n",
       "      <td>0.504075</td>\n",
       "      <td>/home/mvinyard/experiments/LARRY.full_dataset/...</td>\n",
       "      <td>1245</td>\n",
       "    </tr>\n",
       "    <tr>\n",
       "      <th>version_4</th>\n",
       "      <td>0.562102</td>\n",
       "      <td>0.522701</td>\n",
       "      <td>/home/mvinyard/experiments/LARRY.full_dataset/...</td>\n",
       "      <td>1662</td>\n",
       "    </tr>\n",
       "  </tbody>\n",
       "</table>\n",
       "</div>"
      ],
      "text/plain": [
       "              train      test  \\\n",
       "version_0  0.571656  0.551804   \n",
       "version_1  0.541401  0.465658   \n",
       "version_2  0.547771  0.499418   \n",
       "version_3  0.496815  0.504075   \n",
       "version_4  0.562102  0.522701   \n",
       "\n",
       "                                                   ckpt_path epoch  \n",
       "version_0  /home/mvinyard/experiments/LARRY.full_dataset/...  2500  \n",
       "version_1  /home/mvinyard/experiments/LARRY.full_dataset/...  1706  \n",
       "version_2  /home/mvinyard/experiments/LARRY.full_dataset/...  1238  \n",
       "version_3  /home/mvinyard/experiments/LARRY.full_dataset/...  1245  \n",
       "version_4  /home/mvinyard/experiments/LARRY.full_dataset/...  1662  "
      ]
     },
     "execution_count": 3,
     "metadata": {},
     "output_type": "execute_result"
    },
    {
     "data": {
      "application/javascript": [
       "\n",
       "        setTimeout(function() {\n",
       "            var nbb_cell_id = 3;\n",
       "            var nbb_formatted_code = \"project_path = \\\"/home/mvinyard/experiments/LARRY.full_dataset/v1/LightningSDE-FixedPotential-RegularizedVelocityRatio/\\\"\\nproject = sdq.io.Project(path=project_path)\\nbest_ckpts = sdq_an.parsers.summarize_best_checkpoints(project)\\nbest_ckpts\";\n",
       "            var nbb_cells = Jupyter.notebook.get_cells();\n",
       "            for (var i = 0; i < nbb_cells.length; ++i) {\n",
       "                if (nbb_cells[i].input_prompt_number == nbb_cell_id) {\n",
       "                    nbb_cells[i].set_text(nbb_formatted_code);\n",
       "                    break;\n",
       "                }\n",
       "            }\n",
       "        }, 500);\n",
       "        "
      ],
      "text/plain": [
       "<IPython.core.display.Javascript object>"
      ]
     },
     "metadata": {},
     "output_type": "display_data"
    }
   ],
   "source": [
    "project_path = \"/home/mvinyard/experiments/LARRY.full_dataset/v1/LightningSDE-FixedPotential-RegularizedVelocityRatio/\"\n",
    "project = sdq.io.Project(path=project_path)\n",
    "best_ckpts = sdq_an.parsers.summarize_best_checkpoints(project)\n",
    "best_ckpts"
   ]
  },
  {
   "cell_type": "code",
   "execution_count": 4,
   "id": "cebb51b0",
   "metadata": {},
   "outputs": [
    {
     "name": "stdout",
     "output_type": "stream",
     "text": [
      " - [\u001b[94mINFO\u001b[0m] | Input data configured.\n",
      " - [\u001b[94mINFO\u001b[0m] | Bulding Annoy kNN Graph on adata.obsm['train']\n"
     ]
    },
    {
     "name": "stderr",
     "output_type": "stream",
     "text": [
      "Seed set to 0\n"
     ]
    },
    {
     "name": "stdout",
     "output_type": "stream",
     "text": [
      " - [\u001b[94mINFO\u001b[0m] | Using the specified parameters, LightningSDE-FixedPotential-RegularizedVelocityRatio has been called.\n"
     ]
    },
    {
     "data": {
      "application/javascript": [
       "\n",
       "        setTimeout(function() {\n",
       "            var nbb_cell_id = 4;\n",
       "            var nbb_formatted_code = \"Perturbed = {}\\nfor version, row in best_ckpts.iterrows():\\n    model = sdq.io.load_model(adata=adata, ckpt_path=row[\\\"ckpt_path\\\"])\\n    break\";\n",
       "            var nbb_cells = Jupyter.notebook.get_cells();\n",
       "            for (var i = 0; i < nbb_cells.length; ++i) {\n",
       "                if (nbb_cells[i].input_prompt_number == nbb_cell_id) {\n",
       "                    nbb_cells[i].set_text(nbb_formatted_code);\n",
       "                    break;\n",
       "                }\n",
       "            }\n",
       "        }, 500);\n",
       "        "
      ],
      "text/plain": [
       "<IPython.core.display.Javascript object>"
      ]
     },
     "metadata": {},
     "output_type": "display_data"
    }
   ],
   "source": [
    "Perturbed = {}\n",
    "for version, row in best_ckpts.iterrows():\n",
    "    model = sdq.io.load_model(adata=adata, ckpt_path=row[\"ckpt_path\"])\n",
    "    break"
   ]
  },
  {
   "cell_type": "code",
   "execution_count": 21,
   "id": "13088822",
   "metadata": {},
   "outputs": [
    {
     "name": "stderr",
     "output_type": "stream",
     "text": [
      "scdiffeq.tools._perturb_scan_z_range - INFO - Perturbed 4 genes (Z=-10.0)\n",
      "scdiffeq.tools._perturb_scan_z_range - INFO - Perturbed 4 genes (Z=-7.5)\n",
      "scdiffeq.tools._perturb_scan_z_range - INFO - Perturbed 4 genes (Z=-5.0)\n",
      "scdiffeq.tools._perturb_scan_z_range - INFO - Perturbed 4 genes (Z=-2.5)\n",
      "scdiffeq.tools._perturb_scan_z_range - INFO - Perturbed 4 genes (Z=0.0)\n",
      "scdiffeq.tools._perturb_scan_z_range - INFO - Perturbed 4 genes (Z=2.5)\n",
      "scdiffeq.tools._perturb_scan_z_range - INFO - Perturbed 4 genes (Z=5.0)\n",
      "scdiffeq.tools._perturb_scan_z_range - INFO - Perturbed 4 genes (Z=7.5)\n",
      "scdiffeq.tools._perturb_scan_z_range - INFO - Perturbed 4 genes (Z=10.0)\n"
     ]
    },
    {
     "data": {
      "application/javascript": [
       "\n",
       "        setTimeout(function() {\n",
       "            var nbb_cell_id = 21;\n",
       "            var nbb_formatted_code = \"result = sdq.tl.perturb_scan_z_range(\\n    adata=adata,\\n    model=model,\\n    obs_key=\\\"Cell type annotation\\\",\\n    subset_key=\\\"Cell type annotation\\\",\\n    subset_val=\\\"Undifferentiated\\\",\\n    genes=[\\\"Cebpe\\\", \\\"Dach1\\\", \\\"Lmo4\\\", \\\"Mxd1\\\"],\\n    t_sim=torch.linspace(2, 6, 41),\\n    z_range=np.linspace(-10, 10, 9),\\n    PCA=PCA,\\n    N=200,\\n    replicates=10,\\n    seed=0,\\n)\";\n",
       "            var nbb_cells = Jupyter.notebook.get_cells();\n",
       "            for (var i = 0; i < nbb_cells.length; ++i) {\n",
       "                if (nbb_cells[i].input_prompt_number == nbb_cell_id) {\n",
       "                    nbb_cells[i].set_text(nbb_formatted_code);\n",
       "                    break;\n",
       "                }\n",
       "            }\n",
       "        }, 500);\n",
       "        "
      ],
      "text/plain": [
       "<IPython.core.display.Javascript object>"
      ]
     },
     "metadata": {},
     "output_type": "display_data"
    }
   ],
   "source": [
    "result = sdq.tl.perturb_scan_z_range(\n",
    "    adata=adata,\n",
    "    model=model,\n",
    "    obs_key=\"Cell type annotation\",\n",
    "    subset_key=\"Cell type annotation\",\n",
    "    subset_val=\"Undifferentiated\",\n",
    "    genes=[\"Cebpe\", \"Dach1\", \"Lmo4\", \"Mxd1\"],\n",
    "    t_sim=torch.linspace(2, 6, 41),\n",
    "    z_range=np.linspace(-10, 10, 9),\n",
    "    PCA=PCA,\n",
    "    N=200,\n",
    "    replicates=10,\n",
    "    seed=0,\n",
    ")"
   ]
  },
  {
   "cell_type": "code",
   "execution_count": 34,
   "id": "aae35595",
   "metadata": {},
   "outputs": [
    {
     "data": {
      "application/javascript": [
       "\n",
       "        setTimeout(function() {\n",
       "            var nbb_cell_id = 34;\n",
       "            var nbb_formatted_code = \"mon = {key: val.prtb.loc[\\\"Monocyte\\\"].values.tolist() for key, val in result.items()}\\nneu = {key: val.prtb.loc[\\\"Neutrophil\\\"].values.tolist() for key, val in result.items()}\";\n",
       "            var nbb_cells = Jupyter.notebook.get_cells();\n",
       "            for (var i = 0; i < nbb_cells.length; ++i) {\n",
       "                if (nbb_cells[i].input_prompt_number == nbb_cell_id) {\n",
       "                    nbb_cells[i].set_text(nbb_formatted_code);\n",
       "                    break;\n",
       "                }\n",
       "            }\n",
       "        }, 500);\n",
       "        "
      ],
      "text/plain": [
       "<IPython.core.display.Javascript object>"
      ]
     },
     "metadata": {},
     "output_type": "display_data"
    }
   ],
   "source": [
    "mon = {key: val.prtb.loc[\"Monocyte\"].values.tolist() for key, val in result.items()}\n",
    "neu = {key: val.prtb.loc[\"Neutrophil\"].values.tolist() for key, val in result.items()}"
   ]
  },
  {
   "cell_type": "code",
   "execution_count": 41,
   "id": "db1a6f9c",
   "metadata": {},
   "outputs": [
    {
     "data": {
      "application/javascript": [
       "\n",
       "        setTimeout(function() {\n",
       "            var nbb_cell_id = 41;\n",
       "            var nbb_formatted_code = \"import ABCParse\";\n",
       "            var nbb_cells = Jupyter.notebook.get_cells();\n",
       "            for (var i = 0; i < nbb_cells.length; ++i) {\n",
       "                if (nbb_cells[i].input_prompt_number == nbb_cell_id) {\n",
       "                    nbb_cells[i].set_text(nbb_formatted_code);\n",
       "                    break;\n",
       "                }\n",
       "            }\n",
       "        }, 500);\n",
       "        "
      ],
      "text/plain": [
       "<IPython.core.display.Javascript object>"
      ]
     },
     "metadata": {},
     "output_type": "display_data"
    }
   ],
   "source": [
    "import ABCParse"
   ]
  },
  {
   "cell_type": "code",
   "execution_count": 43,
   "id": "ade2cfe0",
   "metadata": {},
   "outputs": [
    {
     "data": {
      "application/javascript": [
       "\n",
       "        setTimeout(function() {\n",
       "            var nbb_cell_id = 43;\n",
       "            var nbb_formatted_code = \"from typing import List, Optional\";\n",
       "            var nbb_cells = Jupyter.notebook.get_cells();\n",
       "            for (var i = 0; i < nbb_cells.length; ++i) {\n",
       "                if (nbb_cells[i].input_prompt_number == nbb_cell_id) {\n",
       "                    nbb_cells[i].set_text(nbb_formatted_code);\n",
       "                    break;\n",
       "                }\n",
       "            }\n",
       "        }, 500);\n",
       "        "
      ],
      "text/plain": [
       "<IPython.core.display.Javascript object>"
      ]
     },
     "metadata": {},
     "output_type": "display_data"
    }
   ],
   "source": [
    "from typing import List, Optional"
   ]
  },
  {
   "cell_type": "code",
   "execution_count": 44,
   "id": "328349df",
   "metadata": {},
   "outputs": [
    {
     "data": {
      "application/javascript": [
       "\n",
       "        setTimeout(function() {\n",
       "            var nbb_cell_id = 44;\n",
       "            var nbb_formatted_code = \"class StylishBoxPlot(ABCParse.ABCParse):\\n    def __init__(\\n        self,\\n        colors: Optional[List[str]] = None,\\n        widths: Optional[float] = None,\\n        scatter_kw={\\n            \\\"alpha\\\": 0.8,\\n            \\\"s\\\": 25,\\n        },\\n        *args,\\n        **kwargs\\n    ):\\n        self.__parse__(locals())\\n\\n    @property\\n    def colors(self):\\n        if not hasattr(self, \\\"_colors\\\") or self._colors is None:\\n            self._colors = list(cm.tab20.colors)\\n        return self._colors\\n\\n    def _background_scatter(self, ax, data):\\n        for en, (key, val) in enumerate(data.items()):\\n\\n            x = [key] * len(val)\\n\\n            if len(x) > 1:\\n                x_vals = en + 1 + (np.random.random(len(x)) - 0.5) / 5\\n            else:\\n                x_vals = en + 1\\n\\n            ax.scatter(\\n                x_vals,\\n                val,\\n                color=self.colors[en],\\n                zorder=0,\\n                ec=\\\"None\\\",\\n                rasterized=False,\\n                **self._scatter_kw,\\n            )\\n\\n    def _background_boxplot(self, ax, data):\\n\\n        x = list(data.keys())\\n        y = list(data.values())\\n\\n        x = np.arange(len(y)) + 1\\n\\n        bp = ax.boxplot(\\n            y,\\n            positions=x,\\n            patch_artist=True,\\n            showmeans=True,\\n            showfliers=False,\\n            meanline=True,\\n            zorder=1,\\n            widths=self._widths,\\n        )\\n        for median in bp[\\\"medians\\\"]:\\n            median.set_visible(False)\\n        for en, mean in enumerate(bp[\\\"means\\\"]):\\n            mean.set_c(self.colors[en])\\n\\n        for en, box in enumerate(bp[\\\"boxes\\\"]):\\n            box.set_facecolor(self.colors[en])\\n            box.set_alpha(0.2)\\n\\n        for en, whisker in enumerate(bp[\\\"whiskers\\\"]):\\n            whisker.set_c(\\\"None\\\")\\n\\n        for en, cap in enumerate(bp[\\\"caps\\\"]):\\n            cap.set_c(\\\"None\\\")\\n\\n    def _foreground_boxplot(self, ax, data):\\n\\n        y = list(data.values())\\n        x = list(data.keys())\\n        x = np.arange(len(y)) + 1\\n        bp = ax.boxplot(\\n            y,\\n            positions=x,\\n            patch_artist=True,\\n            showmeans=False,\\n            showfliers=False,\\n            meanline=False,\\n            zorder=2,\\n            widths=self._widths,\\n        )\\n        for en, box in enumerate(bp[\\\"boxes\\\"]):\\n            box.set_facecolor(\\\"None\\\")\\n            box.set_edgecolor(self.colors[en])\\n\\n        colors_ = np.repeat(\\n            np.array(self.colors), 2, axis=0\\n        )  # list(np.repeat(self.colors, 2))\\n        for en, whisker in enumerate(bp[\\\"whiskers\\\"]):\\n            whisker.set_c(colors_[en])\\n\\n        for en, cap in enumerate(bp[\\\"caps\\\"]):\\n            cap.set_c(colors_[en])\\n\\n        for median in bp[\\\"medians\\\"]:\\n            median.set_visible(False)\\n\\n    def __call__(self, ax, data, *args, **kwargs):\\n\\n        self.__update__(locals())\\n\\n        try:\\n            self._background_scatter(ax, data)\\n        except:\\n            print(data)\\n        self._background_boxplot(ax, data)\\n        self._foreground_boxplot(ax, data)\";\n",
       "            var nbb_cells = Jupyter.notebook.get_cells();\n",
       "            for (var i = 0; i < nbb_cells.length; ++i) {\n",
       "                if (nbb_cells[i].input_prompt_number == nbb_cell_id) {\n",
       "                    nbb_cells[i].set_text(nbb_formatted_code);\n",
       "                    break;\n",
       "                }\n",
       "            }\n",
       "        }, 500);\n",
       "        "
      ],
      "text/plain": [
       "<IPython.core.display.Javascript object>"
      ]
     },
     "metadata": {},
     "output_type": "display_data"
    }
   ],
   "source": [
    "class StylishBoxPlot(ABCParse.ABCParse):\n",
    "    def __init__(\n",
    "        self,\n",
    "        colors: Optional[List[str]] = None,\n",
    "        widths: Optional[float] = None,\n",
    "        scatter_kw={\n",
    "            \"alpha\": 0.8,\n",
    "            \"s\": 25,\n",
    "        },\n",
    "        *args,\n",
    "        **kwargs\n",
    "    ):\n",
    "        self.__parse__(locals())\n",
    "\n",
    "    @property\n",
    "    def colors(self):\n",
    "        if not hasattr(self, \"_colors\") or self._colors is None:\n",
    "            self._colors = list(cm.tab20.colors)\n",
    "        return self._colors\n",
    "\n",
    "    def _background_scatter(self, ax, data):\n",
    "        for en, (key, val) in enumerate(data.items()):\n",
    "\n",
    "            x = [key] * len(val)\n",
    "\n",
    "            if len(x) > 1:\n",
    "                x_vals = en + 1 + (np.random.random(len(x)) - 0.5) / 5\n",
    "            else:\n",
    "                x_vals = en + 1\n",
    "\n",
    "            ax.scatter(\n",
    "                x_vals,\n",
    "                val,\n",
    "                color=self.colors[en],\n",
    "                zorder=0,\n",
    "                ec=\"None\",\n",
    "                rasterized=False,\n",
    "                **self._scatter_kw,\n",
    "            )\n",
    "\n",
    "    def _background_boxplot(self, ax, data):\n",
    "\n",
    "        x = list(data.keys())\n",
    "        y = list(data.values())\n",
    "\n",
    "        x = np.arange(len(y)) + 1\n",
    "\n",
    "        bp = ax.boxplot(\n",
    "            y,\n",
    "            positions=x,\n",
    "            patch_artist=True,\n",
    "            showmeans=True,\n",
    "            showfliers=False,\n",
    "            meanline=True,\n",
    "            zorder=1,\n",
    "            widths=self._widths,\n",
    "        )\n",
    "        for median in bp[\"medians\"]:\n",
    "            median.set_visible(False)\n",
    "        for en, mean in enumerate(bp[\"means\"]):\n",
    "            mean.set_c(self.colors[en])\n",
    "\n",
    "        for en, box in enumerate(bp[\"boxes\"]):\n",
    "            box.set_facecolor(self.colors[en])\n",
    "            box.set_alpha(0.2)\n",
    "\n",
    "        for en, whisker in enumerate(bp[\"whiskers\"]):\n",
    "            whisker.set_c(\"None\")\n",
    "\n",
    "        for en, cap in enumerate(bp[\"caps\"]):\n",
    "            cap.set_c(\"None\")\n",
    "\n",
    "    def _foreground_boxplot(self, ax, data):\n",
    "\n",
    "        y = list(data.values())\n",
    "        x = list(data.keys())\n",
    "        x = np.arange(len(y)) + 1\n",
    "        bp = ax.boxplot(\n",
    "            y,\n",
    "            positions=x,\n",
    "            patch_artist=True,\n",
    "            showmeans=False,\n",
    "            showfliers=False,\n",
    "            meanline=False,\n",
    "            zorder=2,\n",
    "            widths=self._widths,\n",
    "        )\n",
    "        for en, box in enumerate(bp[\"boxes\"]):\n",
    "            box.set_facecolor(\"None\")\n",
    "            box.set_edgecolor(self.colors[en])\n",
    "\n",
    "        colors_ = np.repeat(\n",
    "            np.array(self.colors), 2, axis=0\n",
    "        )  # list(np.repeat(self.colors, 2))\n",
    "        for en, whisker in enumerate(bp[\"whiskers\"]):\n",
    "            whisker.set_c(colors_[en])\n",
    "\n",
    "        for en, cap in enumerate(bp[\"caps\"]):\n",
    "            cap.set_c(colors_[en])\n",
    "\n",
    "        for median in bp[\"medians\"]:\n",
    "            median.set_visible(False)\n",
    "\n",
    "    def __call__(self, ax, data, *args, **kwargs):\n",
    "\n",
    "        self.__update__(locals())\n",
    "\n",
    "        try:\n",
    "            self._background_scatter(ax, data)\n",
    "        except:\n",
    "            print(data)\n",
    "        self._background_boxplot(ax, data)\n",
    "        self._foreground_boxplot(ax, data)"
   ]
  },
  {
   "cell_type": "code",
   "execution_count": 55,
   "id": "b7aa633a",
   "metadata": {},
   "outputs": [
    {
     "data": {
      "application/javascript": [
       "\n",
       "        setTimeout(function() {\n",
       "            var nbb_cell_id = 55;\n",
       "            var nbb_formatted_code = \"x = [0, 2.5, 5, 7.5, 10, -2.5, -5, -10]\\nmon_x = {xi: mon[xi] for xi in x}\\nneu_x = {xi: neu[xi] for xi in x}\";\n",
       "            var nbb_cells = Jupyter.notebook.get_cells();\n",
       "            for (var i = 0; i < nbb_cells.length; ++i) {\n",
       "                if (nbb_cells[i].input_prompt_number == nbb_cell_id) {\n",
       "                    nbb_cells[i].set_text(nbb_formatted_code);\n",
       "                    break;\n",
       "                }\n",
       "            }\n",
       "        }, 500);\n",
       "        "
      ],
      "text/plain": [
       "<IPython.core.display.Javascript object>"
      ]
     },
     "metadata": {},
     "output_type": "display_data"
    }
   ],
   "source": [
    "x = [0, 2.5, 5, 7.5, 10, -2.5, -5, 7.5, -10]\n",
    "mon_x = {xi: mon[xi] for xi in x}\n",
    "neu_x = {xi: neu[xi] for xi in x}"
   ]
  },
  {
   "cell_type": "code",
   "execution_count": 60,
   "id": "313527f3",
   "metadata": {},
   "outputs": [
    {
     "data": {
      "image/png": "[encoded data removed]",
      "text/plain": [
       "<Figure size 1280x480 with 2 Axes>"
      ]
     },
     "metadata": {},
     "output_type": "display_data"
    },
    {
     "data": {
      "application/javascript": [
       "\n",
       "        setTimeout(function() {\n",
       "            var nbb_cell_id = 60;\n",
       "            var nbb_formatted_code = \"fig, axes = cp.plot(nplots=2, ncols=2, wspace=0.1)\\nbp = StylishBoxPlot()\\nbp(ax=axes[0], data=mon_x)\\nbp = StylishBoxPlot()\\nbp(ax=axes[1], data=neu_x)\\nfor ax in axes:\\n    ax.set_ylim(0, 0.6)\\nplt.savefig(\\\"Figure3CD.LARRY.z_scan.tf_perturbation.svg\\\", dpi=500)\";\n",
       "            var nbb_cells = Jupyter.notebook.get_cells();\n",
       "            for (var i = 0; i < nbb_cells.length; ++i) {\n",
       "                if (nbb_cells[i].input_prompt_number == nbb_cell_id) {\n",
       "                    nbb_cells[i].set_text(nbb_formatted_code);\n",
       "                    break;\n",
       "                }\n",
       "            }\n",
       "        }, 500);\n",
       "        "
      ],
      "text/plain": [
       "<IPython.core.display.Javascript object>"
      ]
     },
     "metadata": {},
     "output_type": "display_data"
    }
   ],
   "source": [
    "fig, axes = cp.plot(nplots=2, ncols=2, wspace=0.1)\n",
    "bp = StylishBoxPlot()\n",
    "bp(ax=axes[0], data=mon_x)\n",
    "bp = StylishBoxPlot()\n",
    "bp(ax=axes[1], data=neu_x)\n",
    "for ax in axes:\n",
    "    ax.set_ylim(0, 0.6)\n",
    "plt.savefig(\"Figure3CD.LARRY.z_scan.tf_perturbation.svg\", dpi=500)"
   ]
  }
 ],
 "metadata": {
  "kernelspec": {
   "display_name": "sdq-dev",
   "language": "python",
   "name": "sdq-dev"
  },
  "language_info": {
   "codemirror_mode": {
    "name": "ipython",
    "version": 3
   },
   "file_extension": ".py",
   "mimetype": "text/x-python",
   "name": "python",
   "nbconvert_exporter": "python",
   "pygments_lexer": "ipython3",
   "version": "3.9.18"
  }
 },
 "nbformat": 4,
 "nbformat_minor": 5
}
