{
 "cells": [
  {
   "cell_type": "code",
   "execution_count": 1,
   "id": "73f522c7",
   "metadata": {},
   "outputs": [
    {
     "data": {
      "application/javascript": [
       "\n",
       "        setTimeout(function() {\n",
       "            var nbb_cell_id = 1;\n",
       "            var nbb_formatted_code = \"%load_ext nb_black\\n\\nimport anndata\\nimport cellplots as cp\\nimport larry\\nimport matplotlib.pyplot as plt\\nimport matplotlib.cm as cm\\nimport numpy as np\\nimport pandas as pd\\nimport scdiffeq as sdq\\nimport scdiffeq_analyses as sdq_an\\nimport scipy.stats\\nimport seaborn as sns\\nimport torch\\n\\nfrom typing import Any, Dict, Optional\";\n",
       "            var nbb_cells = Jupyter.notebook.get_cells();\n",
       "            for (var i = 0; i < nbb_cells.length; ++i) {\n",
       "                if (nbb_cells[i].input_prompt_number == nbb_cell_id) {\n",
       "                    nbb_cells[i].set_text(nbb_formatted_code);\n",
       "                    break;\n",
       "                }\n",
       "            }\n",
       "        }, 500);\n",
       "        "
      ],
      "text/plain": [
       "<IPython.core.display.Javascript object>"
      ]
     },
     "metadata": {},
     "output_type": "display_data"
    }
   ],
   "source": [
    "%load_ext nb_black\n",
    "\n",
    "import ABCParse\n",
    "import anndata\n",
    "import cellplots as cp\n",
    "import larry\n",
    "import matplotlib.pyplot as plt\n",
    "import matplotlib.cm as cm\n",
    "import numpy as np\n",
    "import pandas as pd\n",
    "import scdiffeq as sdq\n",
    "import scdiffeq_analyses as sdq_an\n",
    "import scipy.stats\n",
    "import seaborn as sns\n",
    "import torch\n",
    "\n",
    "from typing import Any, Dict, List, Optional"
   ]
  },
  {
   "cell_type": "code",
   "execution_count": 2,
   "id": "357827c6",
   "metadata": {},
   "outputs": [
    {
     "name": "stdout",
     "output_type": "stream",
     "text": [
      "AnnData object with n_obs × n_vars = 130887 × 2492\n",
      "    obs: 'Library', 'Cell barcode', 'Time point', 'Starting population', 'Cell type annotation', 'Well', 'SPRING-x', 'SPRING-y', 'clone_idx', 'fate_observed', 't0_fated', 'train'\n",
      "    var: 'gene_ids', 'hv_gene', 'must_include', 'exclude', 'use_genes'\n",
      "    uns: 'fate_counts', 'h5ad_path', 'time_occupance'\n",
      "    obsm: 'X_clone', 'X_pca', 'X_umap', 'cell_fate_df'\n",
      "    layers: 'X_scaled'\n"
     ]
    },
    {
     "name": "stderr",
     "output_type": "stream",
     "text": [
      "/home/mvinyard/.anaconda3/envs/sdq-dev/lib/python3.9/site-packages/sklearn/base.py:318: UserWarning: Trying to unpickle estimator PCA from version 1.0.2 when using version 1.2.2. This might lead to breaking code or invalid results. Use at your own risk. For more info please refer to:\n",
      "https://scikit-learn.org/stable/model_persistence.html#security-maintainability-limitations\n",
      "  warnings.warn(\n"
     ]
    },
    {
     "data": {
      "application/javascript": [
       "\n",
       "        setTimeout(function() {\n",
       "            var nbb_cell_id = 2;\n",
       "            var nbb_formatted_code = \"h5ad_path = (\\n    \\\"/home/mvinyard/data/adata.reprocessed_19OCT2023.more_feature_inclusive.h5ad\\\"\\n)\\nadata = sdq.io.read_h5ad(h5ad_path)\\nlarry_cmap = larry.pl.InVitroColorMap()._dict\\n\\nPCA = sdq.io.read_pickle(\\\"/home/mvinyard/data/pca_model.pkl\\\")\\nUMAP = sdq.io.read_pickle(\\\"/home/mvinyard/data/umap_model.pkl\\\")\";\n",
       "            var nbb_cells = Jupyter.notebook.get_cells();\n",
       "            for (var i = 0; i < nbb_cells.length; ++i) {\n",
       "                if (nbb_cells[i].input_prompt_number == nbb_cell_id) {\n",
       "                    nbb_cells[i].set_text(nbb_formatted_code);\n",
       "                    break;\n",
       "                }\n",
       "            }\n",
       "        }, 500);\n",
       "        "
      ],
      "text/plain": [
       "<IPython.core.display.Javascript object>"
      ]
     },
     "metadata": {},
     "output_type": "display_data"
    }
   ],
   "source": [
    "h5ad_path = (\n",
    "    \"/home/mvinyard/data/adata.reprocessed_19OCT2023.more_feature_inclusive.h5ad\"\n",
    ")\n",
    "adata = sdq.io.read_h5ad(h5ad_path)\n",
    "larry_cmap = larry.pl.InVitroColorMap()._dict\n",
    "\n",
    "PCA = sdq.io.read_pickle(\"/home/mvinyard/data/pca_model.pkl\")\n",
    "UMAP = sdq.io.read_pickle(\"/home/mvinyard/data/umap_model.pkl\")"
   ]
  },
  {
   "cell_type": "code",
   "execution_count": 4,
   "id": "1e7edff2",
   "metadata": {},
   "outputs": [
    {
     "data": {
      "text/html": [
       "<div>\n",
       "<style scoped>\n",
       "    .dataframe tbody tr th:only-of-type {\n",
       "        vertical-align: middle;\n",
       "    }\n",
       "\n",
       "    .dataframe tbody tr th {\n",
       "        vertical-align: top;\n",
       "    }\n",
       "\n",
       "    .dataframe thead th {\n",
       "        text-align: right;\n",
       "    }\n",
       "</style>\n",
       "<table border=\"1\" class=\"dataframe\">\n",
       "  <thead>\n",
       "    <tr style=\"text-align: right;\">\n",
       "      <th></th>\n",
       "      <th>train</th>\n",
       "      <th>test</th>\n",
       "      <th>ckpt_path</th>\n",
       "      <th>epoch</th>\n",
       "    </tr>\n",
       "  </thead>\n",
       "  <tbody>\n",
       "    <tr>\n",
       "      <th>version_0</th>\n",
       "      <td>0.571656</td>\n",
       "      <td>0.551804</td>\n",
       "      <td>/home/mvinyard/experiments/LARRY.full_dataset/...</td>\n",
       "      <td>2500</td>\n",
       "    </tr>\n",
       "    <tr>\n",
       "      <th>version_1</th>\n",
       "      <td>0.541401</td>\n",
       "      <td>0.465658</td>\n",
       "      <td>/home/mvinyard/experiments/LARRY.full_dataset/...</td>\n",
       "      <td>1706</td>\n",
       "    </tr>\n",
       "    <tr>\n",
       "      <th>version_2</th>\n",
       "      <td>0.547771</td>\n",
       "      <td>0.499418</td>\n",
       "      <td>/home/mvinyard/experiments/LARRY.full_dataset/...</td>\n",
       "      <td>1238</td>\n",
       "    </tr>\n",
       "    <tr>\n",
       "      <th>version_3</th>\n",
       "      <td>0.496815</td>\n",
       "      <td>0.504075</td>\n",
       "      <td>/home/mvinyard/experiments/LARRY.full_dataset/...</td>\n",
       "      <td>1245</td>\n",
       "    </tr>\n",
       "    <tr>\n",
       "      <th>version_4</th>\n",
       "      <td>0.562102</td>\n",
       "      <td>0.522701</td>\n",
       "      <td>/home/mvinyard/experiments/LARRY.full_dataset/...</td>\n",
       "      <td>1662</td>\n",
       "    </tr>\n",
       "  </tbody>\n",
       "</table>\n",
       "</div>"
      ],
      "text/plain": [
       "              train      test  \\\n",
       "version_0  0.571656  0.551804   \n",
       "version_1  0.541401  0.465658   \n",
       "version_2  0.547771  0.499418   \n",
       "version_3  0.496815  0.504075   \n",
       "version_4  0.562102  0.522701   \n",
       "\n",
       "                                                   ckpt_path epoch  \n",
       "version_0  /home/mvinyard/experiments/LARRY.full_dataset/...  2500  \n",
       "version_1  /home/mvinyard/experiments/LARRY.full_dataset/...  1706  \n",
       "version_2  /home/mvinyard/experiments/LARRY.full_dataset/...  1238  \n",
       "version_3  /home/mvinyard/experiments/LARRY.full_dataset/...  1245  \n",
       "version_4  /home/mvinyard/experiments/LARRY.full_dataset/...  1662  "
      ]
     },
     "execution_count": 4,
     "metadata": {},
     "output_type": "execute_result"
    },
    {
     "data": {
      "application/javascript": [
       "\n",
       "        setTimeout(function() {\n",
       "            var nbb_cell_id = 4;\n",
       "            var nbb_formatted_code = \"project_path = \\\"/home/mvinyard/experiments/LARRY.full_dataset/v1/LightningSDE-FixedPotential-RegularizedVelocityRatio/\\\"\\nproject = sdq.io.Project(path=project_path)\\nbest_ckpts = sdq_an.parsers.best_checkpoints(project)\\nbest_ckpts\";\n",
       "            var nbb_cells = Jupyter.notebook.get_cells();\n",
       "            for (var i = 0; i < nbb_cells.length; ++i) {\n",
       "                if (nbb_cells[i].input_prompt_number == nbb_cell_id) {\n",
       "                    nbb_cells[i].set_text(nbb_formatted_code);\n",
       "                    break;\n",
       "                }\n",
       "            }\n",
       "        }, 500);\n",
       "        "
      ],
      "text/plain": [
       "<IPython.core.display.Javascript object>"
      ]
     },
     "metadata": {},
     "output_type": "display_data"
    }
   ],
   "source": [
    "project_path = \"/home/mvinyard/experiments/LARRY.full_dataset/v1/LightningSDE-FixedPotential-RegularizedVelocityRatio/\"\n",
    "project = sdq.io.Project(path=project_path)\n",
    "best_ckpts = sdq_an.parsers.best_checkpoints(project)\n",
    "best_ckpts"
   ]
  },
  {
   "cell_type": "code",
   "execution_count": 5,
   "id": "cebb51b0",
   "metadata": {},
   "outputs": [
    {
     "name": "stdout",
     "output_type": "stream",
     "text": [
      " - [\u001b[94mINFO\u001b[0m] | Input data configured.\n",
      " - [\u001b[94mINFO\u001b[0m] | Bulding Annoy kNN Graph on adata.obsm['train']\n"
     ]
    },
    {
     "name": "stderr",
     "output_type": "stream",
     "text": [
      "Seed set to 0\n"
     ]
    },
    {
     "name": "stdout",
     "output_type": "stream",
     "text": [
      " - [\u001b[94mINFO\u001b[0m] | Using the specified parameters, LightningSDE-FixedPotential-RegularizedVelocityRatio has been called.\n"
     ]
    },
    {
     "data": {
      "application/javascript": [
       "\n",
       "        setTimeout(function() {\n",
       "            var nbb_cell_id = 5;\n",
       "            var nbb_formatted_code = \"Perturbed = {}\\nfor version, row in best_ckpts.iterrows():\\n    model = sdq.io.load_model(adata=adata, ckpt_path=row[\\\"ckpt_path\\\"])\\n    break\";\n",
       "            var nbb_cells = Jupyter.notebook.get_cells();\n",
       "            for (var i = 0; i < nbb_cells.length; ++i) {\n",
       "                if (nbb_cells[i].input_prompt_number == nbb_cell_id) {\n",
       "                    nbb_cells[i].set_text(nbb_formatted_code);\n",
       "                    break;\n",
       "                }\n",
       "            }\n",
       "        }, 500);\n",
       "        "
      ],
      "text/plain": [
       "<IPython.core.display.Javascript object>"
      ]
     },
     "metadata": {},
     "output_type": "display_data"
    }
   ],
   "source": [
    "Perturbed = {}\n",
    "for version, row in best_ckpts.iterrows():\n",
    "    model = sdq.io.load_model(adata=adata, ckpt_path=row[\"ckpt_path\"])\n",
    "    break"
   ]
  },
  {
   "cell_type": "code",
   "execution_count": 6,
   "id": "13088822",
   "metadata": {},
   "outputs": [
    {
     "data": {
      "application/javascript": [
       "\n",
       "        setTimeout(function() {\n",
       "            var nbb_cell_id = 6;\n",
       "            var nbb_formatted_code = \"result = sdq.tl.perturb_scan_z_range(\\n    adata=adata,\\n    model=model,\\n    obs_key=\\\"Cell type annotation\\\",\\n    subset_key=\\\"Cell type annotation\\\",\\n    subset_val=\\\"Undifferentiated\\\",\\n    genes=[\\\"Cebpe\\\", \\\"Dach1\\\", \\\"Lmo4\\\", \\\"Mxd1\\\"],\\n    t_sim=torch.linspace(2, 6, 41),\\n    z_range=np.linspace(-10, 10, 9),\\n    PCA=PCA,\\n    N=200,\\n    replicates=10,\\n    seed=0,\\n)\";\n",
       "            var nbb_cells = Jupyter.notebook.get_cells();\n",
       "            for (var i = 0; i < nbb_cells.length; ++i) {\n",
       "                if (nbb_cells[i].input_prompt_number == nbb_cell_id) {\n",
       "                    nbb_cells[i].set_text(nbb_formatted_code);\n",
       "                    break;\n",
       "                }\n",
       "            }\n",
       "        }, 500);\n",
       "        "
      ],
      "text/plain": [
       "<IPython.core.display.Javascript object>"
      ]
     },
     "metadata": {},
     "output_type": "display_data"
    }
   ],
   "source": [
    "result = sdq.tl.perturb_scan_z_range(\n",
    "    adata=adata,\n",
    "    model=model,\n",
    "    obs_key=\"Cell type annotation\",\n",
    "    subset_key=\"Cell type annotation\",\n",
    "    subset_val=\"Undifferentiated\",\n",
    "    genes=[\"Cebpe\", \"Dach1\", \"Lmo4\", \"Mxd1\"],\n",
    "    t_sim=torch.linspace(2, 6, 41),\n",
    "    z_range=np.linspace(-10, 10, 9),\n",
    "    PCA=PCA,\n",
    "    N=200,\n",
    "    replicates=10,\n",
    "    seed=0,\n",
    ")"
   ]
  },
  {
   "cell_type": "code",
   "execution_count": 33,
   "id": "aae35595",
   "metadata": {},
   "outputs": [
    {
     "data": {
      "application/javascript": [
       "\n",
       "        setTimeout(function() {\n",
       "            var nbb_cell_id = 33;\n",
       "            var nbb_formatted_code = \"mon = {key: val.prtb.loc[\\\"Monocyte\\\"].values.tolist() for key, val in result.items()}\\nneu = {key: val.prtb.loc[\\\"Neutrophil\\\"].values.tolist() for key, val in result.items()}\";\n",
       "            var nbb_cells = Jupyter.notebook.get_cells();\n",
       "            for (var i = 0; i < nbb_cells.length; ++i) {\n",
       "                if (nbb_cells[i].input_prompt_number == nbb_cell_id) {\n",
       "                    nbb_cells[i].set_text(nbb_formatted_code);\n",
       "                    break;\n",
       "                }\n",
       "            }\n",
       "        }, 500);\n",
       "        "
      ],
      "text/plain": [
       "<IPython.core.display.Javascript object>"
      ]
     },
     "metadata": {},
     "output_type": "display_data"
    }
   ],
   "source": [
    "mon = {key: val.prtb.loc[\"Monocyte\"].values.tolist() for key, val in result.items()}\n",
    "neu = {key: val.prtb.loc[\"Neutrophil\"].values.tolist() for key, val in result.items()}"
   ]
  },
  {
   "cell_type": "code",
   "execution_count": 34,
   "id": "328349df",
   "metadata": {},
   "outputs": [
    {
     "data": {
      "application/javascript": [
       "\n",
       "        setTimeout(function() {\n",
       "            var nbb_cell_id = 34;\n",
       "            var nbb_formatted_code = \"class StylishBoxPlot(ABCParse.ABCParse):\\n    def __init__(\\n        self,\\n        colors: Optional[List[str]] = None,\\n        widths: Optional[float] = None,\\n        scatter_kw={\\n            \\\"alpha\\\": 0.8,\\n            \\\"s\\\": 25,\\n        },\\n        *args,\\n        **kwargs\\n    ):\\n        self.__parse__(locals())\\n\\n    @property\\n    def colors(self):\\n        if not hasattr(self, \\\"_colors\\\") or self._colors is None:\\n            self._colors = list(cm.tab20.colors)\\n        return self._colors\\n\\n    def _background_scatter(self, ax, data):\\n        for en, (key, val) in enumerate(data.items()):\\n\\n            x = [key] * len(val)\\n\\n            if len(x) > 1:\\n                x_vals = en + 1 + (np.random.random(len(x)) - 0.5) / 5\\n            else:\\n                x_vals = en + 1\\n\\n            ax.scatter(\\n                x_vals,\\n                val,\\n                color=self.colors[en],\\n                zorder=0,\\n                ec=\\\"None\\\",\\n                rasterized=False,\\n                **self._scatter_kw,\\n            )\\n\\n    def _background_boxplot(self, ax, data):\\n\\n        x = list(data.keys())\\n        y = list(data.values())\\n\\n        x = np.arange(len(y)) + 1\\n\\n        bp = ax.boxplot(\\n            y,\\n            positions=x,\\n            patch_artist=True,\\n            showmeans=True,\\n            showfliers=False,\\n            meanline=True,\\n            zorder=1,\\n            widths=self._widths,\\n        )\\n        for median in bp[\\\"medians\\\"]:\\n            median.set_visible(False)\\n        for en, mean in enumerate(bp[\\\"means\\\"]):\\n            mean.set_c(self.colors[en])\\n\\n        for en, box in enumerate(bp[\\\"boxes\\\"]):\\n            box.set_facecolor(self.colors[en])\\n            box.set_alpha(0.2)\\n\\n        for en, whisker in enumerate(bp[\\\"whiskers\\\"]):\\n            whisker.set_c(\\\"None\\\")\\n\\n        for en, cap in enumerate(bp[\\\"caps\\\"]):\\n            cap.set_c(\\\"None\\\")\\n\\n    def _foreground_boxplot(self, ax, data):\\n\\n        y = list(data.values())\\n        x = list(data.keys())\\n        x = np.arange(len(y)) + 1\\n        bp = ax.boxplot(\\n            y,\\n            positions=x,\\n            patch_artist=True,\\n            showmeans=False,\\n            showfliers=False,\\n            meanline=False,\\n            zorder=2,\\n            widths=self._widths,\\n        )\\n        for en, box in enumerate(bp[\\\"boxes\\\"]):\\n            box.set_facecolor(\\\"None\\\")\\n            box.set_edgecolor(self.colors[en])\\n\\n        colors_ = np.repeat(\\n            np.array(self.colors), 2, axis=0\\n        )  # list(np.repeat(self.colors, 2))\\n        for en, whisker in enumerate(bp[\\\"whiskers\\\"]):\\n            whisker.set_c(colors_[en])\\n\\n        for en, cap in enumerate(bp[\\\"caps\\\"]):\\n            cap.set_c(colors_[en])\\n\\n        for median in bp[\\\"medians\\\"]:\\n            median.set_visible(False)\\n\\n    def __call__(self, ax, data, *args, **kwargs):\\n\\n        self.__update__(locals())\\n\\n        try:\\n            self._background_scatter(ax, data)\\n        except:\\n            print(data)\\n        self._background_boxplot(ax, data)\\n        self._foreground_boxplot(ax, data)\";\n",
       "            var nbb_cells = Jupyter.notebook.get_cells();\n",
       "            for (var i = 0; i < nbb_cells.length; ++i) {\n",
       "                if (nbb_cells[i].input_prompt_number == nbb_cell_id) {\n",
       "                    nbb_cells[i].set_text(nbb_formatted_code);\n",
       "                    break;\n",
       "                }\n",
       "            }\n",
       "        }, 500);\n",
       "        "
      ],
      "text/plain": [
       "<IPython.core.display.Javascript object>"
      ]
     },
     "metadata": {},
     "output_type": "display_data"
    }
   ],
   "source": [
    "class StylishBoxPlot(ABCParse.ABCParse):\n",
    "    def __init__(\n",
    "        self,\n",
    "        colors: Optional[List[str]] = None,\n",
    "        widths: Optional[float] = None,\n",
    "        scatter_kw={\n",
    "            \"alpha\": 0.8,\n",
    "            \"s\": 25,\n",
    "        },\n",
    "        *args,\n",
    "        **kwargs\n",
    "    ):\n",
    "        self.__parse__(locals())\n",
    "\n",
    "    @property\n",
    "    def colors(self):\n",
    "        if not hasattr(self, \"_colors\") or self._colors is None:\n",
    "            self._colors = list(cm.tab20.colors)\n",
    "        return self._colors\n",
    "\n",
    "    def _background_scatter(self, ax, data):\n",
    "        for en, (key, val) in enumerate(data.items()):\n",
    "\n",
    "            x = [key] * len(val)\n",
    "\n",
    "            if len(x) > 1:\n",
    "                x_vals = en + 1 + (np.random.random(len(x)) - 0.5) / 5\n",
    "            else:\n",
    "                x_vals = en + 1\n",
    "\n",
    "            ax.scatter(\n",
    "                x_vals,\n",
    "                val,\n",
    "                color=self.colors[en],\n",
    "                zorder=0,\n",
    "                ec=\"None\",\n",
    "                rasterized=False,\n",
    "                **self._scatter_kw,\n",
    "            )\n",
    "\n",
    "    def _background_boxplot(self, ax, data):\n",
    "\n",
    "        x = list(data.keys())\n",
    "        y = list(data.values())\n",
    "\n",
    "        x = np.arange(len(y)) + 1\n",
    "\n",
    "        bp = ax.boxplot(\n",
    "            y,\n",
    "            positions=x,\n",
    "            patch_artist=True,\n",
    "            showmeans=True,\n",
    "            showfliers=False,\n",
    "            meanline=True,\n",
    "            zorder=1,\n",
    "            widths=self._widths,\n",
    "        )\n",
    "        for median in bp[\"medians\"]:\n",
    "            median.set_visible(False)\n",
    "        for en, mean in enumerate(bp[\"means\"]):\n",
    "            mean.set_c(self.colors[en])\n",
    "\n",
    "        for en, box in enumerate(bp[\"boxes\"]):\n",
    "            box.set_facecolor(self.colors[en])\n",
    "            box.set_alpha(0.2)\n",
    "\n",
    "        for en, whisker in enumerate(bp[\"whiskers\"]):\n",
    "            whisker.set_c(\"None\")\n",
    "\n",
    "        for en, cap in enumerate(bp[\"caps\"]):\n",
    "            cap.set_c(\"None\")\n",
    "\n",
    "    def _foreground_boxplot(self, ax, data):\n",
    "\n",
    "        y = list(data.values())\n",
    "        x = list(data.keys())\n",
    "        x = np.arange(len(y)) + 1\n",
    "        bp = ax.boxplot(\n",
    "            y,\n",
    "            positions=x,\n",
    "            patch_artist=True,\n",
    "            showmeans=False,\n",
    "            showfliers=False,\n",
    "            meanline=False,\n",
    "            zorder=2,\n",
    "            widths=self._widths,\n",
    "        )\n",
    "        for en, box in enumerate(bp[\"boxes\"]):\n",
    "            box.set_facecolor(\"None\")\n",
    "            box.set_edgecolor(self.colors[en])\n",
    "\n",
    "        colors_ = np.repeat(\n",
    "            np.array(self.colors), 2, axis=0\n",
    "        )  # list(np.repeat(self.colors, 2))\n",
    "        for en, whisker in enumerate(bp[\"whiskers\"]):\n",
    "            whisker.set_c(colors_[en])\n",
    "\n",
    "        for en, cap in enumerate(bp[\"caps\"]):\n",
    "            cap.set_c(colors_[en])\n",
    "\n",
    "        for median in bp[\"medians\"]:\n",
    "            median.set_visible(False)\n",
    "\n",
    "    def __call__(self, ax, data, *args, **kwargs):\n",
    "\n",
    "        self.__update__(locals())\n",
    "\n",
    "        try:\n",
    "            self._background_scatter(ax, data)\n",
    "        except:\n",
    "            print(data)\n",
    "        self._background_boxplot(ax, data)\n",
    "        self._foreground_boxplot(ax, data)"
   ]
  },
  {
   "cell_type": "code",
   "execution_count": 35,
   "id": "b7aa633a",
   "metadata": {},
   "outputs": [
    {
     "data": {
      "application/javascript": [
       "\n",
       "        setTimeout(function() {\n",
       "            var nbb_cell_id = 35;\n",
       "            var nbb_formatted_code = \"x = [0, 2.5, 5, 7.5, 10, -2.5, -5, -7.5, -10]\\nmon_x = {xi: mon[xi] for xi in x}\\nneu_x = {xi: neu[xi] for xi in x}\";\n",
       "            var nbb_cells = Jupyter.notebook.get_cells();\n",
       "            for (var i = 0; i < nbb_cells.length; ++i) {\n",
       "                if (nbb_cells[i].input_prompt_number == nbb_cell_id) {\n",
       "                    nbb_cells[i].set_text(nbb_formatted_code);\n",
       "                    break;\n",
       "                }\n",
       "            }\n",
       "        }, 500);\n",
       "        "
      ],
      "text/plain": [
       "<IPython.core.display.Javascript object>"
      ]
     },
     "metadata": {},
     "output_type": "display_data"
    }
   ],
   "source": [
    "x = [0, 2.5, 5, 7.5, 10, -2.5, -5, -7.5, -10]\n",
    "mon_x = {xi: mon[xi] for xi in x}\n",
    "neu_x = {xi: neu[xi] for xi in x}"
   ]
  },
  {
   "cell_type": "code",
   "execution_count": 43,
   "id": "183c61b7",
   "metadata": {},
   "outputs": [
    {
     "data": {
      "application/javascript": [
       "\n",
       "        setTimeout(function() {\n",
       "            var nbb_cell_id = 43;\n",
       "            var nbb_formatted_code = \"colors = [\\n    \\\"#f5f6f6\\\",\\n    \\\"#96d2b1\\\",\\n    \\\"#4FB587\\\",\\n    \\\"#377D5D\\\",\\n    \\\"#1E4433\\\",\\n    \\\"#f48da2\\\",\\n    \\\"#C81F4C\\\",\\n    \\\"#911738\\\",\\n    \\\"#5A0F24\\\",\\n]\";\n",
       "            var nbb_cells = Jupyter.notebook.get_cells();\n",
       "            for (var i = 0; i < nbb_cells.length; ++i) {\n",
       "                if (nbb_cells[i].input_prompt_number == nbb_cell_id) {\n",
       "                    nbb_cells[i].set_text(nbb_formatted_code);\n",
       "                    break;\n",
       "                }\n",
       "            }\n",
       "        }, 500);\n",
       "        "
      ],
      "text/plain": [
       "<IPython.core.display.Javascript object>"
      ]
     },
     "metadata": {},
     "output_type": "display_data"
    }
   ],
   "source": [
    "colors = [\n",
    "    \"#f5f6f6\",\n",
    "    \"#96d2b1\",\n",
    "    \"#4FB587\",\n",
    "    \"#377D5D\",\n",
    "    \"#1E4433\",\n",
    "    \"#f48da2\",\n",
    "    \"#C81F4C\",\n",
    "    \"#911738\",\n",
    "    \"#5A0F24\",\n",
    "]"
   ]
  },
  {
   "cell_type": "code",
   "execution_count": 47,
   "id": "313527f3",
   "metadata": {},
   "outputs": [
    {
     "data": {
      "image/png": "[encoded data removed]",
      "text/plain": [
       "<Figure size 1280x480 with 2 Axes>"
      ]
     },
     "metadata": {},
     "output_type": "display_data"
    },
    {
     "data": {
      "application/javascript": [
       "\n",
       "        setTimeout(function() {\n",
       "            var nbb_cell_id = 47;\n",
       "            var nbb_formatted_code = \"fig, axes = cp.plot(\\n    nplots=2,\\n    ncols=2,\\n    wspace=0.1,\\n    y_label=[\\\"Fraction Neutrophils\\\", \\\"Fraction Monocytes\\\"],\\n    title=[\\n        \\\"Ensemble perturbation: Lmo4/Cepbe/Mxd1/Dach1\\\",\\n    ],\\n    x_label=[\\\"Z-score\\\"],\\n)\\nbp = StylishBoxPlot(colors=colors)\\nbp(ax=axes[0], data=neu_x)\\nbp = StylishBoxPlot(colors=colors)\\nbp(ax=axes[1], data=mon_x)\\nfor ax in axes:\\n    ax.set_ylim(0, 0.6)\\n    ax.set_xticks(range(1, len(x) + 1))\\n    ax.set_xticklabels([str(xi) for xi in x])\\n\\nplt.savefig(\\\"Figure3CD.LARRY.z_scan.tf_perturbation.svg\\\", dpi=500)\";\n",
       "            var nbb_cells = Jupyter.notebook.get_cells();\n",
       "            for (var i = 0; i < nbb_cells.length; ++i) {\n",
       "                if (nbb_cells[i].input_prompt_number == nbb_cell_id) {\n",
       "                    nbb_cells[i].set_text(nbb_formatted_code);\n",
       "                    break;\n",
       "                }\n",
       "            }\n",
       "        }, 500);\n",
       "        "
      ],
      "text/plain": [
       "<IPython.core.display.Javascript object>"
      ]
     },
     "metadata": {},
     "output_type": "display_data"
    }
   ],
   "source": [
    "fig, axes = cp.plot(\n",
    "    nplots=2,\n",
    "    ncols=2,\n",
    "    wspace=0.1,\n",
    "    y_label=[\"Fraction Neutrophils\", \"Fraction Monocytes\"],\n",
    "    title=[\n",
    "        \"Ensemble perturbation: Lmo4/Cepbe/Mxd1/Dach1\",\n",
    "    ],\n",
    "    x_label=[\"Z-score\"],\n",
    ")\n",
    "bp = StylishBoxPlot(colors=colors)\n",
    "bp(ax=axes[0], data=neu_x)\n",
    "bp = StylishBoxPlot(colors=colors)\n",
    "bp(ax=axes[1], data=mon_x)\n",
    "for ax in axes:\n",
    "    ax.set_ylim(0, 0.6)\n",
    "    ax.set_xticks(range(1, len(x) + 1))\n",
    "    ax.set_xticklabels([str(xi) for xi in x])\n",
    "\n",
    "plt.savefig(\"Figure3CD.LARRY.z_scan.tf_perturbation.svg\", dpi=500)"
   ]
  },
  {
   "cell_type": "markdown",
   "id": "0ac85307",
   "metadata": {},
   "source": [
    "### Stats: Z=-10.0"
   ]
  },
  {
   "cell_type": "code",
   "execution_count": 51,
   "id": "5e803673",
   "metadata": {},
   "outputs": [
    {
     "data": {
      "text/html": [
       "<div>\n",
       "<style scoped>\n",
       "    .dataframe tbody tr th:only-of-type {\n",
       "        vertical-align: middle;\n",
       "    }\n",
       "\n",
       "    .dataframe tbody tr th {\n",
       "        vertical-align: top;\n",
       "    }\n",
       "\n",
       "    .dataframe thead th {\n",
       "        text-align: right;\n",
       "    }\n",
       "</style>\n",
       "<table border=\"1\" class=\"dataframe\">\n",
       "  <thead>\n",
       "    <tr style=\"text-align: right;\">\n",
       "      <th></th>\n",
       "      <th>lfc</th>\n",
       "      <th>lfc_std</th>\n",
       "      <th>pval</th>\n",
       "    </tr>\n",
       "  </thead>\n",
       "  <tbody>\n",
       "    <tr>\n",
       "      <th>Baso</th>\n",
       "      <td>-0.344163</td>\n",
       "      <td>0.464065</td>\n",
       "      <td>6.334807e-02</td>\n",
       "    </tr>\n",
       "    <tr>\n",
       "      <th>Ccr7_DC</th>\n",
       "      <td>-2.225350</td>\n",
       "      <td>7.037174</td>\n",
       "      <td>3.434364e-01</td>\n",
       "    </tr>\n",
       "    <tr>\n",
       "      <th>Eos</th>\n",
       "      <td>0.100000</td>\n",
       "      <td>10.728173</td>\n",
       "      <td>6.619521e-01</td>\n",
       "    </tr>\n",
       "    <tr>\n",
       "      <th>Lymphoid</th>\n",
       "      <td>-2.225350</td>\n",
       "      <td>12.632113</td>\n",
       "      <td>5.565650e-01</td>\n",
       "    </tr>\n",
       "    <tr>\n",
       "      <th>Mast</th>\n",
       "      <td>0.049185</td>\n",
       "      <td>0.542898</td>\n",
       "      <td>7.071420e-01</td>\n",
       "    </tr>\n",
       "    <tr>\n",
       "      <th>Meg</th>\n",
       "      <td>-0.388254</td>\n",
       "      <td>0.996793</td>\n",
       "      <td>2.465738e-01</td>\n",
       "    </tr>\n",
       "    <tr>\n",
       "      <th>Monocyte</th>\n",
       "      <td>0.503497</td>\n",
       "      <td>0.165400</td>\n",
       "      <td>7.803902e-07</td>\n",
       "    </tr>\n",
       "    <tr>\n",
       "      <th>Neutrophil</th>\n",
       "      <td>-0.716182</td>\n",
       "      <td>0.219733</td>\n",
       "      <td>2.822856e-08</td>\n",
       "    </tr>\n",
       "    <tr>\n",
       "      <th>Undifferentiated</th>\n",
       "      <td>0.213196</td>\n",
       "      <td>0.294746</td>\n",
       "      <td>5.978327e-02</td>\n",
       "    </tr>\n",
       "  </tbody>\n",
       "</table>\n",
       "</div>"
      ],
      "text/plain": [
       "                       lfc    lfc_std          pval\n",
       "Baso             -0.344163   0.464065  6.334807e-02\n",
       "Ccr7_DC          -2.225350   7.037174  3.434364e-01\n",
       "Eos               0.100000  10.728173  6.619521e-01\n",
       "Lymphoid         -2.225350  12.632113  5.565650e-01\n",
       "Mast              0.049185   0.542898  7.071420e-01\n",
       "Meg              -0.388254   0.996793  2.465738e-01\n",
       "Monocyte          0.503497   0.165400  7.803902e-07\n",
       "Neutrophil       -0.716182   0.219733  2.822856e-08\n",
       "Undifferentiated  0.213196   0.294746  5.978327e-02"
      ]
     },
     "execution_count": 51,
     "metadata": {},
     "output_type": "execute_result"
    },
    {
     "data": {
      "application/javascript": [
       "\n",
       "        setTimeout(function() {\n",
       "            var nbb_cell_id = 51;\n",
       "            var nbb_formatted_code = \"result[-10].stats\";\n",
       "            var nbb_cells = Jupyter.notebook.get_cells();\n",
       "            for (var i = 0; i < nbb_cells.length; ++i) {\n",
       "                if (nbb_cells[i].input_prompt_number == nbb_cell_id) {\n",
       "                    nbb_cells[i].set_text(nbb_formatted_code);\n",
       "                    break;\n",
       "                }\n",
       "            }\n",
       "        }, 500);\n",
       "        "
      ],
      "text/plain": [
       "<IPython.core.display.Javascript object>"
      ]
     },
     "metadata": {},
     "output_type": "display_data"
    }
   ],
   "source": [
    "result[-10].stats"
   ]
  },
  {
   "cell_type": "markdown",
   "id": "377b2b52",
   "metadata": {},
   "source": [
    "### Stats: Z=-7.5"
   ]
  },
  {
   "cell_type": "code",
   "execution_count": 52,
   "id": "0ceb2911",
   "metadata": {
    "scrolled": true
   },
   "outputs": [
    {
     "data": {
      "text/html": [
       "<div>\n",
       "<style scoped>\n",
       "    .dataframe tbody tr th:only-of-type {\n",
       "        vertical-align: middle;\n",
       "    }\n",
       "\n",
       "    .dataframe tbody tr th {\n",
       "        vertical-align: top;\n",
       "    }\n",
       "\n",
       "    .dataframe thead th {\n",
       "        text-align: right;\n",
       "    }\n",
       "</style>\n",
       "<table border=\"1\" class=\"dataframe\">\n",
       "  <thead>\n",
       "    <tr style=\"text-align: right;\">\n",
       "      <th></th>\n",
       "      <th>lfc</th>\n",
       "      <th>lfc_std</th>\n",
       "      <th>pval</th>\n",
       "    </tr>\n",
       "  </thead>\n",
       "  <tbody>\n",
       "    <tr>\n",
       "      <th>Baso</th>\n",
       "      <td>-0.357732</td>\n",
       "      <td>0.426074</td>\n",
       "      <td>0.063345</td>\n",
       "    </tr>\n",
       "    <tr>\n",
       "      <th>Ccr7_DC</th>\n",
       "      <td>-2.225350</td>\n",
       "      <td>7.037174</td>\n",
       "      <td>0.343436</td>\n",
       "    </tr>\n",
       "    <tr>\n",
       "      <th>Eos</th>\n",
       "      <td>2.325350</td>\n",
       "      <td>12.810971</td>\n",
       "      <td>0.411768</td>\n",
       "    </tr>\n",
       "    <tr>\n",
       "      <th>Lymphoid</th>\n",
       "      <td>0.000000</td>\n",
       "      <td>14.835665</td>\n",
       "      <td>1.000000</td>\n",
       "    </tr>\n",
       "    <tr>\n",
       "      <th>Mast</th>\n",
       "      <td>-0.101994</td>\n",
       "      <td>0.642909</td>\n",
       "      <td>0.666921</td>\n",
       "    </tr>\n",
       "    <tr>\n",
       "      <th>Meg</th>\n",
       "      <td>-0.293650</td>\n",
       "      <td>0.895389</td>\n",
       "      <td>0.322376</td>\n",
       "    </tr>\n",
       "    <tr>\n",
       "      <th>Monocyte</th>\n",
       "      <td>0.388769</td>\n",
       "      <td>0.169799</td>\n",
       "      <td>0.000030</td>\n",
       "    </tr>\n",
       "    <tr>\n",
       "      <th>Neutrophil</th>\n",
       "      <td>-0.507302</td>\n",
       "      <td>0.225406</td>\n",
       "      <td>0.000010</td>\n",
       "    </tr>\n",
       "    <tr>\n",
       "      <th>Undifferentiated</th>\n",
       "      <td>0.257598</td>\n",
       "      <td>0.283954</td>\n",
       "      <td>0.006670</td>\n",
       "    </tr>\n",
       "  </tbody>\n",
       "</table>\n",
       "</div>"
      ],
      "text/plain": [
       "                       lfc    lfc_std      pval\n",
       "Baso             -0.357732   0.426074  0.063345\n",
       "Ccr7_DC          -2.225350   7.037174  0.343436\n",
       "Eos               2.325350  12.810971  0.411768\n",
       "Lymphoid          0.000000  14.835665  1.000000\n",
       "Mast             -0.101994   0.642909  0.666921\n",
       "Meg              -0.293650   0.895389  0.322376\n",
       "Monocyte          0.388769   0.169799  0.000030\n",
       "Neutrophil       -0.507302   0.225406  0.000010\n",
       "Undifferentiated  0.257598   0.283954  0.006670"
      ]
     },
     "execution_count": 52,
     "metadata": {},
     "output_type": "execute_result"
    },
    {
     "data": {
      "application/javascript": [
       "\n",
       "        setTimeout(function() {\n",
       "            var nbb_cell_id = 52;\n",
       "            var nbb_formatted_code = \"result[-7.5].stats\";\n",
       "            var nbb_cells = Jupyter.notebook.get_cells();\n",
       "            for (var i = 0; i < nbb_cells.length; ++i) {\n",
       "                if (nbb_cells[i].input_prompt_number == nbb_cell_id) {\n",
       "                    nbb_cells[i].set_text(nbb_formatted_code);\n",
       "                    break;\n",
       "                }\n",
       "            }\n",
       "        }, 500);\n",
       "        "
      ],
      "text/plain": [
       "<IPython.core.display.Javascript object>"
      ]
     },
     "metadata": {},
     "output_type": "display_data"
    }
   ],
   "source": [
    "result[-7.5].stats"
   ]
  },
  {
   "cell_type": "markdown",
   "id": "e736f129",
   "metadata": {},
   "source": [
    "### Stats: Z=-5.0"
   ]
  },
  {
   "cell_type": "code",
   "execution_count": 53,
   "id": "f246db9c",
   "metadata": {
    "scrolled": true
   },
   "outputs": [
    {
     "data": {
      "text/html": [
       "<div>\n",
       "<style scoped>\n",
       "    .dataframe tbody tr th:only-of-type {\n",
       "        vertical-align: middle;\n",
       "    }\n",
       "\n",
       "    .dataframe tbody tr th {\n",
       "        vertical-align: top;\n",
       "    }\n",
       "\n",
       "    .dataframe thead th {\n",
       "        text-align: right;\n",
       "    }\n",
       "</style>\n",
       "<table border=\"1\" class=\"dataframe\">\n",
       "  <thead>\n",
       "    <tr style=\"text-align: right;\">\n",
       "      <th></th>\n",
       "      <th>lfc</th>\n",
       "      <th>lfc_std</th>\n",
       "      <th>pval</th>\n",
       "    </tr>\n",
       "  </thead>\n",
       "  <tbody>\n",
       "    <tr>\n",
       "      <th>Baso</th>\n",
       "      <td>-0.298958</td>\n",
       "      <td>0.320706</td>\n",
       "      <td>0.050857</td>\n",
       "    </tr>\n",
       "    <tr>\n",
       "      <th>Ccr7_DC</th>\n",
       "      <td>-2.225350</td>\n",
       "      <td>7.037174</td>\n",
       "      <td>0.343436</td>\n",
       "    </tr>\n",
       "    <tr>\n",
       "      <th>Eos</th>\n",
       "      <td>2.325350</td>\n",
       "      <td>12.810971</td>\n",
       "      <td>0.411768</td>\n",
       "    </tr>\n",
       "    <tr>\n",
       "      <th>Lymphoid</th>\n",
       "      <td>-2.225350</td>\n",
       "      <td>12.632113</td>\n",
       "      <td>0.556565</td>\n",
       "    </tr>\n",
       "    <tr>\n",
       "      <th>Mast</th>\n",
       "      <td>0.051255</td>\n",
       "      <td>0.516998</td>\n",
       "      <td>0.729008</td>\n",
       "    </tr>\n",
       "    <tr>\n",
       "      <th>Meg</th>\n",
       "      <td>-0.242112</td>\n",
       "      <td>0.808106</td>\n",
       "      <td>0.291466</td>\n",
       "    </tr>\n",
       "    <tr>\n",
       "      <th>Monocyte</th>\n",
       "      <td>0.290306</td>\n",
       "      <td>0.201228</td>\n",
       "      <td>0.000859</td>\n",
       "    </tr>\n",
       "    <tr>\n",
       "      <th>Neutrophil</th>\n",
       "      <td>-0.250560</td>\n",
       "      <td>0.172126</td>\n",
       "      <td>0.000836</td>\n",
       "    </tr>\n",
       "    <tr>\n",
       "      <th>Undifferentiated</th>\n",
       "      <td>0.088532</td>\n",
       "      <td>0.272041</td>\n",
       "      <td>0.335660</td>\n",
       "    </tr>\n",
       "  </tbody>\n",
       "</table>\n",
       "</div>"
      ],
      "text/plain": [
       "                       lfc    lfc_std      pval\n",
       "Baso             -0.298958   0.320706  0.050857\n",
       "Ccr7_DC          -2.225350   7.037174  0.343436\n",
       "Eos               2.325350  12.810971  0.411768\n",
       "Lymphoid         -2.225350  12.632113  0.556565\n",
       "Mast              0.051255   0.516998  0.729008\n",
       "Meg              -0.242112   0.808106  0.291466\n",
       "Monocyte          0.290306   0.201228  0.000859\n",
       "Neutrophil       -0.250560   0.172126  0.000836\n",
       "Undifferentiated  0.088532   0.272041  0.335660"
      ]
     },
     "execution_count": 53,
     "metadata": {},
     "output_type": "execute_result"
    },
    {
     "data": {
      "application/javascript": [
       "\n",
       "        setTimeout(function() {\n",
       "            var nbb_cell_id = 53;\n",
       "            var nbb_formatted_code = \"result[-5].stats\";\n",
       "            var nbb_cells = Jupyter.notebook.get_cells();\n",
       "            for (var i = 0; i < nbb_cells.length; ++i) {\n",
       "                if (nbb_cells[i].input_prompt_number == nbb_cell_id) {\n",
       "                    nbb_cells[i].set_text(nbb_formatted_code);\n",
       "                    break;\n",
       "                }\n",
       "            }\n",
       "        }, 500);\n",
       "        "
      ],
      "text/plain": [
       "<IPython.core.display.Javascript object>"
      ]
     },
     "metadata": {},
     "output_type": "display_data"
    }
   ],
   "source": [
    "result[-5].stats"
   ]
  },
  {
   "cell_type": "markdown",
   "id": "4ca727f5",
   "metadata": {},
   "source": [
    "### Stats: Z=-2.5"
   ]
  },
  {
   "cell_type": "code",
   "execution_count": 54,
   "id": "46284f87",
   "metadata": {},
   "outputs": [
    {
     "data": {
      "text/html": [
       "<div>\n",
       "<style scoped>\n",
       "    .dataframe tbody tr th:only-of-type {\n",
       "        vertical-align: middle;\n",
       "    }\n",
       "\n",
       "    .dataframe tbody tr th {\n",
       "        vertical-align: top;\n",
       "    }\n",
       "\n",
       "    .dataframe thead th {\n",
       "        text-align: right;\n",
       "    }\n",
       "</style>\n",
       "<table border=\"1\" class=\"dataframe\">\n",
       "  <thead>\n",
       "    <tr style=\"text-align: right;\">\n",
       "      <th></th>\n",
       "      <th>lfc</th>\n",
       "      <th>lfc_std</th>\n",
       "      <th>pval</th>\n",
       "    </tr>\n",
       "  </thead>\n",
       "  <tbody>\n",
       "    <tr>\n",
       "      <th>Baso</th>\n",
       "      <td>-0.285827</td>\n",
       "      <td>0.335098</td>\n",
       "      <td>0.069205</td>\n",
       "    </tr>\n",
       "    <tr>\n",
       "      <th>Ccr7_DC</th>\n",
       "      <td>-2.225350</td>\n",
       "      <td>7.037174</td>\n",
       "      <td>0.343436</td>\n",
       "    </tr>\n",
       "    <tr>\n",
       "      <th>Eos</th>\n",
       "      <td>4.550699</td>\n",
       "      <td>14.217715</td>\n",
       "      <td>0.239034</td>\n",
       "    </tr>\n",
       "    <tr>\n",
       "      <th>Lymphoid</th>\n",
       "      <td>-2.225350</td>\n",
       "      <td>12.632113</td>\n",
       "      <td>0.556565</td>\n",
       "    </tr>\n",
       "    <tr>\n",
       "      <th>Mast</th>\n",
       "      <td>0.078241</td>\n",
       "      <td>0.510552</td>\n",
       "      <td>0.565435</td>\n",
       "    </tr>\n",
       "    <tr>\n",
       "      <th>Meg</th>\n",
       "      <td>-0.134875</td>\n",
       "      <td>0.656334</td>\n",
       "      <td>0.495795</td>\n",
       "    </tr>\n",
       "    <tr>\n",
       "      <th>Monocyte</th>\n",
       "      <td>0.127975</td>\n",
       "      <td>0.194121</td>\n",
       "      <td>0.177587</td>\n",
       "    </tr>\n",
       "    <tr>\n",
       "      <th>Neutrophil</th>\n",
       "      <td>-0.173706</td>\n",
       "      <td>0.161797</td>\n",
       "      <td>0.014792</td>\n",
       "    </tr>\n",
       "    <tr>\n",
       "      <th>Undifferentiated</th>\n",
       "      <td>0.183716</td>\n",
       "      <td>0.282854</td>\n",
       "      <td>0.045200</td>\n",
       "    </tr>\n",
       "  </tbody>\n",
       "</table>\n",
       "</div>"
      ],
      "text/plain": [
       "                       lfc    lfc_std      pval\n",
       "Baso             -0.285827   0.335098  0.069205\n",
       "Ccr7_DC          -2.225350   7.037174  0.343436\n",
       "Eos               4.550699  14.217715  0.239034\n",
       "Lymphoid         -2.225350  12.632113  0.556565\n",
       "Mast              0.078241   0.510552  0.565435\n",
       "Meg              -0.134875   0.656334  0.495795\n",
       "Monocyte          0.127975   0.194121  0.177587\n",
       "Neutrophil       -0.173706   0.161797  0.014792\n",
       "Undifferentiated  0.183716   0.282854  0.045200"
      ]
     },
     "execution_count": 54,
     "metadata": {},
     "output_type": "execute_result"
    },
    {
     "data": {
      "application/javascript": [
       "\n",
       "        setTimeout(function() {\n",
       "            var nbb_cell_id = 54;\n",
       "            var nbb_formatted_code = \"result[-2.5].stats\";\n",
       "            var nbb_cells = Jupyter.notebook.get_cells();\n",
       "            for (var i = 0; i < nbb_cells.length; ++i) {\n",
       "                if (nbb_cells[i].input_prompt_number == nbb_cell_id) {\n",
       "                    nbb_cells[i].set_text(nbb_formatted_code);\n",
       "                    break;\n",
       "                }\n",
       "            }\n",
       "        }, 500);\n",
       "        "
      ],
      "text/plain": [
       "<IPython.core.display.Javascript object>"
      ]
     },
     "metadata": {},
     "output_type": "display_data"
    }
   ],
   "source": [
    "result[-2.5].stats"
   ]
  },
  {
   "cell_type": "markdown",
   "id": "cd3a212c",
   "metadata": {},
   "source": [
    "### Stats: Z=0 (negative control)"
   ]
  },
  {
   "cell_type": "code",
   "execution_count": 57,
   "id": "252aa2ba",
   "metadata": {},
   "outputs": [
    {
     "data": {
      "text/html": [
       "<div>\n",
       "<style scoped>\n",
       "    .dataframe tbody tr th:only-of-type {\n",
       "        vertical-align: middle;\n",
       "    }\n",
       "\n",
       "    .dataframe tbody tr th {\n",
       "        vertical-align: top;\n",
       "    }\n",
       "\n",
       "    .dataframe thead th {\n",
       "        text-align: right;\n",
       "    }\n",
       "</style>\n",
       "<table border=\"1\" class=\"dataframe\">\n",
       "  <thead>\n",
       "    <tr style=\"text-align: right;\">\n",
       "      <th></th>\n",
       "      <th>lfc</th>\n",
       "      <th>lfc_std</th>\n",
       "      <th>pval</th>\n",
       "    </tr>\n",
       "  </thead>\n",
       "  <tbody>\n",
       "    <tr>\n",
       "      <th>Baso</th>\n",
       "      <td>-0.329532</td>\n",
       "      <td>0.350264</td>\n",
       "      <td>0.062290</td>\n",
       "    </tr>\n",
       "    <tr>\n",
       "      <th>Ccr7_DC</th>\n",
       "      <td>-2.225350</td>\n",
       "      <td>7.037174</td>\n",
       "      <td>0.343436</td>\n",
       "    </tr>\n",
       "    <tr>\n",
       "      <th>Eos</th>\n",
       "      <td>4.550699</td>\n",
       "      <td>14.217715</td>\n",
       "      <td>0.239034</td>\n",
       "    </tr>\n",
       "    <tr>\n",
       "      <th>Lymphoid</th>\n",
       "      <td>-2.225350</td>\n",
       "      <td>12.632113</td>\n",
       "      <td>0.556565</td>\n",
       "    </tr>\n",
       "    <tr>\n",
       "      <th>Mast</th>\n",
       "      <td>0.123756</td>\n",
       "      <td>0.447023</td>\n",
       "      <td>0.393449</td>\n",
       "    </tr>\n",
       "    <tr>\n",
       "      <th>Meg</th>\n",
       "      <td>-0.093901</td>\n",
       "      <td>0.579420</td>\n",
       "      <td>0.562036</td>\n",
       "    </tr>\n",
       "    <tr>\n",
       "      <th>Monocyte</th>\n",
       "      <td>0.001702</td>\n",
       "      <td>0.232710</td>\n",
       "      <td>1.000000</td>\n",
       "    </tr>\n",
       "    <tr>\n",
       "      <th>Neutrophil</th>\n",
       "      <td>0.043065</td>\n",
       "      <td>0.150576</td>\n",
       "      <td>0.484823</td>\n",
       "    </tr>\n",
       "    <tr>\n",
       "      <th>Undifferentiated</th>\n",
       "      <td>0.058939</td>\n",
       "      <td>0.267663</td>\n",
       "      <td>0.521007</td>\n",
       "    </tr>\n",
       "  </tbody>\n",
       "</table>\n",
       "</div>"
      ],
      "text/plain": [
       "                       lfc    lfc_std      pval\n",
       "Baso             -0.329532   0.350264  0.062290\n",
       "Ccr7_DC          -2.225350   7.037174  0.343436\n",
       "Eos               4.550699  14.217715  0.239034\n",
       "Lymphoid         -2.225350  12.632113  0.556565\n",
       "Mast              0.123756   0.447023  0.393449\n",
       "Meg              -0.093901   0.579420  0.562036\n",
       "Monocyte          0.001702   0.232710  1.000000\n",
       "Neutrophil        0.043065   0.150576  0.484823\n",
       "Undifferentiated  0.058939   0.267663  0.521007"
      ]
     },
     "execution_count": 57,
     "metadata": {},
     "output_type": "execute_result"
    },
    {
     "data": {
      "application/javascript": [
       "\n",
       "        setTimeout(function() {\n",
       "            var nbb_cell_id = 57;\n",
       "            var nbb_formatted_code = \"result[0].stats\";\n",
       "            var nbb_cells = Jupyter.notebook.get_cells();\n",
       "            for (var i = 0; i < nbb_cells.length; ++i) {\n",
       "                if (nbb_cells[i].input_prompt_number == nbb_cell_id) {\n",
       "                    nbb_cells[i].set_text(nbb_formatted_code);\n",
       "                    break;\n",
       "                }\n",
       "            }\n",
       "        }, 500);\n",
       "        "
      ],
      "text/plain": [
       "<IPython.core.display.Javascript object>"
      ]
     },
     "metadata": {},
     "output_type": "display_data"
    }
   ],
   "source": [
    "result[0].stats"
   ]
  },
  {
   "cell_type": "markdown",
   "id": "bf573743",
   "metadata": {},
   "source": [
    "### Stats: Z=+2.5"
   ]
  },
  {
   "cell_type": "code",
   "execution_count": 58,
   "id": "48222035",
   "metadata": {},
   "outputs": [
    {
     "data": {
      "text/html": [
       "<div>\n",
       "<style scoped>\n",
       "    .dataframe tbody tr th:only-of-type {\n",
       "        vertical-align: middle;\n",
       "    }\n",
       "\n",
       "    .dataframe tbody tr th {\n",
       "        vertical-align: top;\n",
       "    }\n",
       "\n",
       "    .dataframe thead th {\n",
       "        text-align: right;\n",
       "    }\n",
       "</style>\n",
       "<table border=\"1\" class=\"dataframe\">\n",
       "  <thead>\n",
       "    <tr style=\"text-align: right;\">\n",
       "      <th></th>\n",
       "      <th>lfc</th>\n",
       "      <th>lfc_std</th>\n",
       "      <th>pval</th>\n",
       "    </tr>\n",
       "  </thead>\n",
       "  <tbody>\n",
       "    <tr>\n",
       "      <th>Baso</th>\n",
       "      <td>-0.403819</td>\n",
       "      <td>0.333990</td>\n",
       "      <td>0.009848</td>\n",
       "    </tr>\n",
       "    <tr>\n",
       "      <th>Ccr7_DC</th>\n",
       "      <td>-2.225350</td>\n",
       "      <td>7.037174</td>\n",
       "      <td>0.343436</td>\n",
       "    </tr>\n",
       "    <tr>\n",
       "      <th>Eos</th>\n",
       "      <td>9.159895</td>\n",
       "      <td>15.814315</td>\n",
       "      <td>0.065820</td>\n",
       "    </tr>\n",
       "    <tr>\n",
       "      <th>Lymphoid</th>\n",
       "      <td>-2.225350</td>\n",
       "      <td>12.632113</td>\n",
       "      <td>0.556565</td>\n",
       "    </tr>\n",
       "    <tr>\n",
       "      <th>Mast</th>\n",
       "      <td>0.054175</td>\n",
       "      <td>0.527476</td>\n",
       "      <td>0.693671</td>\n",
       "    </tr>\n",
       "    <tr>\n",
       "      <th>Meg</th>\n",
       "      <td>-0.179211</td>\n",
       "      <td>0.692902</td>\n",
       "      <td>0.425182</td>\n",
       "    </tr>\n",
       "    <tr>\n",
       "      <th>Monocyte</th>\n",
       "      <td>-0.166468</td>\n",
       "      <td>0.163012</td>\n",
       "      <td>0.073626</td>\n",
       "    </tr>\n",
       "    <tr>\n",
       "      <th>Neutrophil</th>\n",
       "      <td>0.239194</td>\n",
       "      <td>0.105876</td>\n",
       "      <td>0.001354</td>\n",
       "    </tr>\n",
       "    <tr>\n",
       "      <th>Undifferentiated</th>\n",
       "      <td>0.001625</td>\n",
       "      <td>0.289195</td>\n",
       "      <td>1.000000</td>\n",
       "    </tr>\n",
       "  </tbody>\n",
       "</table>\n",
       "</div>"
      ],
      "text/plain": [
       "                       lfc    lfc_std      pval\n",
       "Baso             -0.403819   0.333990  0.009848\n",
       "Ccr7_DC          -2.225350   7.037174  0.343436\n",
       "Eos               9.159895  15.814315  0.065820\n",
       "Lymphoid         -2.225350  12.632113  0.556565\n",
       "Mast              0.054175   0.527476  0.693671\n",
       "Meg              -0.179211   0.692902  0.425182\n",
       "Monocyte         -0.166468   0.163012  0.073626\n",
       "Neutrophil        0.239194   0.105876  0.001354\n",
       "Undifferentiated  0.001625   0.289195  1.000000"
      ]
     },
     "execution_count": 58,
     "metadata": {},
     "output_type": "execute_result"
    },
    {
     "data": {
      "application/javascript": [
       "\n",
       "        setTimeout(function() {\n",
       "            var nbb_cell_id = 58;\n",
       "            var nbb_formatted_code = \"result[2.5].stats\";\n",
       "            var nbb_cells = Jupyter.notebook.get_cells();\n",
       "            for (var i = 0; i < nbb_cells.length; ++i) {\n",
       "                if (nbb_cells[i].input_prompt_number == nbb_cell_id) {\n",
       "                    nbb_cells[i].set_text(nbb_formatted_code);\n",
       "                    break;\n",
       "                }\n",
       "            }\n",
       "        }, 500);\n",
       "        "
      ],
      "text/plain": [
       "<IPython.core.display.Javascript object>"
      ]
     },
     "metadata": {},
     "output_type": "display_data"
    }
   ],
   "source": [
    "result[2.5].stats"
   ]
  },
  {
   "cell_type": "markdown",
   "id": "48b6039a",
   "metadata": {},
   "source": [
    "### Stats: Z=+5.0"
   ]
  },
  {
   "cell_type": "code",
   "execution_count": 59,
   "id": "30deab2e",
   "metadata": {},
   "outputs": [
    {
     "data": {
      "text/html": [
       "<div>\n",
       "<style scoped>\n",
       "    .dataframe tbody tr th:only-of-type {\n",
       "        vertical-align: middle;\n",
       "    }\n",
       "\n",
       "    .dataframe tbody tr th {\n",
       "        vertical-align: top;\n",
       "    }\n",
       "\n",
       "    .dataframe thead th {\n",
       "        text-align: right;\n",
       "    }\n",
       "</style>\n",
       "<table border=\"1\" class=\"dataframe\">\n",
       "  <thead>\n",
       "    <tr style=\"text-align: right;\">\n",
       "      <th></th>\n",
       "      <th>lfc</th>\n",
       "      <th>lfc_std</th>\n",
       "      <th>pval</th>\n",
       "    </tr>\n",
       "  </thead>\n",
       "  <tbody>\n",
       "    <tr>\n",
       "      <th>Baso</th>\n",
       "      <td>-0.267582</td>\n",
       "      <td>0.372348</td>\n",
       "      <td>0.124908</td>\n",
       "    </tr>\n",
       "    <tr>\n",
       "      <th>Ccr7_DC</th>\n",
       "      <td>-2.225350</td>\n",
       "      <td>7.037174</td>\n",
       "      <td>0.343436</td>\n",
       "    </tr>\n",
       "    <tr>\n",
       "      <th>Eos</th>\n",
       "      <td>2.383846</td>\n",
       "      <td>12.918037</td>\n",
       "      <td>0.370888</td>\n",
       "    </tr>\n",
       "    <tr>\n",
       "      <th>Lymphoid</th>\n",
       "      <td>-2.225350</td>\n",
       "      <td>12.632113</td>\n",
       "      <td>0.556565</td>\n",
       "    </tr>\n",
       "    <tr>\n",
       "      <th>Mast</th>\n",
       "      <td>0.004420</td>\n",
       "      <td>0.582175</td>\n",
       "      <td>0.900783</td>\n",
       "    </tr>\n",
       "    <tr>\n",
       "      <th>Meg</th>\n",
       "      <td>0.036657</td>\n",
       "      <td>0.728058</td>\n",
       "      <td>0.769546</td>\n",
       "    </tr>\n",
       "    <tr>\n",
       "      <th>Monocyte</th>\n",
       "      <td>-0.418199</td>\n",
       "      <td>0.278190</td>\n",
       "      <td>0.000333</td>\n",
       "    </tr>\n",
       "    <tr>\n",
       "      <th>Neutrophil</th>\n",
       "      <td>0.353356</td>\n",
       "      <td>0.106797</td>\n",
       "      <td>0.000005</td>\n",
       "    </tr>\n",
       "    <tr>\n",
       "      <th>Undifferentiated</th>\n",
       "      <td>-0.026492</td>\n",
       "      <td>0.247384</td>\n",
       "      <td>0.851797</td>\n",
       "    </tr>\n",
       "  </tbody>\n",
       "</table>\n",
       "</div>"
      ],
      "text/plain": [
       "                       lfc    lfc_std      pval\n",
       "Baso             -0.267582   0.372348  0.124908\n",
       "Ccr7_DC          -2.225350   7.037174  0.343436\n",
       "Eos               2.383846  12.918037  0.370888\n",
       "Lymphoid         -2.225350  12.632113  0.556565\n",
       "Mast              0.004420   0.582175  0.900783\n",
       "Meg               0.036657   0.728058  0.769546\n",
       "Monocyte         -0.418199   0.278190  0.000333\n",
       "Neutrophil        0.353356   0.106797  0.000005\n",
       "Undifferentiated -0.026492   0.247384  0.851797"
      ]
     },
     "execution_count": 59,
     "metadata": {},
     "output_type": "execute_result"
    },
    {
     "data": {
      "application/javascript": [
       "\n",
       "        setTimeout(function() {\n",
       "            var nbb_cell_id = 59;\n",
       "            var nbb_formatted_code = \"result[5].stats\";\n",
       "            var nbb_cells = Jupyter.notebook.get_cells();\n",
       "            for (var i = 0; i < nbb_cells.length; ++i) {\n",
       "                if (nbb_cells[i].input_prompt_number == nbb_cell_id) {\n",
       "                    nbb_cells[i].set_text(nbb_formatted_code);\n",
       "                    break;\n",
       "                }\n",
       "            }\n",
       "        }, 500);\n",
       "        "
      ],
      "text/plain": [
       "<IPython.core.display.Javascript object>"
      ]
     },
     "metadata": {},
     "output_type": "display_data"
    }
   ],
   "source": [
    "result[5].stats"
   ]
  },
  {
   "cell_type": "markdown",
   "id": "7e033dd8",
   "metadata": {},
   "source": [
    "### Stats: Z=+7.5"
   ]
  },
  {
   "cell_type": "code",
   "execution_count": 60,
   "id": "de6d2e2f",
   "metadata": {},
   "outputs": [
    {
     "data": {
      "text/html": [
       "<div>\n",
       "<style scoped>\n",
       "    .dataframe tbody tr th:only-of-type {\n",
       "        vertical-align: middle;\n",
       "    }\n",
       "\n",
       "    .dataframe tbody tr th {\n",
       "        vertical-align: top;\n",
       "    }\n",
       "\n",
       "    .dataframe thead th {\n",
       "        text-align: right;\n",
       "    }\n",
       "</style>\n",
       "<table border=\"1\" class=\"dataframe\">\n",
       "  <thead>\n",
       "    <tr style=\"text-align: right;\">\n",
       "      <th></th>\n",
       "      <th>lfc</th>\n",
       "      <th>lfc_std</th>\n",
       "      <th>pval</th>\n",
       "    </tr>\n",
       "  </thead>\n",
       "  <tbody>\n",
       "    <tr>\n",
       "      <th>Baso</th>\n",
       "      <td>-0.407182</td>\n",
       "      <td>0.371657</td>\n",
       "      <td>1.167101e-02</td>\n",
       "    </tr>\n",
       "    <tr>\n",
       "      <th>Ccr7_DC</th>\n",
       "      <td>-2.225350</td>\n",
       "      <td>7.037174</td>\n",
       "      <td>3.434364e-01</td>\n",
       "    </tr>\n",
       "    <tr>\n",
       "      <th>Eos</th>\n",
       "      <td>2.325350</td>\n",
       "      <td>12.810971</td>\n",
       "      <td>4.117681e-01</td>\n",
       "    </tr>\n",
       "    <tr>\n",
       "      <th>Lymphoid</th>\n",
       "      <td>-2.225350</td>\n",
       "      <td>12.632113</td>\n",
       "      <td>5.565650e-01</td>\n",
       "    </tr>\n",
       "    <tr>\n",
       "      <th>Mast</th>\n",
       "      <td>-0.005319</td>\n",
       "      <td>0.627175</td>\n",
       "      <td>9.086113e-01</td>\n",
       "    </tr>\n",
       "    <tr>\n",
       "      <th>Meg</th>\n",
       "      <td>0.103583</td>\n",
       "      <td>0.735823</td>\n",
       "      <td>5.163128e-01</td>\n",
       "    </tr>\n",
       "    <tr>\n",
       "      <th>Monocyte</th>\n",
       "      <td>-0.611540</td>\n",
       "      <td>0.285579</td>\n",
       "      <td>8.386557e-06</td>\n",
       "    </tr>\n",
       "    <tr>\n",
       "      <th>Neutrophil</th>\n",
       "      <td>0.495526</td>\n",
       "      <td>0.076474</td>\n",
       "      <td>2.386503e-07</td>\n",
       "    </tr>\n",
       "    <tr>\n",
       "      <th>Undifferentiated</th>\n",
       "      <td>-0.089762</td>\n",
       "      <td>0.348114</td>\n",
       "      <td>3.469466e-01</td>\n",
       "    </tr>\n",
       "  </tbody>\n",
       "</table>\n",
       "</div>"
      ],
      "text/plain": [
       "                       lfc    lfc_std          pval\n",
       "Baso             -0.407182   0.371657  1.167101e-02\n",
       "Ccr7_DC          -2.225350   7.037174  3.434364e-01\n",
       "Eos               2.325350  12.810971  4.117681e-01\n",
       "Lymphoid         -2.225350  12.632113  5.565650e-01\n",
       "Mast             -0.005319   0.627175  9.086113e-01\n",
       "Meg               0.103583   0.735823  5.163128e-01\n",
       "Monocyte         -0.611540   0.285579  8.386557e-06\n",
       "Neutrophil        0.495526   0.076474  2.386503e-07\n",
       "Undifferentiated -0.089762   0.348114  3.469466e-01"
      ]
     },
     "execution_count": 60,
     "metadata": {},
     "output_type": "execute_result"
    },
    {
     "data": {
      "application/javascript": [
       "\n",
       "        setTimeout(function() {\n",
       "            var nbb_cell_id = 60;\n",
       "            var nbb_formatted_code = \"result[7.5].stats\";\n",
       "            var nbb_cells = Jupyter.notebook.get_cells();\n",
       "            for (var i = 0; i < nbb_cells.length; ++i) {\n",
       "                if (nbb_cells[i].input_prompt_number == nbb_cell_id) {\n",
       "                    nbb_cells[i].set_text(nbb_formatted_code);\n",
       "                    break;\n",
       "                }\n",
       "            }\n",
       "        }, 500);\n",
       "        "
      ],
      "text/plain": [
       "<IPython.core.display.Javascript object>"
      ]
     },
     "metadata": {},
     "output_type": "display_data"
    }
   ],
   "source": [
    "result[7.5].stats"
   ]
  },
  {
   "cell_type": "markdown",
   "id": "a6825a13",
   "metadata": {},
   "source": [
    "### Stats: Z=+10.0"
   ]
  },
  {
   "cell_type": "code",
   "execution_count": 61,
   "id": "53ebbacb",
   "metadata": {},
   "outputs": [
    {
     "data": {
      "text/html": [
       "<div>\n",
       "<style scoped>\n",
       "    .dataframe tbody tr th:only-of-type {\n",
       "        vertical-align: middle;\n",
       "    }\n",
       "\n",
       "    .dataframe tbody tr th {\n",
       "        vertical-align: top;\n",
       "    }\n",
       "\n",
       "    .dataframe thead th {\n",
       "        text-align: right;\n",
       "    }\n",
       "</style>\n",
       "<table border=\"1\" class=\"dataframe\">\n",
       "  <thead>\n",
       "    <tr style=\"text-align: right;\">\n",
       "      <th></th>\n",
       "      <th>lfc</th>\n",
       "      <th>lfc_std</th>\n",
       "      <th>pval</th>\n",
       "    </tr>\n",
       "  </thead>\n",
       "  <tbody>\n",
       "    <tr>\n",
       "      <th>Baso</th>\n",
       "      <td>-0.474214</td>\n",
       "      <td>0.246406</td>\n",
       "      <td>3.394814e-04</td>\n",
       "    </tr>\n",
       "    <tr>\n",
       "      <th>Ccr7_DC</th>\n",
       "      <td>-2.225350</td>\n",
       "      <td>7.037174</td>\n",
       "      <td>3.434364e-01</td>\n",
       "    </tr>\n",
       "    <tr>\n",
       "      <th>Eos</th>\n",
       "      <td>6.776049</td>\n",
       "      <td>10.913870</td>\n",
       "      <td>1.274668e-01</td>\n",
       "    </tr>\n",
       "    <tr>\n",
       "      <th>Lymphoid</th>\n",
       "      <td>-2.225350</td>\n",
       "      <td>12.632113</td>\n",
       "      <td>5.565650e-01</td>\n",
       "    </tr>\n",
       "    <tr>\n",
       "      <th>Mast</th>\n",
       "      <td>0.047206</td>\n",
       "      <td>0.632534</td>\n",
       "      <td>6.553308e-01</td>\n",
       "    </tr>\n",
       "    <tr>\n",
       "      <th>Meg</th>\n",
       "      <td>0.110495</td>\n",
       "      <td>0.555091</td>\n",
       "      <td>5.748016e-01</td>\n",
       "    </tr>\n",
       "    <tr>\n",
       "      <th>Monocyte</th>\n",
       "      <td>-0.988180</td>\n",
       "      <td>0.285764</td>\n",
       "      <td>7.556143e-08</td>\n",
       "    </tr>\n",
       "    <tr>\n",
       "      <th>Neutrophil</th>\n",
       "      <td>0.687548</td>\n",
       "      <td>0.100663</td>\n",
       "      <td>1.406881e-10</td>\n",
       "    </tr>\n",
       "    <tr>\n",
       "      <th>Undifferentiated</th>\n",
       "      <td>-0.218872</td>\n",
       "      <td>0.199491</td>\n",
       "      <td>2.798487e-02</td>\n",
       "    </tr>\n",
       "  </tbody>\n",
       "</table>\n",
       "</div>"
      ],
      "text/plain": [
       "                       lfc    lfc_std          pval\n",
       "Baso             -0.474214   0.246406  3.394814e-04\n",
       "Ccr7_DC          -2.225350   7.037174  3.434364e-01\n",
       "Eos               6.776049  10.913870  1.274668e-01\n",
       "Lymphoid         -2.225350  12.632113  5.565650e-01\n",
       "Mast              0.047206   0.632534  6.553308e-01\n",
       "Meg               0.110495   0.555091  5.748016e-01\n",
       "Monocyte         -0.988180   0.285764  7.556143e-08\n",
       "Neutrophil        0.687548   0.100663  1.406881e-10\n",
       "Undifferentiated -0.218872   0.199491  2.798487e-02"
      ]
     },
     "execution_count": 61,
     "metadata": {},
     "output_type": "execute_result"
    },
    {
     "data": {
      "application/javascript": [
       "\n",
       "        setTimeout(function() {\n",
       "            var nbb_cell_id = 61;\n",
       "            var nbb_formatted_code = \"result[10].stats\";\n",
       "            var nbb_cells = Jupyter.notebook.get_cells();\n",
       "            for (var i = 0; i < nbb_cells.length; ++i) {\n",
       "                if (nbb_cells[i].input_prompt_number == nbb_cell_id) {\n",
       "                    nbb_cells[i].set_text(nbb_formatted_code);\n",
       "                    break;\n",
       "                }\n",
       "            }\n",
       "        }, 500);\n",
       "        "
      ],
      "text/plain": [
       "<IPython.core.display.Javascript object>"
      ]
     },
     "metadata": {},
     "output_type": "display_data"
    }
   ],
   "source": [
    "result[10].stats"
   ]
  },
  {
   "cell_type": "code",
   "execution_count": null,
   "id": "dfb1b8b9",
   "metadata": {},
   "outputs": [],
   "source": []
  }
 ],
 "metadata": {
  "kernelspec": {
   "display_name": "sdq-dev",
   "language": "python",
   "name": "sdq-dev"
  },
  "language_info": {
   "codemirror_mode": {
    "name": "ipython",
    "version": 3
   },
   "file_extension": ".py",
   "mimetype": "text/x-python",
   "name": "python",
   "nbconvert_exporter": "python",
   "pygments_lexer": "ipython3",
   "version": "3.9.18"
  }
 },
 "nbformat": 4,
 "nbformat_minor": 5
}
