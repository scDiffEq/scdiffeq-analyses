{
 "cells": [
  {
   "cell_type": "markdown",
   "id": "b52e25c3",
   "metadata": {},
   "source": [
    "### Figure S10"
   ]
  },
  {
   "cell_type": "markdown",
   "id": "391f7328",
   "metadata": {},
   "source": [
    "### Import packages"
   ]
  },
  {
   "cell_type": "code",
   "execution_count": 1,
   "id": "1b46619d",
   "metadata": {},
   "outputs": [
    {
     "name": "stdout",
     "output_type": "stream",
     "text": [
      "AnnData object with n_obs × n_vars = 130887 × 2492\n",
      "    obs: 'Library', 'Cell barcode', 'Time point', 'Starting population', 'Cell type annotation', 'Well', 'SPRING-x', 'SPRING-y', 'clone_idx', 'fate_observed', 't0_fated', 'train'\n",
      "    var: 'gene_ids', 'hv_gene', 'must_include', 'exclude', 'use_genes'\n",
      "    uns: 'fate_counts', 'h5ad_path', 'time_occupance'\n",
      "    obsm: 'X_clone', 'X_pca', 'X_umap', 'cell_fate_df'\n",
      "    layers: 'X_scaled'\n"
     ]
    },
    {
     "data": {
      "application/javascript": [
       "\n",
       "        setTimeout(function() {\n",
       "            var nbb_cell_id = 1;\n",
       "            var nbb_formatted_code = \"%load_ext nb_black\\n\\nimport scdiffeq as sdq\\nimport cellplots as cp\\nimport matplotlib.pyplot as plt\\nimport matplotlib.cm as cm\\nimport pandas as pd\\nimport numpy as np\\nimport cell_perturb\\nimport scipy.stats\\nimport sklearn\\nimport larry\\nimport pathlib\\nimport glob\\nimport torch\\nimport matplotlib.cm as cm\\nimport statsmodels.stats.meta_analysis\\nfrom scipy.stats import combine_pvalues\\nimport seaborn as sns\\n\\nfrom typing import Union, Dict, List\\n\\ncmap = larry.pl.InVitroColorMap()._dict\\n\\nh5ad_path = (\\n    \\\"/home/mvinyard/data/adata.reprocessed_19OCT2023.more_feature_inclusive.h5ad\\\"\\n)\\nadata = sdq.io.read_h5ad(h5ad_path)\";\n",
       "            var nbb_cells = Jupyter.notebook.get_cells();\n",
       "            for (var i = 0; i < nbb_cells.length; ++i) {\n",
       "                if (nbb_cells[i].input_prompt_number == nbb_cell_id) {\n",
       "                    nbb_cells[i].set_text(nbb_formatted_code);\n",
       "                    break;\n",
       "                }\n",
       "            }\n",
       "        }, 500);\n",
       "        "
      ],
      "text/plain": [
       "<IPython.core.display.Javascript object>"
      ]
     },
     "metadata": {},
     "output_type": "display_data"
    }
   ],
   "source": [
    "%load_ext nb_black\n",
    "\n",
    "import scdiffeq as sdq\n",
    "import cellplots as cp\n",
    "import matplotlib.pyplot as plt\n",
    "import matplotlib.cm as cm\n",
    "import pandas as pd\n",
    "import numpy as np\n",
    "import cell_perturb\n",
    "import scipy.stats\n",
    "import sklearn\n",
    "import larry\n",
    "import pathlib\n",
    "import glob\n",
    "import torch\n",
    "import matplotlib.cm as cm\n",
    "import statsmodels.stats.meta_analysis\n",
    "from scipy.stats import combine_pvalues\n",
    "import seaborn as sns\n",
    "\n",
    "from typing import Union, Dict, List\n",
    "\n",
    "cmap = larry.pl.InVitroColorMap()._dict\n",
    "\n",
    "h5ad_path = (\n",
    "    \"/home/mvinyard/data/adata.reprocessed_19OCT2023.more_feature_inclusive.h5ad\"\n",
    ")\n",
    "adata = sdq.io.read_h5ad(h5ad_path)"
   ]
  },
  {
   "cell_type": "code",
   "execution_count": 2,
   "id": "2a96a68d",
   "metadata": {},
   "outputs": [
    {
     "data": {
      "application/javascript": [
       "\n",
       "        setTimeout(function() {\n",
       "            var nbb_cell_id = 2;\n",
       "            var nbb_formatted_code = \"def aggr_fate_statistics(results, fate):\\n    _aggr_fate_frames = []\\n    for version, frame in results.items():\\n        fate_version_frame = (\\n            frame[\\\"lfc\\\"][fate]\\n            .to_frame()\\n            .reset_index()\\n            .rename({\\\"index\\\": \\\"gene\\\", fate: \\\"lfc\\\"}, axis=1)\\n        )\\n        fate_version_frame[\\\"model\\\"] = version\\n        fate_version_frame[\\\"pval\\\"] = frame[\\\"pval\\\"][fate].values\\n        fate_version_frame[\\\"se\\\"] = (\\n            frame[\\\"lfc_std\\\"][fate].div(np.sqrt(frame[\\\"lfc_std\\\"][\\\"n\\\"])).values\\n        )\\n        _aggr_fate_frames.append(fate_version_frame)\\n\\n    return pd.concat(_aggr_fate_frames)\\n\\n\\ndef adjust_negative_i2(meta_results_df):\\n    i2 = np.zeros(len(meta_results_df))\\n    mask = meta_results_df[\\\"i2\\\"] > 0\\n    pos_i2 = meta_results_df.loc[mask][\\\"i2\\\"].values\\n    i2[mask] = pos_i2\\n    meta_results_df[\\\"i2\\\"] = i2\\n\\n\\ndef run_meta_analysis(aggr_stats):\\n    meta_analysis_results = []\\n    for gene in aggr_stats[\\\"gene\\\"].unique():\\n        gene_df = aggr_stats.loc[aggr_stats[\\\"gene\\\"] == gene]\\n        effect = gene_df[\\\"lfc\\\"].values\\n        variance = (gene_df[\\\"se\\\"] ** 2).values\\n        res_re = statsmodels.stats.meta_analysis.combine_effects(\\n            effect=effect, variance=variance, method_re=\\\"iterated\\\"\\n        )\\n        conf_int = np.array(res_re.conf_int())\\n        ci_low, ci_high = conf_int[:, 0], conf_int[:, 1]\\n\\n        meta_analysis_results.append(\\n            {\\n                \\\"gene\\\": gene,\\n                \\\"pooled_mean_lfc_re\\\": res_re.mean_effect_re,\\n                \\\"ci_low\\\": ci_low[0],  # Accessing the first element for CI\\n                \\\"ci_high\\\": ci_high[0],  # Accessing the first element for CI\\n                \\\"i2\\\": res_re.i2,\\n                \\\"q\\\": res_re.q,\\n            }\\n        )\\n\\n    meta_results_df = pd.DataFrame(meta_analysis_results).set_index(\\\"gene\\\")\\n    adjust_negative_i2(meta_results_df)\\n\\n    return meta_results_df\\n\\n\\ndef combine_expand(pvals):\\n    stat, combined_pval = combine_pvalues(pvals, method=\\\"fisher\\\")\\n    return {\\\"stat\\\": stat, \\\"combined_pval\\\": combined_pval}\\n\\n\\ndef prepare_stat_df_for_plotting(stats):\\n\\n    stats[\\\"x\\\"] = stats[\\\"pooled_mean_lfc_re\\\"]\\n    stats[\\\"y\\\"] = stats[\\\"combined_pval\\\"].apply(np.log10) * -1\\n    stats[\\\"significant\\\"] = stats[\\\"combined_pval\\\"] < 0.05\\n    stats[\\\"insignificant\\\"] = stats[\\\"combined_pval\\\"] >= 0.05\\n    stats[\\\"pos\\\"] = stats[\\\"pooled_mean_lfc_re\\\"] > 0\\n    stats[\\\"neg\\\"] = stats[\\\"pooled_mean_lfc_re\\\"] <= 0\\n\\n    stats[\\\"sig.pos\\\"] = stats[\\\"significant\\\"] & stats[\\\"pos\\\"]\\n    stats[\\\"sig.neg\\\"] = stats[\\\"significant\\\"] & stats[\\\"neg\\\"]\\n    stats[\\\"insig.pos\\\"] = stats[\\\"insignificant\\\"] & stats[\\\"pos\\\"]\\n    stats[\\\"insig.neg\\\"] = stats[\\\"insignificant\\\"] & stats[\\\"neg\\\"]\\n\\n    assert not any(stats[[\\\"sig.pos\\\", \\\"sig.neg\\\", \\\"insig.pos\\\", \\\"insig.neg\\\"]].sum(1) > 1)\\n    stats[\\\"group\\\"] = stats[[\\\"sig.pos\\\", \\\"sig.neg\\\", \\\"insig.pos\\\", \\\"insig.neg\\\"]].idxmax(1)\\n\\n    return stats\\n\\n\\ndef plot(stats, xlim=(None, None), ylim=(-2, None)):\\n    fig, axes = cp.plot(\\n        1,\\n        1,\\n        height=0.5,\\n        width=0.5,\\n        delete=[[\\\"top\\\", \\\"right\\\"]],\\n        title=[\\n            \\\"\\\"\\n        ],  # LARRY Neutrophil Fate Perturbation Screen (N=5, z=10)\\\"],  # Meta (5 models):\\n    )\\n    for group, group_df in stats.groupby(\\\"group\\\"):\\n        if \\\"insig\\\" in group:\\n            c = \\\"lightgrey\\\"\\n        elif \\\"pos\\\" in group:\\n            c = \\\"crimson\\\"\\n        elif \\\"neg\\\" in group:\\n            c = \\\"navy\\\"\\n        axes[0].scatter(\\n            group_df[\\\"x\\\"],\\n            group_df[\\\"y\\\"],\\n            s=5,\\n            ec=\\\"None\\\",\\n            c=c,\\n            rasterized=True,\\n            alpha=0.2,\\n        )\\n    axes[0].grid(True, alpha=0.2)\\n    axes[0].set_xlim(xlim)\\n    axes[0].set_ylim(ylim)\\n    neg_highlight = stats[stats[\\\"sig.neg\\\"]].sort_values(\\\"y\\\").tail(15)\\n    for i, row in neg_highlight.iterrows():\\n        axes[0].scatter(row[\\\"x\\\"], row[\\\"y\\\"], s=15, c=\\\"navy\\\", ec=\\\"None\\\", rasterized=True)\\n        axes[0].text(\\n            x=row[\\\"x\\\"] * 1.1,\\n            y=row[\\\"y\\\"] * 1.02,\\n            s=row.name,\\n            color=\\\"navy\\\",\\n            ha=\\\"right\\\",\\n            fontsize=6,\\n        )\\n\\n    neg_highlight = stats[stats[\\\"sig.pos\\\"]].sort_values(\\\"y\\\").tail(15)\\n    for i, row in neg_highlight.iterrows():\\n        axes[0].scatter(\\n            row[\\\"x\\\"], row[\\\"y\\\"], s=15, c=\\\"crimson\\\", ec=\\\"None\\\", rasterized=True\\n        )\\n        axes[0].text(\\n            x=row[\\\"x\\\"] * 1.1, y=row[\\\"y\\\"] * 1.02, s=row.name, color=\\\"crimson\\\", fontsize=6\\n        )\\n    axes[0].hlines(y=-np.log10(0.05), xmin=-2, xmax=2, color=\\\"k\\\", ls=\\\"--\\\", lw=1)\\n\\n    # plt.savefig(\\\"LARRY.neu_screen.meta_analysis.svg\\\", dpi=500)\";\n",
       "            var nbb_cells = Jupyter.notebook.get_cells();\n",
       "            for (var i = 0; i < nbb_cells.length; ++i) {\n",
       "                if (nbb_cells[i].input_prompt_number == nbb_cell_id) {\n",
       "                    nbb_cells[i].set_text(nbb_formatted_code);\n",
       "                    break;\n",
       "                }\n",
       "            }\n",
       "        }, 500);\n",
       "        "
      ],
      "text/plain": [
       "<IPython.core.display.Javascript object>"
      ]
     },
     "metadata": {},
     "output_type": "display_data"
    }
   ],
   "source": [
    "def aggr_fate_statistics(results, fate):\n",
    "    _aggr_fate_frames = []\n",
    "    for version, frame in results.items():\n",
    "        fate_version_frame = (\n",
    "            frame[\"lfc\"][fate]\n",
    "            .to_frame()\n",
    "            .reset_index()\n",
    "            .rename({\"index\": \"gene\", fate: \"lfc\"}, axis=1)\n",
    "        )\n",
    "        fate_version_frame[\"model\"] = version\n",
    "        fate_version_frame[\"pval\"] = frame[\"pval\"][fate].values\n",
    "        fate_version_frame[\"se\"] = (\n",
    "            frame[\"lfc_std\"][fate].div(np.sqrt(frame[\"lfc_std\"][\"n\"])).values\n",
    "        )\n",
    "        _aggr_fate_frames.append(fate_version_frame)\n",
    "\n",
    "    return pd.concat(_aggr_fate_frames)\n",
    "\n",
    "\n",
    "def adjust_negative_i2(meta_results_df):\n",
    "    i2 = np.zeros(len(meta_results_df))\n",
    "    mask = meta_results_df[\"i2\"] > 0\n",
    "    pos_i2 = meta_results_df.loc[mask][\"i2\"].values\n",
    "    i2[mask] = pos_i2\n",
    "    meta_results_df[\"i2\"] = i2\n",
    "\n",
    "\n",
    "def run_meta_analysis(aggr_stats):\n",
    "    meta_analysis_results = []\n",
    "    for gene in aggr_stats[\"gene\"].unique():\n",
    "        gene_df = aggr_stats.loc[aggr_stats[\"gene\"] == gene]\n",
    "        effect = gene_df[\"lfc\"].values\n",
    "        variance = (gene_df[\"se\"] ** 2).values\n",
    "        res_re = statsmodels.stats.meta_analysis.combine_effects(\n",
    "            effect=effect, variance=variance, method_re=\"iterated\"\n",
    "        )\n",
    "        conf_int = np.array(res_re.conf_int())\n",
    "        ci_low, ci_high = conf_int[:, 0], conf_int[:, 1]\n",
    "\n",
    "        meta_analysis_results.append(\n",
    "            {\n",
    "                \"gene\": gene,\n",
    "                \"pooled_mean_lfc_re\": res_re.mean_effect_re,\n",
    "                \"ci_low\": ci_low[0],  # Accessing the first element for CI\n",
    "                \"ci_high\": ci_high[0],  # Accessing the first element for CI\n",
    "                \"i2\": res_re.i2,\n",
    "                \"q\": res_re.q,\n",
    "            }\n",
    "        )\n",
    "\n",
    "    meta_results_df = pd.DataFrame(meta_analysis_results).set_index(\"gene\")\n",
    "    adjust_negative_i2(meta_results_df)\n",
    "\n",
    "    return meta_results_df\n",
    "\n",
    "\n",
    "def combine_expand(pvals):\n",
    "    stat, combined_pval = combine_pvalues(pvals, method=\"fisher\")\n",
    "    return {\"stat\": stat, \"combined_pval\": combined_pval}\n",
    "\n",
    "\n",
    "def prepare_stat_df_for_plotting(stats):\n",
    "\n",
    "    stats[\"x\"] = stats[\"pooled_mean_lfc_re\"]\n",
    "    stats[\"y\"] = stats[\"combined_pval\"].apply(np.log10) * -1\n",
    "    stats[\"significant\"] = stats[\"combined_pval\"] < 0.05\n",
    "    stats[\"insignificant\"] = stats[\"combined_pval\"] >= 0.05\n",
    "    stats[\"pos\"] = stats[\"pooled_mean_lfc_re\"] > 0\n",
    "    stats[\"neg\"] = stats[\"pooled_mean_lfc_re\"] <= 0\n",
    "\n",
    "    stats[\"sig.pos\"] = stats[\"significant\"] & stats[\"pos\"]\n",
    "    stats[\"sig.neg\"] = stats[\"significant\"] & stats[\"neg\"]\n",
    "    stats[\"insig.pos\"] = stats[\"insignificant\"] & stats[\"pos\"]\n",
    "    stats[\"insig.neg\"] = stats[\"insignificant\"] & stats[\"neg\"]\n",
    "\n",
    "    assert not any(stats[[\"sig.pos\", \"sig.neg\", \"insig.pos\", \"insig.neg\"]].sum(1) > 1)\n",
    "    stats[\"group\"] = stats[[\"sig.pos\", \"sig.neg\", \"insig.pos\", \"insig.neg\"]].idxmax(1)\n",
    "\n",
    "    return stats\n",
    "\n",
    "\n",
    "def plot(stats, xlim=(None, None), ylim=(-2, None)):\n",
    "    fig, axes = cp.plot(\n",
    "        1,\n",
    "        1,\n",
    "        height=0.5,\n",
    "        width=0.5,\n",
    "        delete=[[\"top\", \"right\"]],\n",
    "        title=[\n",
    "            \"\"\n",
    "        ],  # LARRY Neutrophil Fate Perturbation Screen (N=5, z=10)\"],  # Meta (5 models):\n",
    "    )\n",
    "    for group, group_df in stats.groupby(\"group\"):\n",
    "        if \"insig\" in group:\n",
    "            c = \"lightgrey\"\n",
    "        elif \"pos\" in group:\n",
    "            c = \"crimson\"\n",
    "        elif \"neg\" in group:\n",
    "            c = \"navy\"\n",
    "        axes[0].scatter(\n",
    "            group_df[\"x\"],\n",
    "            group_df[\"y\"],\n",
    "            s=5,\n",
    "            ec=\"None\",\n",
    "            c=c,\n",
    "            rasterized=True,\n",
    "            alpha=0.2,\n",
    "        )\n",
    "    axes[0].grid(True, alpha=0.2)\n",
    "    axes[0].set_xlim(xlim)\n",
    "    axes[0].set_ylim(ylim)\n",
    "    neg_highlight = stats[stats[\"sig.neg\"]].sort_values(\"y\").tail(15)\n",
    "    for i, row in neg_highlight.iterrows():\n",
    "        axes[0].scatter(row[\"x\"], row[\"y\"], s=15, c=\"navy\", ec=\"None\", rasterized=True)\n",
    "        axes[0].text(\n",
    "            x=row[\"x\"] * 1.1,\n",
    "            y=row[\"y\"] * 1.02,\n",
    "            s=row.name,\n",
    "            color=\"navy\",\n",
    "            ha=\"right\",\n",
    "            fontsize=6,\n",
    "        )\n",
    "\n",
    "    neg_highlight = stats[stats[\"sig.pos\"]].sort_values(\"y\").tail(15)\n",
    "    for i, row in neg_highlight.iterrows():\n",
    "        axes[0].scatter(\n",
    "            row[\"x\"], row[\"y\"], s=15, c=\"crimson\", ec=\"None\", rasterized=True\n",
    "        )\n",
    "        axes[0].text(\n",
    "            x=row[\"x\"] * 1.1, y=row[\"y\"] * 1.02, s=row.name, color=\"crimson\", fontsize=6\n",
    "        )\n",
    "    axes[0].hlines(y=-np.log10(0.05), xmin=-2, xmax=2, color=\"k\", ls=\"--\", lw=1)\n",
    "\n",
    "    # plt.savefig(\"LARRY.neu_screen.meta_analysis.svg\", dpi=500)"
   ]
  },
  {
   "cell_type": "code",
   "execution_count": 3,
   "id": "3642f022",
   "metadata": {},
   "outputs": [
    {
     "data": {
      "application/javascript": [
       "\n",
       "        setTimeout(function() {\n",
       "            var nbb_cell_id = 3;\n",
       "            var nbb_formatted_code = \"import ABCParse\\n\\n\\nclass RawScreenProcessor(ABCParse.ABCParse):\\n    \\\"\\\"\\\"Processed pkl to .csv\\\"\\\"\\\"\\n\\n    def __init__(self, results_dir: Union[pathlib.Path, str], *args, **kwargs):\\n        self.__parse__(locals())\\n\\n        self._initialize_directory_structure()\\n\\n    @property\\n    def results_dir(self):\\n        return pathlib.Path(self._results_dir)\\n\\n    @property\\n    def pkl_dir(self):\\n        return self.results_dir.joinpath(\\\"pkl\\\")\\n\\n    @property\\n    def csv_dir(self):\\n        return self.results_dir.joinpath(\\\"csv\\\")\\n\\n    def _initialize_directory_structure(self):\\n        \\\"\\\"\\\"/pkl/ subdir should already exist, so we shouldn't create it here.\\\"\\\"\\\"\\n        if not self.csv_dir.exists():\\n            self.csv_dir.mkdir()\\n\\n    @property\\n    def _discovered_csv_paths(self):\\n        return sorted(list(self.csv_dir.glob(\\\"*.csv\\\")))\\n\\n    @property\\n    def pkl_paths(self):\\n        return sorted(list(self.pkl_dir.glob(\\\"*.pkl\\\")))\\n\\n    def _process_attribute(self, file, key):\\n        return (\\n            pd.DataFrame({gene: result.stats[key] for gene, result in file.items()})\\n            .fillna(0)\\n            .T\\n        )\\n\\n    def _get_n(self, file, gene):\\n        return np.unique([file[gene].ctrl.shape[1], file[gene].prtb.shape[1]])[0]\\n\\n    def _read_and_process_raw_pkl_files(self):\\n        ScreenResults = {}\\n        attr_cols = [\\\"lfc\\\", \\\"lfc_std\\\", \\\"pval\\\"]\\n        for pkl_path in self.pkl_paths:\\n            version = pkl_path.name.split(\\\"version_\\\")[-1].split(\\\".\\\")[0]\\n            version = f\\\"version_{version}\\\"\\n            if not version in ScreenResults:\\n                ScreenResults[version] = {}\\n            csv_paths = {\\n                attr: self.csv_dir.joinpath(f\\\"{version}.{attr}.csv\\\")\\n                for attr in attr_cols\\n            }\\n            exists = [csv_path.exists() for csv_path in list(csv_paths.values())]\\n            if not all(exists):\\n                file = sdq.io.read_pickle(pkl_path)\\n                for attr, csv_path in csv_paths.items():\\n\\n                    df = self._process_attribute(file, attr)\\n                    if attr == \\\"lfc_std\\\":\\n                        n = [self._get_n(file, gene) for gene in file.keys()]\\n                        df[\\\"n\\\"] = n\\n                    df.to_csv(csv_path)\\n                    ScreenResults[version][attr] = df\\n            else:\\n                for attr, csv_path in csv_paths.items():\\n                    ScreenResults[version][attr] = pd.read_csv(csv_path, index_col=0)\\n\\n        return ScreenResults\\n\\n    def __call__(self, *args, **kwargs):\\n        self.__update__(locals())\\n\\n        return self._read_and_process_raw_pkl_files()\\n\\n\\ndef process_raw_results(results_dir: str = \\\"./larry_perturbation_screen_results/\\\"):\\n    raw_screen_processor = RawScreenProcessor(results_dir=results_dir)\\n    return raw_screen_processor()\";\n",
       "            var nbb_cells = Jupyter.notebook.get_cells();\n",
       "            for (var i = 0; i < nbb_cells.length; ++i) {\n",
       "                if (nbb_cells[i].input_prompt_number == nbb_cell_id) {\n",
       "                    nbb_cells[i].set_text(nbb_formatted_code);\n",
       "                    break;\n",
       "                }\n",
       "            }\n",
       "        }, 500);\n",
       "        "
      ],
      "text/plain": [
       "<IPython.core.display.Javascript object>"
      ]
     },
     "metadata": {},
     "output_type": "display_data"
    }
   ],
   "source": [
    "import ABCParse\n",
    "\n",
    "\n",
    "class RawScreenProcessor(ABCParse.ABCParse):\n",
    "    \"\"\"Processed pkl to .csv\"\"\"\n",
    "\n",
    "    def __init__(self, results_dir: Union[pathlib.Path, str], *args, **kwargs):\n",
    "        self.__parse__(locals())\n",
    "\n",
    "        self._initialize_directory_structure()\n",
    "\n",
    "    @property\n",
    "    def results_dir(self):\n",
    "        return pathlib.Path(self._results_dir)\n",
    "\n",
    "    @property\n",
    "    def pkl_dir(self):\n",
    "        return self.results_dir.joinpath(\"pkl\")\n",
    "\n",
    "    @property\n",
    "    def csv_dir(self):\n",
    "        return self.results_dir.joinpath(\"csv\")\n",
    "\n",
    "    def _initialize_directory_structure(self):\n",
    "        \"\"\"/pkl/ subdir should already exist, so we shouldn't create it here.\"\"\"\n",
    "        if not self.csv_dir.exists():\n",
    "            self.csv_dir.mkdir()\n",
    "\n",
    "    @property\n",
    "    def _discovered_csv_paths(self):\n",
    "        return sorted(list(self.csv_dir.glob(\"*.csv\")))\n",
    "\n",
    "    @property\n",
    "    def pkl_paths(self):\n",
    "        return sorted(list(self.pkl_dir.glob(\"*.pkl\")))\n",
    "\n",
    "    def _process_attribute(self, file, key):\n",
    "        return (\n",
    "            pd.DataFrame({gene: result.stats[key] for gene, result in file.items()})\n",
    "            .fillna(0)\n",
    "            .T\n",
    "        )\n",
    "\n",
    "    def _get_n(self, file, gene):\n",
    "        return np.unique([file[gene].ctrl.shape[1], file[gene].prtb.shape[1]])[0]\n",
    "\n",
    "    def _read_and_process_raw_pkl_files(self):\n",
    "        ScreenResults = {}\n",
    "        attr_cols = [\"lfc\", \"lfc_std\", \"pval\"]\n",
    "        for pkl_path in self.pkl_paths:\n",
    "            version = pkl_path.name.split(\"version_\")[-1].split(\".\")[0]\n",
    "            version = f\"version_{version}\"\n",
    "            if not version in ScreenResults:\n",
    "                ScreenResults[version] = {}\n",
    "            csv_paths = {\n",
    "                attr: self.csv_dir.joinpath(f\"{version}.{attr}.csv\")\n",
    "                for attr in attr_cols\n",
    "            }\n",
    "            exists = [csv_path.exists() for csv_path in list(csv_paths.values())]\n",
    "            if not all(exists):\n",
    "                file = sdq.io.read_pickle(pkl_path)\n",
    "                for attr, csv_path in csv_paths.items():\n",
    "\n",
    "                    df = self._process_attribute(file, attr)\n",
    "                    if attr == \"lfc_std\":\n",
    "                        n = [self._get_n(file, gene) for gene in file.keys()]\n",
    "                        df[\"n\"] = n\n",
    "                    df.to_csv(csv_path)\n",
    "                    ScreenResults[version][attr] = df\n",
    "            else:\n",
    "                for attr, csv_path in csv_paths.items():\n",
    "                    ScreenResults[version][attr] = pd.read_csv(csv_path, index_col=0)\n",
    "\n",
    "        return ScreenResults\n",
    "\n",
    "    def __call__(self, *args, **kwargs):\n",
    "        self.__update__(locals())\n",
    "\n",
    "        return self._read_and_process_raw_pkl_files()\n",
    "\n",
    "\n",
    "def process_raw_results(results_dir: str = \"./larry_perturbation_screen_results/\"):\n",
    "    raw_screen_processor = RawScreenProcessor(results_dir=results_dir)\n",
    "    return raw_screen_processor()"
   ]
  },
  {
   "cell_type": "code",
   "execution_count": 4,
   "id": "5d76fd6b",
   "metadata": {},
   "outputs": [
    {
     "data": {
      "application/javascript": [
       "\n",
       "        setTimeout(function() {\n",
       "            var nbb_cell_id = 4;\n",
       "            var nbb_formatted_code = \"def aggr_fate_statistics(results, fate):\\n    _aggr_fate_frames = []\\n    for version, frame in results.items():\\n        fate_version_frame = (\\n            frame[\\\"lfc\\\"][fate]\\n            .to_frame()\\n            .reset_index()\\n            .rename({\\\"index\\\": \\\"gene\\\", fate: \\\"lfc\\\"}, axis=1)\\n        )\\n        fate_version_frame[\\\"model\\\"] = version\\n        fate_version_frame[\\\"pval\\\"] = frame[\\\"pval\\\"][fate].values\\n        fate_version_frame[\\\"se\\\"] = (\\n            frame[\\\"lfc_std\\\"][fate].div(np.sqrt(frame[\\\"lfc_std\\\"][\\\"n\\\"])).values\\n        )\\n        _aggr_fate_frames.append(fate_version_frame)\\n\\n    return pd.concat(_aggr_fate_frames)\\n\\n\\ndef adjust_negative_i2(meta_results_df):\\n    i2 = np.zeros(len(meta_results_df))\\n    mask = meta_results_df[\\\"i2\\\"] > 0\\n    pos_i2 = meta_results_df.loc[mask][\\\"i2\\\"].values\\n    i2[mask] = pos_i2\\n    meta_results_df[\\\"i2\\\"] = i2\\n\\n\\ndef run_meta_analysis(aggr_stats):\\n    meta_analysis_results = []\\n    for gene in aggr_stats[\\\"gene\\\"].unique():\\n        gene_df = aggr_stats.loc[aggr_stats[\\\"gene\\\"] == gene]\\n        effect = gene_df[\\\"lfc\\\"].values\\n        variance = (gene_df[\\\"se\\\"] ** 2).values\\n        res_re = statsmodels.stats.meta_analysis.combine_effects(\\n            effect=effect, variance=variance, method_re=\\\"iterated\\\"\\n        )\\n        conf_int = np.array(res_re.conf_int())\\n        ci_low, ci_high = conf_int[:, 0], conf_int[:, 1]\\n\\n        meta_analysis_results.append(\\n            {\\n                \\\"gene\\\": gene,\\n                \\\"pooled_mean_lfc_re\\\": res_re.mean_effect_re,\\n                \\\"ci_low\\\": ci_low[0],  # Accessing the first element for CI\\n                \\\"ci_high\\\": ci_high[0],  # Accessing the first element for CI\\n                \\\"i2\\\": res_re.i2,\\n                \\\"q\\\": res_re.q,\\n            }\\n        )\\n\\n    meta_results_df = pd.DataFrame(meta_analysis_results).set_index(\\\"gene\\\")\\n    adjust_negative_i2(meta_results_df)\\n\\n    return meta_results_df\\n\\n\\ndef combine_expand(pvals):\\n    stat, combined_pval = combine_pvalues(pvals, method=\\\"fisher\\\")\\n    return {\\\"stat\\\": stat, \\\"combined_pval\\\": combined_pval}\\n\\n\\ndef prepare_stat_df_for_plotting(stats):\\n\\n    stats[\\\"x\\\"] = stats[\\\"pooled_mean_lfc_re\\\"]\\n    stats[\\\"y\\\"] = stats[\\\"combined_pval\\\"].apply(np.log10) * -1\\n    stats[\\\"significant\\\"] = stats[\\\"combined_pval\\\"] < 0.05\\n    stats[\\\"insignificant\\\"] = stats[\\\"combined_pval\\\"] >= 0.05\\n    stats[\\\"pos\\\"] = stats[\\\"pooled_mean_lfc_re\\\"] > 0\\n    stats[\\\"neg\\\"] = stats[\\\"pooled_mean_lfc_re\\\"] <= 0\\n\\n    stats[\\\"sig.pos\\\"] = stats[\\\"significant\\\"] & stats[\\\"pos\\\"]\\n    stats[\\\"sig.neg\\\"] = stats[\\\"significant\\\"] & stats[\\\"neg\\\"]\\n    stats[\\\"insig.pos\\\"] = stats[\\\"insignificant\\\"] & stats[\\\"pos\\\"]\\n    stats[\\\"insig.neg\\\"] = stats[\\\"insignificant\\\"] & stats[\\\"neg\\\"]\\n\\n    assert not any(stats[[\\\"sig.pos\\\", \\\"sig.neg\\\", \\\"insig.pos\\\", \\\"insig.neg\\\"]].sum(1) > 1)\\n    stats[\\\"group\\\"] = stats[[\\\"sig.pos\\\", \\\"sig.neg\\\", \\\"insig.pos\\\", \\\"insig.neg\\\"]].idxmax(1)\\n\\n    return stats\\n\\n\\ndef plot_volcano(\\n    stats, xlim=(None, None), ylim=(-2, None), savepath=None, highlight_genes=[]\\n):\\n    fig, axes = cp.plot(\\n        1,\\n        1,\\n        height=0.5,\\n        width=0.5,\\n        delete=[[\\\"top\\\", \\\"right\\\"]],\\n        title=[\\n            \\\"\\\"\\n        ],  # LARRY Neutrophil Fate Perturbation Screen (N=5, z=10)\\\"],  # Meta (5 models):\\n    )\\n    for group, group_df in stats.groupby(\\\"group\\\"):\\n        if \\\"insig\\\" in group:\\n            c = \\\"lightgrey\\\"\\n        elif \\\"pos\\\" in group:\\n            c = \\\"crimson\\\"\\n        elif \\\"neg\\\" in group:\\n            c = \\\"navy\\\"\\n        axes[0].scatter(\\n            group_df[\\\"x\\\"],\\n            group_df[\\\"y\\\"],\\n            s=5,\\n            ec=\\\"None\\\",\\n            c=c,\\n            rasterized=True,\\n            alpha=0.2,\\n        )\\n    axes[0].grid(True, alpha=0.2)\\n    axes[0].set_xlim(xlim)\\n    axes[0].set_ylim(ylim)\\n\\n    stats_highlight = stats.loc[highlight_genes].copy()\\n\\n    neg_highlight = stats_highlight[stats_highlight[\\\"sig.neg\\\"]]\\n    for i, row in neg_highlight.iterrows():\\n        axes[0].scatter(row[\\\"x\\\"], row[\\\"y\\\"], s=15, c=\\\"navy\\\", ec=\\\"None\\\", rasterized=True)\\n        axes[0].text(\\n            x=row[\\\"x\\\"] * 1.1,\\n            y=row[\\\"y\\\"] * 1.02,\\n            s=row.name,\\n            color=\\\"navy\\\",\\n            ha=\\\"right\\\",\\n            fontsize=6,\\n        )\\n\\n    pos_highlight = stats_highlight[stats_highlight[\\\"sig.pos\\\"]]\\n    for i, row in pos_highlight.iterrows():\\n        axes[0].scatter(\\n            row[\\\"x\\\"], row[\\\"y\\\"], s=15, c=\\\"crimson\\\", ec=\\\"None\\\", rasterized=True\\n        )\\n        axes[0].text(\\n            x=row[\\\"x\\\"] * 1.1, y=row[\\\"y\\\"] * 1.02, s=row.name, color=\\\"crimson\\\", fontsize=6\\n        )\\n    axes[0].hlines(y=-np.log10(0.05), xmin=-2, xmax=2, color=\\\"k\\\", ls=\\\"--\\\", lw=1)\\n\\n    if savepath:\\n        plt.savefig(savepath, dpi=500)\";\n",
       "            var nbb_cells = Jupyter.notebook.get_cells();\n",
       "            for (var i = 0; i < nbb_cells.length; ++i) {\n",
       "                if (nbb_cells[i].input_prompt_number == nbb_cell_id) {\n",
       "                    nbb_cells[i].set_text(nbb_formatted_code);\n",
       "                    break;\n",
       "                }\n",
       "            }\n",
       "        }, 500);\n",
       "        "
      ],
      "text/plain": [
       "<IPython.core.display.Javascript object>"
      ]
     },
     "metadata": {},
     "output_type": "display_data"
    }
   ],
   "source": [
    "def aggr_fate_statistics(results, fate):\n",
    "    _aggr_fate_frames = []\n",
    "    for version, frame in results.items():\n",
    "        fate_version_frame = (\n",
    "            frame[\"lfc\"][fate]\n",
    "            .to_frame()\n",
    "            .reset_index()\n",
    "            .rename({\"index\": \"gene\", fate: \"lfc\"}, axis=1)\n",
    "        )\n",
    "        fate_version_frame[\"model\"] = version\n",
    "        fate_version_frame[\"pval\"] = frame[\"pval\"][fate].values\n",
    "        fate_version_frame[\"se\"] = (\n",
    "            frame[\"lfc_std\"][fate].div(np.sqrt(frame[\"lfc_std\"][\"n\"])).values\n",
    "        )\n",
    "        _aggr_fate_frames.append(fate_version_frame)\n",
    "\n",
    "    return pd.concat(_aggr_fate_frames)\n",
    "\n",
    "\n",
    "def adjust_negative_i2(meta_results_df):\n",
    "    i2 = np.zeros(len(meta_results_df))\n",
    "    mask = meta_results_df[\"i2\"] > 0\n",
    "    pos_i2 = meta_results_df.loc[mask][\"i2\"].values\n",
    "    i2[mask] = pos_i2\n",
    "    meta_results_df[\"i2\"] = i2\n",
    "\n",
    "\n",
    "def run_meta_analysis(aggr_stats):\n",
    "    meta_analysis_results = []\n",
    "    for gene in aggr_stats[\"gene\"].unique():\n",
    "        gene_df = aggr_stats.loc[aggr_stats[\"gene\"] == gene]\n",
    "        effect = gene_df[\"lfc\"].values\n",
    "        variance = (gene_df[\"se\"] ** 2).values\n",
    "        res_re = statsmodels.stats.meta_analysis.combine_effects(\n",
    "            effect=effect, variance=variance, method_re=\"iterated\"\n",
    "        )\n",
    "        conf_int = np.array(res_re.conf_int())\n",
    "        ci_low, ci_high = conf_int[:, 0], conf_int[:, 1]\n",
    "\n",
    "        meta_analysis_results.append(\n",
    "            {\n",
    "                \"gene\": gene,\n",
    "                \"pooled_mean_lfc_re\": res_re.mean_effect_re,\n",
    "                \"ci_low\": ci_low[0],  # Accessing the first element for CI\n",
    "                \"ci_high\": ci_high[0],  # Accessing the first element for CI\n",
    "                \"i2\": res_re.i2,\n",
    "                \"q\": res_re.q,\n",
    "            }\n",
    "        )\n",
    "\n",
    "    meta_results_df = pd.DataFrame(meta_analysis_results).set_index(\"gene\")\n",
    "    adjust_negative_i2(meta_results_df)\n",
    "\n",
    "    return meta_results_df\n",
    "\n",
    "\n",
    "def combine_expand(pvals):\n",
    "    stat, combined_pval = combine_pvalues(pvals, method=\"fisher\")\n",
    "    return {\"stat\": stat, \"combined_pval\": combined_pval}\n",
    "\n",
    "\n",
    "def prepare_stat_df_for_plotting(stats):\n",
    "\n",
    "    stats[\"x\"] = stats[\"pooled_mean_lfc_re\"]\n",
    "    stats[\"y\"] = stats[\"combined_pval\"].apply(np.log10) * -1\n",
    "    stats[\"significant\"] = stats[\"combined_pval\"] < 0.05\n",
    "    stats[\"insignificant\"] = stats[\"combined_pval\"] >= 0.05\n",
    "    stats[\"pos\"] = stats[\"pooled_mean_lfc_re\"] > 0\n",
    "    stats[\"neg\"] = stats[\"pooled_mean_lfc_re\"] <= 0\n",
    "\n",
    "    stats[\"sig.pos\"] = stats[\"significant\"] & stats[\"pos\"]\n",
    "    stats[\"sig.neg\"] = stats[\"significant\"] & stats[\"neg\"]\n",
    "    stats[\"insig.pos\"] = stats[\"insignificant\"] & stats[\"pos\"]\n",
    "    stats[\"insig.neg\"] = stats[\"insignificant\"] & stats[\"neg\"]\n",
    "\n",
    "    assert not any(stats[[\"sig.pos\", \"sig.neg\", \"insig.pos\", \"insig.neg\"]].sum(1) > 1)\n",
    "    stats[\"group\"] = stats[[\"sig.pos\", \"sig.neg\", \"insig.pos\", \"insig.neg\"]].idxmax(1)\n",
    "\n",
    "    return stats\n",
    "\n",
    "\n",
    "def plot_volcano(\n",
    "    stats, xlim=(None, None), ylim=(-2, None), savepath=None, highlight_genes=[]\n",
    "):\n",
    "    fig, axes = cp.plot(\n",
    "        1,\n",
    "        1,\n",
    "        height=0.5,\n",
    "        width=0.5,\n",
    "        delete=[[\"top\", \"right\"]],\n",
    "        title=[\n",
    "            \"\"\n",
    "        ],  # LARRY Neutrophil Fate Perturbation Screen (N=5, z=10)\"],  # Meta (5 models):\n",
    "    )\n",
    "    for group, group_df in stats.groupby(\"group\"):\n",
    "        if \"insig\" in group:\n",
    "            c = \"lightgrey\"\n",
    "        elif \"pos\" in group:\n",
    "            c = \"crimson\"\n",
    "        elif \"neg\" in group:\n",
    "            c = \"navy\"\n",
    "        axes[0].scatter(\n",
    "            group_df[\"x\"],\n",
    "            group_df[\"y\"],\n",
    "            s=5,\n",
    "            ec=\"None\",\n",
    "            c=c,\n",
    "            rasterized=True,\n",
    "            alpha=0.2,\n",
    "        )\n",
    "    axes[0].grid(True, alpha=0.2)\n",
    "    axes[0].set_xlim(xlim)\n",
    "    axes[0].set_ylim(ylim)\n",
    "\n",
    "    stats_highlight = stats.loc[highlight_genes].copy()\n",
    "\n",
    "    neg_highlight = stats_highlight[stats_highlight[\"sig.neg\"]]\n",
    "    for i, row in neg_highlight.iterrows():\n",
    "        axes[0].scatter(row[\"x\"], row[\"y\"], s=15, c=\"navy\", ec=\"None\", rasterized=True)\n",
    "        axes[0].text(\n",
    "            x=row[\"x\"] * 1.1,\n",
    "            y=row[\"y\"] * 1.02,\n",
    "            s=row.name,\n",
    "            color=\"navy\",\n",
    "            ha=\"right\",\n",
    "            fontsize=6,\n",
    "        )\n",
    "\n",
    "    pos_highlight = stats_highlight[stats_highlight[\"sig.pos\"]]\n",
    "    for i, row in pos_highlight.iterrows():\n",
    "        axes[0].scatter(\n",
    "            row[\"x\"], row[\"y\"], s=15, c=\"crimson\", ec=\"None\", rasterized=True\n",
    "        )\n",
    "        axes[0].text(\n",
    "            x=row[\"x\"] * 1.1, y=row[\"y\"] * 1.02, s=row.name, color=\"crimson\", fontsize=6\n",
    "        )\n",
    "    axes[0].hlines(y=-np.log10(0.05), xmin=-2, xmax=2, color=\"k\", ls=\"--\", lw=1)\n",
    "\n",
    "    if savepath:\n",
    "        plt.savefig(savepath, dpi=500)"
   ]
  },
  {
   "cell_type": "code",
   "execution_count": 5,
   "id": "4c794756",
   "metadata": {},
   "outputs": [
    {
     "data": {
      "application/javascript": [
       "\n",
       "        setTimeout(function() {\n",
       "            var nbb_cell_id = 5;\n",
       "            var nbb_formatted_code = \"import ABCParse\\n\\n\\nclass MetaAnalysis(ABCParse.ABCParse):\\n    def __init__(\\n        self, results_dir: str = \\\"./larry_perturbation_screen_results\\\", *args, **kwargs\\n    ):\\n        self.__parse__(locals())\\n\\n        self.results = process_raw_results(self.results_dir)\\n\\n    @property\\n    def results_dir(self):\\n        results_dir = pathlib.Path(self._results_dir)\\n        if not results_dir.exists():\\n            results_dir.mkdir()\\n        return results_dir\\n\\n    def _combine_pvals(self, aggr):\\n        return aggr.groupby(\\\"gene\\\")[\\\"pval\\\"].apply(combine_expand).unstack()\\n\\n    @property\\n    def aggr(self):\\n        if not hasattr(self, \\\"_attr\\\"):\\n            self._attr = aggr_fate_statistics(self.results, fate=self._fate)\\n        return self._attr\\n\\n    def forward(self, fate):\\n\\n        self._fate = fate\\n\\n        meta = run_meta_analysis(self.aggr)\\n        combined_pvals = self._combine_pvals(self.aggr)\\n        stats = pd.concat(\\n            [\\n                meta[\\\"pooled_mean_lfc_re\\\"],\\n                combined_pvals[\\\"combined_pval\\\"],\\n            ],\\n            axis=1,\\n        )\\n        return prepare_stat_df_for_plotting(stats)\";\n",
       "            var nbb_cells = Jupyter.notebook.get_cells();\n",
       "            for (var i = 0; i < nbb_cells.length; ++i) {\n",
       "                if (nbb_cells[i].input_prompt_number == nbb_cell_id) {\n",
       "                    nbb_cells[i].set_text(nbb_formatted_code);\n",
       "                    break;\n",
       "                }\n",
       "            }\n",
       "        }, 500);\n",
       "        "
      ],
      "text/plain": [
       "<IPython.core.display.Javascript object>"
      ]
     },
     "metadata": {},
     "output_type": "display_data"
    }
   ],
   "source": [
    "import ABCParse\n",
    "\n",
    "\n",
    "class MetaAnalysis(ABCParse.ABCParse):\n",
    "    def __init__(\n",
    "        self, results_dir: str = \"./larry_perturbation_screen_results\", *args, **kwargs\n",
    "    ):\n",
    "        self.__parse__(locals())\n",
    "\n",
    "        self.results = process_raw_results(self.results_dir)\n",
    "\n",
    "    @property\n",
    "    def results_dir(self):\n",
    "        results_dir = pathlib.Path(self._results_dir)\n",
    "        if not results_dir.exists():\n",
    "            results_dir.mkdir()\n",
    "        return results_dir\n",
    "\n",
    "    def _combine_pvals(self, aggr):\n",
    "        return aggr.groupby(\"gene\")[\"pval\"].apply(combine_expand).unstack()\n",
    "\n",
    "    @property\n",
    "    def aggr(self):\n",
    "        if not hasattr(self, \"_attr\"):\n",
    "            self._attr = aggr_fate_statistics(self.results, fate=self._fate)\n",
    "        return self._attr\n",
    "\n",
    "    def forward(self, fate):\n",
    "\n",
    "        self._fate = fate\n",
    "\n",
    "        meta = run_meta_analysis(self.aggr)\n",
    "        combined_pvals = self._combine_pvals(self.aggr)\n",
    "        stats = pd.concat(\n",
    "            [\n",
    "                meta[\"pooled_mean_lfc_re\"],\n",
    "                combined_pvals[\"combined_pval\"],\n",
    "            ],\n",
    "            axis=1,\n",
    "        )\n",
    "        return prepare_stat_df_for_plotting(stats)"
   ]
  },
  {
   "cell_type": "code",
   "execution_count": 6,
   "id": "3d98aa10",
   "metadata": {},
   "outputs": [
    {
     "data": {
      "application/javascript": [
       "\n",
       "        setTimeout(function() {\n",
       "            var nbb_cell_id = 6;\n",
       "            var nbb_formatted_code = \"neu_meta_analysis = MetaAnalysis()\\nneu_stats = neu_meta_analysis.forward(\\\"Neutrophil\\\")\\nneu_aggr = neu_meta_analysis.aggr\";\n",
       "            var nbb_cells = Jupyter.notebook.get_cells();\n",
       "            for (var i = 0; i < nbb_cells.length; ++i) {\n",
       "                if (nbb_cells[i].input_prompt_number == nbb_cell_id) {\n",
       "                    nbb_cells[i].set_text(nbb_formatted_code);\n",
       "                    break;\n",
       "                }\n",
       "            }\n",
       "        }, 500);\n",
       "        "
      ],
      "text/plain": [
       "<IPython.core.display.Javascript object>"
      ]
     },
     "metadata": {},
     "output_type": "display_data"
    }
   ],
   "source": [
    "neu_meta_analysis = MetaAnalysis()\n",
    "neu_stats = neu_meta_analysis.forward(\"Neutrophil\")\n",
    "neu_aggr = neu_meta_analysis.aggr"
   ]
  },
  {
   "cell_type": "code",
   "execution_count": 7,
   "id": "6aa49f59",
   "metadata": {},
   "outputs": [
    {
     "data": {
      "application/javascript": [
       "\n",
       "        setTimeout(function() {\n",
       "            var nbb_cell_id = 7;\n",
       "            var nbb_formatted_code = \"mon_meta_analysis = MetaAnalysis()\\nmon_stats = mon_meta_analysis.forward(\\\"Monocyte\\\")\\nmon_aggr = mon_meta_analysis.aggr\";\n",
       "            var nbb_cells = Jupyter.notebook.get_cells();\n",
       "            for (var i = 0; i < nbb_cells.length; ++i) {\n",
       "                if (nbb_cells[i].input_prompt_number == nbb_cell_id) {\n",
       "                    nbb_cells[i].set_text(nbb_formatted_code);\n",
       "                    break;\n",
       "                }\n",
       "            }\n",
       "        }, 500);\n",
       "        "
      ],
      "text/plain": [
       "<IPython.core.display.Javascript object>"
      ]
     },
     "metadata": {},
     "output_type": "display_data"
    }
   ],
   "source": [
    "mon_meta_analysis = MetaAnalysis()\n",
    "mon_stats = mon_meta_analysis.forward(\"Monocyte\")\n",
    "mon_aggr = mon_meta_analysis.aggr"
   ]
  },
  {
   "cell_type": "code",
   "execution_count": 8,
   "id": "629b0b9c",
   "metadata": {},
   "outputs": [
    {
     "data": {
      "application/javascript": [
       "\n",
       "        setTimeout(function() {\n",
       "            var nbb_cell_id = 8;\n",
       "            var nbb_formatted_code = \"baso_meta_analysis = MetaAnalysis()\\nbaso_stats = baso_meta_analysis.forward(\\\"Baso\\\")\\nbaso_aggr = baso_meta_analysis.aggr\";\n",
       "            var nbb_cells = Jupyter.notebook.get_cells();\n",
       "            for (var i = 0; i < nbb_cells.length; ++i) {\n",
       "                if (nbb_cells[i].input_prompt_number == nbb_cell_id) {\n",
       "                    nbb_cells[i].set_text(nbb_formatted_code);\n",
       "                    break;\n",
       "                }\n",
       "            }\n",
       "        }, 500);\n",
       "        "
      ],
      "text/plain": [
       "<IPython.core.display.Javascript object>"
      ]
     },
     "metadata": {},
     "output_type": "display_data"
    }
   ],
   "source": [
    "baso_meta_analysis = MetaAnalysis()\n",
    "baso_stats = baso_meta_analysis.forward(\"Baso\")\n",
    "baso_aggr = baso_meta_analysis.aggr"
   ]
  },
  {
   "cell_type": "code",
   "execution_count": 9,
   "id": "da753854",
   "metadata": {},
   "outputs": [
    {
     "data": {
      "application/javascript": [
       "\n",
       "        setTimeout(function() {\n",
       "            var nbb_cell_id = 9;\n",
       "            var nbb_formatted_code = \"HighlightGenes = {\\n    \\\"Neutrophil\\\": [\\n        \\\"Il6st\\\",\\n        \\\"Socs3\\\",\\n        \\\"Ccr2\\\",\\n        \\\"Elane\\\",\\n        \\\"Mpo\\\",\\n        \\\"Prtn3\\\",\\n        \\\"Ctsg\\\",\\n        \\\"Gfi1\\\",\\n        \\\"S100a8\\\",\\n        \\\"S100a9\\\",\\n        \\\"Cd33\\\",\\n        \\\"Itgam\\\",\\n        \\\"Cebpe\\\",\\n        \\\"Lipg\\\",\\n        \\\"Tfrc\\\",\\n        \\\"Gpx4\\\",\\n        \\\"Cd47\\\",\\n        \\\"Lcn2\\\",\\n        \\\"Itgb2\\\",\\n        \\\"Ncf1\\\",\\n        \\\"Cebpd\\\",\\n        \\\"Mcl1\\\",\\n    ],\\n    \\\"Monocyte\\\": [\\n        \\\"Csf1r\\\",\\n        \\\"Ccl3\\\",\\n        \\\"Klf4\\\",\\n        \\\"Socs3\\\",\\n        \\\"Vim\\\",\\n        \\\"Ccr2\\\",\\n        \\\"Gata2\\\",\\n        \\\"Il6st\\\",\\n        \\\"Cebpa\\\",\\n        \\\"Tgfbi\\\",\\n        \\\"Il6\\\",\\n        \\\"Fpr1\\\",\\n        \\\"Gfi1\\\",\\n        \\\"Cxcr2\\\",\\n        \\\"Cd47\\\",\\n        \\\"Igf1r\\\",\\n        \\\"Hgf\\\",\\n        \\\"Lpl\\\",\\n    ],\\n    \\\"Baso\\\": [\\n        \\\"Csf2rb\\\",\\n        \\\"Csf2rb2\\\",\\n        \\\"Il4\\\",\\n        \\\"Csf1\\\",\\n        \\\"Il6\\\",\\n        \\\"Gata2\\\",\\n        \\\"Cpa3\\\",\\n        \\\"Fcer1g\\\",\\n        \\\"Hdc\\\",\\n        \\\"Il18rap\\\",\\n        \\\"Il6st\\\",\\n        \\\"Tgfbi\\\",\\n        \\\"Alox5\\\",\\n    ],\\n}\";\n",
       "            var nbb_cells = Jupyter.notebook.get_cells();\n",
       "            for (var i = 0; i < nbb_cells.length; ++i) {\n",
       "                if (nbb_cells[i].input_prompt_number == nbb_cell_id) {\n",
       "                    nbb_cells[i].set_text(nbb_formatted_code);\n",
       "                    break;\n",
       "                }\n",
       "            }\n",
       "        }, 500);\n",
       "        "
      ],
      "text/plain": [
       "<IPython.core.display.Javascript object>"
      ]
     },
     "metadata": {},
     "output_type": "display_data"
    }
   ],
   "source": [
    "HighlightGenes = {\n",
    "    \"Neutrophil\": [\n",
    "        \"Il6st\",\n",
    "        \"Socs3\",\n",
    "        \"Ccr2\",\n",
    "        \"Elane\",\n",
    "        \"Mpo\",\n",
    "        \"Prtn3\",\n",
    "        \"Ctsg\",\n",
    "        \"Gfi1\",\n",
    "        \"S100a8\",\n",
    "        \"S100a9\",\n",
    "        \"Cd33\",\n",
    "        \"Itgam\",\n",
    "        \"Cebpe\",\n",
    "        \"Lipg\",\n",
    "        \"Tfrc\",\n",
    "        \"Gpx4\",\n",
    "        \"Cd47\",\n",
    "        \"Lcn2\",\n",
    "        \"Itgb2\",\n",
    "        \"Ncf1\",\n",
    "        \"Cebpd\",\n",
    "        \"Mcl1\",\n",
    "    ],\n",
    "    \"Monocyte\": [\n",
    "        \"Csf1r\",\n",
    "        \"Ccl3\",\n",
    "        \"Klf4\",\n",
    "        \"Socs3\",\n",
    "        \"Vim\",\n",
    "        \"Ccr2\",\n",
    "        \"Gata2\",\n",
    "        \"Il6st\",\n",
    "        \"Cebpa\",\n",
    "        \"Tgfbi\",\n",
    "        \"Il6\",\n",
    "        \"Fpr1\",\n",
    "        \"Gfi1\",\n",
    "        \"Cxcr2\",\n",
    "        \"Cd47\",\n",
    "        \"Igf1r\",\n",
    "        \"Hgf\",\n",
    "        \"Lpl\",\n",
    "    ],\n",
    "    \"Baso\": [\n",
    "        \"Csf2rb\",\n",
    "        \"Csf2rb2\",\n",
    "        \"Il4\",\n",
    "        \"Csf1\",\n",
    "        \"Il6\",\n",
    "        \"Gata2\",\n",
    "        \"Cpa3\",\n",
    "        \"Fcer1g\",\n",
    "        \"Hdc\",\n",
    "        \"Il18rap\",\n",
    "        \"Il6st\",\n",
    "        \"Tgfbi\",\n",
    "        \"Alox5\",\n",
    "    ],\n",
    "}"
   ]
  },
  {
   "cell_type": "code",
   "execution_count": 10,
   "id": "1f3dca24",
   "metadata": {},
   "outputs": [
    {
     "data": {
      "application/javascript": [
       "\n",
       "        setTimeout(function() {\n",
       "            var nbb_cell_id = 10;\n",
       "            var nbb_formatted_code = \"def unanimously_significant_genes(aggr):\\n    \\\"\\\"\\\"returns lfc for unanimously significant genes.\\\"\\\"\\\"\\n    unanimous = {}\\n    for gene, gene_df in aggr.groupby(\\\"gene\\\"):\\n        if all(gene_df[\\\"pval\\\"] < 0.05):\\n            unanimous[gene] = gene_df[\\\"lfc\\\"].values\\n    return pd.DataFrame(unanimous).T\";\n",
       "            var nbb_cells = Jupyter.notebook.get_cells();\n",
       "            for (var i = 0; i < nbb_cells.length; ++i) {\n",
       "                if (nbb_cells[i].input_prompt_number == nbb_cell_id) {\n",
       "                    nbb_cells[i].set_text(nbb_formatted_code);\n",
       "                    break;\n",
       "                }\n",
       "            }\n",
       "        }, 500);\n",
       "        "
      ],
      "text/plain": [
       "<IPython.core.display.Javascript object>"
      ]
     },
     "metadata": {},
     "output_type": "display_data"
    }
   ],
   "source": [
    "def unanimously_significant_genes(aggr):\n",
    "    \"\"\"returns lfc for unanimously significant genes.\"\"\"\n",
    "    unanimous = {}\n",
    "    for gene, gene_df in aggr.groupby(\"gene\"):\n",
    "        if all(gene_df[\"pval\"] < 0.05):\n",
    "            unanimous[gene] = gene_df[\"lfc\"].values\n",
    "    return pd.DataFrame(unanimous).T"
   ]
  },
  {
   "cell_type": "code",
   "execution_count": 11,
   "id": "1c7b3563",
   "metadata": {},
   "outputs": [
    {
     "data": {
      "application/javascript": [
       "\n",
       "        setTimeout(function() {\n",
       "            var nbb_cell_id = 11;\n",
       "            var nbb_formatted_code = \"unan_neu = unanimously_significant_genes(neu_aggr)\\nunan_mon = unanimously_significant_genes(mon_aggr)\\nunan_baso = unanimously_significant_genes(baso_aggr)\";\n",
       "            var nbb_cells = Jupyter.notebook.get_cells();\n",
       "            for (var i = 0; i < nbb_cells.length; ++i) {\n",
       "                if (nbb_cells[i].input_prompt_number == nbb_cell_id) {\n",
       "                    nbb_cells[i].set_text(nbb_formatted_code);\n",
       "                    break;\n",
       "                }\n",
       "            }\n",
       "        }, 500);\n",
       "        "
      ],
      "text/plain": [
       "<IPython.core.display.Javascript object>"
      ]
     },
     "metadata": {},
     "output_type": "display_data"
    }
   ],
   "source": [
    "unan_neu = unanimously_significant_genes(neu_aggr)\n",
    "unan_mon = unanimously_significant_genes(mon_aggr)\n",
    "unan_baso = unanimously_significant_genes(baso_aggr)"
   ]
  },
  {
   "cell_type": "code",
   "execution_count": 12,
   "id": "80490193",
   "metadata": {},
   "outputs": [
    {
     "data": {
      "application/javascript": [
       "\n",
       "        setTimeout(function() {\n",
       "            var nbb_cell_id = 12;\n",
       "            var nbb_formatted_code = \"def get_highlighted_yticklabels(heatmap_idx, highlight_genes: list):\\n    ytick_labels = []\\n    for label in heatmap_idx:\\n        if label in highlight_genes:\\n            ytick_labels.append(label)\\n        else:\\n            ytick_labels.append(\\\"\\\")\\n\\n    return ytick_labels\";\n",
       "            var nbb_cells = Jupyter.notebook.get_cells();\n",
       "            for (var i = 0; i < nbb_cells.length; ++i) {\n",
       "                if (nbb_cells[i].input_prompt_number == nbb_cell_id) {\n",
       "                    nbb_cells[i].set_text(nbb_formatted_code);\n",
       "                    break;\n",
       "                }\n",
       "            }\n",
       "        }, 500);\n",
       "        "
      ],
      "text/plain": [
       "<IPython.core.display.Javascript object>"
      ]
     },
     "metadata": {},
     "output_type": "display_data"
    }
   ],
   "source": [
    "def get_highlighted_yticklabels(heatmap_idx, highlight_genes: list):\n",
    "    ytick_labels = []\n",
    "    for label in heatmap_idx:\n",
    "        if label in highlight_genes:\n",
    "            ytick_labels.append(label)\n",
    "        else:\n",
    "            ytick_labels.append(\"\")\n",
    "\n",
    "    return ytick_labels"
   ]
  },
  {
   "cell_type": "code",
   "execution_count": 13,
   "id": "f7803ec4",
   "metadata": {},
   "outputs": [
    {
     "data": {
      "image/png": "[encoded data removed]",
      "text/plain": [
       "<Figure size 300x400 with 4 Axes>"
      ]
     },
     "metadata": {},
     "output_type": "display_data"
    },
    {
     "data": {
      "application/javascript": [
       "\n",
       "        setTimeout(function() {\n",
       "            var nbb_cell_id = 13;\n",
       "            var nbb_formatted_code = \"ytick_labels = get_highlighted_yticklabels(\\n    unan_neu.index, highlight_genes=HighlightGenes[\\\"Neutrophil\\\"]\\n)\\n\\ncg = sns.clustermap(\\n    unan_neu,\\n    figsize=(3, 4),\\n    cmap=cm.RdYlBu_r,\\n    center=0,\\n    yticklabels=ytick_labels,\\n)\\nplt.savefig(\\\"clustermap.LARRY.five_seeds.lfc_neutrophil.svg\\\")\";\n",
       "            var nbb_cells = Jupyter.notebook.get_cells();\n",
       "            for (var i = 0; i < nbb_cells.length; ++i) {\n",
       "                if (nbb_cells[i].input_prompt_number == nbb_cell_id) {\n",
       "                    nbb_cells[i].set_text(nbb_formatted_code);\n",
       "                    break;\n",
       "                }\n",
       "            }\n",
       "        }, 500);\n",
       "        "
      ],
      "text/plain": [
       "<IPython.core.display.Javascript object>"
      ]
     },
     "metadata": {},
     "output_type": "display_data"
    }
   ],
   "source": [
    "ytick_labels = get_highlighted_yticklabels(\n",
    "    unan_neu.index, highlight_genes=HighlightGenes[\"Neutrophil\"]\n",
    ")\n",
    "\n",
    "cg = sns.clustermap(\n",
    "    unan_neu,\n",
    "    figsize=(3, 4),\n",
    "    cmap=cm.RdYlBu_r,\n",
    "    center=0,\n",
    "    yticklabels=ytick_labels,\n",
    ")\n",
    "plt.savefig(\"clustermap.LARRY.five_seeds.lfc_neutrophil.svg\")"
   ]
  },
  {
   "cell_type": "code",
   "execution_count": 14,
   "id": "4b5aa5b3",
   "metadata": {},
   "outputs": [
    {
     "data": {
      "image/png": "[encoded data removed]",
      "text/plain": [
       "<Figure size 300x400 with 4 Axes>"
      ]
     },
     "metadata": {},
     "output_type": "display_data"
    },
    {
     "data": {
      "application/javascript": [
       "\n",
       "        setTimeout(function() {\n",
       "            var nbb_cell_id = 14;\n",
       "            var nbb_formatted_code = \"ytick_labels = get_highlighted_yticklabels(\\n    unan_mon.index, highlight_genes=HighlightGenes[\\\"Monocyte\\\"]\\n)\\n\\ncg = sns.clustermap(\\n    unan_mon,\\n    figsize=(3, 4),\\n    cmap=cm.RdYlBu_r,\\n    center=0,\\n    yticklabels=ytick_labels,\\n)\\nplt.savefig(\\\"clustermap.LARRY.five_seeds.lfc_monocyte.svg\\\")\";\n",
       "            var nbb_cells = Jupyter.notebook.get_cells();\n",
       "            for (var i = 0; i < nbb_cells.length; ++i) {\n",
       "                if (nbb_cells[i].input_prompt_number == nbb_cell_id) {\n",
       "                    nbb_cells[i].set_text(nbb_formatted_code);\n",
       "                    break;\n",
       "                }\n",
       "            }\n",
       "        }, 500);\n",
       "        "
      ],
      "text/plain": [
       "<IPython.core.display.Javascript object>"
      ]
     },
     "metadata": {},
     "output_type": "display_data"
    }
   ],
   "source": [
    "ytick_labels = get_highlighted_yticklabels(\n",
    "    unan_mon.index, highlight_genes=HighlightGenes[\"Monocyte\"]\n",
    ")\n",
    "\n",
    "cg = sns.clustermap(\n",
    "    unan_mon,\n",
    "    figsize=(3, 4),\n",
    "    cmap=cm.RdYlBu_r,\n",
    "    center=0,\n",
    "    yticklabels=ytick_labels,\n",
    ")\n",
    "plt.savefig(\"clustermap.LARRY.five_seeds.lfc_monocyte.svg\")"
   ]
  },
  {
   "cell_type": "code",
   "execution_count": 15,
   "id": "f44c8f66",
   "metadata": {},
   "outputs": [
    {
     "data": {
      "image/png": "[encoded data removed]",
      "text/plain": [
       "<Figure size 300x400 with 4 Axes>"
      ]
     },
     "metadata": {},
     "output_type": "display_data"
    },
    {
     "data": {
      "application/javascript": [
       "\n",
       "        setTimeout(function() {\n",
       "            var nbb_cell_id = 15;\n",
       "            var nbb_formatted_code = \"ytick_labels = get_highlighted_yticklabels(\\n    unan_baso.index, highlight_genes=HighlightGenes[\\\"Baso\\\"]\\n)\\n\\ncg = sns.clustermap(\\n    unan_baso,\\n    figsize=(3, 4),\\n    cmap=cm.RdYlBu_r,\\n    center=0,\\n    yticklabels=ytick_labels,\\n)\\nplt.savefig(\\\"clustermap.LARRY.five_seeds.lfc_baso.svg\\\")\";\n",
       "            var nbb_cells = Jupyter.notebook.get_cells();\n",
       "            for (var i = 0; i < nbb_cells.length; ++i) {\n",
       "                if (nbb_cells[i].input_prompt_number == nbb_cell_id) {\n",
       "                    nbb_cells[i].set_text(nbb_formatted_code);\n",
       "                    break;\n",
       "                }\n",
       "            }\n",
       "        }, 500);\n",
       "        "
      ],
      "text/plain": [
       "<IPython.core.display.Javascript object>"
      ]
     },
     "metadata": {},
     "output_type": "display_data"
    }
   ],
   "source": [
    "ytick_labels = get_highlighted_yticklabels(\n",
    "    unan_baso.index, highlight_genes=HighlightGenes[\"Baso\"]\n",
    ")\n",
    "\n",
    "cg = sns.clustermap(\n",
    "    unan_baso,\n",
    "    figsize=(3, 4),\n",
    "    cmap=cm.RdYlBu_r,\n",
    "    center=0,\n",
    "    yticklabels=ytick_labels,\n",
    ")\n",
    "plt.savefig(\"clustermap.LARRY.five_seeds.lfc_baso.svg\")"
   ]
  }
 ],
 "metadata": {
  "kernelspec": {
   "display_name": "sdq-dev",
   "language": "python",
   "name": "sdq-dev"
  },
  "language_info": {
   "codemirror_mode": {
    "name": "ipython",
    "version": 3
   },
   "file_extension": ".py",
   "mimetype": "text/x-python",
   "name": "python",
   "nbconvert_exporter": "python",
   "pygments_lexer": "ipython3",
   "version": "3.9.18"
  }
 },
 "nbformat": 4,
 "nbformat_minor": 5
}
