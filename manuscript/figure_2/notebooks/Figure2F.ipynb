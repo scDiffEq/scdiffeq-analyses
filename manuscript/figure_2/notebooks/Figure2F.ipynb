{
 "cells": [
  {
   "cell_type": "markdown",
   "id": "c052edf7",
   "metadata": {},
   "source": [
    "# Simulated interpolation (Figure 2F)"
   ]
  },
  {
   "cell_type": "code",
   "execution_count": null,
   "id": "f4458545",
   "metadata": {},
   "outputs": [],
   "source": [
    "%load_ext nb_black\n",
    "\n",
    "import matplotlib.pyplot as plt\n",
    "import scdiffeq as sdq\n",
    "import scdiffeq_analyses as sdq_an\n",
    "import adata_query\n",
    "import larry\n",
    "import pandas as pd\n",
    "import numpy as np\n",
    "import tqdm.notebook\n",
    "import ABCParse\n",
    "import autodevice\n",
    "import torch\n",
    "import pathlib\n",
    "import glob\n",
    "\n",
    "from typing import Tuple"
   ]
  },
  {
   "cell_type": "code",
   "execution_count": 1,
   "id": "cf11aea1",
   "metadata": {},
   "outputs": [
    {
     "name": "stdout",
     "output_type": "stream",
     "text": [
      "AnnData object with n_obs × n_vars = 130887 × 2492\n",
      "    obs: 'Library', 'Cell barcode', 'Time point', 'Starting population', 'Cell type annotation', 'Well', 'SPRING-x', 'SPRING-y', 'clone_idx', 'fate_observed', 't0_fated', 'train'\n",
      "    var: 'gene_ids', 'hv_gene', 'must_include', 'exclude', 'use_genes'\n",
      "    uns: 'fate_counts', 'h5ad_path', 'time_occupance'\n",
      "    obsm: 'X_clone', 'X_pca', 'X_umap', 'cell_fate_df'\n",
      "    layers: 'X_scaled'\n"
     ]
    }
   ],
   "source": [
    "h5ad_path = (\n",
    "    \"/home/mvinyard/data/adata.reprocessed_19OCT2023.more_feature_inclusive.h5ad\"\n",
    ")\n",
    "adata = sdq.io.read_h5ad(h5ad_path)\n",
    "\n",
    "project_path = \"/home/mvinyard/experiments/LARRY.full_dataset/LightningSDE-FixedPotential-RegularizedVelocityRatio\"\n",
    "project = sdq.io.Project(path=project_path)\n",
    "\n",
    "InterpolationData = larry.tasks.interpolation.InterpolationData\n",
    "sinkhorn = SinkhornDivergence()\n",
    "SinkhornDivergence = sdq.core.lightning_models.base.SinkhornDivergence\n",
    "\n",
    "class InterpolationTask(ABCParse.ABCParse):\n",
    "    def __init__(\n",
    "        self,\n",
    "        adata,\n",
    "        time_key=\"Time point\",\n",
    "        use_key=\"X_pca\",\n",
    "        t0=2,\n",
    "        n_samples=10_000,\n",
    "        lineage_key=\"clone_idx\",\n",
    "        device=autodevice.AutoDevice(),\n",
    "        backend = \"auto\",\n",
    "        silent = False,\n",
    "        PCA = None,\n",
    "        *args,\n",
    "        **kwargs,\n",
    "    ):\n",
    "        self.__parse__(locals())\n",
    "\n",
    "        self.data = InterpolationData(**self._DATA_KWARGS)\n",
    "                \n",
    "        self.SinkhornDivergence = SinkhornDivergence(**self._SINKHORN_KWARGS)\n",
    "\n",
    "    @property\n",
    "    def _DATA_KWARGS(self):\n",
    "        return ABCParse.function_kwargs(\n",
    "            func=InterpolationData, kwargs=self._PARAMS\n",
    "        )\n",
    "    @property\n",
    "    def _SINKHORN_KWARGS(self):\n",
    "        return ABCParse.function_kwargs(\n",
    "            func=SinkhornDivergence, kwargs=self._PARAMS\n",
    "        )\n",
    "\n",
    "    def forward_without_grad(self, DiffEq):\n",
    "        \"\"\"Forward integrate over the model without gradients.\"\"\"\n",
    "        with torch.no_grad():\n",
    "            X_hat = DiffEq.forward(self.data.X0, self.data.t)\n",
    "            return self._parse_forward_out(X_hat)\n",
    "\n",
    "    def forward_with_grad(self, DiffEq):\n",
    "        \"\"\"Forward integrate over the model retaining gradients.\"\"\"\n",
    "        torch.set_grad_enabled(True)\n",
    "        X_hat = DiffEq.forward(self.data.X0, self.data.t)\n",
    "        return self._parse_forward_out(X_hat)\n",
    "    \n",
    "    @property\n",
    "    def potential(self):\n",
    "        return \"Potential\" in str(self.DiffEq)\n",
    "    \n",
    "    def _parse_forward_out(self, X_hat):\n",
    "        \"\"\"to account for KLDiv\"\"\"\n",
    "        if isinstance(X_hat, Tuple):\n",
    "            return X_hat[0]\n",
    "        return X_hat\n",
    "    \n",
    "    def _dimension_reduce_pca(self, X_hat):\n",
    "        return torch.stack(\n",
    "            [torch.Tensor(self.PCA.transform(x)) for x in X_hat.detach().cpu().numpy()]\n",
    "        ).to(self.device)     \n",
    "\n",
    "\n",
    "    def __call__(self, trainer, DiffEq, *args, **kwargs):\n",
    "        \n",
    "        self.__update__(locals())\n",
    "        \n",
    "        if self.potential:\n",
    "            X_hat = self.forward_with_grad(DiffEq)\n",
    "        else:\n",
    "            X_hat = self.forward_without_grad(DiffEq)\n",
    "            \n",
    "        if not self.PCA is None:\n",
    "            X_hat = self._dimension_reduce_pca(X_hat)\n",
    "        \n",
    "        d4_loss = self.SinkhornDivergence(X_hat[1], self.data.X_test_d4).item()\n",
    "        d6_loss = self.SinkhornDivergence(X_hat[2], self.data.X_train_d6).item()\n",
    "\n",
    "        if not self.silent:\n",
    "            print(\n",
    "                \"- Epoch: {:<5}| Day 4 loss: {:.2f} | Day 6 loss: {:.2f}\".format(\n",
    "                    DiffEq.current_epoch, d4_loss, d6_loss,\n",
    "                ),\n",
    "            )\n",
    "\n",
    "        return d4_loss, d6_loss\n"
   ]
  },
  {
   "cell_type": "code",
   "execution_count": 5,
   "id": "00945661",
   "metadata": {},
   "outputs": [
    {
     "data": {
      "application/javascript": [
       "\n",
       "        setTimeout(function() {\n",
       "            var nbb_cell_id = 5;\n",
       "            var nbb_formatted_code = \"class Results:\\n    def __init__(self, Results):\\n        self.d2 = pd.DataFrame([result[\\\"d2\\\"] for i, result in Results.items()]).T\\n        self.d4 = pd.DataFrame([result[\\\"d4\\\"] for i, result in Results.items()]).T\\n        self.d6 = pd.DataFrame([result[\\\"d6\\\"] for i, result in Results.items()]).T\\n        self.d2_d4 = pd.DataFrame([result[\\\"d2.d4\\\"] for i, result in Results.items()]).T\\n        self.d4_d6 = pd.DataFrame([result[\\\"d4.d6\\\"] for i, result in Results.items()]).T\\n        self.d2_d6 = pd.DataFrame([result[\\\"d2.d6\\\"] for i, result in Results.items()]).T\\n        self.d2_d2 = pd.DataFrame([result[\\\"d2.d2\\\"] for i, result in Results.items()]).T\\n        self.d4_d4 = pd.DataFrame([result[\\\"d4.d4\\\"] for i, result in Results.items()]).T\\n        self.d6_d6 = pd.DataFrame([result[\\\"d6.d6\\\"] for i, result in Results.items()]).T\\n\\n\\nclass PiecewiseDistance(ABCParse.ABCParse):\\n    def __init__(\\n        self,\\n        adata,\\n        n_samples: int = 10_000,\\n        t=torch.linspace(2, 6, 41),\\n        device: torch.device = autodevice.AutoDevice(),\\n        *args,\\n        **kwargs,\\n    ):\\n        self.__parse__(locals())\\n        self._df = self._adata.obs.copy()\\n        self._clonal_df = self._df.loc[self._df[\\\"clone_idx\\\"].notna()]\\n\\n    def sampling(self, group_df, N: int = 10_000):\\n        if N > group_df.shape[0]:\\n            replace = True\\n        else:\\n            replace = False\\n        return group_df.sample(N, replace=True).index\\n\\n    def sample_indices(self, clonal_df):\\n        print(\\\"Call clonal sampling\\\")\\n        return {\\n            group: self.sampling(group_df)\\n            for group, group_df in clonal_df.groupby(\\\"Time point\\\")\\n        }\\n\\n    @property\\n    def X2(self):\\n        if not hasattr(self, \\\"_X2\\\"):\\n            self._X2 = adata_query.fetch(\\n                self._adata[self.indices[2]],\\n                key=\\\"X_pca\\\",\\n                torch=True,\\n                device=self._device,\\n            )\\n        return self._X2\\n\\n    @property\\n    def X4(self):\\n        if not hasattr(self, \\\"_X4\\\"):\\n            self._X4 = adata_query.fetch(\\n                self._adata[self.indices[4]],\\n                key=\\\"X_pca\\\",\\n                torch=True,\\n                device=self._device,\\n            )\\n        return self._X4\\n\\n    @property\\n    def X6(self):\\n        if not hasattr(self, \\\"_X6\\\"):\\n            self._X6 = adata_query.fetch(\\n                self._adata[self.indices[6]],\\n                key=\\\"X_pca\\\",\\n                torch=True,\\n                device=self._device,\\n            )\\n        return self._X6\\n\\n    @property\\n    def t(self):\\n        return self._t.to(self._device)\\n\\n    def simulate(self, DiffEq):\\n        return DiffEq.forward(self.X2, t=self.t)\\n\\n    @property\\n    def divs(self):\\n        if not hasattr(self, \\\"_divs\\\"):\\n            divs = np.linspace(0, self._n_samples, 11).astype(int)\\n            self._divs = (divs[:-1], divs[1:])\\n        return self._divs\\n\\n    @property\\n    def Z_hat(self):\\n        if not hasattr(self, \\\"_Z_hat\\\"):\\n            self._Z_hat = self.simulate(self._DiffEq)\\n        return self._Z_hat\\n\\n    def forward(self, XA, XB, *args, **kwargs):\\n        self.__update__(locals())\\n\\n        self._distances = []\\n        div_i, div_j = self.divs\\n        with torch.no_grad():\\n            for i, j in zip(div_i, div_j):\\n                self._distances.append(sinkhorn(XA[i:j], XB[i:j]))\\n        return torch.stack(self._distances).detach().cpu().mean().item()\\n\\n    def compute_d2_distance(self):\\n        return [self.forward(self.Z_hat[i], self.X2) for i in range(len(self.Z_hat))]\\n\\n    def compute_d4_distance(self):\\n        return [self.forward(self.Z_hat[i], self.X4) for i in range(len(self.Z_hat))]\\n\\n    def compute_d6_distance(self):\\n        return [self.forward(self.Z_hat[i], self.X6) for i in range(len(self.Z_hat))]\\n\\n    def compute_self_distances(self):\\n\\n        self.X2_X4 = self.forward(self.X2, self.X4)\\n        self.X2_X6 = self.forward(self.X2, self.X6)\\n        self.X4_X6 = self.forward(self.X4, self.X6)\\n\\n        self.X2_X2 = self.forward(self.X2, self.X2)\\n        self.X4_X4 = self.forward(self.X4, self.X4)\\n        self.X6_X6 = self.forward(self.X6, self.X6)\\n\\n    def compute_d2_d6(self):\\n        return self.forward(self.X2, self.X6)\\n\\n    def compute_d4_d4(self):\\n        return self.forward(self.X2, self.X4)\\n\\n    def compute_d4_d6(self):\\n        return self.forward(self.X2, self.X6)\\n\\n    def __call__(self, DiffEq, N=5):\\n        self.__update__(locals())\\n\\n        _Results = {}\\n        for i in tqdm.notebook.tqdm(range(self._N)):\\n            self.indices = self.sample_indices(self._clonal_df)\\n            self.compute_self_distances()\\n            _Results[i] = {\\n                \\\"d2\\\": self.compute_d2_distance(),\\n                \\\"d4\\\": self.compute_d4_distance(),\\n                \\\"d6\\\": self.compute_d6_distance(),\\n                \\\"d2.d2\\\": self.X2_X2,\\n                \\\"d4.d4\\\": self.X4_X4,\\n                \\\"d6.d6\\\": self.X6_X6,\\n                \\\"d2.d4\\\": self.X2_X4,\\n                \\\"d4.d6\\\": self.X4_X6,\\n                \\\"d2.d6\\\": self.X2_X6,\\n            }\\n\\n            del self._X2\\n            del self._X4\\n            del self._X6\\n            del self._Z_hat\\n\\n        return Results(_Results)\";\n",
       "            var nbb_cells = Jupyter.notebook.get_cells();\n",
       "            for (var i = 0; i < nbb_cells.length; ++i) {\n",
       "                if (nbb_cells[i].input_prompt_number == nbb_cell_id) {\n",
       "                    nbb_cells[i].set_text(nbb_formatted_code);\n",
       "                    break;\n",
       "                }\n",
       "            }\n",
       "        }, 500);\n",
       "        "
      ],
      "text/plain": [
       "<IPython.core.display.Javascript object>"
      ]
     },
     "metadata": {},
     "output_type": "display_data"
    }
   ],
   "source": [
    "class Results:\n",
    "    def __init__(self, Results):\n",
    "        self.d2 = pd.DataFrame([result[\"d2\"] for i, result in Results.items()]).T\n",
    "        self.d4 = pd.DataFrame([result[\"d4\"] for i, result in Results.items()]).T\n",
    "        self.d6 = pd.DataFrame([result[\"d6\"] for i, result in Results.items()]).T\n",
    "        self.d2_d4 = pd.DataFrame([result[\"d2.d4\"] for i, result in Results.items()]).T\n",
    "        self.d4_d6 = pd.DataFrame([result[\"d4.d6\"] for i, result in Results.items()]).T\n",
    "        self.d2_d6 = pd.DataFrame([result[\"d2.d6\"] for i, result in Results.items()]).T\n",
    "        self.d2_d2 = pd.DataFrame([result[\"d2.d2\"] for i, result in Results.items()]).T\n",
    "        self.d4_d4 = pd.DataFrame([result[\"d4.d4\"] for i, result in Results.items()]).T\n",
    "        self.d6_d6 = pd.DataFrame([result[\"d6.d6\"] for i, result in Results.items()]).T\n",
    "\n",
    "\n",
    "class PiecewiseDistance(ABCParse.ABCParse):\n",
    "    def __init__(\n",
    "        self,\n",
    "        adata,\n",
    "        n_samples: int = 10_000,\n",
    "        t=torch.linspace(2, 6, 41),\n",
    "        device: torch.device = autodevice.AutoDevice(),\n",
    "        *args,\n",
    "        **kwargs,\n",
    "    ):\n",
    "        self.__parse__(locals())\n",
    "        self._df = self._adata.obs.copy()\n",
    "        self._clonal_df = self._df.loc[self._df[\"clone_idx\"].notna()]\n",
    "\n",
    "    def sampling(self, group_df, N: int = 10_000):\n",
    "        if N > group_df.shape[0]:\n",
    "            replace = True\n",
    "        else:\n",
    "            replace = False\n",
    "        return group_df.sample(N, replace=True).index\n",
    "\n",
    "    def sample_indices(self, clonal_df):\n",
    "        print(\"Call clonal sampling\")\n",
    "        return {\n",
    "            group: self.sampling(group_df)\n",
    "            for group, group_df in clonal_df.groupby(\"Time point\")\n",
    "        }\n",
    "\n",
    "    @property\n",
    "    def X2(self):\n",
    "        if not hasattr(self, \"_X2\"):\n",
    "            self._X2 = adata_query.fetch(\n",
    "                self._adata[self.indices[2]],\n",
    "                key=\"X_pca\",\n",
    "                torch=True,\n",
    "                device=self._device,\n",
    "            )\n",
    "        return self._X2\n",
    "\n",
    "    @property\n",
    "    def X4(self):\n",
    "        if not hasattr(self, \"_X4\"):\n",
    "            self._X4 = adata_query.fetch(\n",
    "                self._adata[self.indices[4]],\n",
    "                key=\"X_pca\",\n",
    "                torch=True,\n",
    "                device=self._device,\n",
    "            )\n",
    "        return self._X4\n",
    "\n",
    "    @property\n",
    "    def X6(self):\n",
    "        if not hasattr(self, \"_X6\"):\n",
    "            self._X6 = adata_query.fetch(\n",
    "                self._adata[self.indices[6]],\n",
    "                key=\"X_pca\",\n",
    "                torch=True,\n",
    "                device=self._device,\n",
    "            )\n",
    "        return self._X6\n",
    "\n",
    "    @property\n",
    "    def t(self):\n",
    "        return self._t.to(self._device)\n",
    "\n",
    "    def simulate(self, DiffEq):\n",
    "        return DiffEq.forward(self.X2, t=self.t)\n",
    "\n",
    "    @property\n",
    "    def divs(self):\n",
    "        if not hasattr(self, \"_divs\"):\n",
    "            divs = np.linspace(0, self._n_samples, 11).astype(int)\n",
    "            self._divs = (divs[:-1], divs[1:])\n",
    "        return self._divs\n",
    "\n",
    "    @property\n",
    "    def Z_hat(self):\n",
    "        if not hasattr(self, \"_Z_hat\"):\n",
    "            self._Z_hat = self.simulate(self._DiffEq)\n",
    "        return self._Z_hat\n",
    "\n",
    "    def forward(self, XA, XB, *args, **kwargs):\n",
    "        self.__update__(locals())\n",
    "\n",
    "        self._distances = []\n",
    "        div_i, div_j = self.divs\n",
    "        with torch.no_grad():\n",
    "            for i, j in zip(div_i, div_j):\n",
    "                self._distances.append(sinkhorn(XA[i:j], XB[i:j]))\n",
    "        return torch.stack(self._distances).detach().cpu().mean().item()\n",
    "\n",
    "    def compute_d2_distance(self):\n",
    "        return [self.forward(self.Z_hat[i], self.X2) for i in range(len(self.Z_hat))]\n",
    "\n",
    "    def compute_d4_distance(self):\n",
    "        return [self.forward(self.Z_hat[i], self.X4) for i in range(len(self.Z_hat))]\n",
    "\n",
    "    def compute_d6_distance(self):\n",
    "        return [self.forward(self.Z_hat[i], self.X6) for i in range(len(self.Z_hat))]\n",
    "\n",
    "    def compute_self_distances(self):\n",
    "\n",
    "        self.X2_X4 = self.forward(self.X2, self.X4)\n",
    "        self.X2_X6 = self.forward(self.X2, self.X6)\n",
    "        self.X4_X6 = self.forward(self.X4, self.X6)\n",
    "\n",
    "        self.X2_X2 = self.forward(self.X2, self.X2)\n",
    "        self.X4_X4 = self.forward(self.X4, self.X4)\n",
    "        self.X6_X6 = self.forward(self.X6, self.X6)\n",
    "\n",
    "    def compute_d2_d6(self):\n",
    "        return self.forward(self.X2, self.X6)\n",
    "\n",
    "    def compute_d4_d4(self):\n",
    "        return self.forward(self.X2, self.X4)\n",
    "\n",
    "    def compute_d4_d6(self):\n",
    "        return self.forward(self.X2, self.X6)\n",
    "\n",
    "    def __call__(self, DiffEq, N=5):\n",
    "        self.__update__(locals())\n",
    "\n",
    "        _Results = {}\n",
    "        for i in tqdm.notebook.tqdm(range(self._N)):\n",
    "            self.indices = self.sample_indices(self._clonal_df)\n",
    "            self.compute_self_distances()\n",
    "            _Results[i] = {\n",
    "                \"d2\": self.compute_d2_distance(),\n",
    "                \"d4\": self.compute_d4_distance(),\n",
    "                \"d6\": self.compute_d6_distance(),\n",
    "                \"d2.d2\": self.X2_X2,\n",
    "                \"d4.d4\": self.X4_X4,\n",
    "                \"d6.d6\": self.X6_X6,\n",
    "                \"d2.d4\": self.X2_X4,\n",
    "                \"d4.d6\": self.X4_X6,\n",
    "                \"d2.d6\": self.X2_X6,\n",
    "            }\n",
    "\n",
    "            del self._X2\n",
    "            del self._X4\n",
    "            del self._X6\n",
    "            del self._Z_hat\n",
    "\n",
    "        return Results(_Results)"
   ]
  },
  {
   "cell_type": "code",
   "execution_count": 8,
   "id": "49838111",
   "metadata": {},
   "outputs": [
    {
     "name": "stdout",
     "output_type": "stream",
     "text": [
      " - [\u001b[94mINFO\u001b[0m] | Input data configured.\n",
      " - [\u001b[94mINFO\u001b[0m] | Bulding Annoy kNN Graph on adata.obsm['train']\n"
     ]
    },
    {
     "name": "stderr",
     "output_type": "stream",
     "text": [
      "Seed set to 0\n"
     ]
    },
    {
     "name": "stdout",
     "output_type": "stream",
     "text": [
      " - [\u001b[94mINFO\u001b[0m] | Using the specified parameters, LightningSDE-FixedPotential-RegularizedVelocityRatio has been called.\n"
     ]
    },
    {
     "data": {
      "application/vnd.jupyter.widget-view+json": {
       "model_id": "d5fb9ff5c6134ab08099c6f8782b122a",
       "version_major": 2,
       "version_minor": 0
      },
      "text/plain": [
       "  0%|          | 0/5 [00:00<?, ?it/s]"
      ]
     },
     "metadata": {},
     "output_type": "display_data"
    },
    {
     "name": "stdout",
     "output_type": "stream",
     "text": [
      "Call clonal sampling\n",
      "Call clonal sampling\n",
      "Call clonal sampling\n",
      "Call clonal sampling\n",
      "Call clonal sampling\n"
     ]
    },
    {
     "data": {
      "application/javascript": [
       "\n",
       "        setTimeout(function() {\n",
       "            var nbb_cell_id = 8;\n",
       "            var nbb_formatted_code = \"best_ckpts = sdq_an.parsers.summarize_best_checkpoints(project)\\n\\nfor vname, ckpt_path in best_ckpts[\\\"ckpt_path\\\"].items():\\n    save_path = pathlib.Path(f\\\"sdq.simulate_interpolation.{vname}.pkl\\\")\\n    if not save_path.exists():\\n        model = sdq.io.load_model(adata, ckpt_path=ckpt_path)\\n        pw_distance = PiecewiseDistance(adata)\\n        version_results = pw_distance(model.DiffEq)\\n        sdq.io.write_pickle(version_results, save_path)\";\n",
       "            var nbb_cells = Jupyter.notebook.get_cells();\n",
       "            for (var i = 0; i < nbb_cells.length; ++i) {\n",
       "                if (nbb_cells[i].input_prompt_number == nbb_cell_id) {\n",
       "                    nbb_cells[i].set_text(nbb_formatted_code);\n",
       "                    break;\n",
       "                }\n",
       "            }\n",
       "        }, 500);\n",
       "        "
      ],
      "text/plain": [
       "<IPython.core.display.Javascript object>"
      ]
     },
     "metadata": {},
     "output_type": "display_data"
    }
   ],
   "source": [
    "best_ckpts = sdq_an.parsers.summarize_best_checkpoints(project)\n",
    "\n",
    "for vname, ckpt_path in best_ckpts[\"ckpt_path\"].items():\n",
    "    save_path = pathlib.Path(f\"sdq.simulate_interpolation.{vname}.pkl\")\n",
    "    if not save_path.exists():\n",
    "        model = sdq.io.load_model(adata, ckpt_path=ckpt_path)\n",
    "        pw_distance = PiecewiseDistance(adata)\n",
    "        version_results = pw_distance(model.DiffEq)\n",
    "        sdq.io.write_pickle(version_results, save_path)"
   ]
  },
  {
   "cell_type": "code",
   "execution_count": 11,
   "id": "835f40f2",
   "metadata": {},
   "outputs": [
    {
     "data": {
      "application/javascript": [
       "\n",
       "        setTimeout(function() {\n",
       "            var nbb_cell_id = 11;\n",
       "            var nbb_formatted_code = \"d2 = pd.DataFrame(\\n    [\\n        sdq.io.read_pickle(path).d2.mean(1)\\n        for path in glob.glob(\\\"sdq.simulate_interpolation.*.pkl\\\")\\n    ]\\n).T\\nd4 = pd.DataFrame(\\n    [\\n        sdq.io.read_pickle(path).d4.mean(1)\\n        for path in glob.glob(\\\"sdq.simulate_interpolation.*.pkl\\\")\\n    ]\\n).T\\nd6 = pd.DataFrame(\\n    [\\n        sdq.io.read_pickle(path).d6.mean(1)\\n        for path in glob.glob(\\\"sdq.simulate_interpolation.*.pkl\\\")\\n    ]\\n).T\\nd2_d6 = pd.DataFrame(\\n    [\\n        sdq.io.read_pickle(path).d2_d6.mean(1)\\n        for path in glob.glob(\\\"sdq.simulate_interpolation.*.pkl\\\")\\n    ]\\n).mean()[0]\\nd2_d4 = pd.DataFrame(\\n    [\\n        sdq.io.read_pickle(path).d2_d4.mean(1)\\n        for path in glob.glob(\\\"sdq.simulate_interpolation.*.pkl\\\")\\n    ]\\n).mean()[0]\";\n",
       "            var nbb_cells = Jupyter.notebook.get_cells();\n",
       "            for (var i = 0; i < nbb_cells.length; ++i) {\n",
       "                if (nbb_cells[i].input_prompt_number == nbb_cell_id) {\n",
       "                    nbb_cells[i].set_text(nbb_formatted_code);\n",
       "                    break;\n",
       "                }\n",
       "            }\n",
       "        }, 500);\n",
       "        "
      ],
      "text/plain": [
       "<IPython.core.display.Javascript object>"
      ]
     },
     "metadata": {},
     "output_type": "display_data"
    }
   ],
   "source": [
    "d2 = pd.DataFrame(\n",
    "    [\n",
    "        sdq.io.read_pickle(path).d2.mean(1)\n",
    "        for path in glob.glob(\"sdq.simulate_interpolation.*.pkl\")\n",
    "    ]\n",
    ").T\n",
    "d4 = pd.DataFrame(\n",
    "    [\n",
    "        sdq.io.read_pickle(path).d4.mean(1)\n",
    "        for path in glob.glob(\"sdq.simulate_interpolation.*.pkl\")\n",
    "    ]\n",
    ").T\n",
    "d6 = pd.DataFrame(\n",
    "    [\n",
    "        sdq.io.read_pickle(path).d6.mean(1)\n",
    "        for path in glob.glob(\"sdq.simulate_interpolation.*.pkl\")\n",
    "    ]\n",
    ").T\n",
    "d2_d6 = pd.DataFrame(\n",
    "    [\n",
    "        sdq.io.read_pickle(path).d2_d6.mean(1)\n",
    "        for path in glob.glob(\"sdq.simulate_interpolation.*.pkl\")\n",
    "    ]\n",
    ").mean()[0]\n",
    "d2_d4 = pd.DataFrame(\n",
    "    [\n",
    "        sdq.io.read_pickle(path).d2_d4.mean(1)\n",
    "        for path in glob.glob(\"sdq.simulate_interpolation.*.pkl\")\n",
    "    ]\n",
    ").mean()[0]"
   ]
  },
  {
   "cell_type": "code",
   "execution_count": 12,
   "id": "7c206fd2",
   "metadata": {},
   "outputs": [
    {
     "data": {
      "application/javascript": [
       "\n",
       "        setTimeout(function() {\n",
       "            var nbb_cell_id = 12;\n",
       "            var nbb_formatted_code = \"import cellplots as cp\";\n",
       "            var nbb_cells = Jupyter.notebook.get_cells();\n",
       "            for (var i = 0; i < nbb_cells.length; ++i) {\n",
       "                if (nbb_cells[i].input_prompt_number == nbb_cell_id) {\n",
       "                    nbb_cells[i].set_text(nbb_formatted_code);\n",
       "                    break;\n",
       "                }\n",
       "            }\n",
       "        }, 500);\n",
       "        "
      ],
      "text/plain": [
       "<IPython.core.display.Javascript object>"
      ]
     },
     "metadata": {},
     "output_type": "display_data"
    }
   ],
   "source": [
    "import cellplots as cp"
   ]
  },
  {
   "cell_type": "code",
   "execution_count": 13,
   "id": "aa72929a",
   "metadata": {},
   "outputs": [
    {
     "data": {
      "application/javascript": [
       "\n",
       "        setTimeout(function() {\n",
       "            var nbb_cell_id = 13;\n",
       "            var nbb_formatted_code = \"time_cmap = sdq_an.pl.TimeColorMap()()\";\n",
       "            var nbb_cells = Jupyter.notebook.get_cells();\n",
       "            for (var i = 0; i < nbb_cells.length; ++i) {\n",
       "                if (nbb_cells[i].input_prompt_number == nbb_cell_id) {\n",
       "                    nbb_cells[i].set_text(nbb_formatted_code);\n",
       "                    break;\n",
       "                }\n",
       "            }\n",
       "        }, 500);\n",
       "        "
      ],
      "text/plain": [
       "<IPython.core.display.Javascript object>"
      ]
     },
     "metadata": {},
     "output_type": "display_data"
    }
   ],
   "source": [
    "time_cmap = sdq_an.pl.TimeColorMap()()"
   ]
  },
  {
   "cell_type": "code",
   "execution_count": 14,
   "id": "1fa2348f",
   "metadata": {},
   "outputs": [
    {
     "data": {
      "text/plain": [
       "41"
      ]
     },
     "execution_count": 14,
     "metadata": {},
     "output_type": "execute_result"
    },
    {
     "data": {
      "application/javascript": [
       "\n",
       "        setTimeout(function() {\n",
       "            var nbb_cell_id = 14;\n",
       "            var nbb_formatted_code = \"len(time_cmap)\";\n",
       "            var nbb_cells = Jupyter.notebook.get_cells();\n",
       "            for (var i = 0; i < nbb_cells.length; ++i) {\n",
       "                if (nbb_cells[i].input_prompt_number == nbb_cell_id) {\n",
       "                    nbb_cells[i].set_text(nbb_formatted_code);\n",
       "                    break;\n",
       "                }\n",
       "            }\n",
       "        }, 500);\n",
       "        "
      ],
      "text/plain": [
       "<IPython.core.display.Javascript object>"
      ]
     },
     "metadata": {},
     "output_type": "display_data"
    }
   ],
   "source": [
    "len(time_cmap)"
   ]
  },
  {
   "cell_type": "code",
   "execution_count": 22,
   "id": "38db1b34",
   "metadata": {},
   "outputs": [
    {
     "data": {
      "application/javascript": [
       "\n",
       "        setTimeout(function() {\n",
       "            var nbb_cell_id = 22;\n",
       "            var nbb_formatted_code = \"colors = [time_cmap[4], time_cmap[20], time_cmap[40]]\";\n",
       "            var nbb_cells = Jupyter.notebook.get_cells();\n",
       "            for (var i = 0; i < nbb_cells.length; ++i) {\n",
       "                if (nbb_cells[i].input_prompt_number == nbb_cell_id) {\n",
       "                    nbb_cells[i].set_text(nbb_formatted_code);\n",
       "                    break;\n",
       "                }\n",
       "            }\n",
       "        }, 500);\n",
       "        "
      ],
      "text/plain": [
       "<IPython.core.display.Javascript object>"
      ]
     },
     "metadata": {},
     "output_type": "display_data"
    }
   ],
   "source": [
    "colors = [time_cmap[4], time_cmap[20], time_cmap[40]]"
   ]
  },
  {
   "cell_type": "code",
   "execution_count": 35,
   "id": "65e5af26",
   "metadata": {},
   "outputs": [
    {
     "data": {
      "image/png": "[encoded data removed]",
      "text/plain": [
       "<Figure size 320x240 with 1 Axes>"
      ]
     },
     "metadata": {},
     "output_type": "display_data"
    },
    {
     "data": {
      "application/javascript": [
       "\n",
       "        setTimeout(function() {\n",
       "            var nbb_cell_id = 35;\n",
       "            var nbb_formatted_code = \"fig, axes = cp.plot(\\n    1,\\n    1,\\n    height=0.5,\\n    width=0.5,\\n    x_label=[\\\"time steps\\\"],\\n    y_label=[\\\"Wasserstein Distance\\\"],\\n    title=[\\\"Learned time concordance\\\"],\\n)\\nax = axes[0]\\nfor en, d in enumerate([d2, d4, d6]):\\n    mean = d.mean(1)\\n    std = d.std(1)\\n    lo = mean - std\\n    hi = mean + std\\n\\n    ax.fill_between(\\n        mean.index, lo, hi, color=colors[en], alpha=0.2, ec=\\\"None\\\", zorder=2\\n    )\\n    ax.plot(mean, color=colors[en])\\nax.hlines(d2_d6, 0, 40, lw=1, color=\\\"k\\\", ls=\\\"--\\\", zorder=3)\\nax.hlines(d2_d4, 0, 40, lw=1, color=\\\"k\\\", ls=\\\"--\\\", zorder=3)\\nax.grid(True, alpha=0.2, c=\\\"lightgrey\\\")\\nax.set_ylim(0, 200)\\nax.set_xlim(0, 40)\\nax.tick_params(axis=\\\"both\\\", width=0.5, length=2.5)\\n_ = [spine.set_linewidth(0.5) for spine in list(ax.spines.values())]\\nplt.savefig(\\\"interpolation.stepwise_distance.svg\\\", dpi=500)\";\n",
       "            var nbb_cells = Jupyter.notebook.get_cells();\n",
       "            for (var i = 0; i < nbb_cells.length; ++i) {\n",
       "                if (nbb_cells[i].input_prompt_number == nbb_cell_id) {\n",
       "                    nbb_cells[i].set_text(nbb_formatted_code);\n",
       "                    break;\n",
       "                }\n",
       "            }\n",
       "        }, 500);\n",
       "        "
      ],
      "text/plain": [
       "<IPython.core.display.Javascript object>"
      ]
     },
     "metadata": {},
     "output_type": "display_data"
    }
   ],
   "source": [
    "fig, axes = cp.plot(\n",
    "    1,\n",
    "    1,\n",
    "    height=0.5,\n",
    "    width=0.5,\n",
    "    x_label=[\"time steps\"],\n",
    "    y_label=[\"Wasserstein Distance\"],\n",
    "    title=[\"Learned time concordance\"],\n",
    ")\n",
    "ax = axes[0]\n",
    "for en, d in enumerate([d2, d4, d6]):\n",
    "    mean = d.mean(1)\n",
    "    std = d.std(1)\n",
    "    lo = mean - std\n",
    "    hi = mean + std\n",
    "\n",
    "    ax.fill_between(\n",
    "        mean.index, lo, hi, color=colors[en], alpha=0.2, ec=\"None\", zorder=2\n",
    "    )\n",
    "    ax.plot(mean, color=colors[en])\n",
    "ax.hlines(d2_d6, 0, 40, lw=1, color=\"k\", ls=\"--\", zorder=3)\n",
    "ax.hlines(d2_d4, 0, 40, lw=1, color=\"k\", ls=\"--\", zorder=3)\n",
    "ax.grid(True, alpha=0.2, c=\"lightgrey\")\n",
    "ax.set_ylim(0, 200)\n",
    "ax.set_xlim(0, 40)\n",
    "ax.tick_params(axis=\"both\", width=0.5, length=2.5)\n",
    "_ = [spine.set_linewidth(0.5) for spine in list(ax.spines.values())]\n",
    "plt.savefig(\"interpolation.stepwise_distance.svg\", dpi=500)"
   ]
  }
 ],
 "metadata": {
  "kernelspec": {
   "display_name": "sdq-dev",
   "language": "python",
   "name": "sdq-dev"
  },
  "language_info": {
   "codemirror_mode": {
    "name": "ipython",
    "version": 3
   },
   "file_extension": ".py",
   "mimetype": "text/x-python",
   "name": "python",
   "nbconvert_exporter": "python",
   "pygments_lexer": "ipython3",
   "version": "3.9.18"
  }
 },
 "nbformat": 4,
 "nbformat_minor": 5
}
