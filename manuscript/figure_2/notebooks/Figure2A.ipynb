{
 "cells": [
  {
   "cell_type": "markdown",
   "id": "d4d3cf7a-cab4-4fea-ac02-020c64c8d4ae",
   "metadata": {},
   "source": [
    "# LARRY Dataset\n",
    "\n",
    "Preprocessing and dimension reduction of the full dataset"
   ]
  },
  {
   "cell_type": "code",
   "execution_count": 1,
   "id": "b6dea26c",
   "metadata": {},
   "outputs": [
    {
     "name": "stdout",
     "output_type": "stream",
     "text": [
      "AnnData object with n_obs × n_vars = 130887 × 25289\n",
      "    obs: 'Library', 'Cell barcode', 'Time point', 'Starting population', 'Cell type annotation', 'Well', 'SPRING-x', 'SPRING-y', 'clone_idx', 'fate_observed', 't0_fated'\n",
      "    var: 'gene_ids', 'hv_genes', 'use_genes'\n",
      "    uns: 'fate_counts', 'time_occupance'\n",
      "    obsm: 'X_clone', 'cell_fate_df'\n"
     ]
    },
    {
     "data": {
      "application/javascript": [
       "\n",
       "            setTimeout(function() {\n",
       "                var nbb_cell_id = 1;\n",
       "                var nbb_unformatted_code = \"%load_ext nb_black\\n\\nimport scdiffeq as sdq\\n\\nh5ad_path = \\\"../KleinLabData/in_vitro/adata.Weinreb2020.in_vitro.gene_filtered.h5ad\\\"\\n\\nadata = sdq.io.read_h5ad(h5ad_path)\";\n",
       "                var nbb_formatted_code = \"%load_ext nb_black\\n\\nimport scdiffeq as sdq\\n\\nh5ad_path = \\\"../KleinLabData/in_vitro/adata.Weinreb2020.in_vitro.gene_filtered.h5ad\\\"\\n\\nadata = sdq.io.read_h5ad(h5ad_path)\";\n",
       "                var nbb_cells = Jupyter.notebook.get_cells();\n",
       "                for (var i = 0; i < nbb_cells.length; ++i) {\n",
       "                    if (nbb_cells[i].input_prompt_number == nbb_cell_id) {\n",
       "                        if (nbb_cells[i].get_text() == nbb_unformatted_code) {\n",
       "                             nbb_cells[i].set_text(nbb_formatted_code);\n",
       "                        }\n",
       "                        break;\n",
       "                    }\n",
       "                }\n",
       "            }, 500);\n",
       "            "
      ],
      "text/plain": [
       "<IPython.core.display.Javascript object>"
      ]
     },
     "metadata": {},
     "output_type": "display_data"
    }
   ],
   "source": [
    "%load_ext nb_black\n",
    "\n",
    "import scdiffeq as sdq\n",
    "\n",
    "h5ad_path = \"../KleinLabData/in_vitro/adata.Weinreb2020.in_vitro.gene_filtered.h5ad\"\n",
    "\n",
    "adata = sdq.io.read_h5ad(h5ad_path)"
   ]
  },
  {
   "cell_type": "code",
   "execution_count": 2,
   "id": "1c0cf364",
   "metadata": {},
   "outputs": [
    {
     "data": {
      "text/plain": [
       "AnnData object with n_obs × n_vars = 130887 × 2447\n",
       "    obs: 'Library', 'Cell barcode', 'Time point', 'Starting population', 'Cell type annotation', 'Well', 'SPRING-x', 'SPRING-y', 'clone_idx', 'fate_observed', 't0_fated'\n",
       "    var: 'gene_ids', 'hv_genes', 'use_genes'\n",
       "    uns: 'fate_counts', 'time_occupance'\n",
       "    obsm: 'X_clone', 'cell_fate_df'"
      ]
     },
     "execution_count": 2,
     "metadata": {},
     "output_type": "execute_result"
    },
    {
     "data": {
      "application/javascript": [
       "\n",
       "            setTimeout(function() {\n",
       "                var nbb_cell_id = 2;\n",
       "                var nbb_unformatted_code = \"adata = adata[:, adata.var[\\\"use_genes\\\"]].copy()\\nadata\";\n",
       "                var nbb_formatted_code = \"adata = adata[:, adata.var[\\\"use_genes\\\"]].copy()\\nadata\";\n",
       "                var nbb_cells = Jupyter.notebook.get_cells();\n",
       "                for (var i = 0; i < nbb_cells.length; ++i) {\n",
       "                    if (nbb_cells[i].input_prompt_number == nbb_cell_id) {\n",
       "                        if (nbb_cells[i].get_text() == nbb_unformatted_code) {\n",
       "                             nbb_cells[i].set_text(nbb_formatted_code);\n",
       "                        }\n",
       "                        break;\n",
       "                    }\n",
       "                }\n",
       "            }, 500);\n",
       "            "
      ],
      "text/plain": [
       "<IPython.core.display.Javascript object>"
      ]
     },
     "metadata": {},
     "output_type": "display_data"
    }
   ],
   "source": [
    "adata = adata[:, adata.var[\"use_genes\"]].copy()\n",
    "adata"
   ]
  },
  {
   "cell_type": "code",
   "execution_count": 3,
   "id": "6af868f5",
   "metadata": {},
   "outputs": [
    {
     "name": "stdout",
     "output_type": "stream",
     "text": [
      " - [\u001b[94mINFO\u001b[0m] | mkdir: ./LARRY_full_dataset.reducer_models\n"
     ]
    },
    {
     "data": {
      "application/javascript": [
       "\n",
       "            setTimeout(function() {\n",
       "                var nbb_cell_id = 3;\n",
       "                var nbb_unformatted_code = \"reducer = sdq.tl.DimensionReduction(\\n    adata, save_path=\\\"./LARRY_full_dataset.reducer_models\\\"\\n)\";\n",
       "                var nbb_formatted_code = \"reducer = sdq.tl.DimensionReduction(\\n    adata, save_path=\\\"./LARRY_full_dataset.reducer_models\\\"\\n)\";\n",
       "                var nbb_cells = Jupyter.notebook.get_cells();\n",
       "                for (var i = 0; i < nbb_cells.length; ++i) {\n",
       "                    if (nbb_cells[i].input_prompt_number == nbb_cell_id) {\n",
       "                        if (nbb_cells[i].get_text() == nbb_unformatted_code) {\n",
       "                             nbb_cells[i].set_text(nbb_formatted_code);\n",
       "                        }\n",
       "                        break;\n",
       "                    }\n",
       "                }\n",
       "            }, 500);\n",
       "            "
      ],
      "text/plain": [
       "<IPython.core.display.Javascript object>"
      ]
     },
     "metadata": {},
     "output_type": "display_data"
    }
   ],
   "source": [
    "reducer = sdq.tl.DimensionReduction(\n",
    "    adata, save_path=\"./LARRY_full_dataset.reducer_models\"\n",
    ")"
   ]
  },
  {
   "cell_type": "code",
   "execution_count": 4,
   "id": "f2b20f70",
   "metadata": {},
   "outputs": [
    {
     "name": "stdout",
     "output_type": "stream",
     "text": [
      " - [\u001b[94mINFO\u001b[0m] | Configuring: SCALER model\n",
      " - [\u001b[94mINFO\u001b[0m] | PATH: ./LARRY_full_dataset.reducer_models/scaler_model.pkl DOES NOT EXIST.\n",
      " - [\u001b[94mINFO\u001b[0m] | Fitting SCALER model\n",
      " - [\u001b[94mINFO\u001b[0m] | Saving SCALER model to: ./LARRY_full_dataset.reducer_models/scaler_model.pkl\n"
     ]
    },
    {
     "data": {
      "application/javascript": [
       "\n",
       "            setTimeout(function() {\n",
       "                var nbb_cell_id = 4;\n",
       "                var nbb_unformatted_code = \"reducer.fit_scaler()\";\n",
       "                var nbb_formatted_code = \"reducer.fit_scaler()\";\n",
       "                var nbb_cells = Jupyter.notebook.get_cells();\n",
       "                for (var i = 0; i < nbb_cells.length; ++i) {\n",
       "                    if (nbb_cells[i].input_prompt_number == nbb_cell_id) {\n",
       "                        if (nbb_cells[i].get_text() == nbb_unformatted_code) {\n",
       "                             nbb_cells[i].set_text(nbb_formatted_code);\n",
       "                        }\n",
       "                        break;\n",
       "                    }\n",
       "                }\n",
       "            }, 500);\n",
       "            "
      ],
      "text/plain": [
       "<IPython.core.display.Javascript object>"
      ]
     },
     "metadata": {},
     "output_type": "display_data"
    }
   ],
   "source": [
    "reducer.fit_scaler()"
   ]
  },
  {
   "cell_type": "code",
   "execution_count": 5,
   "id": "5ce7299f",
   "metadata": {},
   "outputs": [
    {
     "name": "stdout",
     "output_type": "stream",
     "text": [
      " - [\u001b[94mINFO\u001b[0m] | Configuring: PCA model\n",
      " - [\u001b[94mINFO\u001b[0m] | PATH: ./LARRY_full_dataset.reducer_models/pca_model.pkl DOES NOT EXIST.\n",
      " - [\u001b[94mINFO\u001b[0m] | Fitting PCA model\n",
      " - [\u001b[94mINFO\u001b[0m] | Saving PCA model to: ./LARRY_full_dataset.reducer_models/pca_model.pkl\n"
     ]
    },
    {
     "data": {
      "application/javascript": [
       "\n",
       "            setTimeout(function() {\n",
       "                var nbb_cell_id = 5;\n",
       "                var nbb_unformatted_code = \"reducer.fit_pca()\";\n",
       "                var nbb_formatted_code = \"reducer.fit_pca()\";\n",
       "                var nbb_cells = Jupyter.notebook.get_cells();\n",
       "                for (var i = 0; i < nbb_cells.length; ++i) {\n",
       "                    if (nbb_cells[i].input_prompt_number == nbb_cell_id) {\n",
       "                        if (nbb_cells[i].get_text() == nbb_unformatted_code) {\n",
       "                             nbb_cells[i].set_text(nbb_formatted_code);\n",
       "                        }\n",
       "                        break;\n",
       "                    }\n",
       "                }\n",
       "            }, 500);\n",
       "            "
      ],
      "text/plain": [
       "<IPython.core.display.Javascript object>"
      ]
     },
     "metadata": {},
     "output_type": "display_data"
    }
   ],
   "source": [
    "reducer.fit_pca()"
   ]
  },
  {
   "cell_type": "code",
   "execution_count": 6,
   "id": "7bd8e582",
   "metadata": {},
   "outputs": [
    {
     "name": "stdout",
     "output_type": "stream",
     "text": [
      " - [\u001b[94mINFO\u001b[0m] | Configuring: UMAP model\n",
      " - [\u001b[94mINFO\u001b[0m] | PATH: ./LARRY_full_dataset.reducer_models/umap_model.pkl DOES NOT EXIST.\n",
      " - [\u001b[94mINFO\u001b[0m] | Fitting UMAP model\n",
      " - [\u001b[94mINFO\u001b[0m] | Saving UMAP model to: ./LARRY_full_dataset.reducer_models/umap_model.pkl\n"
     ]
    },
    {
     "data": {
      "application/javascript": [
       "\n",
       "            setTimeout(function() {\n",
       "                var nbb_cell_id = 6;\n",
       "                var nbb_unformatted_code = \"reducer.fit_umap()\";\n",
       "                var nbb_formatted_code = \"reducer.fit_umap()\";\n",
       "                var nbb_cells = Jupyter.notebook.get_cells();\n",
       "                for (var i = 0; i < nbb_cells.length; ++i) {\n",
       "                    if (nbb_cells[i].input_prompt_number == nbb_cell_id) {\n",
       "                        if (nbb_cells[i].get_text() == nbb_unformatted_code) {\n",
       "                             nbb_cells[i].set_text(nbb_formatted_code);\n",
       "                        }\n",
       "                        break;\n",
       "                    }\n",
       "                }\n",
       "            }, 500);\n",
       "            "
      ],
      "text/plain": [
       "<IPython.core.display.Javascript object>"
      ]
     },
     "metadata": {},
     "output_type": "display_data"
    }
   ],
   "source": [
    "reducer.fit_umap()"
   ]
  },
  {
   "cell_type": "code",
   "execution_count": 7,
   "id": "8d028baa",
   "metadata": {},
   "outputs": [
    {
     "data": {
      "text/plain": [
       "AnnData object with n_obs × n_vars = 130887 × 2447\n",
       "    obs: 'Library', 'Cell barcode', 'Time point', 'Starting population', 'Cell type annotation', 'Well', 'SPRING-x', 'SPRING-y', 'clone_idx', 'fate_observed', 't0_fated', 'train'\n",
       "    var: 'gene_ids', 'hv_genes', 'use_genes'\n",
       "    uns: 'fate_counts', 'time_occupance'\n",
       "    obsm: 'X_clone', 'cell_fate_df', 'X_pca', 'X_umap'\n",
       "    layers: 'X_scaled'"
      ]
     },
     "execution_count": 7,
     "metadata": {},
     "output_type": "execute_result"
    },
    {
     "data": {
      "application/javascript": [
       "\n",
       "            setTimeout(function() {\n",
       "                var nbb_cell_id = 7;\n",
       "                var nbb_unformatted_code = \"adata\";\n",
       "                var nbb_formatted_code = \"adata\";\n",
       "                var nbb_cells = Jupyter.notebook.get_cells();\n",
       "                for (var i = 0; i < nbb_cells.length; ++i) {\n",
       "                    if (nbb_cells[i].input_prompt_number == nbb_cell_id) {\n",
       "                        if (nbb_cells[i].get_text() == nbb_unformatted_code) {\n",
       "                             nbb_cells[i].set_text(nbb_formatted_code);\n",
       "                        }\n",
       "                        break;\n",
       "                    }\n",
       "                }\n",
       "            }, 500);\n",
       "            "
      ],
      "text/plain": [
       "<IPython.core.display.Javascript object>"
      ]
     },
     "metadata": {},
     "output_type": "display_data"
    }
   ],
   "source": [
    "adata"
   ]
  },
  {
   "cell_type": "markdown",
   "id": "f0304e7c",
   "metadata": {},
   "source": [
    "### Plot"
   ]
  },
  {
   "cell_type": "code",
   "execution_count": 10,
   "id": "b3108796",
   "metadata": {},
   "outputs": [
    {
     "data": {
      "application/javascript": [
       "\n",
       "            setTimeout(function() {\n",
       "                var nbb_cell_id = 10;\n",
       "                var nbb_unformatted_code = \"import scdiffeq_plots as sdq_pl\";\n",
       "                var nbb_formatted_code = \"import scdiffeq_plots as sdq_pl\";\n",
       "                var nbb_cells = Jupyter.notebook.get_cells();\n",
       "                for (var i = 0; i < nbb_cells.length; ++i) {\n",
       "                    if (nbb_cells[i].input_prompt_number == nbb_cell_id) {\n",
       "                        if (nbb_cells[i].get_text() == nbb_unformatted_code) {\n",
       "                             nbb_cells[i].set_text(nbb_formatted_code);\n",
       "                        }\n",
       "                        break;\n",
       "                    }\n",
       "                }\n",
       "            }, 500);\n",
       "            "
      ],
      "text/plain": [
       "<IPython.core.display.Javascript object>"
      ]
     },
     "metadata": {},
     "output_type": "display_data"
    }
   ],
   "source": [
    "import matplotlib.pyplot as plt\n",
    "import scdiffeq_plots as sdq_pl\n",
    "import larry\n",
    "\n",
    "cmap = larry.pl.in_vitro_cmap()\n",
    "df = adata.obs.copy()"
   ]
  },
  {
   "cell_type": "code",
   "execution_count": 23,
   "id": "f443e795",
   "metadata": {},
   "outputs": [
    {
     "data": {
      "image/png": "[encoded data removed]",
      "text/plain": [
       "<Figure size 640x480 with 1 Axes>"
      ]
     },
     "metadata": {},
     "output_type": "display_data"
    },
    {
     "data": {
      "application/javascript": [
       "\n",
       "            setTimeout(function() {\n",
       "                var nbb_cell_id = 23;\n",
       "                var nbb_unformatted_code = \"fig, axes = sdq_pl.plot(delete_spines=[\\\"all\\\"], rm_ticks=True)\\nfor en, (group, group_df) in enumerate(df.groupby(\\\"Cell type annotation\\\")):\\n    X_umap = adata[group_df.index].obsm[\\\"X_umap\\\"]\\n    c = cmap.loc[cmap[\\\"Cell type annotation\\\"] == group][\\\"color\\\"]\\n    if group in [\\\"undiff\\\", \\\"Undifferentiated\\\"]:\\n        z = 0\\n    else:\\n        z = en + 2\\n    axes[0].scatter(X_umap[:, 0], X_umap[:, 1], s=5, alpha=0.5, c=c, zorder=z)\";\n",
       "                var nbb_formatted_code = \"fig, axes = sdq_pl.plot(delete_spines=[\\\"all\\\"], rm_ticks=True)\\nfor en, (group, group_df) in enumerate(df.groupby(\\\"Cell type annotation\\\")):\\n    X_umap = adata[group_df.index].obsm[\\\"X_umap\\\"]\\n    c = cmap.loc[cmap[\\\"Cell type annotation\\\"] == group][\\\"color\\\"]\\n    if group in [\\\"undiff\\\", \\\"Undifferentiated\\\"]:\\n        z = 0\\n    else:\\n        z = en + 2\\n    axes[0].scatter(X_umap[:, 0], X_umap[:, 1], s=5, alpha=0.5, c=c, zorder=z)\";\n",
       "                var nbb_cells = Jupyter.notebook.get_cells();\n",
       "                for (var i = 0; i < nbb_cells.length; ++i) {\n",
       "                    if (nbb_cells[i].input_prompt_number == nbb_cell_id) {\n",
       "                        if (nbb_cells[i].get_text() == nbb_unformatted_code) {\n",
       "                             nbb_cells[i].set_text(nbb_formatted_code);\n",
       "                        }\n",
       "                        break;\n",
       "                    }\n",
       "                }\n",
       "            }, 500);\n",
       "            "
      ],
      "text/plain": [
       "<IPython.core.display.Javascript object>"
      ]
     },
     "metadata": {},
     "output_type": "display_data"
    }
   ],
   "source": [
    "fig, axes = sdq_pl.plot(delete_spines=[\"all\"], rm_ticks=True)\n",
    "for en, (group, group_df) in enumerate(df.groupby(\"Cell type annotation\")):\n",
    "    X_umap = adata[group_df.index].obsm[\"X_umap\"]\n",
    "    c = cmap.loc[cmap[\"Cell type annotation\"] == group][\"color\"]\n",
    "    if group in [\"undiff\", \"Undifferentiated\"]:\n",
    "        z = 0\n",
    "    else:\n",
    "        z = en + 2\n",
    "    axes[0].scatter(X_umap[:, 0], X_umap[:, 1], s=5, alpha=0.5, c=c, zorder=z)"
   ]
  }
 ],
 "metadata": {
  "kernelspec": {
   "display_name": "Python [conda env:sdq]",
   "language": "python",
   "name": "conda-env-sdq-py"
  },
  "language_info": {
   "codemirror_mode": {
    "name": "ipython",
    "version": 3
   },
   "file_extension": ".py",
   "mimetype": "text/x-python",
   "name": "python",
   "nbconvert_exporter": "python",
   "pygments_lexer": "ipython3",
   "version": "3.9.15"
  }
 },
 "nbformat": 4,
 "nbformat_minor": 5
}
