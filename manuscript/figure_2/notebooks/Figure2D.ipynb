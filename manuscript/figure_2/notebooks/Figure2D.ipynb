{
 "cells": [
  {
   "cell_type": "code",
   "execution_count": 1,
   "id": "6650c2f4",
   "metadata": {},
   "outputs": [
    {
     "data": {
      "application/javascript": [
       "\n",
       "        setTimeout(function() {\n",
       "            var nbb_cell_id = 1;\n",
       "            var nbb_formatted_code = \"%load_ext nb_black\";\n",
       "            var nbb_cells = Jupyter.notebook.get_cells();\n",
       "            for (var i = 0; i < nbb_cells.length; ++i) {\n",
       "                if (nbb_cells[i].input_prompt_number == nbb_cell_id) {\n",
       "                    nbb_cells[i].set_text(nbb_formatted_code);\n",
       "                    break;\n",
       "                }\n",
       "            }\n",
       "        }, 500);\n",
       "        "
      ],
      "text/plain": [
       "<IPython.core.display.Javascript object>"
      ]
     },
     "metadata": {},
     "output_type": "display_data"
    }
   ],
   "source": [
    "%load_ext nb_black"
   ]
  },
  {
   "cell_type": "markdown",
   "id": "30fc58b6",
   "metadata": {},
   "source": [
    "# Figure 2D\n",
    "\n",
    "Aggregating fate prediction accuracy across methods"
   ]
  },
  {
   "cell_type": "markdown",
   "id": "dd0cb85d",
   "metadata": {},
   "source": [
    "### Import packages"
   ]
  },
  {
   "cell_type": "code",
   "execution_count": 8,
   "id": "65048d93",
   "metadata": {},
   "outputs": [
    {
     "data": {
      "application/javascript": [
       "\n",
       "        setTimeout(function() {\n",
       "            var nbb_cell_id = 8;\n",
       "            var nbb_formatted_code = \"import ABCParse\\nimport cellplots as cp\\nimport matplotlib.pyplot as plt\\nimport numpy as np\\n\\nfrom typing import List, Optional\";\n",
       "            var nbb_cells = Jupyter.notebook.get_cells();\n",
       "            for (var i = 0; i < nbb_cells.length; ++i) {\n",
       "                if (nbb_cells[i].input_prompt_number == nbb_cell_id) {\n",
       "                    nbb_cells[i].set_text(nbb_formatted_code);\n",
       "                    break;\n",
       "                }\n",
       "            }\n",
       "        }, 500);\n",
       "        "
      ],
      "text/plain": [
       "<IPython.core.display.Javascript object>"
      ]
     },
     "metadata": {},
     "output_type": "display_data"
    }
   ],
   "source": [
    "import ABCParse\n",
    "import anndata\n",
    "import cellplots as cp\n",
    "import glob\n",
    "import larry\n",
    "import matplotlib.pyplot as plt\n",
    "import numpy as np\n",
    "import pandas as pd\n",
    "import pathlib\n",
    "import scdiffeq as sdq\n",
    "import scdiffeq_analyses as sdq_an\n",
    "import sklearn\n",
    "\n",
    "from typing import List, Optional"
   ]
  },
  {
   "cell_type": "markdown",
   "id": "886582af",
   "metadata": {},
   "source": [
    "### Helper functions"
   ]
  },
  {
   "cell_type": "code",
   "execution_count": 55,
   "id": "7ed19a6a",
   "metadata": {},
   "outputs": [
    {
     "data": {
      "application/javascript": [
       "\n",
       "        setTimeout(function() {\n",
       "            var nbb_cell_id = 55;\n",
       "            var nbb_formatted_code = \"def _read_process_F_hat(path, pickle=False, filter_nan=True):\\n\\n    if pickle:\\n        F_hat = pd.read_pickle(path)[0]\\n    else:\\n        F_hat = pd.read_csv(path, index_col=0)\\n    F_hat_filt = F_hat.copy().drop(\\\"Undifferentiated\\\", axis=1)\\n    F_hat_filt_norm = F_hat_filt.div(F_hat_filt.sum(1), axis=0).fillna(0)\\n    if filter_nan:\\n        F_hat_filt_norm = replace_undiff(F_hat_filt_norm)\\n    F_hat_filt_norm.index = F_obs.index  # F_hat_filt_norm.index.astype(str)\\n    return F_hat_filt_norm\\n\\n\\ndef replace_undiff(F_hat_filt_norm):\\n\\n    # create a temp vector to add undiff label\\n    undiff = np.zeros(len(F_hat_filt_norm))\\n    replace_idx = np.where(F_hat_filt_norm.sum(1) == 0)\\n    #     print(f\\\"{replace_idx[0].shape[0]} non-fates\\\")\\n    undiff[replace_idx] = 1\\n\\n    # add to normalized matrix\\n    F_hat_filt_norm[\\\"Undifferentiated\\\"] = undiff\\n\\n    return F_hat_filt_norm\\n\\n\\ndef compute_accuracy(F_obs, F_hat):\\n    y_true, y_pred = F_obs.idxmax(1).tolist(), F_hat.idxmax(1).tolist()\\n    return sklearn.metrics.accuracy_score(y_true, y_pred)\\n\\n\\ndef get_organized_results(project_path):\\n    paths = list(project_path.glob(\\\"*/fate_prediction_metrics/*/F_hat.unfiltered.csv\\\"))\\n    OrgResults = {}\\n    for path in paths:\\n        path_ = pathlib.Path(path)\\n        version = path_.parent.parent.parent.name\\n        if not version in OrgResults:\\n            OrgResults[version] = {}\\n        ckpt_name = path_.parent.name\\n        F_hat = _read_process_F_hat(path_, pickle=False)\\n        F_hat.index = F_hat.index.astype(str)\\n        acc = larry.tasks.fate_prediction.metrics.multi_idx_accuracy(F_obs, F_hat)\\n        train_acc = acc.loc[\\\"unique_train.all_fates\\\"].iloc[0]\\n        test_acc = acc.loc[\\\"unique_test.all_fates\\\"].iloc[0]\\n        OrgResults[version][ckpt_name] = {\\\"train\\\": train_acc, \\\"test\\\": test_acc}\\n        acc_ = compute_accuracy(F_obs, F_hat)\\n    #         print(\\\"| Accuracy: Train: {:.5f}, Test: {:.3f} |\\\".format(train_acc, test_acc), version, ckpt_name)\\n    return OrgResults\\n\\n\\ndef get_best_results(OrgResults):\\n    BestResults = {}\\n    for key, val in OrgResults.items():\\n        version_accuracy = pd.DataFrame(val).T\\n        best_ckpt = version_accuracy[\\\"train\\\"].idxmax()\\n        best_test = version_accuracy.loc[best_ckpt][\\\"test\\\"]\\n        #         print(key, best_ckpt, best_test)\\n        #         best_.append()\\n        BestResults[key] = best_test\\n\\n    return BestResults\";\n",
       "            var nbb_cells = Jupyter.notebook.get_cells();\n",
       "            for (var i = 0; i < nbb_cells.length; ++i) {\n",
       "                if (nbb_cells[i].input_prompt_number == nbb_cell_id) {\n",
       "                    nbb_cells[i].set_text(nbb_formatted_code);\n",
       "                    break;\n",
       "                }\n",
       "            }\n",
       "        }, 500);\n",
       "        "
      ],
      "text/plain": [
       "<IPython.core.display.Javascript object>"
      ]
     },
     "metadata": {},
     "output_type": "display_data"
    }
   ],
   "source": [
    "def _read_process_F_hat(path, pickle=False, filter_nan=True):\n",
    "\n",
    "    if pickle:\n",
    "        F_hat = pd.read_pickle(path)[0]\n",
    "    else:\n",
    "        F_hat = pd.read_csv(path, index_col=0)\n",
    "    F_hat_filt = F_hat.copy().drop(\"Undifferentiated\", axis=1)\n",
    "    F_hat_filt_norm = F_hat_filt.div(F_hat_filt.sum(1), axis=0).fillna(0)\n",
    "    if filter_nan:\n",
    "        F_hat_filt_norm = replace_undiff(F_hat_filt_norm)\n",
    "    F_hat_filt_norm.index = F_obs.index  # F_hat_filt_norm.index.astype(str)\n",
    "    return F_hat_filt_norm\n",
    "\n",
    "\n",
    "def replace_undiff(F_hat_filt_norm):\n",
    "\n",
    "    # create a temp vector to add undiff label\n",
    "    undiff = np.zeros(len(F_hat_filt_norm))\n",
    "    replace_idx = np.where(F_hat_filt_norm.sum(1) == 0)\n",
    "    #     print(f\"{replace_idx[0].shape[0]} non-fates\")\n",
    "    undiff[replace_idx] = 1\n",
    "\n",
    "    # add to normalized matrix\n",
    "    F_hat_filt_norm[\"Undifferentiated\"] = undiff\n",
    "\n",
    "    return F_hat_filt_norm\n",
    "\n",
    "\n",
    "def compute_accuracy(F_obs, F_hat):\n",
    "    y_true, y_pred = F_obs.idxmax(1).tolist(), F_hat.idxmax(1).tolist()\n",
    "    return sklearn.metrics.accuracy_score(y_true, y_pred)\n",
    "\n",
    "\n",
    "def get_organized_results(project_path):\n",
    "    paths = list(project_path.glob(\"*/fate_prediction_metrics/*/F_hat.unfiltered.csv\"))\n",
    "    OrgResults = {}\n",
    "    for path in paths:\n",
    "        path_ = pathlib.Path(path)\n",
    "        version = path_.parent.parent.parent.name\n",
    "        if not version in OrgResults:\n",
    "            OrgResults[version] = {}\n",
    "        ckpt_name = path_.parent.name\n",
    "        F_hat = _read_process_F_hat(path_, pickle=False)\n",
    "        F_hat.index = F_hat.index.astype(str)\n",
    "        acc = larry.tasks.fate_prediction.metrics.multi_idx_accuracy(F_obs, F_hat)\n",
    "        train_acc = acc.loc[\"unique_train.all_fates\"].iloc[0]\n",
    "        test_acc = acc.loc[\"unique_test.all_fates\"].iloc[0]\n",
    "        OrgResults[version][ckpt_name] = {\"train\": train_acc, \"test\": test_acc}\n",
    "        acc_ = compute_accuracy(F_obs, F_hat)\n",
    "    #         print(\"| Accuracy: Train: {:.5f}, Test: {:.3f} |\".format(train_acc, test_acc), version, ckpt_name)\n",
    "    return OrgResults\n",
    "\n",
    "\n",
    "def get_best_results(OrgResults):\n",
    "    BestResults = {}\n",
    "    for key, val in OrgResults.items():\n",
    "        version_accuracy = pd.DataFrame(val).T\n",
    "        best_ckpt = version_accuracy[\"train\"].idxmax()\n",
    "        best_test = version_accuracy.loc[best_ckpt][\"test\"]\n",
    "        #         print(key, best_ckpt, best_test)\n",
    "        #         best_.append()\n",
    "        BestResults[key] = best_test\n",
    "\n",
    "    return BestResults"
   ]
  },
  {
   "cell_type": "markdown",
   "id": "00e72a22",
   "metadata": {},
   "source": [
    "### Load `adata`"
   ]
  },
  {
   "cell_type": "code",
   "execution_count": 72,
   "id": "3f9f6981",
   "metadata": {},
   "outputs": [
    {
     "data": {
      "application/javascript": [
       "\n",
       "        setTimeout(function() {\n",
       "            var nbb_cell_id = 72;\n",
       "            var nbb_formatted_code = \"adata = anndata.read_h5ad(\\\"/home/mvinyard/data/adata.LARRY_train.19MARCH2024.h5ad\\\")\";\n",
       "            var nbb_cells = Jupyter.notebook.get_cells();\n",
       "            for (var i = 0; i < nbb_cells.length; ++i) {\n",
       "                if (nbb_cells[i].input_prompt_number == nbb_cell_id) {\n",
       "                    nbb_cells[i].set_text(nbb_formatted_code);\n",
       "                    break;\n",
       "                }\n",
       "            }\n",
       "        }, 500);\n",
       "        "
      ],
      "text/plain": [
       "<IPython.core.display.Javascript object>"
      ]
     },
     "metadata": {},
     "output_type": "display_data"
    }
   ],
   "source": [
    "adata = anndata.read_h5ad(\"/home/mvinyard/data/adata.LARRY_train.19MARCH2024.h5ad\")"
   ]
  },
  {
   "cell_type": "markdown",
   "id": "5d785c32",
   "metadata": {},
   "source": [
    "### F_obs (`pd.DataFrame`)"
   ]
  },
  {
   "cell_type": "code",
   "execution_count": 62,
   "id": "d9db7741",
   "metadata": {},
   "outputs": [
    {
     "data": {
      "application/javascript": [
       "\n",
       "        setTimeout(function() {\n",
       "            var nbb_cell_id = 62;\n",
       "            var nbb_formatted_code = \"F_obs = larry.tasks.fate_prediction.F_obs\";\n",
       "            var nbb_cells = Jupyter.notebook.get_cells();\n",
       "            for (var i = 0; i < nbb_cells.length; ++i) {\n",
       "                if (nbb_cells[i].input_prompt_number == nbb_cell_id) {\n",
       "                    nbb_cells[i].set_text(nbb_formatted_code);\n",
       "                    break;\n",
       "                }\n",
       "            }\n",
       "        }, 500);\n",
       "        "
      ],
      "text/plain": [
       "<IPython.core.display.Javascript object>"
      ]
     },
     "metadata": {},
     "output_type": "display_data"
    }
   ],
   "source": [
    "F_obs = larry.tasks.fate_prediction.F_obs"
   ]
  },
  {
   "cell_type": "markdown",
   "id": "2e8a4e68",
   "metadata": {},
   "source": [
    "### Linear regression (LR)"
   ]
  },
  {
   "cell_type": "code",
   "execution_count": 11,
   "id": "f788c51c",
   "metadata": {},
   "outputs": [
    {
     "data": {
      "application/javascript": [
       "\n",
       "        setTimeout(function() {\n",
       "            var nbb_cell_id = 11;\n",
       "            var nbb_formatted_code = \"LR = [\\n    0.600698,\\n    0.591385,\\n    0.601863,\\n    0.600698,\\n    0.606519,\\n]\";\n",
       "            var nbb_cells = Jupyter.notebook.get_cells();\n",
       "            for (var i = 0; i < nbb_cells.length; ++i) {\n",
       "                if (nbb_cells[i].input_prompt_number == nbb_cell_id) {\n",
       "                    nbb_cells[i].set_text(nbb_formatted_code);\n",
       "                    break;\n",
       "                }\n",
       "            }\n",
       "        }, 500);\n",
       "        "
      ],
      "text/plain": [
       "<IPython.core.display.Javascript object>"
      ]
     },
     "metadata": {},
     "output_type": "display_data"
    }
   ],
   "source": [
    "LR = [\n",
    "    0.600698,\n",
    "    0.591385,\n",
    "    0.601863,\n",
    "    0.600698,\n",
    "    0.606519,\n",
    "]"
   ]
  },
  {
   "cell_type": "markdown",
   "id": "e9fb019f",
   "metadata": {},
   "source": [
    "### CellRank"
   ]
  },
  {
   "cell_type": "code",
   "execution_count": 78,
   "id": "796dec98",
   "metadata": {},
   "outputs": [
    {
     "data": {
      "application/javascript": [
       "\n",
       "        setTimeout(function() {\n",
       "            var nbb_cell_id = 78;\n",
       "            var nbb_formatted_code = \"F_hat_cellrank = pd.read_pickle(\\n    \\\"/home/mvinyard/github/scdiffeq-analyses/analyses/figure2/LARRY.fate_prediction/CellRank/ruitong_cellrank_dynamo/Seed0_termFate2.pickle\\\"\\n)\\n\\nadata.obs[\\\"combined_barcode\\\"] = (\\n    adata.obs[\\\"Library\\\"].astype(str)\\n    + \\\":\\\"\\n    + adata.obs[\\\"Cell barcode\\\"].str.replace(\\\"-\\\", \\\"\\\")\\n)\\nF_hat_cellrank_index = adata.obs.loc[\\n    adata.obs[\\\"combined_barcode\\\"].isin(F_hat_cellrank.index)\\n].index\\nF_hat_cellrank.index = F_hat_cellrank_index\\nF_hat_cellrank = F_hat_cellrank.div(F_hat_cellrank.sum(1), axis=0).fillna(0)\\nF_hat_cellrank = replace_undiff(F_hat_cellrank)\\ncellrank = compute_accuracy(F_obs, F_hat=F_hat_cellrank)\";\n",
       "            var nbb_cells = Jupyter.notebook.get_cells();\n",
       "            for (var i = 0; i < nbb_cells.length; ++i) {\n",
       "                if (nbb_cells[i].input_prompt_number == nbb_cell_id) {\n",
       "                    nbb_cells[i].set_text(nbb_formatted_code);\n",
       "                    break;\n",
       "                }\n",
       "            }\n",
       "        }, 500);\n",
       "        "
      ],
      "text/plain": [
       "<IPython.core.display.Javascript object>"
      ]
     },
     "metadata": {},
     "output_type": "display_data"
    }
   ],
   "source": [
    "F_hat_cellrank = pd.read_pickle(\n",
    "    \"/home/mvinyard/github/scdiffeq-analyses/analyses/figure2/LARRY.fate_prediction/CellRank/ruitong_cellrank_dynamo/Seed0_termFate2.pickle\"\n",
    ")\n",
    "\n",
    "adata.obs[\"combined_barcode\"] = (\n",
    "    adata.obs[\"Library\"].astype(str)\n",
    "    + \":\"\n",
    "    + adata.obs[\"Cell barcode\"].str.replace(\"-\", \"\")\n",
    ")\n",
    "F_hat_cellrank_index = adata.obs.loc[\n",
    "    adata.obs[\"combined_barcode\"].isin(F_hat_cellrank.index)\n",
    "].index\n",
    "F_hat_cellrank.index = F_hat_cellrank_index\n",
    "F_hat_cellrank = F_hat_cellrank.div(F_hat_cellrank.sum(1), axis=0).fillna(0)\n",
    "F_hat_cellrank = replace_undiff(F_hat_cellrank)\n",
    "cellrank = compute_accuracy(F_obs, F_hat=F_hat_cellrank)"
   ]
  },
  {
   "cell_type": "markdown",
   "id": "2fcc6bd8",
   "metadata": {},
   "source": [
    "### Dynamo"
   ]
  },
  {
   "cell_type": "code",
   "execution_count": 73,
   "id": "787407c2",
   "metadata": {},
   "outputs": [
    {
     "data": {
      "application/javascript": [
       "\n",
       "        setTimeout(function() {\n",
       "            var nbb_cell_id = 73;\n",
       "            var nbb_formatted_code = \"dynamo_csv_path = \\\"/home/mvinyard/github/scdiffeq-analyses/analyses/figure2/LARRY.fate_prediction/dynamo/dynamo_fatebias.seed_0.csv\\\"\\nadata.obs[\\\"combined_barcode\\\"] = (\\n    adata.obs[\\\"Library\\\"].astype(str)\\n    + \\\":\\\"\\n    + adata.obs[\\\"Cell barcode\\\"].str.replace(\\\"-\\\", \\\"\\\")\\n)\\nF_hat_dynamo = pd.read_csv(dynamo_csv_path, index_col=0)\\nF_hat_dynamo_index = adata.obs.loc[\\n    adata.obs[\\\"combined_barcode\\\"].isin(F_hat_dynamo.index)\\n].index\\nF_hat_dynamo.index = F_hat_dynamo_index\\nF_hat_dynamo = F_hat_dynamo.drop(\\\"confidence\\\", axis=1)\\nF_hat_dynamo = F_hat_dynamo.drop(\\\"Undifferentiated\\\", axis=1)\\nF_hat_dynamo = F_hat_dynamo.div(F_hat_dynamo.sum(1), axis=0).fillna(0)\\nF_hat_dynamo = replace_undiff(F_hat_dynamo)\\ndynamo = compute_accuracy(F_obs, F_hat=F_hat_dynamo)\";\n",
       "            var nbb_cells = Jupyter.notebook.get_cells();\n",
       "            for (var i = 0; i < nbb_cells.length; ++i) {\n",
       "                if (nbb_cells[i].input_prompt_number == nbb_cell_id) {\n",
       "                    nbb_cells[i].set_text(nbb_formatted_code);\n",
       "                    break;\n",
       "                }\n",
       "            }\n",
       "        }, 500);\n",
       "        "
      ],
      "text/plain": [
       "<IPython.core.display.Javascript object>"
      ]
     },
     "metadata": {},
     "output_type": "display_data"
    }
   ],
   "source": [
    "dynamo_csv_path = \"/home/mvinyard/github/scdiffeq-analyses/analyses/figure2/LARRY.fate_prediction/dynamo/dynamo_fatebias.seed_0.csv\"\n",
    "adata.obs[\"combined_barcode\"] = (\n",
    "    adata.obs[\"Library\"].astype(str)\n",
    "    + \":\"\n",
    "    + adata.obs[\"Cell barcode\"].str.replace(\"-\", \"\")\n",
    ")\n",
    "F_hat_dynamo = pd.read_csv(dynamo_csv_path, index_col=0)\n",
    "F_hat_dynamo_index = adata.obs.loc[\n",
    "    adata.obs[\"combined_barcode\"].isin(F_hat_dynamo.index)\n",
    "].index\n",
    "F_hat_dynamo.index = F_hat_dynamo_index\n",
    "F_hat_dynamo = F_hat_dynamo.drop(\"confidence\", axis=1)\n",
    "F_hat_dynamo = F_hat_dynamo.drop(\"Undifferentiated\", axis=1)\n",
    "F_hat_dynamo = F_hat_dynamo.div(F_hat_dynamo.sum(1), axis=0).fillna(0)\n",
    "F_hat_dynamo = replace_undiff(F_hat_dynamo)\n",
    "dynamo = compute_accuracy(F_obs, F_hat=F_hat_dynamo)"
   ]
  },
  {
   "cell_type": "markdown",
   "id": "02c044a1",
   "metadata": {},
   "source": [
    "### PRESCIENT"
   ]
  },
  {
   "cell_type": "code",
   "execution_count": 67,
   "id": "9a410d94",
   "metadata": {},
   "outputs": [
    {
     "data": {
      "application/javascript": [
       "\n",
       "        setTimeout(function() {\n",
       "            var nbb_cell_id = 67;\n",
       "            var nbb_formatted_code = \"F_hat_prescient = pd.read_csv(\\n    \\\"/home/mvinyard/experiments/run_prescient/F_hat.csvs/F_hat.PRESCIENT.LARRY.all_data.all_kegg-softplus_2_400-1e-06.seed_1.train.best.pt.csv\\\",\\n    index_col=0,\\n)\\nkegg_indicator = {\\\"yes\\\": \\\"KEGG+\\\", \\\"no\\\": \\\"KEGG-\\\"}\\n\\nPRESCIENT_results = {\\\"KEGG+\\\": [], \\\"KEGG-\\\": []}\\npaths = list(pathlib.Path(\\\"/home/mvinyard/data/\\\").glob(\\\"prescient*.pickle\\\"))\\nfor path in paths:\\n    F_hat_pr = _read_process_F_hat(path=path, pickle=True)\\n    acc = larry.tasks.fate_prediction.metrics.multi_idx_accuracy(F_obs, F_hat=F_hat_pr)\\n    test_acc = acc.loc[\\\"unique_test.all_fates\\\"].iloc[0]\\n    #     print(test_acc)\\n    kegg_key = kegg_indicator[path.name.split(\\\"KEGG\\\")[-1].split(\\\".pickle\\\")[0]]\\n    PRESCIENT_results[kegg_key].append(test_acc)\\nPRESCIENT = pd.DataFrame(PRESCIENT_results)\";\n",
       "            var nbb_cells = Jupyter.notebook.get_cells();\n",
       "            for (var i = 0; i < nbb_cells.length; ++i) {\n",
       "                if (nbb_cells[i].input_prompt_number == nbb_cell_id) {\n",
       "                    nbb_cells[i].set_text(nbb_formatted_code);\n",
       "                    break;\n",
       "                }\n",
       "            }\n",
       "        }, 500);\n",
       "        "
      ],
      "text/plain": [
       "<IPython.core.display.Javascript object>"
      ]
     },
     "metadata": {},
     "output_type": "display_data"
    }
   ],
   "source": [
    "F_hat_prescient = pd.read_csv(\n",
    "    \"/home/mvinyard/experiments/run_prescient/F_hat.csvs/F_hat.PRESCIENT.LARRY.all_data.all_kegg-softplus_2_400-1e-06.seed_1.train.best.pt.csv\",\n",
    "    index_col=0,\n",
    ")\n",
    "kegg_indicator = {\"yes\": \"KEGG+\", \"no\": \"KEGG-\"}\n",
    "\n",
    "PRESCIENT_results = {\"KEGG+\": [], \"KEGG-\": []}\n",
    "paths = list(pathlib.Path(\"/home/mvinyard/data/\").glob(\"prescient*.pickle\"))\n",
    "for path in paths:\n",
    "    F_hat_pr = _read_process_F_hat(path=path, pickle=True)\n",
    "    acc = larry.tasks.fate_prediction.metrics.multi_idx_accuracy(F_obs, F_hat=F_hat_pr)\n",
    "    test_acc = acc.loc[\"unique_test.all_fates\"].iloc[0]\n",
    "    #     print(test_acc)\n",
    "    kegg_key = kegg_indicator[path.name.split(\"KEGG\")[-1].split(\".pickle\")[0]]\n",
    "    PRESCIENT_results[kegg_key].append(test_acc)\n",
    "PRESCIENT = pd.DataFrame(PRESCIENT_results)"
   ]
  },
  {
   "cell_type": "markdown",
   "id": "546777f3",
   "metadata": {},
   "source": [
    "### scDiffEq"
   ]
  },
  {
   "cell_type": "code",
   "execution_count": 56,
   "id": "a0fca4b2",
   "metadata": {},
   "outputs": [
    {
     "data": {
      "application/javascript": [
       "\n",
       "        setTimeout(function() {\n",
       "            var nbb_cell_id = 56;\n",
       "            var nbb_formatted_code = \"# scDiffEq - KEGG (no RVR)\\nf = pd.read_pickle(\\n    \\\"/home/mvinyard/github/scdiffeq-analyses/analyses/figure2/LARRY.fate_prediction/scDiffEq/scdiffeq_simout.pickle\\\"\\n)\\n\\nscDiffEq_KEGGNeg = {}\\nfor seed in range(5):\\n    key = (\\\"scDiffEq1\\\", \\\"mu2000-sigma800-ss1\\\", f\\\"seed{seed}\\\", \\\"KEGGno\\\")\\n    F_hat_raw = f[key]\\n    F_hat_raw.index = F_obs.index\\n    F_hat_filt = F_hat_raw.drop(\\\"Undifferentiated\\\", axis=1)\\n    F_hat_norm = F_hat_filt.div(F_hat_raw.sum(1), axis=0).fillna(0)\\n    F_hat_sdq = replace_undiff(F_hat_norm)\\n    acc = larry.tasks.fate_prediction.metrics.multi_idx_accuracy(F_obs, F_hat=F_hat_sdq)\\n    scDiffEq_KEGGNeg[seed] = acc.loc[\\\"unique_test.all_fates\\\"].iloc[0]\\n\\n# scDiffEq + KEGG (no RVR)\\nsdq_kegg = [\\n    0.6239813736903376,\\n    0.4947613504074505,\\n    0.5273573923166472,\\n    0.4947613504074505,\\n    0.5064027939464494,\\n]\\n\\n# scDiffEq + KEGG + RVR=2.5\\nproject_path = pathlib.Path(\\n    \\\"/home/mvinyard/experiments/fate_prediction.reg_velo/v2/LightningSDE-FixedPotential-RegularizedVelocityRatio\\\"\\n)\\nproject = sdq.io.Project(project_path)\\nversions = [\\n    getattr(project, attr) for attr in project.__dir__() if attr.startswith(\\\"version_\\\")\\n]\\n\\nbest = {}\\nfor version in versions:\\n    version_accuracy = sdq_an.parsers.VersionAccuracy(version)\\n    Vr = version.hparams[\\\"velocity_ratio_params\\\"][\\\"target\\\"]\\n    if Vr == 2.5:\\n        best[version._NAME] = version_accuracy.best_test_from_train[[\\\"train\\\", \\\"test\\\"]]\\n#     Ve = version.hparams['velocity_ratio_params']['enforce']\\n#     print(version, Vr, Ve)\\n#     print(version_accuracy.best_test_from_train[['train', 'test']], end = \\\"\\\\n\\\\n\\\\n\\\")\\nsdq_Vr2pt5 = pd.DataFrame(best).T[\\\"test\\\"].values\\norg_results = get_organized_results(project_path)\\nbest_results = get_best_results(org_results)\";\n",
       "            var nbb_cells = Jupyter.notebook.get_cells();\n",
       "            for (var i = 0; i < nbb_cells.length; ++i) {\n",
       "                if (nbb_cells[i].input_prompt_number == nbb_cell_id) {\n",
       "                    nbb_cells[i].set_text(nbb_formatted_code);\n",
       "                    break;\n",
       "                }\n",
       "            }\n",
       "        }, 500);\n",
       "        "
      ],
      "text/plain": [
       "<IPython.core.display.Javascript object>"
      ]
     },
     "metadata": {},
     "output_type": "display_data"
    }
   ],
   "source": [
    "# scDiffEq - KEGG (no RVR)\n",
    "f = pd.read_pickle(\n",
    "    \"/home/mvinyard/github/scdiffeq-analyses/analyses/figure2/LARRY.fate_prediction/scDiffEq/scdiffeq_simout.pickle\"\n",
    ")\n",
    "\n",
    "scDiffEq_KEGGNeg = {}\n",
    "for seed in range(5):\n",
    "    key = (\"scDiffEq1\", \"mu2000-sigma800-ss1\", f\"seed{seed}\", \"KEGGno\")\n",
    "    F_hat_raw = f[key]\n",
    "    F_hat_raw.index = F_obs.index\n",
    "    F_hat_filt = F_hat_raw.drop(\"Undifferentiated\", axis=1)\n",
    "    F_hat_norm = F_hat_filt.div(F_hat_raw.sum(1), axis=0).fillna(0)\n",
    "    F_hat_sdq = replace_undiff(F_hat_norm)\n",
    "    acc = larry.tasks.fate_prediction.metrics.multi_idx_accuracy(F_obs, F_hat=F_hat_sdq)\n",
    "    scDiffEq_KEGGNeg[seed] = acc.loc[\"unique_test.all_fates\"].iloc[0]\n",
    "\n",
    "# scDiffEq + KEGG (no RVR)\n",
    "sdq_kegg = [\n",
    "    0.6239813736903376,\n",
    "    0.4947613504074505,\n",
    "    0.5273573923166472,\n",
    "    0.4947613504074505,\n",
    "    0.5064027939464494,\n",
    "]\n",
    "\n",
    "# scDiffEq + KEGG + RVR=2.5\n",
    "project_path = pathlib.Path(\n",
    "    \"/home/mvinyard/experiments/fate_prediction.reg_velo/v2/LightningSDE-FixedPotential-RegularizedVelocityRatio\"\n",
    ")\n",
    "project = sdq.io.Project(project_path)\n",
    "versions = [\n",
    "    getattr(project, attr) for attr in project.__dir__() if attr.startswith(\"version_\")\n",
    "]\n",
    "\n",
    "best = {}\n",
    "for version in versions:\n",
    "    version_accuracy = sdq_an.parsers.VersionAccuracy(version)\n",
    "    Vr = version.hparams[\"velocity_ratio_params\"][\"target\"]\n",
    "    if Vr == 2.5:\n",
    "        best[version._NAME] = version_accuracy.best_test_from_train[[\"train\", \"test\"]]\n",
    "\n",
    "sdq_Vr2pt5 = pd.DataFrame(best).T[\"test\"].values\n",
    "org_results = get_organized_results(project_path)\n",
    "best_results = get_best_results(org_results)\n",
    "\n",
    "scDiffEq = {\n",
    "    \"-KEGG\": list(scDiffEq_KEGGNeg.values()),\n",
    "    \"+KEGG\": sdq_kegg,\n",
    "    \"+KEGG+RVR2pt5\": list(sdq_Vr2pt5),\n",
    "}"
   ]
  },
  {
   "cell_type": "markdown",
   "id": "a963377b",
   "metadata": {},
   "source": [
    "### torch-PBA"
   ]
  },
  {
   "cell_type": "code",
   "execution_count": 23,
   "id": "988b4be5",
   "metadata": {},
   "outputs": [
    {
     "data": {
      "application/javascript": [
       "\n",
       "        setTimeout(function() {\n",
       "            var nbb_cell_id = 23;\n",
       "            var nbb_formatted_code = \"TorchPBA = {}\\nfor path in glob.glob(\\n    \\\"/home/mvinyard/github/scdiffeq-analyses/analyses/figure2/LARRY.fate_prediction/PBA/PBA.F_hat_unfilt*.csv\\\"\\n):\\n    path_ = pathlib.Path(path)\\n    seed = int(path_.name.split(\\\"seed_\\\")[-1].split(\\\".\\\")[0])\\n    F_hat = pd.read_csv(path_, index_col=0)\\n    F_hat.index = F_hat.index.astype(str)\\n    acc = larry.tasks.fate_prediction.metrics.multi_idx_accuracy(F_obs, F_hat=F_hat)\\n    score = acc.loc[\\\"unique_test.all_fates\\\"].iloc[0]\\n    TorchPBA[seed] = score\";\n",
       "            var nbb_cells = Jupyter.notebook.get_cells();\n",
       "            for (var i = 0; i < nbb_cells.length; ++i) {\n",
       "                if (nbb_cells[i].input_prompt_number == nbb_cell_id) {\n",
       "                    nbb_cells[i].set_text(nbb_formatted_code);\n",
       "                    break;\n",
       "                }\n",
       "            }\n",
       "        }, 500);\n",
       "        "
      ],
      "text/plain": [
       "<IPython.core.display.Javascript object>"
      ]
     },
     "metadata": {},
     "output_type": "display_data"
    }
   ],
   "source": [
    "TorchPBA = {}\n",
    "for path in glob.glob(\n",
    "    \"/home/mvinyard/github/scdiffeq-analyses/analyses/figure2/LARRY.fate_prediction/PBA/PBA.F_hat_unfilt*.csv\"\n",
    "):\n",
    "    path_ = pathlib.Path(path)\n",
    "    seed = int(path_.name.split(\"seed_\")[-1].split(\".\")[0])\n",
    "    F_hat = pd.read_csv(path_, index_col=0)\n",
    "    F_hat.index = F_hat.index.astype(str)\n",
    "    acc = larry.tasks.fate_prediction.metrics.multi_idx_accuracy(F_obs, F_hat=F_hat)\n",
    "    score = acc.loc[\"unique_test.all_fates\"].iloc[0]\n",
    "    TorchPBA[seed] = score"
   ]
  },
  {
   "cell_type": "markdown",
   "id": "03117eca",
   "metadata": {},
   "source": [
    "### Aggregate results"
   ]
  },
  {
   "cell_type": "code",
   "execution_count": 79,
   "id": "b2deae77",
   "metadata": {},
   "outputs": [
    {
     "data": {
      "text/plain": [
       "{5: 0.42607683352735737,\n",
       " 6: 0.5669383003492433,\n",
       " 0: 0.40279394644935973,\n",
       " 4: 0.3958090803259604,\n",
       " 3: 0.519208381839348,\n",
       " 1: 0.559953434225844}"
      ]
     },
     "execution_count": 79,
     "metadata": {},
     "output_type": "execute_result"
    },
    {
     "data": {
      "application/javascript": [
       "\n",
       "        setTimeout(function() {\n",
       "            var nbb_cell_id = 79;\n",
       "            var nbb_formatted_code = \"TorchPBA\";\n",
       "            var nbb_cells = Jupyter.notebook.get_cells();\n",
       "            for (var i = 0; i < nbb_cells.length; ++i) {\n",
       "                if (nbb_cells[i].input_prompt_number == nbb_cell_id) {\n",
       "                    nbb_cells[i].set_text(nbb_formatted_code);\n",
       "                    break;\n",
       "                }\n",
       "            }\n",
       "        }, 500);\n",
       "        "
      ],
      "text/plain": [
       "<IPython.core.display.Javascript object>"
      ]
     },
     "metadata": {},
     "output_type": "display_data"
    }
   ],
   "source": [
    "TorchPBA"
   ]
  },
  {
   "cell_type": "code",
   "execution_count": 81,
   "id": "6a1e7850",
   "metadata": {},
   "outputs": [
    {
     "data": {
      "text/plain": [
       "[0.5087310826542492,\n",
       " 0.5389988358556461,\n",
       " 0.5389988358556461,\n",
       " 0.5133876600698487,\n",
       " 0.5261932479627474]"
      ]
     },
     "execution_count": 81,
     "metadata": {},
     "output_type": "execute_result"
    },
    {
     "data": {
      "application/javascript": [
       "\n",
       "        setTimeout(function() {\n",
       "            var nbb_cell_id = 81;\n",
       "            var nbb_formatted_code = \"scDiffEq[\\\"-KEGG\\\"]\";\n",
       "            var nbb_cells = Jupyter.notebook.get_cells();\n",
       "            for (var i = 0; i < nbb_cells.length; ++i) {\n",
       "                if (nbb_cells[i].input_prompt_number == nbb_cell_id) {\n",
       "                    nbb_cells[i].set_text(nbb_formatted_code);\n",
       "                    break;\n",
       "                }\n",
       "            }\n",
       "        }, 500);\n",
       "        "
      ],
      "text/plain": [
       "<IPython.core.display.Javascript object>"
      ]
     },
     "metadata": {},
     "output_type": "display_data"
    }
   ],
   "source": []
  },
  {
   "cell_type": "code",
   "execution_count": 115,
   "id": "4ddad17e",
   "metadata": {},
   "outputs": [
    {
     "data": {
      "application/javascript": [
       "\n",
       "        setTimeout(function() {\n",
       "            var nbb_cell_id = 115;\n",
       "            var nbb_formatted_code = \"results = {\\n    \\\"LR\\\": LR,\\n    \\\"PBA\\\": [0.363213],\\n    \\\"torch-pba\\\": list(TorchPBA.values()),\\n    \\\"TIGON\\\": [0.04084574723690534],\\n    \\\"CellRank\\\": [cellrank],\\n    \\\"Dynamo\\\": [dynamo],\\n    \\\"PRESCIENT\\\": PRESCIENT_results[\\\"KEGG-\\\"],\\n    \\\"PRESCIENT-KEGG\\\": PRESCIENT_results[\\\"KEGG+\\\"],\\n    \\\"scDiffEq\\\": scDiffEq[\\\"-KEGG\\\"],\\n    \\\"scDiffEq-KEGG\\\": scDiffEq[\\\"+KEGG\\\"],\\n    \\\"scDiffEq-KEGG-RV\\\": scDiffEq[\\\"+KEGG+RVR2pt5\\\"],\\n}\";\n",
       "            var nbb_cells = Jupyter.notebook.get_cells();\n",
       "            for (var i = 0; i < nbb_cells.length; ++i) {\n",
       "                if (nbb_cells[i].input_prompt_number == nbb_cell_id) {\n",
       "                    nbb_cells[i].set_text(nbb_formatted_code);\n",
       "                    break;\n",
       "                }\n",
       "            }\n",
       "        }, 500);\n",
       "        "
      ],
      "text/plain": [
       "<IPython.core.display.Javascript object>"
      ]
     },
     "metadata": {},
     "output_type": "display_data"
    }
   ],
   "source": [
    "results = {\n",
    "    \"LR\": LR,\n",
    "    \"PBA\": [0.363213],\n",
    "    \"torch-pba\": list(TorchPBA.values()),\n",
    "    \"TIGON\": [0.04084574723690534],\n",
    "    \"CellRank\": [cellrank],\n",
    "    \"Dynamo\": [dynamo],\n",
    "    \"PRESCIENT\": PRESCIENT_results[\"KEGG-\"],\n",
    "    \"PRESCIENT-KEGG\": PRESCIENT_results[\"KEGG+\"],\n",
    "    \"scDiffEq\": scDiffEq[\"-KEGG\"],\n",
    "    \"scDiffEq-KEGG\": scDiffEq[\"+KEGG\"],\n",
    "    \"scDiffEq-KEGG-RV\": scDiffEq[\"+KEGG+RVR2pt5\"],\n",
    "}"
   ]
  },
  {
   "cell_type": "markdown",
   "id": "4a51a598",
   "metadata": {},
   "source": [
    "### Plot"
   ]
  },
  {
   "cell_type": "code",
   "execution_count": 116,
   "id": "80032935",
   "metadata": {},
   "outputs": [
    {
     "data": {
      "application/javascript": [
       "\n",
       "        setTimeout(function() {\n",
       "            var nbb_cell_id = 116;\n",
       "            var nbb_formatted_code = \"class StylishBoxPlot(ABCParse.ABCParse):\\n    def __init__(\\n        self,\\n        colors: Optional[List[str]] = None,\\n        widths: Optional[float] = None,\\n        scatter_kw={\\n            \\\"alpha\\\": 0.8,\\n            \\\"s\\\": 25,\\n        },\\n        *args,\\n        **kwargs\\n    ):\\n        self.__parse__(locals())\\n\\n    @property\\n    def colors(self):\\n        if not hasattr(self, \\\"_colors\\\") or self._colors is None:\\n            self._colors = list(cm.tab20.colors)\\n        return self._colors\\n\\n    def _background_scatter(self, ax, data):\\n        for en, (key, val) in enumerate(data.items()):\\n\\n            x = [key] * len(val)\\n\\n            if len(x) > 1:\\n                x_vals = en + 1 + (np.random.random(len(x)) - 0.5) / 5\\n            else:\\n                x_vals = en + 1\\n\\n            ax.scatter(\\n                x_vals,\\n                val,\\n                color=self.colors[en],\\n                zorder=0,\\n                ec=\\\"None\\\",\\n                rasterized=False,\\n                **self._scatter_kw,\\n            )\\n\\n    def _background_boxplot(self, ax, data):\\n\\n        x = list(data.keys())\\n        y = list(data.values())\\n\\n        x = np.arange(len(y)) + 1\\n\\n        bp = ax.boxplot(\\n            y,\\n            positions=x,\\n            patch_artist=True,\\n            showmeans=True,\\n            showfliers=False,\\n            meanline=True,\\n            zorder=1,\\n            widths=self._widths,\\n        )\\n        for median in bp[\\\"medians\\\"]:\\n            median.set_visible(False)\\n        for en, mean in enumerate(bp[\\\"means\\\"]):\\n            mean.set_c(self.colors[en])\\n\\n        for en, box in enumerate(bp[\\\"boxes\\\"]):\\n            box.set_facecolor(self.colors[en])\\n            box.set_alpha(0.2)\\n\\n        for en, whisker in enumerate(bp[\\\"whiskers\\\"]):\\n            whisker.set_c(\\\"None\\\")\\n\\n        for en, cap in enumerate(bp[\\\"caps\\\"]):\\n            cap.set_c(\\\"None\\\")\\n\\n    def _foreground_boxplot(self, ax, data):\\n\\n        y = list(data.values())\\n        x = list(data.keys())\\n        x = np.arange(len(y)) + 1\\n        bp = ax.boxplot(\\n            y,\\n            positions=x,\\n            patch_artist=True,\\n            showmeans=False,\\n            showfliers=False,\\n            meanline=False,\\n            zorder=2,\\n            widths=self._widths,\\n        )\\n        for en, box in enumerate(bp[\\\"boxes\\\"]):\\n            box.set_facecolor(\\\"None\\\")\\n            box.set_edgecolor(self.colors[en])\\n\\n        colors_ = np.repeat(\\n            np.array(self.colors), 2, axis=0\\n        )  # list(np.repeat(self.colors, 2))\\n        for en, whisker in enumerate(bp[\\\"whiskers\\\"]):\\n            whisker.set_c(colors_[en])\\n\\n        for en, cap in enumerate(bp[\\\"caps\\\"]):\\n            cap.set_c(colors_[en])\\n\\n        for median in bp[\\\"medians\\\"]:\\n            median.set_visible(False)\\n\\n    def __call__(self, ax, data, *args, **kwargs):\\n\\n        self.__update__(locals())\\n\\n        try:\\n            self._background_scatter(ax, data)\\n        except:\\n            print(data)\\n        self._background_boxplot(ax, data)\\n        self._foreground_boxplot(ax, data)\";\n",
       "            var nbb_cells = Jupyter.notebook.get_cells();\n",
       "            for (var i = 0; i < nbb_cells.length; ++i) {\n",
       "                if (nbb_cells[i].input_prompt_number == nbb_cell_id) {\n",
       "                    nbb_cells[i].set_text(nbb_formatted_code);\n",
       "                    break;\n",
       "                }\n",
       "            }\n",
       "        }, 500);\n",
       "        "
      ],
      "text/plain": [
       "<IPython.core.display.Javascript object>"
      ]
     },
     "metadata": {},
     "output_type": "display_data"
    }
   ],
   "source": [
    "class StylishBoxPlot(ABCParse.ABCParse):\n",
    "    def __init__(\n",
    "        self,\n",
    "        colors: Optional[List[str]] = None,\n",
    "        widths: Optional[float] = None,\n",
    "        scatter_kw={\n",
    "            \"alpha\": 0.8,\n",
    "            \"s\": 25,\n",
    "        },\n",
    "        *args,\n",
    "        **kwargs\n",
    "    ):\n",
    "        self.__parse__(locals())\n",
    "\n",
    "    @property\n",
    "    def colors(self):\n",
    "        if not hasattr(self, \"_colors\") or self._colors is None:\n",
    "            self._colors = list(cm.tab20.colors)\n",
    "        return self._colors\n",
    "\n",
    "    def _background_scatter(self, ax, data):\n",
    "        for en, (key, val) in enumerate(data.items()):\n",
    "\n",
    "            x = [key] * len(val)\n",
    "\n",
    "            if len(x) > 1:\n",
    "                x_vals = en + 1 + (np.random.random(len(x)) - 0.5) / 5\n",
    "            else:\n",
    "                x_vals = en + 1\n",
    "\n",
    "            ax.scatter(\n",
    "                x_vals,\n",
    "                val,\n",
    "                color=self.colors[en],\n",
    "                zorder=0,\n",
    "                ec=\"None\",\n",
    "                rasterized=False,\n",
    "                **self._scatter_kw,\n",
    "            )\n",
    "\n",
    "    def _background_boxplot(self, ax, data):\n",
    "\n",
    "        x = list(data.keys())\n",
    "        y = list(data.values())\n",
    "\n",
    "        x = np.arange(len(y)) + 1\n",
    "\n",
    "        bp = ax.boxplot(\n",
    "            y,\n",
    "            positions=x,\n",
    "            patch_artist=True,\n",
    "            showmeans=True,\n",
    "            showfliers=False,\n",
    "            meanline=True,\n",
    "            zorder=1,\n",
    "            widths=self._widths,\n",
    "        )\n",
    "        for median in bp[\"medians\"]:\n",
    "            median.set_visible(False)\n",
    "        for en, mean in enumerate(bp[\"means\"]):\n",
    "            mean.set_c(self.colors[en])\n",
    "\n",
    "        for en, box in enumerate(bp[\"boxes\"]):\n",
    "            box.set_facecolor(self.colors[en])\n",
    "            box.set_alpha(0.2)\n",
    "\n",
    "        for en, whisker in enumerate(bp[\"whiskers\"]):\n",
    "            whisker.set_c(\"None\")\n",
    "\n",
    "        for en, cap in enumerate(bp[\"caps\"]):\n",
    "            cap.set_c(\"None\")\n",
    "\n",
    "    def _foreground_boxplot(self, ax, data):\n",
    "\n",
    "        y = list(data.values())\n",
    "        x = list(data.keys())\n",
    "        x = np.arange(len(y)) + 1\n",
    "        bp = ax.boxplot(\n",
    "            y,\n",
    "            positions=x,\n",
    "            patch_artist=True,\n",
    "            showmeans=False,\n",
    "            showfliers=False,\n",
    "            meanline=False,\n",
    "            zorder=2,\n",
    "            widths=self._widths,\n",
    "        )\n",
    "        for en, box in enumerate(bp[\"boxes\"]):\n",
    "            box.set_facecolor(\"None\")\n",
    "            box.set_edgecolor(self.colors[en])\n",
    "\n",
    "        colors_ = np.repeat(\n",
    "            np.array(self.colors), 2, axis=0\n",
    "        )  # list(np.repeat(self.colors, 2))\n",
    "        for en, whisker in enumerate(bp[\"whiskers\"]):\n",
    "            whisker.set_c(colors_[en])\n",
    "\n",
    "        for en, cap in enumerate(bp[\"caps\"]):\n",
    "            cap.set_c(colors_[en])\n",
    "\n",
    "        for median in bp[\"medians\"]:\n",
    "            median.set_visible(False)\n",
    "\n",
    "    def __call__(self, ax, data, *args, **kwargs):\n",
    "\n",
    "        self.__update__(locals())\n",
    "\n",
    "        try:\n",
    "            self._background_scatter(ax, data)\n",
    "        except:\n",
    "            print(data)\n",
    "        self._background_boxplot(ax, data)\n",
    "        self._foreground_boxplot(ax, data)"
   ]
  },
  {
   "cell_type": "code",
   "execution_count": 117,
   "id": "56ffbebc",
   "metadata": {},
   "outputs": [
    {
     "data": {
      "application/javascript": [
       "\n",
       "        setTimeout(function() {\n",
       "            var nbb_cell_id = 117;\n",
       "            var nbb_formatted_code = \"colors = [\\n    \\\"#262626\\\",\\n    \\\"#f9626c\\\",\\n    \\\"#9d0610\\\",\\n    \\\"#ffcc00\\\",\\n    \\\"#99cc33\\\",\\n    \\\"#669900\\\",\\n    \\\"#f27f34\\\",\\n    \\\"#eb5e28\\\",\\n    \\\"#00b4d8\\\",\\n    \\\"#0096c7\\\",\\n    \\\"#0077b6\\\",\\n]\";\n",
       "            var nbb_cells = Jupyter.notebook.get_cells();\n",
       "            for (var i = 0; i < nbb_cells.length; ++i) {\n",
       "                if (nbb_cells[i].input_prompt_number == nbb_cell_id) {\n",
       "                    nbb_cells[i].set_text(nbb_formatted_code);\n",
       "                    break;\n",
       "                }\n",
       "            }\n",
       "        }, 500);\n",
       "        "
      ],
      "text/plain": [
       "<IPython.core.display.Javascript object>"
      ]
     },
     "metadata": {},
     "output_type": "display_data"
    }
   ],
   "source": [
    "colors = [\n",
    "    \"#262626\",\n",
    "    \"#f9626c\",\n",
    "    \"#9d0610\",\n",
    "    \"#ffcc00\",\n",
    "    \"#99cc33\",\n",
    "    \"#669900\",\n",
    "    \"#f27f34\",\n",
    "    \"#eb5e28\",\n",
    "    \"#00b4d8\",\n",
    "    \"#0096c7\",\n",
    "    \"#0077b6\",\n",
    "]"
   ]
  },
  {
   "cell_type": "code",
   "execution_count": 118,
   "id": "6a890cc1",
   "metadata": {},
   "outputs": [
    {
     "data": {
      "image/png": "[encoded data removed]",
      "text/plain": [
       "<Figure size 640x240 with 1 Axes>"
      ]
     },
     "metadata": {},
     "output_type": "display_data"
    },
    {
     "data": {
      "application/javascript": [
       "\n",
       "        setTimeout(function() {\n",
       "            var nbb_cell_id = 118;\n",
       "            var nbb_formatted_code = \"results = {key: ABCParse.as_list(val) for key, val in results.items()}\\n\\nfig, axes = cp.plot(\\n    height=0.5,\\n    width=1,\\n    title=[\\\"LARRY fate prediction benchmark accuracy\\\"],\\n    y_label=[\\\"Accuracy Score\\\"],\\n    x_label=[\\\"Method\\\"],\\n)\\nax = axes[0]\\n\\nsbp = StylishBoxPlot(colors=colors, widths=0.65)\\nsbp(ax, results)\\nax.set_ylim(0, 0.7)\\nax.set_xticks(np.arange(1, 12))\\n# ax.grid(True, lw=0.25, color=\\\"lightgrey\\\", zorder=-1)\\nxtl = ax.set_xticklabels(list(results.keys()), ha=\\\"right\\\", rotation=45)\\nplt.savefig(\\\"LARRY.fate_prediction_benchmark_accuracy.svg\\\", dpi=500)\";\n",
       "            var nbb_cells = Jupyter.notebook.get_cells();\n",
       "            for (var i = 0; i < nbb_cells.length; ++i) {\n",
       "                if (nbb_cells[i].input_prompt_number == nbb_cell_id) {\n",
       "                    nbb_cells[i].set_text(nbb_formatted_code);\n",
       "                    break;\n",
       "                }\n",
       "            }\n",
       "        }, 500);\n",
       "        "
      ],
      "text/plain": [
       "<IPython.core.display.Javascript object>"
      ]
     },
     "metadata": {},
     "output_type": "display_data"
    }
   ],
   "source": [
    "results = {key: ABCParse.as_list(val) for key, val in results.items()}\n",
    "\n",
    "fig, axes = cp.plot(\n",
    "    height=0.5,\n",
    "    width=1,\n",
    "    title=[\"LARRY fate prediction benchmark accuracy\"],\n",
    "    y_label=[\"Accuracy Score\"],\n",
    "    x_label=[\"Method\"],\n",
    ")\n",
    "ax = axes[0]\n",
    "\n",
    "sbp = StylishBoxPlot(colors=colors, widths=0.65)\n",
    "sbp(ax, results)\n",
    "ax.set_ylim(0, 0.7)\n",
    "ax.set_xticks(np.arange(1, 12))\n",
    "xtl = ax.set_xticklabels(list(results.keys()), ha=\"right\", rotation=45)\n",
    "plt.savefig(\"LARRY.fate_prediction_benchmark_accuracy.svg\", dpi=500)"
   ]
  }
 ],
 "metadata": {
  "kernelspec": {
   "display_name": "sdq-dev",
   "language": "python",
   "name": "sdq-dev"
  },
  "language_info": {
   "codemirror_mode": {
    "name": "ipython",
    "version": 3
   },
   "file_extension": ".py",
   "mimetype": "text/x-python",
   "name": "python",
   "nbconvert_exporter": "python",
   "pygments_lexer": "ipython3",
   "version": "3.9.18"
  }
 },
 "nbformat": 4,
 "nbformat_minor": 5
}
