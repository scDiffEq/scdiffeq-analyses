{
 "cells": [
  {
   "cell_type": "code",
   "execution_count": 1,
   "id": "cabd2b63",
   "metadata": {},
   "outputs": [
    {
     "name": "stderr",
     "output_type": "stream",
     "text": [
      "/home/mvinyard/anaconda3/envs/dynamo/lib/python3.9/site-packages/umap/distances.py:1063: NumbaDeprecationWarning: \u001b[1mThe 'nopython' keyword argument was not supplied to the 'numba.jit' decorator. The implicit default value for this argument is currently False, but it will be changed to True in Numba 0.59.0. See https://numba.readthedocs.io/en/stable/reference/deprecation.html#deprecation-of-object-mode-fall-back-behaviour-when-using-jit for details.\u001b[0m\n",
      "  @numba.jit()\n",
      "/home/mvinyard/anaconda3/envs/dynamo/lib/python3.9/site-packages/umap/distances.py:1071: NumbaDeprecationWarning: \u001b[1mThe 'nopython' keyword argument was not supplied to the 'numba.jit' decorator. The implicit default value for this argument is currently False, but it will be changed to True in Numba 0.59.0. See https://numba.readthedocs.io/en/stable/reference/deprecation.html#deprecation-of-object-mode-fall-back-behaviour-when-using-jit for details.\u001b[0m\n",
      "  @numba.jit()\n",
      "/home/mvinyard/anaconda3/envs/dynamo/lib/python3.9/site-packages/umap/distances.py:1086: NumbaDeprecationWarning: \u001b[1mThe 'nopython' keyword argument was not supplied to the 'numba.jit' decorator. The implicit default value for this argument is currently False, but it will be changed to True in Numba 0.59.0. See https://numba.readthedocs.io/en/stable/reference/deprecation.html#deprecation-of-object-mode-fall-back-behaviour-when-using-jit for details.\u001b[0m\n",
      "  @numba.jit()\n",
      "/home/mvinyard/anaconda3/envs/dynamo/lib/python3.9/site-packages/umap/umap_.py:660: NumbaDeprecationWarning: \u001b[1mThe 'nopython' keyword argument was not supplied to the 'numba.jit' decorator. The implicit default value for this argument is currently False, but it will be changed to True in Numba 0.59.0. See https://numba.readthedocs.io/en/stable/reference/deprecation.html#deprecation-of-object-mode-fall-back-behaviour-when-using-jit for details.\u001b[0m\n",
      "  @numba.jit()\n"
     ]
    },
    {
     "name": "stdout",
     "output_type": "stream",
     "text": [
      "[KeOps] Compiling cuda jit compiler engine ... \n",
      "[KeOps] Warning : There were warnings or errors compiling formula :\n",
      "/usr/bin/ld: cannot find -lnvrtc\n",
      "collect2: error: ld returned 1 exit status\n",
      "\n",
      "OK\n",
      "[pyKeOps] Compiling nvrtc binder for python ... \n",
      "[KeOps] Warning : There were warnings or errors compiling formula :\n",
      "/usr/bin/ld: cannot find -lnvrtc\n",
      "collect2: error: ld returned 1 exit status\n",
      "\n",
      "OK\n"
     ]
    }
   ],
   "source": [
    "import larry"
   ]
  },
  {
   "cell_type": "code",
   "execution_count": 5,
   "id": "103ba27a",
   "metadata": {},
   "outputs": [],
   "source": [
    "import anndata as a"
   ]
  },
  {
   "cell_type": "code",
   "execution_count": 6,
   "id": "dcf5b2c1",
   "metadata": {},
   "outputs": [],
   "source": [
    "adata = a.read_h5ad(\"../KleinLabData/in_vitro/adata.Weinreb2020.in_vitro.task_02.fate_prediction.h5ad\")"
   ]
  },
  {
   "cell_type": "code",
   "execution_count": 7,
   "id": "010a505f",
   "metadata": {},
   "outputs": [
    {
     "name": "stdout",
     "output_type": "stream",
     "text": [
      "- [ \u001b[95mINFO\u001b[0m ] | Added lineage x fate counts to: adata.uns['fate_counts']\n",
      "- [ \u001b[95mINFO\u001b[0m ] | Added lineage-time occupance to: adata.uns['time_occupance']\n",
      "- [ \u001b[95mINFO\u001b[0m ] | Fated cells annotated at: adata.obs['fate_observed']\n",
      "- [ \u001b[95mINFO\u001b[0m ] | Fated cells (t=t0) annotated at: adata.obs['t0_fated']\n",
      "- [ \u001b[95mINFO\u001b[0m ] | Added cell x fate counts to: adata.obsm['cell_fate_df']\n"
     ]
    }
   ],
   "source": [
    "F_obs = larry.tasks.fate_prediction.F_obs(adata)"
   ]
  },
  {
   "cell_type": "code",
   "execution_count": 9,
   "id": "4554fe03",
   "metadata": {},
   "outputs": [],
   "source": [
    "F_hat_composer = larry.tasks.fate_prediction.F_hat_composer(F_obs.df)"
   ]
  },
  {
   "cell_type": "code",
   "execution_count": null,
   "id": "33014300",
   "metadata": {},
   "outputs": [],
   "source": [
    "F_hat_composer."
   ]
  }
 ],
 "metadata": {
  "kernelspec": {
   "display_name": "Python [conda env:dynamo]",
   "language": "python",
   "name": "conda-env-dynamo-py"
  },
  "language_info": {
   "codemirror_mode": {
    "name": "ipython",
    "version": 3
   },
   "file_extension": ".py",
   "mimetype": "text/x-python",
   "name": "python",
   "nbconvert_exporter": "python",
   "pygments_lexer": "ipython3",
   "version": "3.9.16"
  }
 },
 "nbformat": 4,
 "nbformat_minor": 5
}
