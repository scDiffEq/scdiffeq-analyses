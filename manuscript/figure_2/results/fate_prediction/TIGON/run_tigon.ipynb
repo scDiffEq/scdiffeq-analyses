{
 "cells": [
  {
   "cell_type": "code",
   "execution_count": 1,
   "id": "a540086e",
   "metadata": {},
   "outputs": [
    {
     "name": "stdout",
     "output_type": "stream",
     "text": [
      "AnnData object with n_obs × n_vars = 130887 × 2492\n",
      "    obs: 'Library', 'Cell barcode', 'Time point', 'Starting population', 'Cell type annotation', 'Well', 'SPRING-x', 'SPRING-y', 'clone_idx', 'fate_observed', 't0_fated', 'train'\n",
      "    var: 'gene_ids', 'hv_gene', 'must_include', 'exclude', 'use_genes'\n",
      "    uns: 'fate_counts', 'h5ad_path', 'time_occupance'\n",
      "    obsm: 'X_clone', 'X_pca', 'X_umap', 'cell_fate_df'\n",
      "    layers: 'X_scaled'\n"
     ]
    }
   ],
   "source": [
    "# ! git clone https://github.com/yutongo/TIGON.git\n",
    "\n",
    "import anndata\n",
    "import numpy as np\n",
    "import sklearn.preprocessing\n",
    "import sklearn.decomposition\n",
    "import tqdm.notebook\n",
    "import pandas as pd\n",
    "import annoy\n",
    "import ABCParse\n",
    "\n",
    "h5ad_path = \"/home/mvinyard/data/adata.reprocessed_19OCT2023.more_feature_inclusive.h5ad\"\n",
    "\n",
    "adata = anndata.read_h5ad(h5ad_path)\n",
    "print(adata)"
   ]
  },
  {
   "cell_type": "markdown",
   "id": "3d8ee31a",
   "metadata": {},
   "source": [
    "### Prepare data for input to TIGON\n",
    "\n",
    "**A note for clarity**: we have already preprocessed the LARRY dataset and formatted/loaded it as `adata`. During this processed we filtered genes. However we have not modified, transformed, or re-normalized the counts in any way since retrieving them from the original source (link). In the following cells, we will demonstrate the standard scaling and PCA-transform (50 components) we do, which matches previous works (PBA, PRESCIENT, etc)."
   ]
  },
  {
   "cell_type": "code",
   "execution_count": 2,
   "id": "d3c73fff",
   "metadata": {},
   "outputs": [],
   "source": [
    "scaler = sklearn.preprocessing.StandardScaler()\n",
    "PCA = sklearn.decomposition.PCA(n_components=50)"
   ]
  },
  {
   "cell_type": "markdown",
   "id": "7ad23d42",
   "metadata": {},
   "source": [
    "First, we fit the scaler and PCA without using the test data."
   ]
  },
  {
   "cell_type": "code",
   "execution_count": 3,
   "id": "4b990189",
   "metadata": {},
   "outputs": [],
   "source": [
    "adata.obs['train'] = adata.obs['Well'].isin([0, 1])\n",
    "X_train = adata[adata.obs['train']].X.copy()"
   ]
  },
  {
   "cell_type": "code",
   "execution_count": 4,
   "id": "f0b28824",
   "metadata": {},
   "outputs": [],
   "source": [
    "X_train_scaled = scaler.fit_transform(X_train)\n",
    "X_train_pca = PCA.fit_transform(X_train_scaled)"
   ]
  },
  {
   "cell_type": "markdown",
   "id": "0fedc11f",
   "metadata": {},
   "source": [
    "Now, we can transform all of the data"
   ]
  },
  {
   "cell_type": "code",
   "execution_count": 5,
   "id": "06533696",
   "metadata": {},
   "outputs": [],
   "source": [
    "X = adata.X.copy()\n",
    "adata.layers['X_scaled'] = X_scaled = scaler.transform(X)\n",
    "adata.obsm['X_pca'] = PCA.transform(X_scaled)\n",
    "adata.write_h5ad(\"./adata.preprocessed.h5ad\")"
   ]
  },
  {
   "cell_type": "code",
   "execution_count": 6,
   "id": "e4c24af8",
   "metadata": {},
   "outputs": [
    {
     "name": "stdout",
     "output_type": "stream",
     "text": [
      "(1, 3)\n"
     ]
    }
   ],
   "source": [
    "grouped = adata[adata.obs['train']].obs.groupby(\"Time point\")\n",
    "X_ = [adata[group_df.index].obsm['X_pca'].toarray() for group, group_df in grouped]\n",
    "Lineage = np.array(X_, dtype=object)[None, :]\n",
    "print(Lineage.shape)\n",
    "np.save(\"./TIGON/Input/Lineage_v2.npy\", Lineage)"
   ]
  },
  {
   "cell_type": "markdown",
   "id": "24f856b6",
   "metadata": {},
   "source": [
    "### Run TIGON\n",
    "\n",
    "This section is adapted directly from the training notebook provided here: [link](https://github.com/yutongo/TIGON/blob/main/Notebooks/Training.ipynb)."
   ]
  },
  {
   "cell_type": "code",
   "execution_count": 9,
   "id": "ee670db3",
   "metadata": {},
   "outputs": [
    {
     "name": "stdout",
     "output_type": "stream",
     "text": [
      "Name of the data set. Options: EMT; Lineage; Bifurcation; Simulation (default: EMT): Lineage_v2\n",
      "Time points of data (default: 0, 0.1, 0.3, 0.9, 2.1): 2,4,6\n",
      "Number of training iterations (default: 5000): 8000\n",
      "Learning rate (default: 3e-3): .007\n",
      "Number of sampling points per epoch (default: 100): 100\n",
      "Dimension of the hidden layer (default: 16): \n",
      "Number of hidden layers (default: 4): \n",
      "Activation function (default: Tanh): \n",
      "GPU device index (default: 0): \n",
      "Input Files Directory (default: Input/): TIGON/Input/\n",
      "Output Files Directory (default: Output/): TIGON/Output_v2/\n",
      "Random seed (default: 1): 0\n"
     ]
    }
   ],
   "source": [
    "import os\n",
    "import numpy as np\n",
    "import torch\n",
    "import torch.nn as nn\n",
    "import torch.optim as optim\n",
    "\n",
    "import sys\n",
    "sys.path.append(\"./TIGON/\")\n",
    "from utility import *\n",
    "\n",
    "args = create_args()"
   ]
  },
  {
   "cell_type": "code",
   "execution_count": 10,
   "id": "cd9fbf69",
   "metadata": {},
   "outputs": [
    {
     "name": "stdout",
     "output_type": "stream",
     "text": [
      "Iter: 1, loss: 44.9938\n",
      "Iter: 2, loss: 20.2676\n",
      "Iter: 3, loss: 12.0206\n",
      "Iter: 4, loss: 8.2417\n",
      "Iter: 5, loss: 5.9970\n",
      "Iter: 6, loss: 5.0227\n",
      "Iter: 7, loss: 3.6932\n",
      "Iter: 8, loss: 2.8325\n",
      "Iter: 9, loss: 2.4408\n",
      "Iter: 10, loss: 2.0296\n",
      "Iter: 11, loss: 1.5746\n",
      "Iter: 12, loss: 1.1889\n",
      "Iter: 13, loss: 1.1135\n",
      "Iter: 14, loss: 1.0340\n",
      "Iter: 15, loss: 0.9922\n",
      "Iter: 16, loss: 0.7661\n",
      "Iter: 17, loss: 0.8258\n",
      "Iter: 18, loss: 0.7438\n",
      "Iter: 19, loss: 0.5437\n",
      "Iter: 20, loss: 0.5948\n",
      "Iter: 21, loss: 0.6288\n",
      "Iter: 22, loss: 0.4687\n",
      "Iter: 23, loss: 0.5078\n",
      "Iter: 24, loss: 0.3824\n",
      "Iter: 25, loss: 0.3157\n",
      "Iter: 26, loss: 0.4245\n",
      "Iter: 27, loss: 0.4181\n",
      "Iter: 28, loss: 0.2703\n",
      "Iter: 29, loss: 0.3361\n",
      "Iter: 30, loss: 0.2911\n",
      "Iter: 31, loss: 0.2668\n",
      "Iter: 32, loss: 0.2278\n",
      "Iter: 33, loss: 0.3008\n",
      "Iter: 34, loss: 0.2159\n",
      "Iter: 35, loss: 0.2195\n",
      "Iter: 36, loss: 0.2409\n",
      "Iter: 37, loss: 0.2694\n",
      "Iter: 38, loss: 0.2170\n",
      "Iter: 39, loss: 0.2589\n",
      "Iter: 40, loss: 0.1705\n",
      "Iter: 41, loss: 0.2390\n",
      "Iter: 42, loss: 0.1752\n",
      "Iter: 43, loss: 0.1583\n",
      "Iter: 44, loss: 0.2268\n",
      "Iter: 45, loss: 0.1984\n",
      "Iter: 46, loss: 0.1622\n",
      "Iter: 47, loss: 0.1915\n",
      "Iter: 48, loss: 0.1593\n",
      "Iter: 49, loss: 0.1155\n",
      "Iter: 50, loss: 0.1324\n",
      "Iter: 51, loss: 0.1533\n",
      "Iter: 52, loss: 0.1269\n",
      "Iter: 53, loss: 0.1183\n",
      "Iter: 54, loss: 0.0908\n",
      "Iter: 55, loss: 0.1157\n",
      "Iter: 56, loss: 0.1342\n",
      "Iter: 57, loss: 0.0931\n",
      "Iter: 58, loss: 0.1094\n",
      "Iter: 59, loss: 0.0749\n",
      "Iter: 60, loss: 0.1108\n",
      "Iter: 61, loss: 0.0932\n",
      "Iter: 62, loss: 0.0893\n",
      "Iter: 63, loss: 0.0797\n",
      "Iter: 64, loss: 0.0766\n",
      "Iter: 65, loss: 0.0886\n",
      "Iter: 66, loss: 0.1165\n",
      "Iter: 67, loss: 0.0638\n",
      "Iter: 68, loss: 0.0820\n",
      "Iter: 69, loss: 0.0838\n",
      "Iter: 70, loss: 0.0698\n",
      "Iter: 71, loss: 0.1088\n",
      "Iter: 72, loss: 0.0951\n",
      "Iter: 73, loss: 0.0619\n",
      "Iter: 74, loss: 0.0735\n",
      "Iter: 75, loss: 0.0587\n",
      "Iter: 76, loss: 0.1027\n",
      "Iter: 77, loss: 0.0965\n",
      "Iter: 78, loss: 0.0677\n",
      "Iter: 79, loss: 0.0611\n",
      "Iter: 80, loss: 0.0585\n",
      "Iter: 81, loss: 0.0687\n",
      "Iter: 82, loss: 0.0607\n",
      "Iter: 83, loss: 0.1046\n",
      "Iter: 84, loss: 0.0709\n",
      "Iter: 85, loss: 0.0803\n",
      "Iter: 86, loss: 0.0613\n",
      "Iter: 87, loss: 0.1123\n",
      "Iter: 88, loss: 0.0571\n",
      "Iter: 89, loss: 0.0492\n",
      "Iter: 90, loss: 0.0509\n",
      "Iter: 91, loss: 0.0643\n",
      "Iter: 92, loss: 0.0713\n",
      "Iter: 93, loss: 0.0686\n",
      "Iter: 94, loss: 0.0432\n",
      "Iter: 95, loss: 0.0537\n",
      "Iter: 96, loss: 0.0749\n",
      "Iter: 97, loss: 0.0684\n",
      "Iter: 98, loss: 0.0556\n",
      "Iter: 99, loss: 0.0458\n",
      "Iter: 100, loss: 0.0305\n",
      "Iter: 101, loss: 0.0524\n",
      "Iter: 102, loss: 0.0551\n",
      "Iter: 103, loss: 0.0392\n",
      "Iter: 104, loss: 0.0399\n",
      "Iter: 105, loss: 0.0465\n",
      "Iter: 106, loss: 0.0615\n",
      "Iter: 107, loss: 0.0608\n",
      "Iter: 108, loss: 0.0514\n",
      "Iter: 109, loss: 0.0502\n",
      "Iter: 110, loss: 0.0568\n",
      "Iter: 111, loss: 0.0370\n",
      "Iter: 112, loss: 0.0491\n",
      "Iter: 113, loss: 0.0407\n",
      "Iter: 114, loss: 0.0565\n",
      "Iter: 115, loss: 0.0482\n",
      "Iter: 116, loss: 0.0630\n",
      "Iter: 117, loss: 0.0508\n",
      "Iter: 118, loss: 0.0473\n",
      "Iter: 119, loss: 0.0620\n",
      "Iter: 120, loss: 0.0405\n",
      "Iter: 121, loss: 0.0540\n",
      "Iter: 122, loss: 0.0385\n",
      "Iter: 123, loss: 0.0353\n",
      "Iter: 124, loss: 0.0617\n",
      "Iter: 125, loss: 0.0524\n",
      "Iter: 126, loss: 0.0540\n",
      "Iter: 127, loss: 0.0525\n",
      "Iter: 128, loss: 0.0429\n",
      "Iter: 129, loss: 0.0358\n",
      "Iter: 130, loss: 0.0335\n",
      "Iter: 131, loss: 0.0874\n",
      "Iter: 132, loss: 0.0316\n",
      "Iter: 133, loss: 0.0385\n",
      "Iter: 134, loss: 0.0296\n",
      "Iter: 135, loss: 0.0300\n",
      "Iter: 136, loss: 0.0665\n",
      "Iter: 137, loss: 0.0269\n",
      "Iter: 138, loss: 0.0337\n",
      "Iter: 139, loss: 0.0255\n",
      "Iter: 140, loss: 0.0238\n",
      "Iter: 141, loss: 0.0308\n",
      "Iter: 142, loss: 0.0371\n",
      "Iter: 143, loss: 0.0523\n",
      "Iter: 144, loss: 0.0306\n",
      "Iter: 145, loss: 0.0266\n",
      "Iter: 146, loss: 0.0563\n",
      "Iter: 147, loss: 0.0372\n",
      "Iter: 148, loss: 0.0571\n",
      "Iter: 149, loss: 0.0277\n",
      "Iter: 150, loss: 0.0476\n",
      "Iter: 151, loss: 0.0567\n",
      "Iter: 152, loss: 0.0562\n",
      "Iter: 153, loss: 0.0500\n",
      "Iter: 154, loss: 0.0508\n",
      "Iter: 155, loss: 0.0284\n",
      "Iter: 156, loss: 0.0238\n",
      "Iter: 157, loss: 0.0442\n",
      "Iter: 158, loss: 0.0297\n",
      "Iter: 159, loss: 0.0295\n",
      "Iter: 160, loss: 0.0395\n",
      "Iter: 161, loss: 0.0400\n",
      "Iter: 162, loss: 0.0313\n",
      "Iter: 163, loss: 0.0318\n",
      "Iter: 164, loss: 0.0229\n",
      "Iter: 165, loss: 0.0354\n",
      "Iter: 166, loss: 0.0357\n",
      "Iter: 167, loss: 0.0265\n",
      "Iter: 168, loss: 0.0299\n",
      "Iter: 169, loss: 0.0271\n",
      "Iter: 170, loss: 0.0375\n",
      "Iter: 171, loss: 0.0479\n",
      "Iter: 172, loss: 0.0360\n",
      "Iter: 173, loss: 0.0236\n",
      "Iter: 174, loss: 0.0407\n",
      "Iter: 175, loss: 0.0295\n",
      "Iter: 176, loss: 0.0228\n",
      "Iter: 177, loss: 0.0171\n",
      "Iter: 178, loss: 0.0252\n",
      "Iter: 179, loss: 0.0197\n",
      "Iter: 180, loss: 0.0317\n",
      "Iter: 181, loss: 0.0383\n",
      "Iter: 182, loss: 0.0243\n",
      "Iter: 183, loss: 0.0535\n",
      "Iter: 184, loss: 0.0275\n",
      "Iter: 185, loss: 0.0260\n",
      "Iter: 186, loss: 0.0803\n",
      "Iter: 187, loss: 0.0219\n",
      "Iter: 188, loss: 0.0245\n",
      "Iter: 189, loss: 0.0402\n",
      "Iter: 190, loss: 0.0339\n",
      "Iter: 191, loss: 0.0257\n",
      "Iter: 192, loss: 0.0209\n",
      "Iter: 193, loss: 0.0320\n",
      "Iter: 194, loss: 0.0376\n",
      "Iter: 195, loss: 0.0282\n",
      "Iter: 196, loss: 0.0324\n",
      "Iter: 197, loss: 0.0312\n",
      "Iter: 198, loss: 0.0284\n",
      "Iter: 199, loss: 0.0302\n",
      "Iter: 200, loss: 0.0322\n",
      "Iter: 201, loss: 0.0267\n",
      "Iter: 202, loss: 0.0225\n",
      "Iter: 203, loss: 0.0300\n",
      "Iter: 204, loss: 0.0235\n",
      "Iter: 205, loss: 0.0225\n",
      "Iter: 206, loss: 0.0192\n",
      "Iter: 207, loss: 0.0186\n",
      "Iter: 208, loss: 0.0322\n",
      "Iter: 209, loss: 0.0223\n",
      "Stored ckpt at TIGON/Output_v2/ckpt.pth\n",
      "Training complete after 210 iters.\n",
      "Stored ckpt at TIGON/Output_v2/ckpt.pth\n"
     ]
    }
   ],
   "source": [
    "if __name__ == '__main__':\n",
    "    \n",
    "    random.seed(args.seed)\n",
    "    torch.manual_seed(args.seed)\n",
    "\n",
    "    device = torch.device('cuda:' + str(args.gpu)\n",
    "                            if torch.cuda.is_available() else 'cpu')\n",
    "    # load dataset\n",
    "    data_train = loaddata(args,device)\n",
    "    integral_time = args.timepoints\n",
    "\n",
    "    time_pts = range(len(data_train))\n",
    "    leave_1_out = []\n",
    "    train_time = [x for i,x in enumerate(time_pts) if i!=leave_1_out]\n",
    "\n",
    "\n",
    "    # model\n",
    "    func = UOT(in_out_dim=data_train[0].shape[1], hidden_dim=args.hidden_dim,n_hiddens=args.n_hiddens,activation=args.activation).to(device)\n",
    "    func.apply(initialize_weights)\n",
    "\n",
    "\n",
    "    # configure training options\n",
    "    options = {}\n",
    "    options.update({'method': 'Dopri5'})\n",
    "    options.update({'h': None})\n",
    "    options.update({'rtol': 1e-3})\n",
    "    options.update({'atol': 1e-5})\n",
    "    options.update({'print_neval': False})\n",
    "    options.update({'neval_max': 1000000})\n",
    "    options.update({'safety': None})\n",
    "\n",
    "    optimizer = optim.Adam(func.parameters(), lr=args.lr, weight_decay= 0.01)\n",
    "    lr_adjust = optim.lr_scheduler.MultiStepLR(optimizer, milestones=[args.niters-400,args.niters-200], gamma=0.5, last_epoch=-1)\n",
    "    mse = nn.MSELoss()\n",
    "\n",
    "    LOSS = []\n",
    "    L2_1 = []\n",
    "    L2_2 = []\n",
    "    Trans = []\n",
    "    Sigma = []\n",
    "    \n",
    "    if args.save_dir is not None:\n",
    "        if not os.path.exists(args.save_dir):\n",
    "            os.makedirs(args.save_dir)\n",
    "        ckpt_path = os.path.join(args.save_dir, 'ckpt.pth')\n",
    "        if os.path.exists(ckpt_path):\n",
    "            checkpoint = torch.load(ckpt_path)\n",
    "            func.load_state_dict(checkpoint['func_state_dict'])\n",
    "            optimizer.load_state_dict(checkpoint['optimizer_state_dict'])\n",
    "            print('Loaded ckpt from {}'.format(ckpt_path))\n",
    "\n",
    "    try:\n",
    "        sigma_now = 1\n",
    "        for itr in range(1, args.niters + 1):\n",
    "            optimizer.zero_grad()\n",
    "            \n",
    "            loss, loss1, sigma_now, L2_value1, L2_value2 = train_model(mse,func,args,data_train,train_time,integral_time,sigma_now,options,device,itr)\n",
    "\n",
    "            \n",
    "            loss.backward()\n",
    "            optimizer.step()\n",
    "            lr_adjust.step()\n",
    "\n",
    "            LOSS.append(loss.item())\n",
    "            Trans.append(loss1[-1].mean(0).item())\n",
    "            Sigma.append(sigma_now)\n",
    "            L2_1.append(L2_value1.tolist())\n",
    "            L2_2.append(L2_value2.tolist())\n",
    "            \n",
    "            print('Iter: {}, loss: {:.4f}'.format(itr, loss.item()))\n",
    "            \n",
    "            \n",
    "            if itr % 500 == 0:\n",
    "                ckpt_path = os.path.join(args.save_dir, 'ckpt_itr{}.pth'.format(itr))\n",
    "                torch.save({'func_state_dict': func.state_dict()}, ckpt_path)\n",
    "                print('Iter {}, Stored ckpt at {}'.format(itr, ckpt_path))\n",
    "                \n",
    "            \n",
    "            \n",
    "\n",
    "    except KeyboardInterrupt:\n",
    "        if args.save_dir is not None:\n",
    "            ckpt_path = os.path.join(args.save_dir, 'ckpt.pth')\n",
    "            torch.save({\n",
    "                'func_state_dict': func.state_dict(),\n",
    "                'optimizer_state_dict': optimizer.state_dict(),\n",
    "            }, ckpt_path)\n",
    "            print('Stored ckpt at {}'.format(ckpt_path))\n",
    "    print('Training complete after {} iters.'.format(itr))\n",
    "    \n",
    "    \n",
    "    ckpt_path = os.path.join(args.save_dir, 'ckpt.pth')\n",
    "    torch.save({\n",
    "        'func_state_dict': func.state_dict(),\n",
    "        'optimizer_state_dict': optimizer.state_dict(),\n",
    "        'LOSS':LOSS,\n",
    "        'TRANS':Trans,\n",
    "        'L2_1': L2_1,\n",
    "        'L2_2': L2_2,\n",
    "        'Sigma': Sigma\n",
    "    }, ckpt_path)\n",
    "    print('Stored ckpt at {}'.format(ckpt_path))"
   ]
  },
  {
   "cell_type": "markdown",
   "id": "c1db0354",
   "metadata": {},
   "source": [
    "### Plot the training loss"
   ]
  },
  {
   "cell_type": "code",
   "execution_count": 23,
   "id": "3c3d1294",
   "metadata": {},
   "outputs": [
    {
     "data": {
      "text/plain": [
       "[<matplotlib.lines.Line2D at 0x7ff1c5b0d7c0>]"
      ]
     },
     "execution_count": 23,
     "metadata": {},
     "output_type": "execute_result"
    },
    {
     "data": {
      "image/png": "[encoded data removed]",
      "text/plain": [
       "<Figure size 1000x300 with 2 Axes>"
      ]
     },
     "metadata": {},
     "output_type": "display_data"
    }
   ],
   "source": [
    "fig, axes = plt.subplots(1, 2, figsize=(10, 3))\n",
    "\n",
    "y_labels = [\"Loss\", \"log10(Loss)\"]\n",
    "titles = ['Fitting Curve', 'Log Fitting Curve']\n",
    "for en, ax in enumerate(axes):\n",
    "    ax.set_xlabel(\"Iter\")\n",
    "    ax.set_ylabel(y_labels[en])\n",
    "    ax.set_title(titles[en])\n",
    "    \n",
    "axes[0].plot(LOSS)\n",
    "axes[1].plot(np.log10(LOSS))"
   ]
  },
  {
   "cell_type": "code",
   "execution_count": 24,
   "id": "d95f4ca9",
   "metadata": {},
   "outputs": [],
   "source": [
    "integral_time = args.timepoints\n",
    "\n",
    "time_pts = range(len(data_train))\n",
    "leave_1_out = []\n",
    "train_time = [x for i,x in enumerate(time_pts) if i!=leave_1_out]"
   ]
  },
  {
   "cell_type": "code",
   "execution_count": 25,
   "id": "64ddc957",
   "metadata": {},
   "outputs": [
    {
     "name": "stdout",
     "output_type": "stream",
     "text": [
      "Loaded ckpt from TIGON/Output_v2/ckpt.pth\n"
     ]
    }
   ],
   "source": [
    "if args.save_dir is not None:\n",
    "    if not os.path.exists(args.save_dir):\n",
    "        os.makedirs(args.save_dir)\n",
    "    ckpt_path = os.path.join(args.save_dir, 'ckpt.pth')\n",
    "    if os.path.exists(ckpt_path):\n",
    "        checkpoint = torch.load(ckpt_path,map_location=torch.device('cpu'))\n",
    "        func.load_state_dict(checkpoint['func_state_dict'])\n",
    "        print('Loaded ckpt from {}'.format(ckpt_path))"
   ]
  },
  {
   "cell_type": "code",
   "execution_count": 29,
   "id": "fa6a377b",
   "metadata": {},
   "outputs": [],
   "source": [
    "F_obs = pd.read_csv(\"./F_obs_copy.csv\", index_col=0)\n",
    "F_obs.index = F_obs.index.astype(str)"
   ]
  },
  {
   "cell_type": "markdown",
   "id": "961e5234",
   "metadata": {},
   "source": [
    "### Use the trained model to make predictions\n",
    "\n",
    "I have slightly modified the `plot_3d` function to generate new predictions from the model, in hopes of minimizing differences between how we generate trajectories sampled from the model."
   ]
  },
  {
   "cell_type": "code",
   "execution_count": 30,
   "id": "99f31d27",
   "metadata": {},
   "outputs": [],
   "source": [
    "def plot_3d(z_t0, func, data_train, train_time, integral_time, args, device):\n",
    "\n",
    "    viz_samples = 20\n",
    "    sigma_a = 0.001\n",
    "\n",
    "    t_list = (\n",
    "        []\n",
    "    )  # list(reversed(integral_time))#integral_time #np.linspace(5, 0, viz_timesteps)\n",
    "    # options.update({'t_eval':t_list})\n",
    "\n",
    "    z_t_samples = []\n",
    "    z_t_data = []\n",
    "    v = []\n",
    "    g = []\n",
    "    t_list2 = []\n",
    "    odeint_setp = gcd_list([num * 100 for num in integral_time]) / 100\n",
    "    integral_time2 = np.arange(\n",
    "        integral_time[0], integral_time[-1] + odeint_setp, odeint_setp\n",
    "    )\n",
    "    integral_time2 = np.round_(integral_time2, decimals=2)\n",
    "    plot_time = list(reversed(integral_time2))\n",
    "    sample_time = np.where(np.isin(np.array(plot_time), integral_time))[0]\n",
    "    sample_time = list(reversed(sample_time))\n",
    "\n",
    "    with torch.no_grad():\n",
    "        for i in range(len(integral_time)):\n",
    "\n",
    "            #             z_t0 =  data_train[i]\n",
    "\n",
    "            #             z_t_data.append(z_t0.cpu().detach().numpy())\n",
    "            t_list2.append(integral_time[i])\n",
    "\n",
    "        # traj backward\n",
    "        # instead, we supply z_t0\n",
    "        #         z_t0 =  Sampling(viz_samples, train_time, len(train_time)-1,data_train,sigma_a,device)\n",
    "        #         print(f\"z_t0.shape: {z_t0.shape}\")\n",
    "        # z_t0 = z_t0[z_t0[:,2]>1]\n",
    "        logp_diff_t0 = torch.zeros(z_t0.shape[0], 1).type(torch.float32).to(device)\n",
    "        g0 = torch.zeros(z_t0.shape[0], 1).type(torch.float32).to(device)\n",
    "        v_t = func(\n",
    "            torch.tensor(integral_time[-1]).type(torch.float32).to(device),\n",
    "            (z_t0, g0, logp_diff_t0),\n",
    "        )[\n",
    "            0\n",
    "        ]  # True_v(z_t0)\n",
    "        g_t = func(\n",
    "            torch.tensor(integral_time[-1]).type(torch.float32).to(device),\n",
    "            (z_t0, g0, logp_diff_t0),\n",
    "        )[1]\n",
    "\n",
    "        v.append(v_t.cpu().detach().numpy())\n",
    "        g.append(g_t.cpu().detach().numpy())\n",
    "        z_t_samples.append(z_t0.cpu().detach().numpy())\n",
    "        t_list.append(plot_time[0])\n",
    "        options = {}\n",
    "        options.update({\"method\": \"Dopri5\"})\n",
    "        options.update({\"h\": None})\n",
    "        options.update({\"rtol\": 1e-3})\n",
    "        options.update({\"atol\": 1e-5})\n",
    "        options.update({\"print_neval\": False})\n",
    "        options.update({\"neval_max\": 1000000})\n",
    "        options.update({\"safety\": None})\n",
    "\n",
    "        options.update({\"t0\": integral_time[-1]})\n",
    "        options.update({\"t1\": 0})\n",
    "        options.update({\"t_eval\": plot_time})\n",
    "        z_t1, _, logp_diff_t1 = odesolve(\n",
    "            func, y0=(z_t0, g0, logp_diff_t0), options=options\n",
    "        )\n",
    "\n",
    "        return z_t1\n",
    "\n",
    "        for i in range(len(plot_time) - 1):\n",
    "            v_t = func(\n",
    "                torch.tensor(plot_time[i + 1]).type(torch.float32).to(device),\n",
    "                (z_t1[i + 1], g0, logp_diff_t1),\n",
    "            )[\n",
    "                0\n",
    "            ]  # True_v(z_t0)\n",
    "            g_t = func(\n",
    "                torch.tensor(plot_time[i + 1]).type(torch.float32).to(device),\n",
    "                (z_t1[i + 1], g0, logp_diff_t1),\n",
    "            )[1]\n",
    "\n",
    "            z_t_samples.append(z_t1[i + 1].cpu().detach().numpy())\n",
    "            g.append(g_t.cpu().detach().numpy())\n",
    "            v.append(v_t.cpu().detach().numpy())\n",
    "            t_list.append(plot_time[i + 1])\n",
    "\n",
    "        aa = 5  # 3\n",
    "        angle1 = 10  # 30\n",
    "        angle2 = 75  # 30\n",
    "        trans = 0.8\n",
    "        trans2 = 0.4\n",
    "        widths = 0.2  # arrow width\n",
    "        ratio1 = 0.4\n",
    "        #         fig = plt.figure(figsize=(4*2,3*2), dpi=200)\n",
    "        #         plt.tight_layout()\n",
    "        #         plt.margins(0, 0)\n",
    "        v_scale = 5\n",
    "\n",
    "\n",
    "#         plt.tight_layout()\n",
    "#         plt.axis('off')\n",
    "#         plt.margins(0, 0)\n",
    "#         #fig.suptitle(f'{t:.1f}day')\n",
    "#         ax1 = plt.axes(projection ='3d')\n",
    "#         ax1.grid(False)\n",
    "#         ax1.set_xlabel('UMAP1')\n",
    "#         ax1.set_ylabel('UMAP2')\n",
    "#         ax1.set_zlabel('UMAP3')\n",
    "#         ax1.set_xlim(-2,2)\n",
    "#         ax1.set_ylim(-2,2)\n",
    "#         ax1.set_zlim(-2,2)\n",
    "#         ax1.set_xticks([-2,2])\n",
    "#         ax1.set_yticks([-2,2])\n",
    "#         ax1.set_zticks([-2,2])\n",
    "#         ax1.view_init(elev=angle1, azim=angle2)\n",
    "#         ax1.w_xaxis.set_pane_color((1.0, 1.0, 1.0, 0.0))\n",
    "#         ax1.w_yaxis.set_pane_color((1.0, 1.0, 1.0, 0.0))\n",
    "#         ax1.w_zaxis.set_pane_color((1.0, 1.0, 1.0, 0.0))\n",
    "#         ax1.invert_xaxis()\n",
    "#         ax1.get_proj = lambda: np.dot(Axes3D.get_proj(ax1), np.diag([1, 1, 0.7, 1]))\n",
    "#         line_width = 0.3\n",
    "\n",
    "\n",
    "#         color_wanted = [np.array([250,187,110])/255,\n",
    "#                         np.array([173,219,136])/255,\n",
    "#                         np.array([250,199,179])/255,\n",
    "#                         np.array([238,68,49])/255,\n",
    "#                         np.array([206,223,239])/255,\n",
    "#                         np.array([3,149,198])/255,\n",
    "#                         np.array([180,180,213])/255,\n",
    "#                         np.array([178,143,237])/255]\n",
    "#         for j in range(viz_samples): #individual traj\n",
    "#             for i in range(len(plot_time)-1):\n",
    "#                 ax1.plot([z_t_samples[i][j,0],z_t_samples[i+1][j,0]],\n",
    "#                             [z_t_samples[i][j,1],z_t_samples[i+1][j,1]],\n",
    "#                             [z_t_samples[i][j,2],z_t_samples[i+1][j,2]],\n",
    "#                             linewidth=0.5,color ='grey',zorder=2)\n",
    "\n",
    "\n",
    "#         # add inferrred trajecotry\n",
    "#         for i in range(len(sample_time)):\n",
    "#             ax1.scatter(z_t_samples[sample_time[i]][:,0],z_t_samples[sample_time[i]][:,1],z_t_samples[sample_time[i]][:,2],s=aa*10,linewidth=0, color=color_wanted[i],zorder=3)\n",
    "#             ax1.quiver(z_t_samples[sample_time[i]][:,0],z_t_samples[sample_time[i]][:,1],z_t_samples[sample_time[i]][:,2],\n",
    "#                        v[sample_time[i]][:,0]/v_scale,v[sample_time[i]][:,1]/v_scale,v[sample_time[i]][:,2]/v_scale, color='k',alpha=1,linewidths=widths*2,arrow_length_ratio=0.3,zorder=4)\n",
    "\n",
    "\n",
    "#         for i in range(len(integral_time)):\n",
    "#             ax1.scatter(z_t_data[i][:,0],z_t_data[i][:,1],z_t_data[i][:,2],s=aa,linewidth=line_width,alpha = 0.7, facecolors='none', edgecolors=color_wanted[i],zorder=1)\n",
    "\n",
    "#         #plt.savefig(os.path.join(args.save_dir, f\"traj_3d.pdf\"),format=\"pdf\",pad_inches=0.1, bbox_inches='tight')\n",
    "#         plt.show()"
   ]
  },
  {
   "cell_type": "code",
   "execution_count": 32,
   "id": "64c5d775",
   "metadata": {},
   "outputs": [],
   "source": [
    "def assign_labels(idx, z_t1, adata, obs_key=\"Cell type annotation\"):\n",
    "    \"\"\"\"\"\"\n",
    "    X_query = z_t1.cpu().detach().numpy()[1:].reshape(-1, 50)\n",
    "    nn = np.array(\n",
    "        [idx.get_nns_by_vector(X_query[i], 20) for i in range(len(X_query))]\n",
    "    ).flatten()\n",
    "    query_df = pd.DataFrame(adata[nn].obs[obs_key].to_numpy().reshape(-1, 20)).T\n",
    "    return (\n",
    "        pd.DataFrame([query_df[i].value_counts().idxmax() for i in query_df.columns])\n",
    "        .fillna(0)\n",
    "        .sort_index(axis=1)\n",
    "    )"
   ]
  },
  {
   "cell_type": "code",
   "execution_count": 33,
   "id": "dd69bf43",
   "metadata": {},
   "outputs": [
    {
     "name": "stdout",
     "output_type": "stream",
     "text": [
      "torch.Size([2081, 50])\n"
     ]
    }
   ],
   "source": [
    "X_use = adata.obsm[\"X_pca\"]\n",
    "n_trees = 10\n",
    "idx = annoy.AnnoyIndex(50, \"euclidean\")\n",
    "[idx.add_item(i, X_use[i]) for i in range(len(adata))]\n",
    "idx.build(n_trees)\n",
    "\n",
    "X_pca = torch.Tensor(adata[F_obs.index].obsm[\"X_pca\"].toarray())\n",
    "print(X_pca.shape)"
   ]
  },
  {
   "cell_type": "code",
   "execution_count": 34,
   "id": "aa7499a6",
   "metadata": {},
   "outputs": [
    {
     "data": {
      "application/vnd.jupyter.widget-view+json": {
       "model_id": "73891ff5f07a438c9431a09a93f4f665",
       "version_major": 2,
       "version_minor": 0
      },
      "text/plain": [
       "  0%|          | 0/2081 [00:00<?, ?it/s]"
      ]
     },
     "metadata": {},
     "output_type": "display_data"
    }
   ],
   "source": [
    "predicted = {}\n",
    "for i in tqdm.notebook.tqdm(range(len(X_pca))):\n",
    "    key = F_obs.index[i]\n",
    "    z_t0 = X_pca[i].expand(2000, -1).to(\"cuda:0\")\n",
    "    z_t1 = plot_3d(z_t0, func, data_train, train_time, integral_time, args, device)\n",
    "    predicted[key] = assign_labels(idx, z_t1, adata, obs_key=\"Cell type annotation\").rename(\n",
    "        {0: key}, axis=1\n",
    "    )"
   ]
  },
  {
   "cell_type": "code",
   "execution_count": 36,
   "id": "312d037c",
   "metadata": {},
   "outputs": [],
   "source": [
    "pred_labels = pd.DataFrame({k: v[k] for k, v in predicted.items()})\n",
    "pred_labels.to_csv(\"pred_labels.csv\")"
   ]
  },
  {
   "cell_type": "code",
   "execution_count": 37,
   "id": "3fd41bb9",
   "metadata": {},
   "outputs": [],
   "source": [
    "F_hat = (\n",
    "    pd.DataFrame(\n",
    "        {key: pred_labels[key].value_counts().to_dict() for key in pred_labels}\n",
    "    )\n",
    "    .T.fillna(0)\n",
    "    .drop(\"Undifferentiated\", axis=1)\n",
    ")\n",
    "F_hat.to_csv(\"F_hat.TIGON.csv\")"
   ]
  },
  {
   "cell_type": "code",
   "execution_count": 41,
   "id": "31c2e059",
   "metadata": {},
   "outputs": [
    {
     "data": {
      "text/plain": [
       "105"
      ]
     },
     "execution_count": 41,
     "metadata": {},
     "output_type": "execute_result"
    }
   ],
   "source": [
    "sum(F_hat.sum(1) > 0) # only 105 lineages predicted to accumulate d4, d6 cells at states other than Undiff."
   ]
  },
  {
   "cell_type": "code",
   "execution_count": 42,
   "id": "d1b4094f",
   "metadata": {},
   "outputs": [],
   "source": [
    "# make sure predicted matrix contains all labels/fates that true matrix contains\n",
    "for fate in F_obs.columns:\n",
    "    if not fate in F_hat:\n",
    "        F_hat[fate] = 0"
   ]
  },
  {
   "cell_type": "markdown",
   "id": "61fc787e",
   "metadata": {},
   "source": [
    "### Compute accuracy"
   ]
  },
  {
   "cell_type": "code",
   "execution_count": 46,
   "id": "f941e8fb",
   "metadata": {},
   "outputs": [
    {
     "name": "stdout",
     "output_type": "stream",
     "text": [
      "Accuracy: 4.085%\n"
     ]
    }
   ],
   "source": [
    "# we need to indicate where no fate was predicted so that it does not accidentally\n",
    "# appear to predict a fate upon doing .idxmax()\n",
    "non_fated_ix = np.where(F_hat.sum(1) == 0)\n",
    "y_pred = F_hat.idxmax(1)\n",
    "y_pred[non_fated_ix[0]] = \"Undifferentiated\"\n",
    "\n",
    "# now compute accuracy score\n",
    "y_pred = y_pred.tolist()\n",
    "y_true = F_obs.idxmax(1).tolist()\n",
    "\n",
    "accuracy = sklearn.metrics.accuracy_score(y_pred, y_true)\n",
    "print(\"Accuracy: {:.3f}%\".format(accuracy * 100))"
   ]
  },
  {
   "cell_type": "markdown",
   "id": "c75aeee1",
   "metadata": {},
   "source": [
    "### Comparison to PBA\n",
    "\n",
    "Using PBA as common point of comparison, in the TIGON benchmark, they demonstrate that TIGON And other CNF-based methods far outperform PBA. I was able to run PBA on this same benchmark setup and get an accuracy score of: **36.321%**. \n",
    "\n",
    "That being said, I was **not able to run PBA as described and match the performance in Neu/Mon correlation reported in their 2020 *Science* paper** and subsequently re-described in PRESCIENT, TIGON, and others."
   ]
  }
 ],
 "metadata": {
  "kernelspec": {
   "display_name": "tigon",
   "language": "python",
   "name": "tigon"
  },
  "language_info": {
   "codemirror_mode": {
    "name": "ipython",
    "version": 3
   },
   "file_extension": ".py",
   "mimetype": "text/x-python",
   "name": "python",
   "nbconvert_exporter": "python",
   "pygments_lexer": "ipython3",
   "version": "3.9.18"
  }
 },
 "nbformat": 4,
 "nbformat_minor": 5
}
