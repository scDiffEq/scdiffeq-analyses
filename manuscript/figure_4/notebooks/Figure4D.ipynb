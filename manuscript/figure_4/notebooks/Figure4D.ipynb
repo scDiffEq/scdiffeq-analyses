{
 "cells": [
  {
   "cell_type": "markdown",
   "id": "4aa8e7eb-2168-4ccf-9a9c-3f03685409e9",
   "metadata": {},
   "source": [
    "# Figure 4D: Drift and diffusion statistics"
   ]
  },
  {
   "cell_type": "markdown",
   "id": "3c84269c-7a2e-44e7-9d23-3b8ac52a6a4a",
   "metadata": {},
   "source": [
    "### Import packages"
   ]
  },
  {
   "cell_type": "code",
   "execution_count": 1,
   "id": "3a376c8c-9351-4963-b0b8-c59dc18931ea",
   "metadata": {},
   "outputs": [],
   "source": [
    "import cellplots as cp\n",
    "import matplotlib.pyplot as plt\n",
    "import pandas as pd\n",
    "import numpy as np\n",
    "import matplotlib.cm as cm"
   ]
  },
  {
   "cell_type": "markdown",
   "id": "a9e355e0-edae-47cb-a750-1a708bd4db56",
   "metadata": {},
   "source": [
    "### Load the compiled data\n",
    "\n",
    "Here, we're looking at the max velocity of each simulated lineage from each model seed trained on the full LARRY dataset."
   ]
  },
  {
   "cell_type": "code",
   "execution_count": 2,
   "id": "11afae5b-2452-4222-854e-6919b879dfb4",
   "metadata": {},
   "outputs": [],
   "source": [
    "max_velo = pd.read_pickle(\"./MaxVelocity.pkl\")"
   ]
  },
  {
   "cell_type": "markdown",
   "id": "f5a5b9f2-ce80-4236-b21f-8f0ae7e4b104",
   "metadata": {},
   "source": [
    "### Format data for plotting"
   ]
  },
  {
   "cell_type": "code",
   "execution_count": 3,
   "id": "e2b2df40-5e47-4fcc-aa8b-fc6ce6d81f72",
   "metadata": {},
   "outputs": [],
   "source": [
    "PlotData = {}\n",
    "for n_fates in range(1,4):\n",
    "    PlotData[n_fates] = {}\n",
    "    for version, items in max_velo.items():\n",
    "        f = np.array([val.loc['drift']['v'] for idx, val in items[n_fates].items()])\n",
    "        g = np.array([val.loc['diffusion']['v'] for idx, val in items[n_fates].items()])\n",
    "        PlotData[n_fates][version] = {\"f\": f.mean(), \"g\": g.mean()}\n",
    "    PlotData[n_fates] = pd.DataFrame(PlotData[n_fates]).T"
   ]
  },
  {
   "cell_type": "markdown",
   "id": "83922896-91fb-4d0b-a0b9-d2be14e66fda",
   "metadata": {},
   "source": [
    "### Define helper class for stylish box plot"
   ]
  },
  {
   "cell_type": "code",
   "execution_count": 4,
   "id": "c6f4199f-5883-4478-b778-a10f15975bf9",
   "metadata": {},
   "outputs": [],
   "source": [
    "import ABCParse\n",
    "from typing import List, Optional\n",
    "\n",
    "class StylishBoxPlot(ABCParse.ABCParse):\n",
    "    def __init__(\n",
    "        self,\n",
    "        colors: Optional[List[str]] = None,\n",
    "        widths: Optional[float] = None,\n",
    "        scatter_kw={\n",
    "            \"alpha\": 0.8,\n",
    "            \"s\": 35,\n",
    "        },\n",
    "        *args,\n",
    "        **kwargs\n",
    "    ):\n",
    "        self.__parse__(locals())\n",
    "\n",
    "    @property\n",
    "    def colors(self):\n",
    "        if not hasattr(self, \"_colors\") or self._colors is None:\n",
    "            self._colors = list(cm.tab20.colors)\n",
    "        return self._colors\n",
    "\n",
    "    def _background_scatter(self, ax, data):\n",
    "        for en, (key, val) in enumerate(data.items()):\n",
    "\n",
    "            x = [key] * len(val)\n",
    "\n",
    "            if len(x) > 1:\n",
    "                x_vals = en + 1 + (np.random.random(len(x)) - 0.5) / 5\n",
    "            else:\n",
    "                x_vals = en + 1\n",
    "\n",
    "            ax.scatter(\n",
    "                x_vals,\n",
    "                val,\n",
    "                color=self.colors[en],\n",
    "                zorder=0,\n",
    "                ec=\"None\",\n",
    "                rasterized=False,\n",
    "                **self._scatter_kw,\n",
    "            )\n",
    "\n",
    "    def _background_boxplot(self, ax, data):\n",
    "\n",
    "        x = list(data.keys())\n",
    "        y = list(data.values())\n",
    "\n",
    "        x = np.arange(len(y)) + 1\n",
    "\n",
    "        bp = ax.boxplot(\n",
    "            y,\n",
    "            positions=x,\n",
    "            patch_artist=True,\n",
    "            showmeans=True,\n",
    "            showfliers=False,\n",
    "            meanline=True,\n",
    "            zorder=1,\n",
    "            widths=self._widths,\n",
    "        )\n",
    "        for median in bp[\"medians\"]:\n",
    "            median.set_visible(False)\n",
    "        for en, mean in enumerate(bp[\"means\"]):\n",
    "            mean.set_c(self.colors[en])\n",
    "\n",
    "        for en, box in enumerate(bp[\"boxes\"]):\n",
    "            box.set_facecolor(self.colors[en])\n",
    "            box.set_alpha(0.2)\n",
    "\n",
    "        for en, whisker in enumerate(bp[\"whiskers\"]):\n",
    "            whisker.set_c(\"None\")\n",
    "\n",
    "        for en, cap in enumerate(bp[\"caps\"]):\n",
    "            cap.set_c(\"None\")\n",
    "\n",
    "    def _foreground_boxplot(self, ax, data):\n",
    "\n",
    "        y = list(data.values())\n",
    "        x = list(data.keys())\n",
    "        x = np.arange(len(y)) + 1\n",
    "        bp = ax.boxplot(\n",
    "            y,\n",
    "            positions=x,\n",
    "            patch_artist=True,\n",
    "            showmeans=False,\n",
    "            showfliers=False,\n",
    "            meanline=False,\n",
    "            zorder=2,\n",
    "            widths=self._widths,\n",
    "        )\n",
    "        for en, box in enumerate(bp[\"boxes\"]):\n",
    "            box.set_facecolor(\"None\")\n",
    "            box.set_edgecolor(self.colors[en])\n",
    "\n",
    "        colors_ = np.repeat(\n",
    "            np.array(self.colors), 2, axis=0\n",
    "        )  # list(np.repeat(self.colors, 2))\n",
    "        for en, whisker in enumerate(bp[\"whiskers\"]):\n",
    "            whisker.set_c(colors_[en])\n",
    "\n",
    "        for en, cap in enumerate(bp[\"caps\"]):\n",
    "            cap.set_c(colors_[en])\n",
    "\n",
    "        for median in bp[\"medians\"]:\n",
    "            median.set_visible(False)\n",
    "\n",
    "    def __call__(self, ax, data, *args, **kwargs):\n",
    "\n",
    "        self.__update__(locals())\n",
    "\n",
    "        try:\n",
    "            self._background_scatter(ax, data)\n",
    "        except:\n",
    "            print(data)\n",
    "        self._background_boxplot(ax, data)\n",
    "        self._foreground_boxplot(ax, data)"
   ]
  },
  {
   "cell_type": "code",
   "execution_count": 5,
   "id": "fe41d43c-afbb-439d-ac41-6361ce045a4c",
   "metadata": {},
   "outputs": [],
   "source": [
    "fplot = {n_fates: list(data['f'].values) for n_fates, data in PlotData.items()}\n",
    "gplot = {n_fates: list(data['g'].values) for n_fates, data in PlotData.items()}"
   ]
  },
  {
   "cell_type": "code",
   "execution_count": 6,
   "id": "9833bf9c-7c61-43d2-b901-54309795e5df",
   "metadata": {},
   "outputs": [
    {
     "data": {
      "image/png": "[encoded data removed]",
      "text/plain": [
       "<Figure size 320x240 with 2 Axes>"
      ]
     },
     "metadata": {},
     "output_type": "display_data"
    }
   ],
   "source": [
    "fig, axes = cp.plot(nplots = 2, ncols = 1, hspace = 0.2, height = 0.25, width = 0.5, delete=[['top', 'right', 'bottom']]*2)\n",
    "\n",
    "boxplot = StylishBoxPlot(colors=[\"#64b5f6\", \"#1e88e5\", \"#0d47a1\"])\n",
    "boxplot(ax = axes[0], data = fplot)\n",
    "\n",
    "boxplot = StylishBoxPlot(colors=[\"#f7b801\", \"#f18701\", \"#f35b04\"])\n",
    "boxplot(ax = axes[1], data = gplot)\n",
    "axes[0].set_ylim(50, 65)\n",
    "axes[1].set_ylim(1, 6)\n",
    "plt.savefig(\"Figure4D.svg\", dpi = 250)\n"
   ]
  }
 ],
 "metadata": {
  "kernelspec": {
   "display_name": "Python (sdq)",
   "language": "python",
   "name": "sdq"
  },
  "language_info": {
   "codemirror_mode": {
    "name": "ipython",
    "version": 3
   },
   "file_extension": ".py",
   "mimetype": "text/x-python",
   "name": "python",
   "nbconvert_exporter": "python",
   "pygments_lexer": "ipython3",
   "version": "3.9.19"
  }
 },
 "nbformat": 4,
 "nbformat_minor": 5
}
