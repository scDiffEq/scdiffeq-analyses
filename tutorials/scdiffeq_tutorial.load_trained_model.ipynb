{
 "cells": [
  {
   "cell_type": "markdown",
   "id": "1d9b81b6-546b-4eef-9798-d48bbab5eadc",
   "metadata": {},
   "source": [
    "# Load trained `scDiffEq` model\n",
    "\n",
    "This example highlights loading a model that was trained on the full LARRY dataset for fate perturbation (**Task 3** in the scDiffEq manuscript)."
   ]
  },
  {
   "cell_type": "markdown",
   "id": "4b541686-ae5d-4818-bf21-6c9ad8056659",
   "metadata": {},
   "source": [
    "### Import dependencies"
   ]
  },
  {
   "cell_type": "code",
   "execution_count": 1,
   "id": "669cd884-36f8-4115-ac93-19b5d4fad0fa",
   "metadata": {},
   "outputs": [],
   "source": [
    "import larry\n",
    "import scdiffeq as sdq\n",
    "import scdiffeq_analyses as sdq_an\n",
    "\n",
    "F_obs = larry.tasks.fate_prediction.F_obs"
   ]
  },
  {
   "cell_type": "markdown",
   "id": "2c65860c-ed78-4084-8a4f-a7c00b8d7873",
   "metadata": {},
   "source": [
    "### Load data"
   ]
  },
  {
   "cell_type": "code",
   "execution_count": 2,
   "id": "a07a3bb6-8eca-47be-be00-32f5b1385c0e",
   "metadata": {},
   "outputs": [
    {
     "data": {
      "text/plain": [
       "AnnData object with n_obs × n_vars = 130887 × 2447\n",
       "    obs: 'Library', 'Cell barcode', 'Time point', 'Starting population', 'Cell type annotation', 'Well', 'SPRING-x', 'SPRING-y', 'clone_idx', 'fate_observed', 't0_fated'\n",
       "    var: 'gene_ids', 'hv_genes', 'use_genes'\n",
       "    uns: 'fate_counts', 'time_occupance'\n",
       "    obsm: 'X_clone', 'X_pca', 'X_scaled', 'cell_fate_df'"
      ]
     },
     "execution_count": 2,
     "metadata": {},
     "output_type": "execute_result"
    }
   ],
   "source": [
    "adata = sdq.datasets.larry()\n",
    "adata"
   ]
  },
  {
   "cell_type": "markdown",
   "id": "334ab190-ddcd-4502-98eb-b4c6cd4c30b8",
   "metadata": {},
   "source": [
    "### Load the project (`sdq.io.Project`)\n",
    "\n",
    "**Important**: first, clone and locally install the `scdiffeq-analyses` repo:\n",
    "\n",
    "```shell\n",
    "git clone https://github.com/scDiffEq/scdiffeq-analyses.git;\n",
    "cd scdiffeq-analyses; pip install -e .\n",
    "```"
   ]
  },
  {
   "cell_type": "code",
   "execution_count": 3,
   "id": "06ef11a2-6a3d-4690-9db9-16b528bc8164",
   "metadata": {},
   "outputs": [],
   "source": [
    "project_path = \"./scdiffeq-analyses/manuscript/models/LARRY.full_dataset/LightningSDE-FixedPotential-RegularizedVelocityRatio/\"\n",
    "project = sdq.io.Project(path=project_path)"
   ]
  },
  {
   "cell_type": "markdown",
   "id": "deb3f5ca-a54b-46d1-93ce-97bb55e22e46",
   "metadata": {},
   "source": [
    "### Get the best checkpoints"
   ]
  },
  {
   "cell_type": "code",
   "execution_count": 4,
   "id": "635de252-5a78-4177-948f-308b97ba0aaa",
   "metadata": {},
   "outputs": [
    {
     "data": {
      "text/html": [
       "<div>\n",
       "<style scoped>\n",
       "    .dataframe tbody tr th:only-of-type {\n",
       "        vertical-align: middle;\n",
       "    }\n",
       "\n",
       "    .dataframe tbody tr th {\n",
       "        vertical-align: top;\n",
       "    }\n",
       "\n",
       "    .dataframe thead th {\n",
       "        text-align: right;\n",
       "    }\n",
       "</style>\n",
       "<table border=\"1\" class=\"dataframe\">\n",
       "  <thead>\n",
       "    <tr style=\"text-align: right;\">\n",
       "      <th></th>\n",
       "      <th>train</th>\n",
       "      <th>test</th>\n",
       "      <th>ckpt_path</th>\n",
       "      <th>epoch</th>\n",
       "    </tr>\n",
       "  </thead>\n",
       "  <tbody>\n",
       "    <tr>\n",
       "      <th>version_0</th>\n",
       "      <td>0.571656</td>\n",
       "      <td>0.551804</td>\n",
       "      <td>/Users/michaelvinyard/GitHub/scdiffeq-analyses...</td>\n",
       "      <td>2500</td>\n",
       "    </tr>\n",
       "    <tr>\n",
       "      <th>version_1</th>\n",
       "      <td>0.541401</td>\n",
       "      <td>0.465658</td>\n",
       "      <td>/Users/michaelvinyard/GitHub/scdiffeq-analyses...</td>\n",
       "      <td>1706</td>\n",
       "    </tr>\n",
       "    <tr>\n",
       "      <th>version_2</th>\n",
       "      <td>0.547771</td>\n",
       "      <td>0.499418</td>\n",
       "      <td>/Users/michaelvinyard/GitHub/scdiffeq-analyses...</td>\n",
       "      <td>1238</td>\n",
       "    </tr>\n",
       "    <tr>\n",
       "      <th>version_3</th>\n",
       "      <td>0.496815</td>\n",
       "      <td>0.504075</td>\n",
       "      <td>/Users/michaelvinyard/GitHub/scdiffeq-analyses...</td>\n",
       "      <td>1245</td>\n",
       "    </tr>\n",
       "    <tr>\n",
       "      <th>version_4</th>\n",
       "      <td>0.562102</td>\n",
       "      <td>0.522701</td>\n",
       "      <td>/Users/michaelvinyard/GitHub/scdiffeq-analyses...</td>\n",
       "      <td>1662</td>\n",
       "    </tr>\n",
       "  </tbody>\n",
       "</table>\n",
       "</div>"
      ],
      "text/plain": [
       "              train      test  \\\n",
       "version_0  0.571656  0.551804   \n",
       "version_1  0.541401  0.465658   \n",
       "version_2  0.547771  0.499418   \n",
       "version_3  0.496815  0.504075   \n",
       "version_4  0.562102  0.522701   \n",
       "\n",
       "                                                   ckpt_path epoch  \n",
       "version_0  /Users/michaelvinyard/GitHub/scdiffeq-analyses...  2500  \n",
       "version_1  /Users/michaelvinyard/GitHub/scdiffeq-analyses...  1706  \n",
       "version_2  /Users/michaelvinyard/GitHub/scdiffeq-analyses...  1238  \n",
       "version_3  /Users/michaelvinyard/GitHub/scdiffeq-analyses...  1245  \n",
       "version_4  /Users/michaelvinyard/GitHub/scdiffeq-analyses...  1662  "
      ]
     },
     "execution_count": 4,
     "metadata": {},
     "output_type": "execute_result"
    }
   ],
   "source": [
    "best_ckpts_df = sdq_an.parsers.best_checkpoints(project=project)\n",
    "best_ckpts_df"
   ]
  },
  {
   "cell_type": "code",
   "execution_count": 5,
   "id": "0c2cfabf-1a0b-4434-9385-06fe9574508e",
   "metadata": {},
   "outputs": [],
   "source": [
    "ckpt_path = best_ckpts_df['ckpt_path'].loc['version_0']"
   ]
  },
  {
   "cell_type": "markdown",
   "id": "da716511-78b3-4a4f-9360-757431ff49a6",
   "metadata": {},
   "source": [
    "### Load the model"
   ]
  },
  {
   "cell_type": "code",
   "execution_count": 6,
   "id": "fe298231-df46-4d7e-848e-04e7783ad7cd",
   "metadata": {},
   "outputs": [
    {
     "name": "stderr",
     "output_type": "stream",
     "text": [
      "Seed set to 0\n"
     ]
    },
    {
     "name": "stdout",
     "output_type": "stream",
     "text": [
      "scDiffEq\n"
     ]
    }
   ],
   "source": [
    "model = sdq.io.load_model(adata = adata, ckpt_path = ckpt_path)\n",
    "print(model)\n",
    "model.to(\"mps:0\") # or \"cuda:0\", for example"
   ]
  },
  {
   "cell_type": "markdown",
   "id": "3377999e-60ee-4ad3-8c4e-9879b732b1b9",
   "metadata": {},
   "source": [
    "### Alternatively: load only the `DiffEq`"
   ]
  },
  {
   "cell_type": "code",
   "execution_count": 7,
   "id": "83b8ac33-0e44-4490-bfc7-e7f093ae486f",
   "metadata": {},
   "outputs": [
    {
     "name": "stdout",
     "output_type": "stream",
     "text": [
      "LightningSDE-FixedPotential-RegularizedVelocityRatio\n"
     ]
    }
   ],
   "source": [
    "DiffEq = sdq.io.load_diffeq(ckpt_path=ckpt_path)\n",
    "print(DiffEq)"
   ]
  }
 ],
 "metadata": {
  "kernelspec": {
   "display_name": "sdq",
   "language": "python",
   "name": "sdq"
  },
  "language_info": {
   "codemirror_mode": {
    "name": "ipython",
    "version": 3
   },
   "file_extension": ".py",
   "mimetype": "text/x-python",
   "name": "python",
   "nbconvert_exporter": "python",
   "pygments_lexer": "ipython3",
   "version": "3.10.16"
  }
 },
 "nbformat": 4,
 "nbformat_minor": 5
}
